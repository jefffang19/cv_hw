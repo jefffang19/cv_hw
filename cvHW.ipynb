{
  "nbformat": 4,
  "nbformat_minor": 0,
  "metadata": {
    "kernelspec": {
      "display_name": "Python 3",
      "language": "python",
      "name": "python3"
    },
    "language_info": {
      "codemirror_mode": {
        "name": "ipython",
        "version": 3
      },
      "file_extension": ".py",
      "mimetype": "text/x-python",
      "name": "python",
      "nbconvert_exporter": "python",
      "pygments_lexer": "ipython3",
      "version": "3.7.7"
    },
    "colab": {
      "name": "cvHW.ipynb",
      "provenance": [],
      "collapsed_sections": [],
      "include_colab_link": true
    },
    "accelerator": "GPU"
  },
  "cells": [
    {
      "cell_type": "markdown",
      "metadata": {
        "id": "view-in-github",
        "colab_type": "text"
      },
      "source": [
        "<a href=\"https://colab.research.google.com/github/jefffang19/cv_hw/blob/master/cvHW.ipynb\" target=\"_parent\"><img src=\"https://colab.research.google.com/assets/colab-badge.svg\" alt=\"Open In Colab\"/></a>"
      ]
    },
    {
      "cell_type": "code",
      "metadata": {
        "id": "lUHa-G7Yz9UW",
        "colab_type": "code",
        "colab": {}
      },
      "source": [
        "import cv2"
      ],
      "execution_count": 1,
      "outputs": []
    },
    {
      "cell_type": "code",
      "metadata": {
        "id": "uQUA4Vc1z9Ug",
        "colab_type": "code",
        "colab": {}
      },
      "source": [
        "import numpy as np"
      ],
      "execution_count": 2,
      "outputs": []
    },
    {
      "cell_type": "code",
      "metadata": {
        "id": "c_prjM4Wz9Um",
        "colab_type": "code",
        "colab": {}
      },
      "source": [
        "import matplotlib.pyplot as plt"
      ],
      "execution_count": 3,
      "outputs": []
    },
    {
      "cell_type": "code",
      "metadata": {
        "id": "cpnQJ5U50WbJ",
        "colab_type": "code",
        "colab": {
          "base_uri": "https://localhost:8080/",
          "height": 34
        },
        "outputId": "62f537f9-f3c5-4b48-a7b1-f6772b860e87"
      },
      "source": [
        "from google.colab import drive\n",
        "drive.mount('/content/gdrive')"
      ],
      "execution_count": 4,
      "outputs": [
        {
          "output_type": "stream",
          "text": [
            "Drive already mounted at /content/gdrive; to attempt to forcibly remount, call drive.mount(\"/content/gdrive\", force_remount=True).\n"
          ],
          "name": "stdout"
        }
      ]
    },
    {
      "cell_type": "code",
      "metadata": {
        "id": "wKuicny40b9y",
        "colab_type": "code",
        "colab": {}
      },
      "source": [
        "path = F\"/content/gdrive/My Drive/iir_training_python/cvHW/cv.png\""
      ],
      "execution_count": 5,
      "outputs": []
    },
    {
      "cell_type": "code",
      "metadata": {
        "id": "eNPYcw2yz9Ur",
        "colab_type": "code",
        "colab": {}
      },
      "source": [
        "img = cv2.imread(path)"
      ],
      "execution_count": 6,
      "outputs": []
    },
    {
      "cell_type": "code",
      "metadata": {
        "id": "HNEPZZmlz9Ux",
        "colab_type": "code",
        "colab": {
          "base_uri": "https://localhost:8080/",
          "height": 286
        },
        "outputId": "8fbc7293-dbc2-492e-c843-c9e7c077545a"
      },
      "source": [
        "plt.imshow(img)"
      ],
      "execution_count": 7,
      "outputs": [
        {
          "output_type": "execute_result",
          "data": {
            "text/plain": [
              "<matplotlib.image.AxesImage at 0x7fb4257a79b0>"
            ]
          },
          "metadata": {
            "tags": []
          },
          "execution_count": 7
        },
        {
          "output_type": "display_data",
          "data": {
            "image/png": "[encoded data removed]",
            "text/plain": [
              "<Figure size 432x288 with 1 Axes>"
            ]
          },
          "metadata": {
            "tags": [],
            "needs_background": "light"
          }
        }
      ]
    },
    {
      "cell_type": "markdown",
      "metadata": {
        "id": "LMV-t6iOrW36",
        "colab_type": "text"
      },
      "source": [
        "# Objective\n",
        "\n",
        "\n",
        "```\n",
        "cv2.cvtColor(img, cv2.COLOR_BGR2GRAY)\n",
        "```\n",
        "\n"
      ]
    },
    {
      "cell_type": "code",
      "metadata": {
        "id": "r5EY0FjJz9U3",
        "colab_type": "code",
        "colab": {}
      },
      "source": [
        "img_gray = cv2.cvtColor(img, cv2.COLOR_BGR2GRAY)"
      ],
      "execution_count": null,
      "outputs": []
    },
    {
      "cell_type": "code",
      "metadata": {
        "id": "B53TT204z9U6",
        "colab_type": "code",
        "colab": {
          "base_uri": "https://localhost:8080/",
          "height": 286
        },
        "outputId": "01b08de3-fcc1-40d6-d8e0-f03cbbd3090e"
      },
      "source": [
        "plt.imshow(img_gray, cmap = 'gray')"
      ],
      "execution_count": null,
      "outputs": [
        {
          "output_type": "execute_result",
          "data": {
            "text/plain": [
              "<matplotlib.image.AxesImage at 0x7f1ace987860>"
            ]
          },
          "metadata": {
            "tags": []
          },
          "execution_count": 10
        },
        {
          "output_type": "display_data",
          "data": {
            "image/png": "[encoded data removed]",
            "text/plain": [
              "<Figure size 432x288 with 1 Axes>"
            ]
          },
          "metadata": {
            "tags": [],
            "needs_background": "light"
          }
        }
      ]
    },
    {
      "cell_type": "markdown",
      "metadata": {
        "id": "9Y1nRa-2z9U9",
        "colab_type": "text"
      },
      "source": [
        "# We implement above function ourself"
      ]
    },
    {
      "cell_type": "code",
      "metadata": {
        "id": "JQnHDus_z9U-",
        "colab_type": "code",
        "colab": {
          "base_uri": "https://localhost:8080/",
          "height": 34
        },
        "outputId": "8bfc734a-b775-439f-f845-6beb29877bd2"
      },
      "source": [
        "img.shape"
      ],
      "execution_count": null,
      "outputs": [
        {
          "output_type": "execute_result",
          "data": {
            "text/plain": [
              "(794, 600, 3)"
            ]
          },
          "metadata": {
            "tags": []
          },
          "execution_count": 11
        }
      ]
    },
    {
      "cell_type": "markdown",
      "metadata": {
        "id": "jRrBUFMqz9VA",
        "colab_type": "text"
      },
      "source": [
        "# Get R, G, B channels"
      ]
    },
    {
      "cell_type": "code",
      "metadata": {
        "id": "v4Zd8tw_z9VB",
        "colab_type": "code",
        "colab": {}
      },
      "source": [
        "imgR = img[..., 0] # R\n",
        "imgG = img[..., 1] # G\n",
        "imgB =img[..., 2] # B"
      ],
      "execution_count": null,
      "outputs": []
    },
    {
      "cell_type": "code",
      "metadata": {
        "id": "abETEwFFz9VD",
        "colab_type": "code",
        "colab": {
          "base_uri": "https://localhost:8080/",
          "height": 34
        },
        "outputId": "eebb46b5-4dda-46ec-9ae4-c6daf0523a17"
      },
      "source": [
        "imgR.shape"
      ],
      "execution_count": null,
      "outputs": [
        {
          "output_type": "execute_result",
          "data": {
            "text/plain": [
              "(794, 600)"
            ]
          },
          "metadata": {
            "tags": []
          },
          "execution_count": 13
        }
      ]
    },
    {
      "cell_type": "markdown",
      "metadata": {
        "id": "WkeqKjjbz9VF",
        "colab_type": "text"
      },
      "source": [
        "# transform to grayscale"
      ]
    },
    {
      "cell_type": "code",
      "metadata": {
        "id": "FfMioTZ6z9VF",
        "colab_type": "code",
        "colab": {}
      },
      "source": [
        "# elementwise multiply\n",
        "img_gray = np.multiply(imgR,0.299) + np.multiply(imgG,0.587) + np.multiply(imgB,0.114)"
      ],
      "execution_count": null,
      "outputs": []
    },
    {
      "cell_type": "code",
      "metadata": {
        "id": "Yfx9P2hmz9VI",
        "colab_type": "code",
        "colab": {
          "base_uri": "https://localhost:8080/",
          "height": 286
        },
        "outputId": "61b66ad0-25a2-44de-adfb-dbb87d8cf8a3"
      },
      "source": [
        "plt.imshow(img_gray, cmap='gray')"
      ],
      "execution_count": null,
      "outputs": [
        {
          "output_type": "execute_result",
          "data": {
            "text/plain": [
              "<matplotlib.image.AxesImage at 0x7f1acdcb4c88>"
            ]
          },
          "metadata": {
            "tags": []
          },
          "execution_count": 15
        },
        {
          "output_type": "display_data",
          "data": {
            "image/png": "[encoded data removed]",
            "text/plain": [
              "<Figure size 432x288 with 1 Axes>"
            ]
          },
          "metadata": {
            "tags": [],
            "needs_background": "light"
          }
        }
      ]
    },
    {
      "cell_type": "markdown",
      "metadata": {
        "id": "uZ-5-vAu5wqF",
        "colab_type": "text"
      },
      "source": [
        "# threshold function"
      ]
    },
    {
      "cell_type": "markdown",
      "metadata": {
        "id": "izgLy-bVq2WB",
        "colab_type": "text"
      },
      "source": [
        "# objective\n",
        "\n",
        "\n",
        "```\n",
        "cv2.threshold(x, low_bound, up_bound, cv2.THRESH_TOZERO)\n",
        "```\n",
        "\n"
      ]
    },
    {
      "cell_type": "code",
      "metadata": {
        "id": "DH7jSpkJfPnf",
        "colab_type": "code",
        "colab": {
          "base_uri": "https://localhost:8080/",
          "height": 286
        },
        "outputId": "c9b61165-b3a4-43ef-d450-5a7d2bc22b20"
      },
      "source": [
        "ret,thresh1 = cv2.threshold(img_gray,127,255,cv2.THRESH_TOZERO)\n",
        "plt.imshow(thresh1, cmap='gray')"
      ],
      "execution_count": null,
      "outputs": [
        {
          "output_type": "execute_result",
          "data": {
            "text/plain": [
              "<matplotlib.image.AxesImage at 0x7f1ac39a97f0>"
            ]
          },
          "metadata": {
            "tags": []
          },
          "execution_count": 98
        },
        {
          "output_type": "display_data",
          "data": {
            "image/png": "[encoded data removed]",
            "text/plain": [
              "<Figure size 432x288 with 1 Axes>"
            ]
          },
          "metadata": {
            "tags": [],
            "needs_background": "light"
          }
        }
      ]
    },
    {
      "cell_type": "markdown",
      "metadata": {
        "id": "ewJ3H0HgrN0P",
        "colab_type": "text"
      },
      "source": [
        "# My Implementation"
      ]
    },
    {
      "cell_type": "code",
      "metadata": {
        "id": "Psf1Tj3E6mE-",
        "colab_type": "code",
        "colab": {}
      },
      "source": [
        "path = F\"/content/gdrive/My Drive/iir_training_python/cvHW/cv.png\""
      ],
      "execution_count": null,
      "outputs": []
    },
    {
      "cell_type": "code",
      "metadata": {
        "id": "Gra1v_sb5zUZ",
        "colab_type": "code",
        "colab": {}
      },
      "source": [
        "def myThresh(in_img, lower_thresh, upper_thresh):\n",
        "  if(0<=upper_thresh<=255 and 0<=lower_thresh<=255):\n",
        "    up_th = np.less_equal(in_img, upper_thresh)\n",
        "    low_th = np.greater(in_img, lower_thresh)\n",
        "    return np.multiply(np.multiply(in_img,low_th), up_th)\n",
        "  else:\n",
        "    print('wrong value')"
      ],
      "execution_count": null,
      "outputs": []
    },
    {
      "cell_type": "code",
      "metadata": {
        "id": "evj5PfLO6Vfi",
        "colab_type": "code",
        "colab": {
          "base_uri": "https://localhost:8080/",
          "height": 286
        },
        "outputId": "b52d2c17-7490-4940-e620-db01166daea8"
      },
      "source": [
        "result = myThresh(img_gray, 127, 255)\n",
        "\n",
        "plt.imshow(result, cmap='gray')"
      ],
      "execution_count": null,
      "outputs": [
        {
          "output_type": "execute_result",
          "data": {
            "text/plain": [
              "<matplotlib.image.AxesImage at 0x7f1ac3ad7c18>"
            ]
          },
          "metadata": {
            "tags": []
          },
          "execution_count": 100
        },
        {
          "output_type": "display_data",
          "data": {
            "image/png": "[encoded data removed]",
            "text/plain": [
              "<Figure size 432x288 with 1 Axes>"
            ]
          },
          "metadata": {
            "tags": [],
            "needs_background": "light"
          }
        }
      ]
    },
    {
      "cell_type": "code",
      "metadata": {
        "id": "Zg-_u1_b8PDa",
        "colab_type": "code",
        "colab": {
          "base_uri": "https://localhost:8080/",
          "height": 34
        },
        "outputId": "62a4cccd-2971-4756-ca8f-091732155b4a"
      },
      "source": [
        "myThresh(img, 127, 278)"
      ],
      "execution_count": null,
      "outputs": [
        {
          "output_type": "stream",
          "text": [
            "wrong value\n"
          ],
          "name": "stdout"
        }
      ]
    },
    {
      "cell_type": "markdown",
      "metadata": {
        "id": "fosHOGSY0xC6",
        "colab_type": "text"
      },
      "source": [
        "# Segmentation Model"
      ]
    },
    {
      "cell_type": "code",
      "metadata": {
        "id": "e-ZRrM5_z9VK",
        "colab_type": "code",
        "colab": {
          "base_uri": "https://localhost:8080/",
          "height": 356
        },
        "outputId": "ba5f5871-9742-411e-d935-209e8cfabc1d"
      },
      "source": [
        "!pip install -U segmentation-models"
      ],
      "execution_count": 8,
      "outputs": [
        {
          "output_type": "stream",
          "text": [
            "Requirement already up-to-date: segmentation-models in /usr/local/lib/python3.6/dist-packages (1.0.1)\n",
            "Requirement already satisfied, skipping upgrade: image-classifiers==1.0.0 in /usr/local/lib/python3.6/dist-packages (from segmentation-models) (1.0.0)\n",
            "Requirement already satisfied, skipping upgrade: efficientnet==1.0.0 in /usr/local/lib/python3.6/dist-packages (from segmentation-models) (1.0.0)\n",
            "Requirement already satisfied, skipping upgrade: keras-applications<=1.0.8,>=1.0.7 in /usr/local/lib/python3.6/dist-packages (from segmentation-models) (1.0.8)\n",
            "Requirement already satisfied, skipping upgrade: scikit-image in /usr/local/lib/python3.6/dist-packages (from efficientnet==1.0.0->segmentation-models) (0.16.2)\n",
            "Requirement already satisfied, skipping upgrade: h5py in /usr/local/lib/python3.6/dist-packages (from keras-applications<=1.0.8,>=1.0.7->segmentation-models) (2.10.0)\n",
            "Requirement already satisfied, skipping upgrade: numpy>=1.9.1 in /usr/local/lib/python3.6/dist-packages (from keras-applications<=1.0.8,>=1.0.7->segmentation-models) (1.18.5)\n",
            "Requirement already satisfied, skipping upgrade: pillow>=4.3.0 in /usr/local/lib/python3.6/dist-packages (from scikit-image->efficientnet==1.0.0->segmentation-models) (7.0.0)\n",
            "Requirement already satisfied, skipping upgrade: scipy>=0.19.0 in /usr/local/lib/python3.6/dist-packages (from scikit-image->efficientnet==1.0.0->segmentation-models) (1.4.1)\n",
            "Requirement already satisfied, skipping upgrade: networkx>=2.0 in /usr/local/lib/python3.6/dist-packages (from scikit-image->efficientnet==1.0.0->segmentation-models) (2.4)\n",
            "Requirement already satisfied, skipping upgrade: PyWavelets>=0.4.0 in /usr/local/lib/python3.6/dist-packages (from scikit-image->efficientnet==1.0.0->segmentation-models) (1.1.1)\n",
            "Requirement already satisfied, skipping upgrade: matplotlib!=3.0.0,>=2.0.0 in /usr/local/lib/python3.6/dist-packages (from scikit-image->efficientnet==1.0.0->segmentation-models) (3.2.2)\n",
            "Requirement already satisfied, skipping upgrade: imageio>=2.3.0 in /usr/local/lib/python3.6/dist-packages (from scikit-image->efficientnet==1.0.0->segmentation-models) (2.4.1)\n",
            "Requirement already satisfied, skipping upgrade: six in /usr/local/lib/python3.6/dist-packages (from h5py->keras-applications<=1.0.8,>=1.0.7->segmentation-models) (1.15.0)\n",
            "Requirement already satisfied, skipping upgrade: decorator>=4.3.0 in /usr/local/lib/python3.6/dist-packages (from networkx>=2.0->scikit-image->efficientnet==1.0.0->segmentation-models) (4.4.2)\n",
            "Requirement already satisfied, skipping upgrade: python-dateutil>=2.1 in /usr/local/lib/python3.6/dist-packages (from matplotlib!=3.0.0,>=2.0.0->scikit-image->efficientnet==1.0.0->segmentation-models) (2.8.1)\n",
            "Requirement already satisfied, skipping upgrade: kiwisolver>=1.0.1 in /usr/local/lib/python3.6/dist-packages (from matplotlib!=3.0.0,>=2.0.0->scikit-image->efficientnet==1.0.0->segmentation-models) (1.2.0)\n",
            "Requirement already satisfied, skipping upgrade: cycler>=0.10 in /usr/local/lib/python3.6/dist-packages (from matplotlib!=3.0.0,>=2.0.0->scikit-image->efficientnet==1.0.0->segmentation-models) (0.10.0)\n",
            "Requirement already satisfied, skipping upgrade: pyparsing!=2.0.4,!=2.1.2,!=2.1.6,>=2.0.1 in /usr/local/lib/python3.6/dist-packages (from matplotlib!=3.0.0,>=2.0.0->scikit-image->efficientnet==1.0.0->segmentation-models) (2.4.7)\n"
          ],
          "name": "stdout"
        }
      ]
    },
    {
      "cell_type": "code",
      "metadata": {
        "id": "UQwccuGM2Lc-",
        "colab_type": "code",
        "colab": {
          "base_uri": "https://localhost:8080/",
          "height": 423
        },
        "outputId": "46c7a393-4593-48a0-c805-2eb7c72504f7"
      },
      "source": [
        "!pip install tensorflow-gpu==1.15.0"
      ],
      "execution_count": 9,
      "outputs": [
        {
          "output_type": "stream",
          "text": [
            "Requirement already satisfied: tensorflow-gpu==1.15.0 in /usr/local/lib/python3.6/dist-packages (1.15.0)\n",
            "Requirement already satisfied: wrapt>=1.11.1 in /usr/local/lib/python3.6/dist-packages (from tensorflow-gpu==1.15.0) (1.12.1)\n",
            "Requirement already satisfied: termcolor>=1.1.0 in /usr/local/lib/python3.6/dist-packages (from tensorflow-gpu==1.15.0) (1.1.0)\n",
            "Requirement already satisfied: absl-py>=0.7.0 in /usr/local/lib/python3.6/dist-packages (from tensorflow-gpu==1.15.0) (0.9.0)\n",
            "Requirement already satisfied: google-pasta>=0.1.6 in /usr/local/lib/python3.6/dist-packages (from tensorflow-gpu==1.15.0) (0.2.0)\n",
            "Requirement already satisfied: gast==0.2.2 in /usr/local/lib/python3.6/dist-packages (from tensorflow-gpu==1.15.0) (0.2.2)\n",
            "Requirement already satisfied: keras-preprocessing>=1.0.5 in /usr/local/lib/python3.6/dist-packages (from tensorflow-gpu==1.15.0) (1.1.2)\n",
            "Requirement already satisfied: six>=1.10.0 in /usr/local/lib/python3.6/dist-packages (from tensorflow-gpu==1.15.0) (1.15.0)\n",
            "Requirement already satisfied: tensorboard<1.16.0,>=1.15.0 in /usr/local/lib/python3.6/dist-packages (from tensorflow-gpu==1.15.0) (1.15.0)\n",
            "Requirement already satisfied: numpy<2.0,>=1.16.0 in /usr/local/lib/python3.6/dist-packages (from tensorflow-gpu==1.15.0) (1.18.5)\n",
            "Requirement already satisfied: tensorflow-estimator==1.15.1 in /usr/local/lib/python3.6/dist-packages (from tensorflow-gpu==1.15.0) (1.15.1)\n",
            "Requirement already satisfied: keras-applications>=1.0.8 in /usr/local/lib/python3.6/dist-packages (from tensorflow-gpu==1.15.0) (1.0.8)\n",
            "Requirement already satisfied: opt-einsum>=2.3.2 in /usr/local/lib/python3.6/dist-packages (from tensorflow-gpu==1.15.0) (3.3.0)\n",
            "Requirement already satisfied: grpcio>=1.8.6 in /usr/local/lib/python3.6/dist-packages (from tensorflow-gpu==1.15.0) (1.31.0)\n",
            "Requirement already satisfied: protobuf>=3.6.1 in /usr/local/lib/python3.6/dist-packages (from tensorflow-gpu==1.15.0) (3.12.4)\n",
            "Requirement already satisfied: wheel>=0.26 in /usr/local/lib/python3.6/dist-packages (from tensorflow-gpu==1.15.0) (0.34.2)\n",
            "Requirement already satisfied: astor>=0.6.0 in /usr/local/lib/python3.6/dist-packages (from tensorflow-gpu==1.15.0) (0.8.1)\n",
            "Requirement already satisfied: markdown>=2.6.8 in /usr/local/lib/python3.6/dist-packages (from tensorboard<1.16.0,>=1.15.0->tensorflow-gpu==1.15.0) (3.2.2)\n",
            "Requirement already satisfied: werkzeug>=0.11.15 in /usr/local/lib/python3.6/dist-packages (from tensorboard<1.16.0,>=1.15.0->tensorflow-gpu==1.15.0) (1.0.1)\n",
            "Requirement already satisfied: setuptools>=41.0.0 in /usr/local/lib/python3.6/dist-packages (from tensorboard<1.16.0,>=1.15.0->tensorflow-gpu==1.15.0) (49.2.0)\n",
            "Requirement already satisfied: h5py in /usr/local/lib/python3.6/dist-packages (from keras-applications>=1.0.8->tensorflow-gpu==1.15.0) (2.10.0)\n",
            "Requirement already satisfied: importlib-metadata; python_version < \"3.8\" in /usr/local/lib/python3.6/dist-packages (from markdown>=2.6.8->tensorboard<1.16.0,>=1.15.0->tensorflow-gpu==1.15.0) (1.7.0)\n",
            "Requirement already satisfied: zipp>=0.5 in /usr/local/lib/python3.6/dist-packages (from importlib-metadata; python_version < \"3.8\"->markdown>=2.6.8->tensorboard<1.16.0,>=1.15.0->tensorflow-gpu==1.15.0) (3.1.0)\n"
          ],
          "name": "stdout"
        }
      ]
    },
    {
      "cell_type": "code",
      "metadata": {
        "id": "a59e3K9h2n8C",
        "colab_type": "code",
        "colab": {}
      },
      "source": [
        "import tensorflow as tf"
      ],
      "execution_count": 10,
      "outputs": []
    },
    {
      "cell_type": "code",
      "metadata": {
        "id": "0ILmKLCQdxf8",
        "colab_type": "code",
        "colab": {
          "base_uri": "https://localhost:8080/",
          "height": 35
        },
        "outputId": "1283845d-b0d2-4c86-e393-0526ba686972"
      },
      "source": [
        "tf.__version__"
      ],
      "execution_count": 11,
      "outputs": [
        {
          "output_type": "execute_result",
          "data": {
            "application/vnd.google.colaboratory.intrinsic+json": {
              "type": "string"
            },
            "text/plain": [
              "'1.15.0'"
            ]
          },
          "metadata": {
            "tags": []
          },
          "execution_count": 11
        }
      ]
    },
    {
      "cell_type": "code",
      "metadata": {
        "id": "-2MnCpQx1P3a",
        "colab_type": "code",
        "colab": {
          "base_uri": "https://localhost:8080/",
          "height": 34
        },
        "outputId": "d37d04d2-7070-464a-edea-669e3c1be540"
      },
      "source": [
        "import segmentation_models as sm"
      ],
      "execution_count": 12,
      "outputs": [
        {
          "output_type": "stream",
          "text": [
            "Segmentation Models: using `tf.keras` framework.\n"
          ],
          "name": "stdout"
        }
      ]
    },
    {
      "cell_type": "markdown",
      "metadata": {
        "id": "Ms2FN1cJGowF",
        "colab_type": "text"
      },
      "source": [
        "# Set Model backbone"
      ]
    },
    {
      "cell_type": "code",
      "metadata": {
        "id": "3aStHFLY1dhJ",
        "colab_type": "code",
        "colab": {
          "base_uri": "https://localhost:8080/",
          "height": 87
        },
        "outputId": "5c6515df-d280-4007-817c-e15f3d4d41a7"
      },
      "source": [
        "model = sm.Unet(backbone_name='vgg16', encoder_weights='imagenet')"
      ],
      "execution_count": 13,
      "outputs": [
        {
          "output_type": "stream",
          "text": [
            "WARNING:tensorflow:From /usr/local/lib/python3.6/dist-packages/tensorflow_core/python/ops/resource_variable_ops.py:1630: calling BaseResourceVariable.__init__ (from tensorflow.python.ops.resource_variable_ops) with constraint is deprecated and will be removed in a future version.\n",
            "Instructions for updating:\n",
            "If using Keras pass *_constraint arguments to layers.\n"
          ],
          "name": "stdout"
        }
      ]
    },
    {
      "cell_type": "code",
      "metadata": {
        "id": "Sh6zqefd-FgT",
        "colab_type": "code",
        "colab": {
          "base_uri": "https://localhost:8080/",
          "height": 1000
        },
        "outputId": "04a6d67f-c431-4dfa-afcb-c97abb9f2903"
      },
      "source": [
        "model.summary()"
      ],
      "execution_count": 14,
      "outputs": [
        {
          "output_type": "stream",
          "text": [
            "Model: \"model\"\n",
            "__________________________________________________________________________________________________\n",
            "Layer (type)                    Output Shape         Param #     Connected to                     \n",
            "==================================================================================================\n",
            "input_1 (InputLayer)            [(None, None, None,  0                                            \n",
            "__________________________________________________________________________________________________\n",
            "block1_conv1 (Conv2D)           (None, None, None, 6 1792        input_1[0][0]                    \n",
            "__________________________________________________________________________________________________\n",
            "block1_conv2 (Conv2D)           (None, None, None, 6 36928       block1_conv1[0][0]               \n",
            "__________________________________________________________________________________________________\n",
            "block1_pool (MaxPooling2D)      (None, None, None, 6 0           block1_conv2[0][0]               \n",
            "__________________________________________________________________________________________________\n",
            "block2_conv1 (Conv2D)           (None, None, None, 1 73856       block1_pool[0][0]                \n",
            "__________________________________________________________________________________________________\n",
            "block2_conv2 (Conv2D)           (None, None, None, 1 147584      block2_conv1[0][0]               \n",
            "__________________________________________________________________________________________________\n",
            "block2_pool (MaxPooling2D)      (None, None, None, 1 0           block2_conv2[0][0]               \n",
            "__________________________________________________________________________________________________\n",
            "block3_conv1 (Conv2D)           (None, None, None, 2 295168      block2_pool[0][0]                \n",
            "__________________________________________________________________________________________________\n",
            "block3_conv2 (Conv2D)           (None, None, None, 2 590080      block3_conv1[0][0]               \n",
            "__________________________________________________________________________________________________\n",
            "block3_conv3 (Conv2D)           (None, None, None, 2 590080      block3_conv2[0][0]               \n",
            "__________________________________________________________________________________________________\n",
            "block3_pool (MaxPooling2D)      (None, None, None, 2 0           block3_conv3[0][0]               \n",
            "__________________________________________________________________________________________________\n",
            "block4_conv1 (Conv2D)           (None, None, None, 5 1180160     block3_pool[0][0]                \n",
            "__________________________________________________________________________________________________\n",
            "block4_conv2 (Conv2D)           (None, None, None, 5 2359808     block4_conv1[0][0]               \n",
            "__________________________________________________________________________________________________\n",
            "block4_conv3 (Conv2D)           (None, None, None, 5 2359808     block4_conv2[0][0]               \n",
            "__________________________________________________________________________________________________\n",
            "block4_pool (MaxPooling2D)      (None, None, None, 5 0           block4_conv3[0][0]               \n",
            "__________________________________________________________________________________________________\n",
            "block5_conv1 (Conv2D)           (None, None, None, 5 2359808     block4_pool[0][0]                \n",
            "__________________________________________________________________________________________________\n",
            "block5_conv2 (Conv2D)           (None, None, None, 5 2359808     block5_conv1[0][0]               \n",
            "__________________________________________________________________________________________________\n",
            "block5_conv3 (Conv2D)           (None, None, None, 5 2359808     block5_conv2[0][0]               \n",
            "__________________________________________________________________________________________________\n",
            "block5_pool (MaxPooling2D)      (None, None, None, 5 0           block5_conv3[0][0]               \n",
            "__________________________________________________________________________________________________\n",
            "center_block1_conv (Conv2D)     (None, None, None, 5 2359296     block5_pool[0][0]                \n",
            "__________________________________________________________________________________________________\n",
            "center_block1_bn (BatchNormaliz (None, None, None, 5 2048        center_block1_conv[0][0]         \n",
            "__________________________________________________________________________________________________\n",
            "center_block1_relu (Activation) (None, None, None, 5 0           center_block1_bn[0][0]           \n",
            "__________________________________________________________________________________________________\n",
            "center_block2_conv (Conv2D)     (None, None, None, 5 2359296     center_block1_relu[0][0]         \n",
            "__________________________________________________________________________________________________\n",
            "center_block2_bn (BatchNormaliz (None, None, None, 5 2048        center_block2_conv[0][0]         \n",
            "__________________________________________________________________________________________________\n",
            "center_block2_relu (Activation) (None, None, None, 5 0           center_block2_bn[0][0]           \n",
            "__________________________________________________________________________________________________\n",
            "decoder_stage0_upsampling (UpSa (None, None, None, 5 0           center_block2_relu[0][0]         \n",
            "__________________________________________________________________________________________________\n",
            "decoder_stage0_concat (Concaten (None, None, None, 1 0           decoder_stage0_upsampling[0][0]  \n",
            "                                                                 block5_conv3[0][0]               \n",
            "__________________________________________________________________________________________________\n",
            "decoder_stage0a_conv (Conv2D)   (None, None, None, 2 2359296     decoder_stage0_concat[0][0]      \n",
            "__________________________________________________________________________________________________\n",
            "decoder_stage0a_bn (BatchNormal (None, None, None, 2 1024        decoder_stage0a_conv[0][0]       \n",
            "__________________________________________________________________________________________________\n",
            "decoder_stage0a_relu (Activatio (None, None, None, 2 0           decoder_stage0a_bn[0][0]         \n",
            "__________________________________________________________________________________________________\n",
            "decoder_stage0b_conv (Conv2D)   (None, None, None, 2 589824      decoder_stage0a_relu[0][0]       \n",
            "__________________________________________________________________________________________________\n",
            "decoder_stage0b_bn (BatchNormal (None, None, None, 2 1024        decoder_stage0b_conv[0][0]       \n",
            "__________________________________________________________________________________________________\n",
            "decoder_stage0b_relu (Activatio (None, None, None, 2 0           decoder_stage0b_bn[0][0]         \n",
            "__________________________________________________________________________________________________\n",
            "decoder_stage1_upsampling (UpSa (None, None, None, 2 0           decoder_stage0b_relu[0][0]       \n",
            "__________________________________________________________________________________________________\n",
            "decoder_stage1_concat (Concaten (None, None, None, 7 0           decoder_stage1_upsampling[0][0]  \n",
            "                                                                 block4_conv3[0][0]               \n",
            "__________________________________________________________________________________________________\n",
            "decoder_stage1a_conv (Conv2D)   (None, None, None, 1 884736      decoder_stage1_concat[0][0]      \n",
            "__________________________________________________________________________________________________\n",
            "decoder_stage1a_bn (BatchNormal (None, None, None, 1 512         decoder_stage1a_conv[0][0]       \n",
            "__________________________________________________________________________________________________\n",
            "decoder_stage1a_relu (Activatio (None, None, None, 1 0           decoder_stage1a_bn[0][0]         \n",
            "__________________________________________________________________________________________________\n",
            "decoder_stage1b_conv (Conv2D)   (None, None, None, 1 147456      decoder_stage1a_relu[0][0]       \n",
            "__________________________________________________________________________________________________\n",
            "decoder_stage1b_bn (BatchNormal (None, None, None, 1 512         decoder_stage1b_conv[0][0]       \n",
            "__________________________________________________________________________________________________\n",
            "decoder_stage1b_relu (Activatio (None, None, None, 1 0           decoder_stage1b_bn[0][0]         \n",
            "__________________________________________________________________________________________________\n",
            "decoder_stage2_upsampling (UpSa (None, None, None, 1 0           decoder_stage1b_relu[0][0]       \n",
            "__________________________________________________________________________________________________\n",
            "decoder_stage2_concat (Concaten (None, None, None, 3 0           decoder_stage2_upsampling[0][0]  \n",
            "                                                                 block3_conv3[0][0]               \n",
            "__________________________________________________________________________________________________\n",
            "decoder_stage2a_conv (Conv2D)   (None, None, None, 6 221184      decoder_stage2_concat[0][0]      \n",
            "__________________________________________________________________________________________________\n",
            "decoder_stage2a_bn (BatchNormal (None, None, None, 6 256         decoder_stage2a_conv[0][0]       \n",
            "__________________________________________________________________________________________________\n",
            "decoder_stage2a_relu (Activatio (None, None, None, 6 0           decoder_stage2a_bn[0][0]         \n",
            "__________________________________________________________________________________________________\n",
            "decoder_stage2b_conv (Conv2D)   (None, None, None, 6 36864       decoder_stage2a_relu[0][0]       \n",
            "__________________________________________________________________________________________________\n",
            "decoder_stage2b_bn (BatchNormal (None, None, None, 6 256         decoder_stage2b_conv[0][0]       \n",
            "__________________________________________________________________________________________________\n",
            "decoder_stage2b_relu (Activatio (None, None, None, 6 0           decoder_stage2b_bn[0][0]         \n",
            "__________________________________________________________________________________________________\n",
            "decoder_stage3_upsampling (UpSa (None, None, None, 6 0           decoder_stage2b_relu[0][0]       \n",
            "__________________________________________________________________________________________________\n",
            "decoder_stage3_concat (Concaten (None, None, None, 1 0           decoder_stage3_upsampling[0][0]  \n",
            "                                                                 block2_conv2[0][0]               \n",
            "__________________________________________________________________________________________________\n",
            "decoder_stage3a_conv (Conv2D)   (None, None, None, 3 55296       decoder_stage3_concat[0][0]      \n",
            "__________________________________________________________________________________________________\n",
            "decoder_stage3a_bn (BatchNormal (None, None, None, 3 128         decoder_stage3a_conv[0][0]       \n",
            "__________________________________________________________________________________________________\n",
            "decoder_stage3a_relu (Activatio (None, None, None, 3 0           decoder_stage3a_bn[0][0]         \n",
            "__________________________________________________________________________________________________\n",
            "decoder_stage3b_conv (Conv2D)   (None, None, None, 3 9216        decoder_stage3a_relu[0][0]       \n",
            "__________________________________________________________________________________________________\n",
            "decoder_stage3b_bn (BatchNormal (None, None, None, 3 128         decoder_stage3b_conv[0][0]       \n",
            "__________________________________________________________________________________________________\n",
            "decoder_stage3b_relu (Activatio (None, None, None, 3 0           decoder_stage3b_bn[0][0]         \n",
            "__________________________________________________________________________________________________\n",
            "decoder_stage4_upsampling (UpSa (None, None, None, 3 0           decoder_stage3b_relu[0][0]       \n",
            "__________________________________________________________________________________________________\n",
            "decoder_stage4a_conv (Conv2D)   (None, None, None, 1 4608        decoder_stage4_upsampling[0][0]  \n",
            "__________________________________________________________________________________________________\n",
            "decoder_stage4a_bn (BatchNormal (None, None, None, 1 64          decoder_stage4a_conv[0][0]       \n",
            "__________________________________________________________________________________________________\n",
            "decoder_stage4a_relu (Activatio (None, None, None, 1 0           decoder_stage4a_bn[0][0]         \n",
            "__________________________________________________________________________________________________\n",
            "decoder_stage4b_conv (Conv2D)   (None, None, None, 1 2304        decoder_stage4a_relu[0][0]       \n",
            "__________________________________________________________________________________________________\n",
            "decoder_stage4b_bn (BatchNormal (None, None, None, 1 64          decoder_stage4b_conv[0][0]       \n",
            "__________________________________________________________________________________________________\n",
            "decoder_stage4b_relu (Activatio (None, None, None, 1 0           decoder_stage4b_bn[0][0]         \n",
            "__________________________________________________________________________________________________\n",
            "final_conv (Conv2D)             (None, None, None, 1 145         decoder_stage4b_relu[0][0]       \n",
            "__________________________________________________________________________________________________\n",
            "sigmoid (Activation)            (None, None, None, 1 0           final_conv[0][0]                 \n",
            "==================================================================================================\n",
            "Total params: 23,752,273\n",
            "Trainable params: 23,748,241\n",
            "Non-trainable params: 4,032\n",
            "__________________________________________________________________________________________________\n"
          ],
          "name": "stdout"
        }
      ]
    },
    {
      "cell_type": "markdown",
      "metadata": {
        "id": "1vLhWct9GuSe",
        "colab_type": "text"
      },
      "source": [
        "# Test Fit Model"
      ]
    },
    {
      "cell_type": "code",
      "metadata": {
        "id": "SsJz3NCq5Yth",
        "colab_type": "code",
        "colab": {
          "base_uri": "https://localhost:8080/",
          "height": 286
        },
        "outputId": "7683f521-47da-4869-ad1c-707b7cbc38f7"
      },
      "source": [
        "# image size according to the decoder filter of the model -> (256,128,64,32,16)\n",
        "x = cv2.resize(img, (256,256))\n",
        "plt.imshow(x)"
      ],
      "execution_count": null,
      "outputs": [
        {
          "output_type": "execute_result",
          "data": {
            "text/plain": [
              "<matplotlib.image.AxesImage at 0x7f1a208fa4e0>"
            ]
          },
          "metadata": {
            "tags": []
          },
          "execution_count": 112
        },
        {
          "output_type": "display_data",
          "data": {
            "image/png": "[encoded data removed]",
            "text/plain": [
              "<Figure size 432x288 with 1 Axes>"
            ]
          },
          "metadata": {
            "tags": [],
            "needs_background": "light"
          }
        }
      ]
    },
    {
      "cell_type": "code",
      "metadata": {
        "id": "SM_hRUSa39Xf",
        "colab_type": "code",
        "colab": {
          "base_uri": "https://localhost:8080/",
          "height": 34
        },
        "outputId": "852d3939-0c3f-41c0-8d61-a923a2de5f7d"
      },
      "source": [
        "# increase dimmension for batch_size\n",
        "x = x[np.newaxis, :]\n",
        "x.shape"
      ],
      "execution_count": null,
      "outputs": [
        {
          "output_type": "execute_result",
          "data": {
            "text/plain": [
              "(1, 256, 256, 3)"
            ]
          },
          "metadata": {
            "tags": []
          },
          "execution_count": 113
        }
      ]
    },
    {
      "cell_type": "code",
      "metadata": {
        "id": "d2f8uG7k2_fj",
        "colab_type": "code",
        "colab": {}
      },
      "source": [
        "predict_img = model.predict(x)"
      ],
      "execution_count": null,
      "outputs": []
    },
    {
      "cell_type": "code",
      "metadata": {
        "id": "hYPg3T--462A",
        "colab_type": "code",
        "colab": {}
      },
      "source": [
        "p = predict_img.reshape((256,256))"
      ],
      "execution_count": null,
      "outputs": []
    },
    {
      "cell_type": "code",
      "metadata": {
        "id": "vMY5BxPU5G7-",
        "colab_type": "code",
        "colab": {
          "base_uri": "https://localhost:8080/",
          "height": 286
        },
        "outputId": "98658d1b-16c0-4e6d-ed6e-abde95ea909b"
      },
      "source": [
        "plt.imshow(p)"
      ],
      "execution_count": null,
      "outputs": [
        {
          "output_type": "execute_result",
          "data": {
            "text/plain": [
              "<matplotlib.image.AxesImage at 0x7f1a1d8125c0>"
            ]
          },
          "metadata": {
            "tags": []
          },
          "execution_count": 116
        },
        {
          "output_type": "display_data",
          "data": {
            "image/png": "[encoded data removed]",
            "text/plain": [
              "<Figure size 432x288 with 1 Axes>"
            ]
          },
          "metadata": {
            "tags": [],
            "needs_background": "light"
          }
        }
      ]
    },
    {
      "cell_type": "code",
      "metadata": {
        "id": "K92HUTtO9C7M",
        "colab_type": "code",
        "colab": {
          "base_uri": "https://localhost:8080/",
          "height": 34
        },
        "outputId": "a3a51fb6-68b7-4d7c-f6cd-48bb26844383"
      },
      "source": [
        "predict_img.shape"
      ],
      "execution_count": null,
      "outputs": [
        {
          "output_type": "execute_result",
          "data": {
            "text/plain": [
              "(1, 256, 256, 1)"
            ]
          },
          "metadata": {
            "tags": []
          },
          "execution_count": 117
        }
      ]
    },
    {
      "cell_type": "code",
      "metadata": {
        "id": "97oSyl6f-P06",
        "colab_type": "code",
        "colab": {}
      },
      "source": [
        "#overlap the predict img and the origin img\n",
        "result = predict_img[0] + x[0]"
      ],
      "execution_count": null,
      "outputs": []
    },
    {
      "cell_type": "code",
      "metadata": {
        "id": "DE0q5c7d3gLK",
        "colab_type": "code",
        "colab": {
          "base_uri": "https://localhost:8080/",
          "height": 303
        },
        "outputId": "401f9ec1-a8b3-4b29-81dc-cf94189d8e43"
      },
      "source": [
        "plt.imshow(result)"
      ],
      "execution_count": null,
      "outputs": [
        {
          "output_type": "stream",
          "text": [
            "Clipping input data to the valid range for imshow with RGB data ([0..1] for floats or [0..255] for integers).\n"
          ],
          "name": "stderr"
        },
        {
          "output_type": "execute_result",
          "data": {
            "text/plain": [
              "<matplotlib.image.AxesImage at 0x7f1a1d7ee748>"
            ]
          },
          "metadata": {
            "tags": []
          },
          "execution_count": 119
        },
        {
          "output_type": "display_data",
          "data": {
            "image/png": "[encoded data removed]",
            "text/plain": [
              "<Figure size 432x288 with 1 Axes>"
            ]
          },
          "metadata": {
            "tags": [],
            "needs_background": "light"
          }
        }
      ]
    },
    {
      "cell_type": "code",
      "metadata": {
        "id": "Fw4mzCOzdEPC",
        "colab_type": "code",
        "colab": {}
      },
      "source": [
        ""
      ],
      "execution_count": null,
      "outputs": []
    },
    {
      "cell_type": "code",
      "metadata": {
        "id": "NGGGhLm0ErOs",
        "colab_type": "code",
        "colab": {}
      },
      "source": [
        "import glob"
      ],
      "execution_count": 15,
      "outputs": []
    },
    {
      "cell_type": "code",
      "metadata": {
        "id": "6D-9IX4BEPlu",
        "colab_type": "code",
        "colab": {
          "base_uri": "https://localhost:8080/",
          "height": 34
        },
        "outputId": "0fb38c3c-8d3e-4652-ca11-b1d64ffbb3cc"
      },
      "source": [
        "!ls \"/content/gdrive/My Drive/iir_training_python/cvHW/f01\""
      ],
      "execution_count": 16,
      "outputs": [
        {
          "output_type": "stream",
          "text": [
            "image  label  train_image  train_mask\n"
          ],
          "name": "stdout"
        }
      ]
    },
    {
      "cell_type": "markdown",
      "metadata": {
        "id": "gcVEvcFnKmS2",
        "colab_type": "text"
      },
      "source": [
        "# Import Training Data"
      ]
    },
    {
      "cell_type": "code",
      "metadata": {
        "id": "0nrbzRy4K1MP",
        "colab_type": "code",
        "colab": {}
      },
      "source": [
        "filenames = glob.glob(F\"/content/gdrive/My Drive/iir_training_python/cvHW/f01/image/*.png\")"
      ],
      "execution_count": 17,
      "outputs": []
    },
    {
      "cell_type": "code",
      "metadata": {
        "id": "LewEB9a2K-CJ",
        "colab_type": "code",
        "colab": {
          "base_uri": "https://localhost:8080/",
          "height": 353
        },
        "outputId": "ba0e1b91-18f0-4e46-bf12-7c7aee2deab2"
      },
      "source": [
        "filenames.sort()\n",
        "filenames"
      ],
      "execution_count": 18,
      "outputs": [
        {
          "output_type": "execute_result",
          "data": {
            "text/plain": [
              "['/content/gdrive/My Drive/iir_training_python/cvHW/f01/image/0001.png',\n",
              " '/content/gdrive/My Drive/iir_training_python/cvHW/f01/image/0002.png',\n",
              " '/content/gdrive/My Drive/iir_training_python/cvHW/f01/image/0003.png',\n",
              " '/content/gdrive/My Drive/iir_training_python/cvHW/f01/image/0004.png',\n",
              " '/content/gdrive/My Drive/iir_training_python/cvHW/f01/image/0005.png',\n",
              " '/content/gdrive/My Drive/iir_training_python/cvHW/f01/image/0006.png',\n",
              " '/content/gdrive/My Drive/iir_training_python/cvHW/f01/image/0007.png',\n",
              " '/content/gdrive/My Drive/iir_training_python/cvHW/f01/image/0008.png',\n",
              " '/content/gdrive/My Drive/iir_training_python/cvHW/f01/image/0009.png',\n",
              " '/content/gdrive/My Drive/iir_training_python/cvHW/f01/image/0010.png',\n",
              " '/content/gdrive/My Drive/iir_training_python/cvHW/f01/image/0011.png',\n",
              " '/content/gdrive/My Drive/iir_training_python/cvHW/f01/image/0012.png',\n",
              " '/content/gdrive/My Drive/iir_training_python/cvHW/f01/image/0013.png',\n",
              " '/content/gdrive/My Drive/iir_training_python/cvHW/f01/image/0014.png',\n",
              " '/content/gdrive/My Drive/iir_training_python/cvHW/f01/image/0015.png',\n",
              " '/content/gdrive/My Drive/iir_training_python/cvHW/f01/image/0016.png',\n",
              " '/content/gdrive/My Drive/iir_training_python/cvHW/f01/image/0017.png',\n",
              " '/content/gdrive/My Drive/iir_training_python/cvHW/f01/image/0018.png',\n",
              " '/content/gdrive/My Drive/iir_training_python/cvHW/f01/image/0019.png',\n",
              " '/content/gdrive/My Drive/iir_training_python/cvHW/f01/image/0020.png']"
            ]
          },
          "metadata": {
            "tags": []
          },
          "execution_count": 18
        }
      ]
    },
    {
      "cell_type": "code",
      "metadata": {
        "id": "b_x2a9u8LAIj",
        "colab_type": "code",
        "colab": {}
      },
      "source": [
        "images = [cv2.imread(i) for i in filenames]"
      ],
      "execution_count": 19,
      "outputs": []
    },
    {
      "cell_type": "code",
      "metadata": {
        "id": "No8WmeyVPGEk",
        "colab_type": "code",
        "colab": {}
      },
      "source": [
        "# normalize\n",
        "images = [i/255 for i in images] "
      ],
      "execution_count": 20,
      "outputs": []
    },
    {
      "cell_type": "code",
      "metadata": {
        "id": "8y13PDmzTF_8",
        "colab_type": "code",
        "colab": {}
      },
      "source": [
        "#resize to fit model\n",
        "images = [cv2.resize(i, (480,1152)) for i in images]"
      ],
      "execution_count": 21,
      "outputs": []
    },
    {
      "cell_type": "code",
      "metadata": {
        "id": "_xYojLKiLGsJ",
        "colab_type": "code",
        "colab": {
          "base_uri": "https://localhost:8080/",
          "height": 34
        },
        "outputId": "6e035116-4304-4534-b1a6-5bd70c41e5c1"
      },
      "source": [
        "images[0].shape"
      ],
      "execution_count": 22,
      "outputs": [
        {
          "output_type": "execute_result",
          "data": {
            "text/plain": [
              "(1152, 480, 3)"
            ]
          },
          "metadata": {
            "tags": []
          },
          "execution_count": 22
        }
      ]
    },
    {
      "cell_type": "code",
      "metadata": {
        "id": "0WNh8y-ELJUz",
        "colab_type": "code",
        "colab": {
          "base_uri": "https://localhost:8080/",
          "height": 286
        },
        "outputId": "1d7a71ee-c6b1-4516-b65e-b87919696c7f"
      },
      "source": [
        "plt.imshow(images[0])"
      ],
      "execution_count": 23,
      "outputs": [
        {
          "output_type": "execute_result",
          "data": {
            "text/plain": [
              "<matplotlib.image.AxesImage at 0x7fb3c016f2b0>"
            ]
          },
          "metadata": {
            "tags": []
          },
          "execution_count": 23
        },
        {
          "output_type": "display_data",
          "data": {
            "image/png": "[encoded data removed]",
            "text/plain": [
              "<Figure size 432x288 with 1 Axes>"
            ]
          },
          "metadata": {
            "tags": [],
            "needs_background": "light"
          }
        }
      ]
    },
    {
      "cell_type": "markdown",
      "metadata": {
        "id": "zA0uku6cGy5w",
        "colab_type": "text"
      },
      "source": [
        "# Import training Labels"
      ]
    },
    {
      "cell_type": "code",
      "metadata": {
        "id": "kL43H7KBFhP6",
        "colab_type": "code",
        "colab": {}
      },
      "source": [
        "filenames = glob.glob(F\"/content/gdrive/My Drive/iir_training_python/cvHW/f01/label/*.png\")"
      ],
      "execution_count": 24,
      "outputs": []
    },
    {
      "cell_type": "code",
      "metadata": {
        "id": "1kPiWrWqF8yV",
        "colab_type": "code",
        "colab": {
          "base_uri": "https://localhost:8080/",
          "height": 353
        },
        "outputId": "5c4c53a4-db85-4634-dd70-6bf5572aa7e5"
      },
      "source": [
        "filenames.sort()\n",
        "filenames"
      ],
      "execution_count": 25,
      "outputs": [
        {
          "output_type": "execute_result",
          "data": {
            "text/plain": [
              "['/content/gdrive/My Drive/iir_training_python/cvHW/f01/label/0001.png',\n",
              " '/content/gdrive/My Drive/iir_training_python/cvHW/f01/label/0002.png',\n",
              " '/content/gdrive/My Drive/iir_training_python/cvHW/f01/label/0003.png',\n",
              " '/content/gdrive/My Drive/iir_training_python/cvHW/f01/label/0004.png',\n",
              " '/content/gdrive/My Drive/iir_training_python/cvHW/f01/label/0005.png',\n",
              " '/content/gdrive/My Drive/iir_training_python/cvHW/f01/label/0006.png',\n",
              " '/content/gdrive/My Drive/iir_training_python/cvHW/f01/label/0007.png',\n",
              " '/content/gdrive/My Drive/iir_training_python/cvHW/f01/label/0008.png',\n",
              " '/content/gdrive/My Drive/iir_training_python/cvHW/f01/label/0009.png',\n",
              " '/content/gdrive/My Drive/iir_training_python/cvHW/f01/label/0010.png',\n",
              " '/content/gdrive/My Drive/iir_training_python/cvHW/f01/label/0011.png',\n",
              " '/content/gdrive/My Drive/iir_training_python/cvHW/f01/label/0012.png',\n",
              " '/content/gdrive/My Drive/iir_training_python/cvHW/f01/label/0013.png',\n",
              " '/content/gdrive/My Drive/iir_training_python/cvHW/f01/label/0014.png',\n",
              " '/content/gdrive/My Drive/iir_training_python/cvHW/f01/label/0015.png',\n",
              " '/content/gdrive/My Drive/iir_training_python/cvHW/f01/label/0016.png',\n",
              " '/content/gdrive/My Drive/iir_training_python/cvHW/f01/label/0017.png',\n",
              " '/content/gdrive/My Drive/iir_training_python/cvHW/f01/label/0018.png',\n",
              " '/content/gdrive/My Drive/iir_training_python/cvHW/f01/label/0019.png',\n",
              " '/content/gdrive/My Drive/iir_training_python/cvHW/f01/label/0020.png']"
            ]
          },
          "metadata": {
            "tags": []
          },
          "execution_count": 25
        }
      ]
    },
    {
      "cell_type": "code",
      "metadata": {
        "id": "1bJrmMFPF-o9",
        "colab_type": "code",
        "colab": {}
      },
      "source": [
        "labels = [cv2.imread(i) for i in filenames]"
      ],
      "execution_count": 26,
      "outputs": []
    },
    {
      "cell_type": "code",
      "metadata": {
        "id": "NpxN1qrHPg_V",
        "colab_type": "code",
        "colab": {}
      },
      "source": [
        "labels = [i/255 for i in labels]"
      ],
      "execution_count": 27,
      "outputs": []
    },
    {
      "cell_type": "code",
      "metadata": {
        "id": "WOwRwz2zS61n",
        "colab_type": "code",
        "colab": {}
      },
      "source": [
        "labels = [cv2.resize(i,(480,1152)) for i in labels]"
      ],
      "execution_count": 28,
      "outputs": []
    },
    {
      "cell_type": "code",
      "metadata": {
        "id": "WRcM0i4FG524",
        "colab_type": "code",
        "colab": {
          "base_uri": "https://localhost:8080/",
          "height": 34
        },
        "outputId": "ca52d2e5-5e84-4e61-cabb-51c2ea58a835"
      },
      "source": [
        "len(labels)"
      ],
      "execution_count": 29,
      "outputs": [
        {
          "output_type": "execute_result",
          "data": {
            "text/plain": [
              "20"
            ]
          },
          "metadata": {
            "tags": []
          },
          "execution_count": 29
        }
      ]
    },
    {
      "cell_type": "code",
      "metadata": {
        "id": "VPSUUT_GLVaR",
        "colab_type": "code",
        "colab": {
          "base_uri": "https://localhost:8080/",
          "height": 34
        },
        "outputId": "00d4f13e-e124-47fa-bc44-8a7d100e724c"
      },
      "source": [
        "labels[0].shape"
      ],
      "execution_count": 30,
      "outputs": [
        {
          "output_type": "execute_result",
          "data": {
            "text/plain": [
              "(1152, 480, 3)"
            ]
          },
          "metadata": {
            "tags": []
          },
          "execution_count": 30
        }
      ]
    },
    {
      "cell_type": "code",
      "metadata": {
        "id": "zUCdwodlLapb",
        "colab_type": "code",
        "colab": {
          "base_uri": "https://localhost:8080/",
          "height": 286
        },
        "outputId": "b853621d-8d16-4724-fe4c-9698b2999482"
      },
      "source": [
        "plt.imshow(labels[0])"
      ],
      "execution_count": 31,
      "outputs": [
        {
          "output_type": "execute_result",
          "data": {
            "text/plain": [
              "<matplotlib.image.AxesImage at 0x7fb3c00cf6a0>"
            ]
          },
          "metadata": {
            "tags": []
          },
          "execution_count": 31
        },
        {
          "output_type": "display_data",
          "data": {
            "image/png": "[encoded data removed]",
            "text/plain": [
              "<Figure size 432x288 with 1 Axes>"
            ]
          },
          "metadata": {
            "tags": [],
            "needs_background": "light"
          }
        }
      ]
    },
    {
      "cell_type": "markdown",
      "metadata": {
        "id": "NvO1nBOaIw0o",
        "colab_type": "text"
      },
      "source": [
        "# Split Training and Testing"
      ]
    },
    {
      "cell_type": "code",
      "metadata": {
        "id": "s4pt0ZXxGc4s",
        "colab_type": "code",
        "colab": {}
      },
      "source": [
        "from sklearn.model_selection import train_test_split"
      ],
      "execution_count": 56,
      "outputs": []
    },
    {
      "cell_type": "code",
      "metadata": {
        "id": "1e12qIy3Hr9W",
        "colab_type": "code",
        "colab": {}
      },
      "source": [
        "index_train, index_test = train_test_split(range(20),test_size=0.2, shuffle=True)"
      ],
      "execution_count": 57,
      "outputs": []
    },
    {
      "cell_type": "code",
      "metadata": {
        "id": "dVw6QP0sH9MI",
        "colab_type": "code",
        "colab": {
          "base_uri": "https://localhost:8080/",
          "height": 34
        },
        "outputId": "3be17bf4-a504-4bce-8137-d892d7cc9ee6"
      },
      "source": [
        "index_train"
      ],
      "execution_count": 58,
      "outputs": [
        {
          "output_type": "execute_result",
          "data": {
            "text/plain": [
              "[19, 6, 2, 7, 3, 12, 0, 13, 9, 1, 15, 17, 5, 16, 14, 8]"
            ]
          },
          "metadata": {
            "tags": []
          },
          "execution_count": 58
        }
      ]
    },
    {
      "cell_type": "code",
      "metadata": {
        "id": "FIZGDttuIJeJ",
        "colab_type": "code",
        "colab": {
          "base_uri": "https://localhost:8080/",
          "height": 34
        },
        "outputId": "59536811-66af-44ed-afee-77975a3db145"
      },
      "source": [
        "index_test"
      ],
      "execution_count": 59,
      "outputs": [
        {
          "output_type": "execute_result",
          "data": {
            "text/plain": [
              "[11, 10, 4, 18]"
            ]
          },
          "metadata": {
            "tags": []
          },
          "execution_count": 59
        }
      ]
    },
    {
      "cell_type": "code",
      "metadata": {
        "id": "BnjOVQSZMR3X",
        "colab_type": "code",
        "colab": {}
      },
      "source": [
        "# divide the imgs and labels\n",
        "x_train = [images[i] for i in index_train]\n",
        "x_test = [images[i] for i in index_test]\n",
        "y_train = [labels[i] for i in index_train]\n",
        "y_test = [labels[i] for i in index_test]"
      ],
      "execution_count": 60,
      "outputs": []
    },
    {
      "cell_type": "code",
      "metadata": {
        "id": "U7kPIISnZ41t",
        "colab_type": "code",
        "colab": {}
      },
      "source": [
        "# convert fit data into type numpy\n",
        "x_train = np.array(x_train)\n",
        "x_test = np.array(x_test)\n",
        "y_train = np.array(y_train)\n",
        "y_test = np.array(y_test)"
      ],
      "execution_count": 61,
      "outputs": []
    },
    {
      "cell_type": "code",
      "metadata": {
        "id": "xx9t41uhM9aJ",
        "colab_type": "code",
        "colab": {
          "base_uri": "https://localhost:8080/",
          "height": 34
        },
        "outputId": "52263310-ad6b-458f-ad11-ca1a60bb871b"
      },
      "source": [
        "y_test.shape"
      ],
      "execution_count": 62,
      "outputs": [
        {
          "output_type": "execute_result",
          "data": {
            "text/plain": [
              "(4, 1152, 480, 3)"
            ]
          },
          "metadata": {
            "tags": []
          },
          "execution_count": 62
        }
      ]
    },
    {
      "cell_type": "markdown",
      "metadata": {
        "id": "zZuz6ES1sj1Q",
        "colab_type": "text"
      },
      "source": [
        "# save the reshaped training images and masks"
      ]
    },
    {
      "cell_type": "code",
      "metadata": {
        "id": "HEsceqEZsf5C",
        "colab_type": "code",
        "colab": {}
      },
      "source": [
        "for i in range(len(x_train)):\n",
        "  path = \"/content/gdrive/My Drive/iir_training_python/cvHW/f01/train_image/class0/{:04d}.png\".format(i)\n",
        "  cv2.imwrite(path, x_train[i])\n",
        "  path = \"/content/gdrive/My Drive/iir_training_python/cvHW/f01/train_mask/class0/{:04d}.png\".format(i)\n",
        "  cv2.imwrite(path, y_train[i])"
      ],
      "execution_count": null,
      "outputs": []
    },
    {
      "cell_type": "markdown",
      "metadata": {
        "id": "dNBvkAKCD5dd",
        "colab_type": "text"
      },
      "source": [
        "# data augmentation  (TBD)"
      ]
    },
    {
      "cell_type": "code",
      "metadata": {
        "id": "2kV--vDHD3Bb",
        "colab_type": "code",
        "colab": {}
      },
      "source": [
        "from tensorflow.keras.preprocessing.image import ImageDataGenerator"
      ],
      "execution_count": null,
      "outputs": []
    },
    {
      "cell_type": "markdown",
      "metadata": {
        "id": "UpxeQFpt2wSy",
        "colab_type": "text"
      },
      "source": [
        "The structure of the filepath generator need to be\n",
        "\n",
        "\n",
        "\n",
        "```\n",
        "main_directory/\n",
        "...class_a/\n",
        "......a_image_1.jpg\n",
        "......a_image_2.jpg\n",
        "...class_b/\n",
        "......b_image_1.jpg\n",
        "......b_image_2.jpg\n",
        "```\n",
        "\n"
      ]
    },
    {
      "cell_type": "code",
      "metadata": {
        "id": "m7ZjqLzlEH7i",
        "colab_type": "code",
        "colab": {}
      },
      "source": [
        "# we need to create 2 augmentation generator, and they must take same augument\n",
        "data_gen_args = dict(\n",
        "    featurewise_center=True,\n",
        "    featurewise_std_normalization=True,\n",
        "    rotation_range=20,\n",
        "    width_shift_range=0.2,\n",
        "    height_shift_range=0.2,\n",
        "    horizontal_flip=True,\n",
        "    validation_split=0.3)\n",
        "\n",
        "image_aug_gen = ImageDataGenerator(**data_gen_args)\n",
        "label_aug_gen = ImageDataGenerator(**data_gen_args)"
      ],
      "execution_count": null,
      "outputs": []
    },
    {
      "cell_type": "code",
      "metadata": {
        "id": "Bo-prUe1Dppc",
        "colab_type": "code",
        "colab": {}
      },
      "source": [
        "# fit the data Augmentation\n",
        "image_aug_gen.fit(x_train)\n",
        "label_aug_gen.fit(y_train)"
      ],
      "execution_count": null,
      "outputs": []
    },
    {
      "cell_type": "code",
      "metadata": {
        "id": "jmzc2CTzEMjr",
        "colab_type": "code",
        "colab": {
          "base_uri": "https://localhost:8080/",
          "height": 85
        },
        "outputId": "b1165202-f561-4c62-d4c8-3dd94846b991"
      },
      "source": [
        "# provide same seed\n",
        "seed = 1\n",
        "\n",
        "image_generator = image_aug_gen.flow_from_directory(\n",
        "    '/content/gdrive/My Drive/iir_training_python/cvHW/f01/train_image',\n",
        "    target_size=(1152,480),\n",
        "    batch_size=4,\n",
        "    class_mode=None,\n",
        "    seed=seed,\n",
        "    subset='training')\n",
        "valid_image_generator = image_aug_gen.flow_from_directory(\n",
        "    '/content/gdrive/My Drive/iir_training_python/cvHW/f01/train_image',\n",
        "    target_size=(1152,480),\n",
        "    batch_size=4,\n",
        "    class_mode=None,\n",
        "    seed=seed,\n",
        "    subset='validation')\n",
        "mask_generator = label_aug_gen.flow_from_directory(\n",
        "    '/content/gdrive/My Drive/iir_training_python/cvHW/f01/train_mask',\n",
        "    target_size=(1152,480),\n",
        "    batch_size=4,\n",
        "    class_mode=None,\n",
        "    seed=seed,\n",
        "    subset='training')\n",
        "valid_mask_generator = label_aug_gen.flow_from_directory(\n",
        "    '/content/gdrive/My Drive/iir_training_python/cvHW/f01/train_mask',\n",
        "    target_size=(1152,480),\n",
        "    batch_size=4,\n",
        "    class_mode=None,\n",
        "    seed=seed,\n",
        "    subset='validation')"
      ],
      "execution_count": null,
      "outputs": [
        {
          "output_type": "stream",
          "text": [
            "Found 12 images belonging to 1 classes.\n",
            "Found 4 images belonging to 1 classes.\n",
            "Found 12 images belonging to 1 classes.\n",
            "Found 4 images belonging to 1 classes.\n"
          ],
          "name": "stdout"
        }
      ]
    },
    {
      "cell_type": "code",
      "metadata": {
        "id": "LRfwo43mIBRo",
        "colab_type": "code",
        "colab": {}
      },
      "source": [
        "im = []\n",
        "la = []\n",
        "for i in range(5):\n",
        "  ibatch = image_generator.next()\n",
        "  vbatch = mask_generator.next()\n",
        "  if(i==4):\n",
        "    im = ibatch[3]\n",
        "    la = vbatch[3]\n",
        "    break"
      ],
      "execution_count": null,
      "outputs": []
    },
    {
      "cell_type": "code",
      "metadata": {
        "id": "O3XxxbzrLDbZ",
        "colab_type": "code",
        "colab": {
          "base_uri": "https://localhost:8080/",
          "height": 303
        },
        "outputId": "bda0ee05-5b75-4902-d2d2-9a6866220aca"
      },
      "source": [
        "plt.imshow(im)"
      ],
      "execution_count": null,
      "outputs": [
        {
          "output_type": "stream",
          "text": [
            "Clipping input data to the valid range for imshow with RGB data ([0..1] for floats or [0..255] for integers).\n"
          ],
          "name": "stderr"
        },
        {
          "output_type": "execute_result",
          "data": {
            "text/plain": [
              "<matplotlib.image.AxesImage at 0x7f4b75d409b0>"
            ]
          },
          "metadata": {
            "tags": []
          },
          "execution_count": 81
        },
        {
          "output_type": "display_data",
          "data": {
            "image/png": "[encoded data removed]",
            "text/plain": [
              "<Figure size 432x288 with 1 Axes>"
            ]
          },
          "metadata": {
            "tags": [],
            "needs_background": "light"
          }
        }
      ]
    },
    {
      "cell_type": "code",
      "metadata": {
        "id": "bPdShA45LFXK",
        "colab_type": "code",
        "colab": {
          "base_uri": "https://localhost:8080/",
          "height": 303
        },
        "outputId": "19ee70bf-a28f-436a-ebd6-3dd9515800b8"
      },
      "source": [
        "plt.imshow(la)"
      ],
      "execution_count": null,
      "outputs": [
        {
          "output_type": "stream",
          "text": [
            "Clipping input data to the valid range for imshow with RGB data ([0..1] for floats or [0..255] for integers).\n"
          ],
          "name": "stderr"
        },
        {
          "output_type": "execute_result",
          "data": {
            "text/plain": [
              "<matplotlib.image.AxesImage at 0x7f4b75d13748>"
            ]
          },
          "metadata": {
            "tags": []
          },
          "execution_count": 82
        },
        {
          "output_type": "display_data",
          "data": {
            "image/png": "[encoded data removed]",
            "text/plain": [
              "<Figure size 432x288 with 1 Axes>"
            ]
          },
          "metadata": {
            "tags": [],
            "needs_background": "light"
          }
        }
      ]
    },
    {
      "cell_type": "code",
      "metadata": {
        "id": "yLUYIQiDINtx",
        "colab_type": "code",
        "colab": {}
      },
      "source": [
        "def combine_generator(gen1, gen2):\n",
        "    while True:\n",
        "        yield(next(gen1), next(gen2))\n",
        "#combine\n",
        "train_aug_gen = combine_generator(image_generator, mask_generator)\n",
        "valid_aug_gen = combine_generator(valid_image_generator, valid_mask_generator)"
      ],
      "execution_count": null,
      "outputs": []
    },
    {
      "cell_type": "markdown",
      "metadata": {
        "id": "aotfD-eCU5Sb",
        "colab_type": "text"
      },
      "source": [
        "# Fit model"
      ]
    },
    {
      "cell_type": "code",
      "metadata": {
        "id": "_2EFPhFpx2Dw",
        "colab_type": "code",
        "colab": {}
      },
      "source": [
        "# model save path\n",
        "my_model_fit_callback = [\n",
        "  tf.keras.callbacks.ModelCheckpoint(filepath='/content/gdrive/My Drive/iir_training_python/cvHW/weights/model.{epoch:02d}-{val_loss:.2f}.h5', save_best_only=True),\n",
        "]"
      ],
      "execution_count": 63,
      "outputs": []
    },
    {
      "cell_type": "code",
      "metadata": {
        "id": "YIOmBRTjlh9H",
        "colab_type": "code",
        "colab": {}
      },
      "source": [
        "model = sm.Unet(backbone_name='vgg16', encoder_weights='imagenet')"
      ],
      "execution_count": 64,
      "outputs": []
    },
    {
      "cell_type": "code",
      "metadata": {
        "id": "w5efaIHbOi97",
        "colab_type": "code",
        "colab": {}
      },
      "source": [
        "model.compile(\n",
        "    'Adam',\n",
        "    loss=sm.losses.bce_jaccard_loss,\n",
        "    metrics=[sm.metrics.iou_score],\n",
        ")"
      ],
      "execution_count": 65,
      "outputs": []
    },
    {
      "cell_type": "code",
      "metadata": {
        "id": "a6VWVV2X4YP6",
        "colab_type": "code",
        "colab": {}
      },
      "source": [
        "model.fit_generator(\n",
        "    train_aug_gen,\n",
        "    steps_per_epoch=3,\n",
        "    epochs=50,\n",
        "    callbacks=my_model_fit_callback,\n",
        "    validation_data = valid_aug_gen,\n",
        "    validation_steps=1)"
      ],
      "execution_count": null,
      "outputs": []
    },
    {
      "cell_type": "code",
      "metadata": {
        "id": "7WAszMAXVM3s",
        "colab_type": "code",
        "colab": {
          "base_uri": "https://localhost:8080/",
          "height": 1000
        },
        "outputId": "e6d1514d-6174-4fc5-b2be-cfc915a54129"
      },
      "source": [
        "model.fit(x=x_train, y=y_train, batch_size=4, epochs=120, validation_split=0.2, callbacks=my_model_fit_callback)"
      ],
      "execution_count": 66,
      "outputs": [
        {
          "output_type": "stream",
          "text": [
            "Train on 12 samples, validate on 4 samples\n",
            "Epoch 1/120\n",
            "12/12 [==============================] - 19s 2s/sample - loss: 1.5615 - iou_score: 0.1574 - val_loss: 2.0877 - val_iou_score: 0.0020\n",
            "Epoch 2/120\n",
            "12/12 [==============================] - 10s 797ms/sample - loss: 1.4131 - iou_score: 0.1857 - val_loss: 14.8837 - val_iou_score: 2.8513e-11\n",
            "Epoch 3/120\n",
            "12/12 [==============================] - 10s 793ms/sample - loss: 1.3122 - iou_score: 0.2145 - val_loss: 39.8612 - val_iou_score: 0.1565\n",
            "Epoch 4/120\n",
            "12/12 [==============================] - 10s 794ms/sample - loss: 1.2121 - iou_score: 0.2406 - val_loss: 51.3237 - val_iou_score: 0.1563\n",
            "Epoch 5/120\n",
            "12/12 [==============================] - 9s 787ms/sample - loss: 1.1525 - iou_score: 0.2587 - val_loss: 14.7137 - val_iou_score: 0.0088\n",
            "Epoch 6/120\n",
            "12/12 [==============================] - 9s 781ms/sample - loss: 1.0906 - iou_score: 0.2880 - val_loss: 12.9029 - val_iou_score: 2.7133e-11\n",
            "Epoch 7/120\n",
            "12/12 [==============================] - 9s 786ms/sample - loss: 1.0107 - iou_score: 0.3198 - val_loss: 5.2408 - val_iou_score: 1.6574e-04\n",
            "Epoch 8/120\n",
            "12/12 [==============================] - 9s 789ms/sample - loss: 0.9689 - iou_score: 0.3374 - val_loss: 6.4291 - val_iou_score: 0.3765\n",
            "Epoch 9/120\n",
            "12/12 [==============================] - 9s 786ms/sample - loss: 0.9328 - iou_score: 0.3579 - val_loss: 212.8089 - val_iou_score: 2.8988e-11\n",
            "Epoch 10/120\n",
            "12/12 [==============================] - 9s 785ms/sample - loss: 0.8935 - iou_score: 0.3830 - val_loss: 57.4323 - val_iou_score: 2.8988e-11\n",
            "Epoch 11/120\n",
            "12/12 [==============================] - 9s 784ms/sample - loss: 0.8415 - iou_score: 0.4142 - val_loss: 43.0256 - val_iou_score: 2.8988e-11\n",
            "Epoch 12/120\n",
            "12/12 [==============================] - 9s 787ms/sample - loss: 0.8280 - iou_score: 0.4303 - val_loss: 16.8406 - val_iou_score: 2.8987e-11\n",
            "Epoch 13/120\n",
            "12/12 [==============================] - 9s 787ms/sample - loss: 0.8010 - iou_score: 0.4490 - val_loss: 7.6599 - val_iou_score: 1.2095e-08\n",
            "Epoch 14/120\n",
            "12/12 [==============================] - 9s 786ms/sample - loss: 0.7390 - iou_score: 0.4833 - val_loss: 47.5475 - val_iou_score: 2.8988e-11\n",
            "Epoch 15/120\n",
            "12/12 [==============================] - 9s 780ms/sample - loss: 0.7941 - iou_score: 0.4631 - val_loss: 17.2705 - val_iou_score: 2.8977e-11\n",
            "Epoch 16/120\n",
            "12/12 [==============================] - 9s 782ms/sample - loss: 0.7324 - iou_score: 0.4918 - val_loss: 6.8374 - val_iou_score: 2.5378e-10\n",
            "Epoch 17/120\n",
            "12/12 [==============================] - 9s 782ms/sample - loss: 0.6290 - iou_score: 0.5454 - val_loss: 4.6729 - val_iou_score: 7.2875e-09\n",
            "Epoch 18/120\n",
            "12/12 [==============================] - 9s 777ms/sample - loss: 0.6211 - iou_score: 0.5619 - val_loss: 2.6057 - val_iou_score: 4.7297e-05\n",
            "Epoch 19/120\n",
            "12/12 [==============================] - 11s 879ms/sample - loss: 0.6218 - iou_score: 0.5741 - val_loss: 1.3580 - val_iou_score: 0.0964\n",
            "Epoch 20/120\n",
            "12/12 [==============================] - 11s 903ms/sample - loss: 0.5951 - iou_score: 0.5918 - val_loss: 1.3057 - val_iou_score: 0.1157\n",
            "Epoch 21/120\n",
            "12/12 [==============================] - 9s 780ms/sample - loss: 0.5273 - iou_score: 0.6292 - val_loss: 1.3432 - val_iou_score: 0.1015\n",
            "Epoch 22/120\n",
            "12/12 [==============================] - 11s 878ms/sample - loss: 0.4819 - iou_score: 0.6550 - val_loss: 1.2219 - val_iou_score: 0.2242\n",
            "Epoch 23/120\n",
            "12/12 [==============================] - 11s 912ms/sample - loss: 0.4904 - iou_score: 0.6520 - val_loss: 1.1372 - val_iou_score: 0.2510\n",
            "Epoch 24/120\n",
            "12/12 [==============================] - 9s 776ms/sample - loss: 0.4491 - iou_score: 0.6822 - val_loss: 1.1894 - val_iou_score: 0.2508\n",
            "Epoch 25/120\n",
            "12/12 [==============================] - 9s 780ms/sample - loss: 0.4278 - iou_score: 0.6943 - val_loss: 1.9588 - val_iou_score: 0.0037\n",
            "Epoch 26/120\n",
            "12/12 [==============================] - 9s 778ms/sample - loss: 0.4215 - iou_score: 0.7052 - val_loss: 1.8976 - val_iou_score: 0.0050\n",
            "Epoch 27/120\n",
            "12/12 [==============================] - 9s 778ms/sample - loss: 0.4322 - iou_score: 0.7012 - val_loss: 2.4379 - val_iou_score: 2.6758e-04\n",
            "Epoch 28/120\n",
            "12/12 [==============================] - 9s 778ms/sample - loss: 0.4074 - iou_score: 0.7158 - val_loss: 2.5198 - val_iou_score: 2.4565e-04\n",
            "Epoch 29/120\n",
            "12/12 [==============================] - 9s 776ms/sample - loss: 0.3927 - iou_score: 0.7294 - val_loss: 2.4079 - val_iou_score: 4.9244e-04\n",
            "Epoch 30/120\n",
            "12/12 [==============================] - 9s 775ms/sample - loss: 0.3883 - iou_score: 0.7325 - val_loss: 2.7419 - val_iou_score: 9.9508e-05\n",
            "Epoch 31/120\n",
            "12/12 [==============================] - 9s 778ms/sample - loss: 0.3695 - iou_score: 0.7452 - val_loss: 2.7567 - val_iou_score: 5.4940e-05\n",
            "Epoch 32/120\n",
            "12/12 [==============================] - 9s 777ms/sample - loss: 0.3475 - iou_score: 0.7568 - val_loss: 3.3311 - val_iou_score: 6.7513e-06\n",
            "Epoch 33/120\n",
            "12/12 [==============================] - 9s 777ms/sample - loss: 0.3477 - iou_score: 0.7588 - val_loss: 2.5437 - val_iou_score: 1.7060e-04\n",
            "Epoch 34/120\n",
            "12/12 [==============================] - 9s 778ms/sample - loss: 0.3394 - iou_score: 0.7649 - val_loss: 3.6308 - val_iou_score: 4.1493e-06\n",
            "Epoch 35/120\n",
            "12/12 [==============================] - 9s 776ms/sample - loss: 0.3418 - iou_score: 0.7634 - val_loss: 2.7920 - val_iou_score: 9.5406e-05\n",
            "Epoch 36/120\n",
            "12/12 [==============================] - 9s 777ms/sample - loss: 0.3546 - iou_score: 0.7597 - val_loss: 2.1600 - val_iou_score: 0.0012\n",
            "Epoch 37/120\n",
            "12/12 [==============================] - 9s 775ms/sample - loss: 0.3398 - iou_score: 0.7653 - val_loss: 2.0127 - val_iou_score: 0.0021\n",
            "Epoch 38/120\n",
            "12/12 [==============================] - 9s 774ms/sample - loss: 0.3236 - iou_score: 0.7782 - val_loss: 2.2852 - val_iou_score: 4.1097e-04\n",
            "Epoch 39/120\n",
            "12/12 [==============================] - 9s 772ms/sample - loss: 0.3424 - iou_score: 0.7693 - val_loss: 2.0545 - val_iou_score: 0.0015\n",
            "Epoch 40/120\n",
            "12/12 [==============================] - 9s 773ms/sample - loss: 0.3415 - iou_score: 0.7704 - val_loss: 2.8806 - val_iou_score: 5.3513e-05\n",
            "Epoch 41/120\n",
            "12/12 [==============================] - 9s 771ms/sample - loss: 0.3460 - iou_score: 0.7655 - val_loss: 2.7512 - val_iou_score: 6.7190e-05\n",
            "Epoch 42/120\n",
            "12/12 [==============================] - 9s 774ms/sample - loss: 0.3302 - iou_score: 0.7760 - val_loss: 2.2239 - val_iou_score: 6.3125e-04\n",
            "Epoch 43/120\n",
            "12/12 [==============================] - 9s 775ms/sample - loss: 0.3264 - iou_score: 0.7745 - val_loss: 2.6299 - val_iou_score: 2.9426e-04\n",
            "Epoch 44/120\n",
            "12/12 [==============================] - 9s 778ms/sample - loss: 0.3211 - iou_score: 0.7794 - val_loss: 3.0554 - val_iou_score: 1.5110e-04\n",
            "Epoch 45/120\n",
            "12/12 [==============================] - 9s 778ms/sample - loss: 0.3112 - iou_score: 0.7857 - val_loss: 1.7831 - val_iou_score: 0.0075\n",
            "Epoch 46/120\n",
            "12/12 [==============================] - 9s 777ms/sample - loss: 0.2987 - iou_score: 0.7923 - val_loss: 1.9208 - val_iou_score: 0.0035\n",
            "Epoch 47/120\n",
            "12/12 [==============================] - 9s 775ms/sample - loss: 0.2903 - iou_score: 0.7984 - val_loss: 2.2014 - val_iou_score: 8.5529e-04\n",
            "Epoch 48/120\n",
            "12/12 [==============================] - 9s 777ms/sample - loss: 0.2810 - iou_score: 0.8055 - val_loss: 2.0012 - val_iou_score: 0.0020\n",
            "Epoch 49/120\n",
            "12/12 [==============================] - 9s 778ms/sample - loss: 0.2858 - iou_score: 0.8016 - val_loss: 1.8567 - val_iou_score: 0.0042\n",
            "Epoch 50/120\n",
            "12/12 [==============================] - 9s 775ms/sample - loss: 0.2812 - iou_score: 0.8070 - val_loss: 1.9398 - val_iou_score: 0.0033\n",
            "Epoch 51/120\n",
            "12/12 [==============================] - 9s 777ms/sample - loss: 0.2752 - iou_score: 0.8095 - val_loss: 1.8716 - val_iou_score: 0.0040\n",
            "Epoch 52/120\n",
            "12/12 [==============================] - 9s 777ms/sample - loss: 0.2850 - iou_score: 0.8039 - val_loss: 1.8341 - val_iou_score: 0.0050\n",
            "Epoch 53/120\n",
            "12/12 [==============================] - 9s 778ms/sample - loss: 0.3058 - iou_score: 0.7946 - val_loss: 2.2745 - val_iou_score: 8.2208e-04\n",
            "Epoch 54/120\n",
            "12/12 [==============================] - 9s 777ms/sample - loss: 0.2881 - iou_score: 0.8095 - val_loss: 1.8503 - val_iou_score: 0.0052\n",
            "Epoch 55/120\n",
            "12/12 [==============================] - 9s 778ms/sample - loss: 0.2978 - iou_score: 0.8035 - val_loss: 2.0041 - val_iou_score: 0.0018\n",
            "Epoch 56/120\n",
            "12/12 [==============================] - 9s 778ms/sample - loss: 0.2726 - iou_score: 0.8164 - val_loss: 1.9323 - val_iou_score: 0.0028\n",
            "Epoch 57/120\n",
            "12/12 [==============================] - 9s 778ms/sample - loss: 0.2888 - iou_score: 0.8094 - val_loss: 2.2071 - val_iou_score: 9.2516e-04\n",
            "Epoch 58/120\n",
            "12/12 [==============================] - 9s 776ms/sample - loss: 0.2806 - iou_score: 0.8107 - val_loss: 2.0439 - val_iou_score: 0.0016\n",
            "Epoch 59/120\n",
            "12/12 [==============================] - 9s 776ms/sample - loss: 0.2615 - iou_score: 0.8217 - val_loss: 1.9370 - val_iou_score: 0.0026\n",
            "Epoch 60/120\n",
            "12/12 [==============================] - 9s 776ms/sample - loss: 0.2581 - iou_score: 0.8226 - val_loss: 1.9262 - val_iou_score: 0.0027\n",
            "Epoch 61/120\n",
            "12/12 [==============================] - 9s 776ms/sample - loss: 0.2440 - iou_score: 0.8295 - val_loss: 1.9445 - val_iou_score: 0.0026\n",
            "Epoch 62/120\n",
            "12/12 [==============================] - 9s 777ms/sample - loss: 0.2431 - iou_score: 0.8281 - val_loss: 2.0182 - val_iou_score: 0.0018\n",
            "Epoch 63/120\n",
            "12/12 [==============================] - 9s 776ms/sample - loss: 0.2454 - iou_score: 0.8287 - val_loss: 1.9011 - val_iou_score: 0.0033\n",
            "Epoch 64/120\n",
            "12/12 [==============================] - 9s 776ms/sample - loss: 0.2409 - iou_score: 0.8310 - val_loss: 1.8881 - val_iou_score: 0.0035\n",
            "Epoch 65/120\n",
            "12/12 [==============================] - 9s 774ms/sample - loss: 0.2286 - iou_score: 0.8389 - val_loss: 1.9677 - val_iou_score: 0.0021\n",
            "Epoch 66/120\n",
            "12/12 [==============================] - 9s 776ms/sample - loss: 0.2460 - iou_score: 0.8321 - val_loss: 1.9618 - val_iou_score: 0.0031\n",
            "Epoch 67/120\n",
            "12/12 [==============================] - 9s 777ms/sample - loss: 0.2382 - iou_score: 0.8335 - val_loss: 2.2332 - val_iou_score: 0.0011\n",
            "Epoch 68/120\n",
            "12/12 [==============================] - 9s 778ms/sample - loss: 0.2458 - iou_score: 0.8318 - val_loss: 1.9090 - val_iou_score: 0.0041\n",
            "Epoch 69/120\n",
            "12/12 [==============================] - 9s 775ms/sample - loss: 0.2275 - iou_score: 0.8431 - val_loss: 1.7401 - val_iou_score: 0.0103\n",
            "Epoch 70/120\n",
            "12/12 [==============================] - 9s 777ms/sample - loss: 0.2300 - iou_score: 0.8396 - val_loss: 1.7510 - val_iou_score: 0.0088\n",
            "Epoch 71/120\n",
            "12/12 [==============================] - 9s 775ms/sample - loss: 0.2280 - iou_score: 0.8421 - val_loss: 1.8049 - val_iou_score: 0.0062\n",
            "Epoch 72/120\n",
            "12/12 [==============================] - 9s 778ms/sample - loss: 0.2218 - iou_score: 0.8463 - val_loss: 1.8756 - val_iou_score: 0.0040\n",
            "Epoch 73/120\n",
            "12/12 [==============================] - 9s 776ms/sample - loss: 0.2144 - iou_score: 0.8506 - val_loss: 1.9850 - val_iou_score: 0.0021\n",
            "Epoch 74/120\n",
            "12/12 [==============================] - 9s 777ms/sample - loss: 0.2210 - iou_score: 0.8463 - val_loss: 2.0083 - val_iou_score: 0.0019\n",
            "Epoch 75/120\n",
            "12/12 [==============================] - 9s 770ms/sample - loss: 0.2124 - iou_score: 0.8519 - val_loss: 1.8241 - val_iou_score: 0.0071\n",
            "Epoch 76/120\n",
            "12/12 [==============================] - 9s 769ms/sample - loss: 0.2103 - iou_score: 0.8528 - val_loss: 1.9506 - val_iou_score: 0.0029\n",
            "Epoch 77/120\n",
            "12/12 [==============================] - 9s 774ms/sample - loss: 0.2100 - iou_score: 0.8549 - val_loss: 2.0253 - val_iou_score: 0.0019\n",
            "Epoch 78/120\n",
            "12/12 [==============================] - 9s 771ms/sample - loss: 0.2125 - iou_score: 0.8551 - val_loss: 1.9301 - val_iou_score: 0.0054\n",
            "Epoch 79/120\n",
            "12/12 [==============================] - 9s 771ms/sample - loss: 0.2072 - iou_score: 0.8569 - val_loss: 1.9323 - val_iou_score: 0.0036\n",
            "Epoch 80/120\n",
            "12/12 [==============================] - 9s 770ms/sample - loss: 0.1976 - iou_score: 0.8634 - val_loss: 1.9135 - val_iou_score: 0.0036\n",
            "Epoch 81/120\n",
            "12/12 [==============================] - 9s 775ms/sample - loss: 0.2021 - iou_score: 0.8605 - val_loss: 1.9223 - val_iou_score: 0.0037\n",
            "Epoch 82/120\n",
            "12/12 [==============================] - 9s 777ms/sample - loss: 0.1964 - iou_score: 0.8628 - val_loss: 1.5760 - val_iou_score: 0.0581\n",
            "Epoch 83/120\n",
            "12/12 [==============================] - 9s 777ms/sample - loss: 0.1929 - iou_score: 0.8650 - val_loss: 1.5380 - val_iou_score: 0.0688\n",
            "Epoch 84/120\n",
            "12/12 [==============================] - 9s 774ms/sample - loss: 0.1943 - iou_score: 0.8650 - val_loss: 1.6840 - val_iou_score: 0.0313\n",
            "Epoch 85/120\n",
            "12/12 [==============================] - 9s 776ms/sample - loss: 0.1935 - iou_score: 0.8651 - val_loss: 1.9302 - val_iou_score: 0.0035\n",
            "Epoch 86/120\n",
            "12/12 [==============================] - 9s 776ms/sample - loss: 0.1969 - iou_score: 0.8641 - val_loss: 1.7902 - val_iou_score: 0.0211\n",
            "Epoch 87/120\n",
            "12/12 [==============================] - 9s 773ms/sample - loss: 0.2002 - iou_score: 0.8622 - val_loss: 1.7395 - val_iou_score: 0.0389\n",
            "Epoch 88/120\n",
            "12/12 [==============================] - 9s 774ms/sample - loss: 0.2033 - iou_score: 0.8604 - val_loss: 1.5618 - val_iou_score: 0.0888\n",
            "Epoch 89/120\n",
            "12/12 [==============================] - 9s 777ms/sample - loss: 0.1917 - iou_score: 0.8680 - val_loss: 1.8335 - val_iou_score: 0.0154\n",
            "Epoch 90/120\n",
            "12/12 [==============================] - 9s 777ms/sample - loss: 0.1884 - iou_score: 0.8698 - val_loss: 1.8093 - val_iou_score: 0.0196\n",
            "Epoch 91/120\n",
            "12/12 [==============================] - 9s 777ms/sample - loss: 0.1839 - iou_score: 0.8709 - val_loss: 1.6038 - val_iou_score: 0.0769\n",
            "Epoch 92/120\n",
            "12/12 [==============================] - 9s 773ms/sample - loss: 0.1821 - iou_score: 0.8741 - val_loss: 1.7951 - val_iou_score: 0.0372\n",
            "Epoch 93/120\n",
            "12/12 [==============================] - 9s 775ms/sample - loss: 0.1806 - iou_score: 0.8748 - val_loss: 1.6854 - val_iou_score: 0.0573\n",
            "Epoch 94/120\n",
            "12/12 [==============================] - 9s 777ms/sample - loss: 0.1842 - iou_score: 0.8720 - val_loss: 2.0524 - val_iou_score: 0.0037\n",
            "Epoch 95/120\n",
            "12/12 [==============================] - 9s 774ms/sample - loss: 0.1752 - iou_score: 0.8779 - val_loss: 1.8636 - val_iou_score: 0.0266\n",
            "Epoch 96/120\n",
            "12/12 [==============================] - 9s 775ms/sample - loss: 0.1827 - iou_score: 0.8733 - val_loss: 1.6592 - val_iou_score: 0.0642\n",
            "Epoch 97/120\n",
            "12/12 [==============================] - 9s 778ms/sample - loss: 0.2085 - iou_score: 0.8607 - val_loss: 1.8531 - val_iou_score: 0.0134\n",
            "Epoch 98/120\n",
            "12/12 [==============================] - 9s 777ms/sample - loss: 0.1799 - iou_score: 0.8753 - val_loss: 1.5022 - val_iou_score: 0.1261\n",
            "Epoch 99/120\n",
            "12/12 [==============================] - 9s 775ms/sample - loss: 0.1845 - iou_score: 0.8714 - val_loss: 1.3537 - val_iou_score: 0.1887\n",
            "Epoch 100/120\n",
            "12/12 [==============================] - 9s 776ms/sample - loss: 0.1835 - iou_score: 0.8721 - val_loss: 1.1406 - val_iou_score: 0.2859\n",
            "Epoch 101/120\n",
            "12/12 [==============================] - 9s 776ms/sample - loss: 0.1707 - iou_score: 0.8805 - val_loss: 1.4881 - val_iou_score: 0.1264\n",
            "Epoch 102/120\n",
            "12/12 [==============================] - 11s 909ms/sample - loss: 0.1732 - iou_score: 0.8800 - val_loss: 1.1052 - val_iou_score: 0.3279\n",
            "Epoch 103/120\n",
            "12/12 [==============================] - 11s 944ms/sample - loss: 0.1734 - iou_score: 0.8814 - val_loss: 1.0129 - val_iou_score: 0.3709\n",
            "Epoch 104/120\n",
            "12/12 [==============================] - 9s 780ms/sample - loss: 0.1675 - iou_score: 0.8846 - val_loss: 1.0528 - val_iou_score: 0.3513\n",
            "Epoch 105/120\n",
            "12/12 [==============================] - 9s 778ms/sample - loss: 0.1642 - iou_score: 0.8857 - val_loss: 1.1439 - val_iou_score: 0.3097\n",
            "Epoch 106/120\n",
            "12/12 [==============================] - 9s 777ms/sample - loss: 0.1578 - iou_score: 0.8892 - val_loss: 1.1271 - val_iou_score: 0.3203\n",
            "Epoch 107/120\n",
            "12/12 [==============================] - 9s 779ms/sample - loss: 0.1598 - iou_score: 0.8882 - val_loss: 1.1369 - val_iou_score: 0.3228\n",
            "Epoch 108/120\n",
            "12/12 [==============================] - 9s 779ms/sample - loss: 0.1663 - iou_score: 0.8843 - val_loss: 1.0253 - val_iou_score: 0.3747\n",
            "Epoch 109/120\n",
            "12/12 [==============================] - 11s 886ms/sample - loss: 0.1573 - iou_score: 0.8906 - val_loss: 0.9998 - val_iou_score: 0.3844\n",
            "Epoch 110/120\n",
            "12/12 [==============================] - 11s 933ms/sample - loss: 0.1513 - iou_score: 0.8945 - val_loss: 0.9445 - val_iou_score: 0.4335\n",
            "Epoch 111/120\n",
            "12/12 [==============================] - 11s 905ms/sample - loss: 0.1486 - iou_score: 0.8961 - val_loss: 0.7802 - val_iou_score: 0.5155\n",
            "Epoch 112/120\n",
            "12/12 [==============================] - 9s 777ms/sample - loss: 0.1417 - iou_score: 0.9004 - val_loss: 0.8993 - val_iou_score: 0.4447\n",
            "Epoch 113/120\n",
            "12/12 [==============================] - 9s 773ms/sample - loss: 0.1405 - iou_score: 0.9015 - val_loss: 0.9505 - val_iou_score: 0.4204\n",
            "Epoch 114/120\n",
            "12/12 [==============================] - 9s 774ms/sample - loss: 0.1419 - iou_score: 0.9006 - val_loss: 0.9022 - val_iou_score: 0.4401\n",
            "Epoch 115/120\n",
            "12/12 [==============================] - 9s 774ms/sample - loss: 0.1366 - iou_score: 0.9043 - val_loss: 1.0317 - val_iou_score: 0.3662\n",
            "Epoch 116/120\n",
            "12/12 [==============================] - 9s 777ms/sample - loss: 0.1352 - iou_score: 0.9054 - val_loss: 0.9336 - val_iou_score: 0.4133\n",
            "Epoch 117/120\n",
            "12/12 [==============================] - 11s 888ms/sample - loss: 0.1323 - iou_score: 0.9073 - val_loss: 0.7139 - val_iou_score: 0.5477\n",
            "Epoch 118/120\n",
            "12/12 [==============================] - 9s 776ms/sample - loss: 0.1331 - iou_score: 0.9067 - val_loss: 0.9350 - val_iou_score: 0.4260\n",
            "Epoch 119/120\n",
            "12/12 [==============================] - 9s 780ms/sample - loss: 0.1350 - iou_score: 0.9055 - val_loss: 0.8388 - val_iou_score: 0.4754\n",
            "Epoch 120/120\n",
            "12/12 [==============================] - 11s 886ms/sample - loss: 0.1348 - iou_score: 0.9061 - val_loss: 0.7120 - val_iou_score: 0.5453\n"
          ],
          "name": "stdout"
        },
        {
          "output_type": "execute_result",
          "data": {
            "text/plain": [
              "<tensorflow.python.keras.callbacks.History at 0x7fb36e299ef0>"
            ]
          },
          "metadata": {
            "tags": []
          },
          "execution_count": 66
        }
      ]
    },
    {
      "cell_type": "markdown",
      "metadata": {
        "id": "5Nh6V4teZBQr",
        "colab_type": "text"
      },
      "source": [
        "# Caculate IoU"
      ]
    },
    {
      "cell_type": "code",
      "metadata": {
        "id": "jdtIU7DlYbpO",
        "colab_type": "code",
        "colab": {
          "base_uri": "https://localhost:8080/",
          "height": 50
        },
        "outputId": "8a0e1585-27a0-498a-a7eb-40182ce38c4c"
      },
      "source": [
        "model.evaluate(x=x_test, y=y_test)"
      ],
      "execution_count": 67,
      "outputs": [
        {
          "output_type": "stream",
          "text": [
            "\r4/4 [==============================] - 1s 278ms/sample - loss: 0.5818 - iou_score: 0.6245\n"
          ],
          "name": "stdout"
        },
        {
          "output_type": "execute_result",
          "data": {
            "text/plain": [
              "[0.5817582607269287, 0.6244967]"
            ]
          },
          "metadata": {
            "tags": []
          },
          "execution_count": 67
        }
      ]
    },
    {
      "cell_type": "code",
      "metadata": {
        "id": "pS5e0kk7ZEt1",
        "colab_type": "code",
        "colab": {
          "base_uri": "https://localhost:8080/",
          "height": 151
        },
        "outputId": "b3ca0bbd-9afb-4c56-a2bb-9f86be2847e9"
      },
      "source": [
        "for i in range(len(x_test)):\n",
        "  print(model.evaluate(x=x_test[i][np.newaxis, :], y=y_test[i][np.newaxis, :]))"
      ],
      "execution_count": 68,
      "outputs": [
        {
          "output_type": "stream",
          "text": [
            "\r1/1 [==============================] - 0s 258ms/sample - loss: 0.5015 - iou_score: 0.6566\n",
            "[0.5014821887016296, 0.6565932]\n",
            "1/1 [==============================] - 0s 256ms/sample - loss: 0.6034 - iou_score: 0.6215\n",
            "[0.6034108400344849, 0.62146443]\n",
            "1/1 [==============================] - 0s 260ms/sample - loss: 0.4977 - iou_score: 0.6695\n",
            "[0.49771350622177124, 0.6695315]\n",
            "1/1 [==============================] - 0s 261ms/sample - loss: 0.7144 - iou_score: 0.5605\n",
            "[0.7143541574478149, 0.5604701]\n"
          ],
          "name": "stdout"
        }
      ]
    },
    {
      "cell_type": "markdown",
      "metadata": {
        "id": "MzMzB_SKmhS8",
        "colab_type": "text"
      },
      "source": [
        "#Test Predict"
      ]
    },
    {
      "cell_type": "code",
      "metadata": {
        "id": "acDxKHVqgVFx",
        "colab_type": "code",
        "colab": {}
      },
      "source": [
        "test_img = x_test[0][np.newaxis, :]"
      ],
      "execution_count": 69,
      "outputs": []
    },
    {
      "cell_type": "code",
      "metadata": {
        "id": "QFjTEd1Wgo2N",
        "colab_type": "code",
        "colab": {
          "base_uri": "https://localhost:8080/",
          "height": 286
        },
        "outputId": "cd8b6476-ac6d-4539-f13e-9c8f32e575b0"
      },
      "source": [
        "plt.imshow(test_img[0])"
      ],
      "execution_count": 70,
      "outputs": [
        {
          "output_type": "execute_result",
          "data": {
            "text/plain": [
              "<matplotlib.image.AxesImage at 0x7fb36e180860>"
            ]
          },
          "metadata": {
            "tags": []
          },
          "execution_count": 70
        },
        {
          "output_type": "display_data",
          "data": {
            "image/png": "[encoded data removed]",
            "text/plain": [
              "<Figure size 432x288 with 1 Axes>"
            ]
          },
          "metadata": {
            "tags": [],
            "needs_background": "light"
          }
        }
      ]
    },
    {
      "cell_type": "code",
      "metadata": {
        "id": "X1pWUrH0VmaQ",
        "colab_type": "code",
        "colab": {}
      },
      "source": [
        "predict_img = model.predict(test_img)"
      ],
      "execution_count": 71,
      "outputs": []
    },
    {
      "cell_type": "code",
      "metadata": {
        "id": "yxba8joz2dKA",
        "colab_type": "code",
        "colab": {}
      },
      "source": [
        "p = predict_img.reshape((1152,480))"
      ],
      "execution_count": 72,
      "outputs": []
    },
    {
      "cell_type": "code",
      "metadata": {
        "id": "d5YyyKa8PBAZ",
        "colab_type": "code",
        "colab": {
          "base_uri": "https://localhost:8080/",
          "height": 286
        },
        "outputId": "9c0e360f-e180-4fbe-cf7d-931baf401255"
      },
      "source": [
        "plt.imshow(p)"
      ],
      "execution_count": 73,
      "outputs": [
        {
          "output_type": "execute_result",
          "data": {
            "text/plain": [
              "<matplotlib.image.AxesImage at 0x7fb36e262048>"
            ]
          },
          "metadata": {
            "tags": []
          },
          "execution_count": 73
        },
        {
          "output_type": "display_data",
          "data": {
            "image/png": "[encoded data removed]",
            "text/plain": [
              "<Figure size 432x288 with 1 Axes>"
            ]
          },
          "metadata": {
            "tags": [],
            "needs_background": "light"
          }
        }
      ]
    },
    {
      "cell_type": "code",
      "metadata": {
        "id": "HWfjelmF2-2d",
        "colab_type": "code",
        "colab": {
          "base_uri": "https://localhost:8080/",
          "height": 34
        },
        "outputId": "a77b181d-5012-4de8-c52e-12d8a9137aac"
      },
      "source": [
        "p = cv2.cvtColor(p, cv2.COLOR_GRAY2RGB)\n",
        "p.shape"
      ],
      "execution_count": 48,
      "outputs": [
        {
          "output_type": "execute_result",
          "data": {
            "text/plain": [
              "(1152, 480, 3)"
            ]
          },
          "metadata": {
            "tags": []
          },
          "execution_count": 48
        }
      ]
    },
    {
      "cell_type": "code",
      "metadata": {
        "id": "nG5xJdw321AM",
        "colab_type": "code",
        "colab": {
          "base_uri": "https://localhost:8080/",
          "height": 286
        },
        "outputId": "a0ac6c7e-c317-475a-bced-57fbc23442c2"
      },
      "source": [
        "plt.imshow(p)"
      ],
      "execution_count": 49,
      "outputs": [
        {
          "output_type": "execute_result",
          "data": {
            "text/plain": [
              "<matplotlib.image.AxesImage at 0x7fb37bd19b00>"
            ]
          },
          "metadata": {
            "tags": []
          },
          "execution_count": 49
        },
        {
          "output_type": "display_data",
          "data": {
            "image/png": "[encoded data removed]",
            "text/plain": [
              "<Figure size 432x288 with 1 Axes>"
            ]
          },
          "metadata": {
            "tags": [],
            "needs_background": "light"
          }
        }
      ]
    },
    {
      "cell_type": "code",
      "metadata": {
        "id": "JtlYpcyVz5u1",
        "colab_type": "code",
        "colab": {
          "base_uri": "https://localhost:8080/",
          "height": 286
        },
        "outputId": "e5ff78a2-e307-463e-8555-b687fa539667"
      },
      "source": [
        "plt.imshow(y_test[0])"
      ],
      "execution_count": null,
      "outputs": [
        {
          "output_type": "execute_result",
          "data": {
            "text/plain": [
              "<matplotlib.image.AxesImage at 0x7f038a550320>"
            ]
          },
          "metadata": {
            "tags": []
          },
          "execution_count": 475
        },
        {
          "output_type": "display_data",
          "data": {
            "image/png": "[encoded data removed]",
            "text/plain": [
              "<Figure size 432x288 with 1 Axes>"
            ]
          },
          "metadata": {
            "tags": [],
            "needs_background": "light"
          }
        }
      ]
    },
    {
      "cell_type": "code",
      "metadata": {
        "id": "1y_kcpE7gf9k",
        "colab_type": "code",
        "colab": {}
      },
      "source": [
        "show_img = predict_img[0] + test_img[0]"
      ],
      "execution_count": null,
      "outputs": []
    },
    {
      "cell_type": "code",
      "metadata": {
        "id": "4Ot3rfcahajh",
        "colab_type": "code",
        "colab": {
          "base_uri": "https://localhost:8080/",
          "height": 34
        },
        "outputId": "f0c50f5b-2718-4081-8bf1-8b1283d2ca79"
      },
      "source": [
        "show_img.shape"
      ],
      "execution_count": null,
      "outputs": [
        {
          "output_type": "execute_result",
          "data": {
            "text/plain": [
              "(960, 480, 3)"
            ]
          },
          "metadata": {
            "tags": []
          },
          "execution_count": 465
        }
      ]
    },
    {
      "cell_type": "code",
      "metadata": {
        "id": "VBIwUZ8EgRUA",
        "colab_type": "code",
        "colab": {
          "base_uri": "https://localhost:8080/",
          "height": 302
        },
        "outputId": "014ad806-4db8-408a-f4cf-8429c707e218"
      },
      "source": [
        "plt.imshow(show_img)"
      ],
      "execution_count": null,
      "outputs": [
        {
          "output_type": "stream",
          "text": [
            "Clipping input data to the valid range for imshow with RGB data ([0..1] for floats or [0..255] for integers).\n"
          ],
          "name": "stderr"
        },
        {
          "output_type": "execute_result",
          "data": {
            "text/plain": [
              "<matplotlib.image.AxesImage at 0x7f038a7f2438>"
            ]
          },
          "metadata": {
            "tags": []
          },
          "execution_count": 466
        },
        {
          "output_type": "display_data",
          "data": {
            "image/png": "[encoded data removed]",
            "text/plain": [
              "<Figure size 432x288 with 1 Axes>"
            ]
          },
          "metadata": {
            "tags": [],
            "needs_background": "light"
          }
        }
      ]
    },
    {
      "cell_type": "code",
      "metadata": {
        "id": "rUHiMiHvhpNH",
        "colab_type": "code",
        "colab": {}
      },
      "source": [
        "path = F\"/content/gdrive/My Drive/iir_training_python/cvHW/model_vgg16\""
      ],
      "execution_count": null,
      "outputs": []
    },
    {
      "cell_type": "code",
      "metadata": {
        "id": "sOCJOZ8dh32m",
        "colab_type": "code",
        "colab": {}
      },
      "source": [
        "model.save(path)"
      ],
      "execution_count": null,
      "outputs": []
    },
    {
      "cell_type": "code",
      "metadata": {
        "id": "dvH0Rh-eiVJd",
        "colab_type": "code",
        "colab": {
          "base_uri": "https://localhost:8080/",
          "height": 302
        },
        "outputId": "ae8824ae-b29c-4ad1-d7f2-7015622d4065"
      },
      "source": [
        "plt.imshow(show_img)"
      ],
      "execution_count": null,
      "outputs": [
        {
          "output_type": "stream",
          "text": [
            "Clipping input data to the valid range for imshow with RGB data ([0..1] for floats or [0..255] for integers).\n"
          ],
          "name": "stderr"
        },
        {
          "output_type": "execute_result",
          "data": {
            "text/plain": [
              "<matplotlib.image.AxesImage at 0x7f038a74a128>"
            ]
          },
          "metadata": {
            "tags": []
          },
          "execution_count": 469
        },
        {
          "output_type": "display_data",
          "data": {
            "image/png": "[encoded data removed]",
            "text/plain": [
              "<Figure size 432x288 with 1 Axes>"
            ]
          },
          "metadata": {
            "tags": [],
            "needs_background": "light"
          }
        }
      ]
    },
    {
      "cell_type": "markdown",
      "metadata": {
        "id": "xFWQS1_lzM88",
        "colab_type": "text"
      },
      "source": [
        "# iou"
      ]
    },
    {
      "cell_type": "code",
      "metadata": {
        "id": "q-HPrqMK15X5",
        "colab_type": "code",
        "colab": {
          "base_uri": "https://localhost:8080/",
          "height": 286
        },
        "outputId": "a20dd2cf-7a7a-4d9d-cc28-c40a62535619"
      },
      "source": [
        "plt.imshow(p)"
      ],
      "execution_count": null,
      "outputs": [
        {
          "output_type": "execute_result",
          "data": {
            "text/plain": [
              "<matplotlib.image.AxesImage at 0x7f02df193080>"
            ]
          },
          "metadata": {
            "tags": []
          },
          "execution_count": 580
        },
        {
          "output_type": "display_data",
          "data": {
            "image/png": "[encoded data removed]",
            "text/plain": [
              "<Figure size 432x288 with 1 Axes>"
            ]
          },
          "metadata": {
            "tags": [],
            "needs_background": "light"
          }
        }
      ]
    },
    {
      "cell_type": "code",
      "metadata": {
        "id": "VVTyxvQ-9VMF",
        "colab_type": "code",
        "colab": {
          "base_uri": "https://localhost:8080/",
          "height": 286
        },
        "outputId": "19becec5-04b1-4a0b-f6e2-dcb306808bfd"
      },
      "source": [
        "plt.imshow(y_test[0])"
      ],
      "execution_count": null,
      "outputs": [
        {
          "output_type": "execute_result",
          "data": {
            "text/plain": [
              "<matplotlib.image.AxesImage at 0x7f02df16a5f8>"
            ]
          },
          "metadata": {
            "tags": []
          },
          "execution_count": 581
        },
        {
          "output_type": "display_data",
          "data": {
            "image/png": "[encoded data removed]",
            "text/plain": [
              "<Figure size 432x288 with 1 Axes>"
            ]
          },
          "metadata": {
            "tags": [],
            "needs_background": "light"
          }
        }
      ]
    },
    {
      "cell_type": "code",
      "metadata": {
        "id": "FmG1yAOz-dYG",
        "colab_type": "code",
        "colab": {}
      },
      "source": [
        "model.predict(x)"
      ],
      "execution_count": null,
      "outputs": []
    },
    {
      "cell_type": "markdown",
      "metadata": {
        "id": "PddGPigx_jgZ",
        "colab_type": "text"
      },
      "source": [
        "# Testing Datas"
      ]
    },
    {
      "cell_type": "code",
      "metadata": {
        "id": "yZKN-vCi_jKk",
        "colab_type": "code",
        "colab": {}
      },
      "source": [
        "test_images_names = glob.glob(F\"/content/gdrive/My Drive/iir_training_python/cvHW/f03/image/*.png\")\n",
        "test_labels_names = glob.glob(F\"/content/gdrive/My Drive/iir_training_python/cvHW/f03/label/*.png\")"
      ],
      "execution_count": null,
      "outputs": []
    },
    {
      "cell_type": "code",
      "metadata": {
        "id": "LLmhWNHM_1Q7",
        "colab_type": "code",
        "colab": {}
      },
      "source": [
        "test_labels_names.sort()\n",
        "test_images_names.sort()"
      ],
      "execution_count": null,
      "outputs": []
    },
    {
      "cell_type": "code",
      "metadata": {
        "id": "BLloQRpxALfQ",
        "colab_type": "code",
        "colab": {}
      },
      "source": [
        "images = [cv2.imread(i) for i in test_images_names]\n",
        "images = [i/255 for i in images] \n",
        "images = [cv2.resize(i, (480,960)) for i in images]"
      ],
      "execution_count": null,
      "outputs": []
    },
    {
      "cell_type": "code",
      "metadata": {
        "id": "kaMn_gkMArbm",
        "colab_type": "code",
        "colab": {}
      },
      "source": [
        "labels = [cv2.imread(i) for i in test_labels_names]\n",
        "labels = [i/255 for i in labels] \n",
        "labels = [cv2.resize(i, (480,960)) for i in labels]"
      ],
      "execution_count": null,
      "outputs": []
    },
    {
      "cell_type": "code",
      "metadata": {
        "id": "vfdcDRwcBAdc",
        "colab_type": "code",
        "colab": {
          "base_uri": "https://localhost:8080/",
          "height": 286
        },
        "outputId": "bd8dfff7-3657-4188-b4fa-65294a4a3d11"
      },
      "source": [
        "plt.imshow(images[1])"
      ],
      "execution_count": null,
      "outputs": [
        {
          "output_type": "execute_result",
          "data": {
            "text/plain": [
              "<matplotlib.image.AxesImage at 0x7f02deecbc88>"
            ]
          },
          "metadata": {
            "tags": []
          },
          "execution_count": 623
        },
        {
          "output_type": "display_data",
          "data": {
            "image/png": "[encoded data removed]",
            "text/plain": [
              "<Figure size 432x288 with 1 Axes>"
            ]
          },
          "metadata": {
            "tags": [],
            "needs_background": "light"
          }
        }
      ]
    },
    {
      "cell_type": "code",
      "metadata": {
        "id": "4ZZY1wnBA28w",
        "colab_type": "code",
        "colab": {
          "base_uri": "https://localhost:8080/",
          "height": 286
        },
        "outputId": "1e8eddd0-56cd-425b-c37b-cf5e83ca22a4"
      },
      "source": [
        "plt.imshow(labels[1])"
      ],
      "execution_count": null,
      "outputs": [
        {
          "output_type": "execute_result",
          "data": {
            "text/plain": [
              "<matplotlib.image.AxesImage at 0x7f02deea42b0>"
            ]
          },
          "metadata": {
            "tags": []
          },
          "execution_count": 624
        },
        {
          "output_type": "display_data",
          "data": {
            "image/png": "[encoded data removed]",
            "text/plain": [
              "<Figure size 432x288 with 1 Axes>"
            ]
          },
          "metadata": {
            "tags": [],
            "needs_background": "light"
          }
        }
      ]
    },
    {
      "cell_type": "code",
      "metadata": {
        "id": "L4btfr8ZBR5I",
        "colab_type": "code",
        "colab": {}
      },
      "source": [
        "test_img = images[11][np.newaxis, :]"
      ],
      "execution_count": null,
      "outputs": []
    },
    {
      "cell_type": "code",
      "metadata": {
        "id": "HbLQW3xZBEFz",
        "colab_type": "code",
        "colab": {
          "base_uri": "https://localhost:8080/",
          "height": 34
        },
        "outputId": "6fd9eb53-aaa0-4871-c362-1747d7e43124"
      },
      "source": [
        "r = model.predict(test_img, verbose=1)"
      ],
      "execution_count": null,
      "outputs": [
        {
          "output_type": "stream",
          "text": [
            "\r1/1 [==============================] - 0s 124ms/sample\n"
          ],
          "name": "stdout"
        }
      ]
    },
    {
      "cell_type": "code",
      "metadata": {
        "id": "4HMyjiirCnra",
        "colab_type": "code",
        "colab": {
          "base_uri": "https://localhost:8080/",
          "height": 34
        },
        "outputId": "2bfc9f54-3ee0-4dab-ccc4-0e5aec85f931"
      },
      "source": [
        "r.shape"
      ],
      "execution_count": null,
      "outputs": [
        {
          "output_type": "execute_result",
          "data": {
            "text/plain": [
              "(1, 960, 480, 1)"
            ]
          },
          "metadata": {
            "tags": []
          },
          "execution_count": 662
        }
      ]
    },
    {
      "cell_type": "code",
      "metadata": {
        "id": "xWMVBZ1nCdcF",
        "colab_type": "code",
        "colab": {}
      },
      "source": [
        "p = r.reshape((960,480))"
      ],
      "execution_count": null,
      "outputs": []
    },
    {
      "cell_type": "code",
      "metadata": {
        "id": "56WbbT9xChMA",
        "colab_type": "code",
        "colab": {
          "base_uri": "https://localhost:8080/",
          "height": 286
        },
        "outputId": "3ef4cd46-8f8a-4fa8-da81-c2616cee9d9b"
      },
      "source": [
        "plt.imshow(p)"
      ],
      "execution_count": null,
      "outputs": [
        {
          "output_type": "execute_result",
          "data": {
            "text/plain": [
              "<matplotlib.image.AxesImage at 0x7f02deb9c9b0>"
            ]
          },
          "metadata": {
            "tags": []
          },
          "execution_count": 664
        },
        {
          "output_type": "display_data",
          "data": {
            "image/png": "[encoded data removed]",
            "text/plain": [
              "<Figure size 432x288 with 1 Axes>"
            ]
          },
          "metadata": {
            "tags": [],
            "needs_background": "light"
          }
        }
      ]
    },
    {
      "cell_type": "markdown",
      "metadata": {
        "id": "lYMG_wadPN7l",
        "colab_type": "text"
      },
      "source": [
        "# Convert img from float to uint8"
      ]
    },
    {
      "cell_type": "code",
      "metadata": {
        "id": "r7g4ScU5pbuC",
        "colab_type": "code",
        "colab": {
          "base_uri": "https://localhost:8080/",
          "height": 286
        },
        "outputId": "e4980880-de3b-4154-915e-a64fe121fef4"
      },
      "source": [
        "i = p*255\n",
        "i = i.astype(np.uint8)\n",
        "i = cv2.cvtColor(i,cv2.COLOR_GRAY2RGB)\n",
        "\n",
        "plt.imshow(i)"
      ],
      "execution_count": null,
      "outputs": [
        {
          "output_type": "execute_result",
          "data": {
            "text/plain": [
              "<matplotlib.image.AxesImage at 0x7f02deaf98d0>"
            ]
          },
          "metadata": {
            "tags": []
          },
          "execution_count": 667
        },
        {
          "output_type": "display_data",
          "data": {
            "image/png": "[encoded data removed]",
            "text/plain": [
              "<Figure size 432x288 with 1 Axes>"
            ]
          },
          "metadata": {
            "tags": [],
            "needs_background": "light"
          }
        }
      ]
    },
    {
      "cell_type": "markdown",
      "metadata": {
        "id": "sfgFT8QIPG18",
        "colab_type": "text"
      },
      "source": [
        "# WaterShed"
      ]
    },
    {
      "cell_type": "code",
      "metadata": {
        "id": "mY-dNPR2ijy8",
        "colab_type": "code",
        "colab": {}
      },
      "source": [
        "meanshif = cv2.pyrMeanShiftFiltering(i, 21, 51)\n",
        "gray = cv2.cvtColor(meanshif, cv2.COLOR_BGR2GRAY)\n",
        "ret, thresh = cv2.threshold(gray, 0, 255, cv2.THRESH_BINARY_INV + cv2.THRESH_OTSU)"
      ],
      "execution_count": null,
      "outputs": []
    },
    {
      "cell_type": "code",
      "metadata": {
        "id": "UiuaW-KGqhKP",
        "colab_type": "code",
        "colab": {
          "base_uri": "https://localhost:8080/",
          "height": 286
        },
        "outputId": "0ebe3605-428e-470e-f235-bbd0215b2243"
      },
      "source": [
        "plt.imshow(thresh)"
      ],
      "execution_count": null,
      "outputs": [
        {
          "output_type": "execute_result",
          "data": {
            "text/plain": [
              "<matplotlib.image.AxesImage at 0x7f02deab3be0>"
            ]
          },
          "metadata": {
            "tags": []
          },
          "execution_count": 669
        },
        {
          "output_type": "display_data",
          "data": {
            "image/png": "[encoded data removed]",
            "text/plain": [
              "<Figure size 432x288 with 1 Axes>"
            ]
          },
          "metadata": {
            "tags": [],
            "needs_background": "light"
          }
        }
      ]
    },
    {
      "cell_type": "code",
      "metadata": {
        "id": "lABmEOgsm5ph",
        "colab_type": "code",
        "colab": {}
      },
      "source": [
        "kernel = np.ones((3, 3), np.uint8)\n",
        "opening = cv2.morphologyEx(thresh, cv2.MORPH_OPEN, kernel, iterations = 1)\n",
        "\n",
        "_erode = cv2.erode(opening, kernel, iterations = 3)\n",
        "sure_bg = cv2.dilate(opening, kernel, iterations = 3)\n",
        "\n",
        "dist_transform = cv2.distanceTransform(opening, cv2.DIST_L2, 5)\n",
        "ret, sure_fg = cv2.threshold(dist_transform, 0.001 * dist_transform.max(), 255, 0)\n",
        "\n",
        "sure_fg = np.uint8(sure_fg)\n",
        "unknown = cv2.subtract(sure_bg, sure_fg)"
      ],
      "execution_count": null,
      "outputs": []
    },
    {
      "cell_type": "code",
      "metadata": {
        "id": "u_3l3DDlrBHL",
        "colab_type": "code",
        "colab": {
          "base_uri": "https://localhost:8080/",
          "height": 286
        },
        "outputId": "1612c0dc-cf27-44ea-ebec-3a5962e14b6e"
      },
      "source": [
        "plt.imshow(sure_bg)"
      ],
      "execution_count": null,
      "outputs": [
        {
          "output_type": "execute_result",
          "data": {
            "text/plain": [
              "<matplotlib.image.AxesImage at 0x7f02dea082e8>"
            ]
          },
          "metadata": {
            "tags": []
          },
          "execution_count": 671
        },
        {
          "output_type": "display_data",
          "data": {
            "image/png": "[encoded data removed]",
            "text/plain": [
              "<Figure size 432x288 with 1 Axes>"
            ]
          },
          "metadata": {
            "tags": [],
            "needs_background": "light"
          }
        }
      ]
    },
    {
      "cell_type": "code",
      "metadata": {
        "id": "kgpxBhvapzmY",
        "colab_type": "code",
        "colab": {
          "base_uri": "https://localhost:8080/",
          "height": 286
        },
        "outputId": "db48c95a-32b3-4750-e282-1e9829a083f1"
      },
      "source": [
        "plt.imshow(dist_transform)"
      ],
      "execution_count": null,
      "outputs": [
        {
          "output_type": "execute_result",
          "data": {
            "text/plain": [
              "<matplotlib.image.AxesImage at 0x7f02de9cfb00>"
            ]
          },
          "metadata": {
            "tags": []
          },
          "execution_count": 672
        },
        {
          "output_type": "display_data",
          "data": {
            "image/png": "[encoded data removed]",
            "text/plain": [
              "<Figure size 432x288 with 1 Axes>"
            ]
          },
          "metadata": {
            "tags": [],
            "needs_background": "light"
          }
        }
      ]
    },
    {
      "cell_type": "code",
      "metadata": {
        "id": "tc709pkvYQGb",
        "colab_type": "code",
        "colab": {
          "base_uri": "https://localhost:8080/",
          "height": 286
        },
        "outputId": "acf04b39-f21a-4547-a95f-4a784b0c87c9"
      },
      "source": [
        "plt.imshow(sure_fg)"
      ],
      "execution_count": null,
      "outputs": [
        {
          "output_type": "execute_result",
          "data": {
            "text/plain": [
              "<matplotlib.image.AxesImage at 0x7f02de9a42b0>"
            ]
          },
          "metadata": {
            "tags": []
          },
          "execution_count": 673
        },
        {
          "output_type": "display_data",
          "data": {
            "image/png": "[encoded data removed]",
            "text/plain": [
              "<Figure size 432x288 with 1 Axes>"
            ]
          },
          "metadata": {
            "tags": [],
            "needs_background": "light"
          }
        }
      ]
    },
    {
      "cell_type": "code",
      "metadata": {
        "id": "A5ZQ6RIFYLqf",
        "colab_type": "code",
        "colab": {
          "base_uri": "https://localhost:8080/",
          "height": 286
        },
        "outputId": "4fa98756-0092-4f46-86f6-7b9aaf7a58df"
      },
      "source": [
        "plt.imshow(unknown)"
      ],
      "execution_count": null,
      "outputs": [
        {
          "output_type": "execute_result",
          "data": {
            "text/plain": [
              "<matplotlib.image.AxesImage at 0x7f02de96d978>"
            ]
          },
          "metadata": {
            "tags": []
          },
          "execution_count": 674
        },
        {
          "output_type": "display_data",
          "data": {
            "image/png": "[encoded data removed]",
            "text/plain": [
              "<Figure size 432x288 with 1 Axes>"
            ]
          },
          "metadata": {
            "tags": [],
            "needs_background": "light"
          }
        }
      ]
    },
    {
      "cell_type": "code",
      "metadata": {
        "id": "4bQ_evheVqXr",
        "colab_type": "code",
        "colab": {
          "base_uri": "https://localhost:8080/",
          "height": 50
        },
        "outputId": "57321e44-d533-4cc0-a619-73e92947ee66"
      },
      "source": [
        "ret, markers = cv2.connectedComponents(sure_fg)\n",
        "print(np.unique(markers))\n",
        "markers = markers+1\n",
        "print(np.unique(markers))\n",
        "\n",
        "markers[unknown==255] = 0"
      ],
      "execution_count": null,
      "outputs": [
        {
          "output_type": "stream",
          "text": [
            "[ 0  1  2  3  4  5  6  7  8  9 10 11 12 13 14 15 16 17]\n",
            "[ 1  2  3  4  5  6  7  8  9 10 11 12 13 14 15 16 17 18]\n"
          ],
          "name": "stdout"
        }
      ]
    },
    {
      "cell_type": "code",
      "metadata": {
        "id": "GNp4p9hwXviT",
        "colab_type": "code",
        "colab": {
          "base_uri": "https://localhost:8080/",
          "height": 286
        },
        "outputId": "7274a5f5-3eb1-4a33-d5c5-ad98c9feaa78"
      },
      "source": [
        "plt.imshow(markers)"
      ],
      "execution_count": null,
      "outputs": [
        {
          "output_type": "execute_result",
          "data": {
            "text/plain": [
              "<matplotlib.image.AxesImage at 0x7f02de93f2b0>"
            ]
          },
          "metadata": {
            "tags": []
          },
          "execution_count": 676
        },
        {
          "output_type": "display_data",
          "data": {
            "image/png": "[encoded data removed]",
            "text/plain": [
              "<Figure size 432x288 with 1 Axes>"
            ]
          },
          "metadata": {
            "tags": [],
            "needs_background": "light"
          }
        }
      ]
    },
    {
      "cell_type": "code",
      "metadata": {
        "id": "37wA-2n4X4dz",
        "colab_type": "code",
        "colab": {}
      },
      "source": [
        "markers = cv2.watershed(i,markers)\n",
        "i[markers == -1] = [256,0,0]"
      ],
      "execution_count": null,
      "outputs": []
    },
    {
      "cell_type": "code",
      "metadata": {
        "id": "8W4Nyu4Tmz2s",
        "colab_type": "code",
        "colab": {
          "base_uri": "https://localhost:8080/",
          "height": 286
        },
        "outputId": "7869fc7e-5ca0-4f23-e962-eb3f07b1e548"
      },
      "source": [
        "plt.imshow(markers)"
      ],
      "execution_count": null,
      "outputs": [
        {
          "output_type": "execute_result",
          "data": {
            "text/plain": [
              "<matplotlib.image.AxesImage at 0x7f02de8889b0>"
            ]
          },
          "metadata": {
            "tags": []
          },
          "execution_count": 678
        },
        {
          "output_type": "display_data",
          "data": {
            "image/png": "[encoded data removed]",
            "text/plain": [
              "<Figure size 432x288 with 1 Axes>"
            ]
          },
          "metadata": {
            "tags": [],
            "needs_background": "light"
          }
        }
      ]
    },
    {
      "cell_type": "code",
      "metadata": {
        "id": "Ts2GHlhlnNJ_",
        "colab_type": "code",
        "colab": {
          "base_uri": "https://localhost:8080/",
          "height": 286
        },
        "outputId": "6026b57b-4b40-4b9d-ac8c-8b978eb3a3e2"
      },
      "source": [
        "plt.imshow(i)"
      ],
      "execution_count": null,
      "outputs": [
        {
          "output_type": "execute_result",
          "data": {
            "text/plain": [
              "<matplotlib.image.AxesImage at 0x7f02de861128>"
            ]
          },
          "metadata": {
            "tags": []
          },
          "execution_count": 679
        },
        {
          "output_type": "display_data",
          "data": {
            "image/png": "[encoded data removed]",
            "text/plain": [
              "<Figure size 432x288 with 1 Axes>"
            ]
          },
          "metadata": {
            "tags": [],
            "needs_background": "light"
          }
        }
      ]
    },
    {
      "cell_type": "code",
      "metadata": {
        "id": "IXGxNIuKnjoV",
        "colab_type": "code",
        "colab": {
          "base_uri": "https://localhost:8080/",
          "height": 34
        },
        "outputId": "e94a3bf4-6ab6-48e0-b373-d40100a2ff98"
      },
      "source": [
        "np.unique(markers)"
      ],
      "execution_count": null,
      "outputs": [
        {
          "output_type": "execute_result",
          "data": {
            "text/plain": [
              "array([-1,  1,  2,  3], dtype=int32)"
            ]
          },
          "metadata": {
            "tags": []
          },
          "execution_count": 180
        }
      ]
    },
    {
      "cell_type": "code",
      "metadata": {
        "id": "zWyLV6NdnsFJ",
        "colab_type": "code",
        "colab": {
          "base_uri": "https://localhost:8080/",
          "height": 286
        },
        "outputId": "02554153-7a84-4e5e-fe3d-59ef81d196eb"
      },
      "source": [
        "import imutils\n",
        "for label in np.unique(markers):\n",
        "\t# 如果該標籤爲0，則表示其爲背景，直接忽略\n",
        "\tif label == 0:\n",
        "\t\tcontinue\n",
        "\n",
        "\t# 爲標籤區域分配內存並將在mask上繪製結果\n",
        "\tmask = np.zeros(gray.shape, dtype=\"uint8\")\n",
        "\tmask[markers == label] = 255\n",
        "\n",
        "\t# 在mask上檢測輪廓並獲得最大的一個輪廓\n",
        "\tcnts = cv2.findContours(mask.copy(), cv2.RETR_EXTERNAL, cv2.CHAIN_APPROX_SIMPLE)\n",
        "\tcnts = imutils.grab_contours(cnts)\n",
        "\tc = max(cnts, key=cv2.contourArea)\n",
        "\n",
        "\t# 畫一個圈把物體圍起來\n",
        "\t((x, y), r) = cv2.minEnclosingCircle(c)\n",
        "\tcv2.circle(i, (int(x), int(y)), int(r), (0, 255, 0), 2)\n",
        "\tcv2.putText(i, \"#{}\".format(label), (int(x) - 10, int(y)), cv2.FONT_HERSHEY_SIMPLEX, 0.6, (0, 0, 255), 2)\n",
        "plt.imshow(i)"
      ],
      "execution_count": null,
      "outputs": [
        {
          "output_type": "execute_result",
          "data": {
            "text/plain": [
              "<matplotlib.image.AxesImage at 0x7f048e5f0c88>"
            ]
          },
          "metadata": {
            "tags": []
          },
          "execution_count": 181
        },
        {
          "output_type": "display_data",
          "data": {
            "image/png": "[encoded data removed]",
            "text/plain": [
              "<Figure size 432x288 with 1 Axes>"
            ]
          },
          "metadata": {
            "tags": [],
            "needs_background": "light"
          }
        }
      ]
    },
    {
      "cell_type": "code",
      "metadata": {
        "id": "BGMo_ZkAn62_",
        "colab_type": "code",
        "colab": {}
      },
      "source": [
        ""
      ],
      "execution_count": null,
      "outputs": []
    }
  ]
}