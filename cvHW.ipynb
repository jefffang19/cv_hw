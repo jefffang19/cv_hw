{
  "nbformat": 4,
  "nbformat_minor": 0,
  "metadata": {
    "kernelspec": {
      "display_name": "Python 3",
      "language": "python",
      "name": "python3"
    },
    "language_info": {
      "codemirror_mode": {
        "name": "ipython",
        "version": 3
      },
      "file_extension": ".py",
      "mimetype": "text/x-python",
      "name": "python",
      "nbconvert_exporter": "python",
      "pygments_lexer": "ipython3",
      "version": "3.7.7"
    },
    "colab": {
      "name": "cvHW.ipynb",
      "provenance": [],
      "collapsed_sections": [],
      "include_colab_link": true
    },
    "accelerator": "GPU"
  },
  "cells": [
    {
      "cell_type": "markdown",
      "metadata": {
        "id": "view-in-github",
        "colab_type": "text"
      },
      "source": [
        "<a href=\"https://colab.research.google.com/github/jefffang19/cv_hw/blob/master/cvHW.ipynb\" target=\"_parent\"><img src=\"https://colab.research.google.com/assets/colab-badge.svg\" alt=\"Open In Colab\"/></a>"
      ]
    },
    {
      "cell_type": "code",
      "metadata": {
        "id": "lUHa-G7Yz9UW",
        "colab_type": "code",
        "colab": {}
      },
      "source": [
        "import cv2"
      ],
      "execution_count": null,
      "outputs": []
    },
    {
      "cell_type": "code",
      "metadata": {
        "id": "uQUA4Vc1z9Ug",
        "colab_type": "code",
        "colab": {}
      },
      "source": [
        "import numpy as np"
      ],
      "execution_count": null,
      "outputs": []
    },
    {
      "cell_type": "code",
      "metadata": {
        "id": "c_prjM4Wz9Um",
        "colab_type": "code",
        "colab": {}
      },
      "source": [
        "import matplotlib.pyplot as plt"
      ],
      "execution_count": null,
      "outputs": []
    },
    {
      "cell_type": "code",
      "metadata": {
        "id": "cpnQJ5U50WbJ",
        "colab_type": "code",
        "colab": {
          "base_uri": "https://localhost:8080/",
          "height": 121
        },
        "outputId": "5259eeb8-416e-4aa4-a88a-0b53cf8c7cac"
      },
      "source": [
        "from google.colab import drive\n",
        "drive.mount('/content/gdrive')"
      ],
      "execution_count": null,
      "outputs": [
        {
          "output_type": "stream",
          "text": [
            "Go to this URL in a browser: https://accounts.google.com/o/oauth2/auth?client_id=947318989803-6bn6qk8qdgf4n4g3pfee6491hc0brc4i.apps.googleusercontent.com&redirect_uri=urn%3aietf%3awg%3aoauth%3a2.0%3aoob&scope=email%20https%3a%2f%2fwww.googleapis.com%2fauth%2fdocs.test%20https%3a%2f%2fwww.googleapis.com%2fauth%2fdrive%20https%3a%2f%2fwww.googleapis.com%2fauth%2fdrive.photos.readonly%20https%3a%2f%2fwww.googleapis.com%2fauth%2fpeopleapi.readonly&response_type=code\n",
            "\n",
            "Enter your authorization code:\n",
            "··········\n",
            "Mounted at /content/gdrive\n"
          ],
          "name": "stdout"
        }
      ]
    },
    {
      "cell_type": "code",
      "metadata": {
        "id": "wKuicny40b9y",
        "colab_type": "code",
        "colab": {}
      },
      "source": [
        "path = F\"/content/gdrive/My Drive/iir_training_python/cvHW/cv.png\""
      ],
      "execution_count": null,
      "outputs": []
    },
    {
      "cell_type": "code",
      "metadata": {
        "id": "eNPYcw2yz9Ur",
        "colab_type": "code",
        "colab": {}
      },
      "source": [
        "img = cv2.imread(path)"
      ],
      "execution_count": null,
      "outputs": []
    },
    {
      "cell_type": "code",
      "metadata": {
        "id": "HNEPZZmlz9Ux",
        "colab_type": "code",
        "colab": {
          "base_uri": "https://localhost:8080/",
          "height": 286
        },
        "outputId": "4766aba3-c137-40ef-9103-c6dfbdccd148"
      },
      "source": [
        "plt.imshow(img)"
      ],
      "execution_count": null,
      "outputs": [
        {
          "output_type": "execute_result",
          "data": {
            "text/plain": [
              "<matplotlib.image.AxesImage at 0x7f6cf1d9e9e8>"
            ]
          },
          "metadata": {
            "tags": []
          },
          "execution_count": 7
        },
        {
          "output_type": "display_data",
          "data": {
            "image/png": "[encoded data removed]",
            "text/plain": [
              "<Figure size 432x288 with 1 Axes>"
            ]
          },
          "metadata": {
            "tags": [],
            "needs_background": "light"
          }
        }
      ]
    },
    {
      "cell_type": "markdown",
      "metadata": {
        "id": "LMV-t6iOrW36",
        "colab_type": "text"
      },
      "source": [
        "# Objective\n",
        "\n",
        "\n",
        "```\n",
        "cv2.cvtColor(img, cv2.COLOR_BGR2GRAY)\n",
        "```\n",
        "\n"
      ]
    },
    {
      "cell_type": "code",
      "metadata": {
        "id": "r5EY0FjJz9U3",
        "colab_type": "code",
        "colab": {}
      },
      "source": [
        "img_gray = cv2.cvtColor(img, cv2.COLOR_BGR2GRAY)"
      ],
      "execution_count": null,
      "outputs": []
    },
    {
      "cell_type": "code",
      "metadata": {
        "id": "B53TT204z9U6",
        "colab_type": "code",
        "colab": {
          "base_uri": "https://localhost:8080/",
          "height": 286
        },
        "outputId": "01b08de3-fcc1-40d6-d8e0-f03cbbd3090e"
      },
      "source": [
        "plt.imshow(img_gray, cmap = 'gray')"
      ],
      "execution_count": null,
      "outputs": [
        {
          "output_type": "execute_result",
          "data": {
            "text/plain": [
              "<matplotlib.image.AxesImage at 0x7f1ace987860>"
            ]
          },
          "metadata": {
            "tags": []
          },
          "execution_count": 10
        },
        {
          "output_type": "display_data",
          "data": {
            "image/png": "[encoded data removed]",
            "text/plain": [
              "<Figure size 432x288 with 1 Axes>"
            ]
          },
          "metadata": {
            "tags": [],
            "needs_background": "light"
          }
        }
      ]
    },
    {
      "cell_type": "markdown",
      "metadata": {
        "id": "9Y1nRa-2z9U9",
        "colab_type": "text"
      },
      "source": [
        "# We implement above function ourself"
      ]
    },
    {
      "cell_type": "code",
      "metadata": {
        "id": "JQnHDus_z9U-",
        "colab_type": "code",
        "colab": {
          "base_uri": "https://localhost:8080/",
          "height": 34
        },
        "outputId": "8bfc734a-b775-439f-f845-6beb29877bd2"
      },
      "source": [
        "img.shape"
      ],
      "execution_count": null,
      "outputs": [
        {
          "output_type": "execute_result",
          "data": {
            "text/plain": [
              "(794, 600, 3)"
            ]
          },
          "metadata": {
            "tags": []
          },
          "execution_count": 11
        }
      ]
    },
    {
      "cell_type": "markdown",
      "metadata": {
        "id": "jRrBUFMqz9VA",
        "colab_type": "text"
      },
      "source": [
        "# Get R, G, B channels"
      ]
    },
    {
      "cell_type": "code",
      "metadata": {
        "id": "v4Zd8tw_z9VB",
        "colab_type": "code",
        "colab": {}
      },
      "source": [
        "imgR = img[..., 0] # R\n",
        "imgG = img[..., 1] # G\n",
        "imgB =img[..., 2] # B"
      ],
      "execution_count": null,
      "outputs": []
    },
    {
      "cell_type": "code",
      "metadata": {
        "id": "abETEwFFz9VD",
        "colab_type": "code",
        "colab": {
          "base_uri": "https://localhost:8080/",
          "height": 34
        },
        "outputId": "eebb46b5-4dda-46ec-9ae4-c6daf0523a17"
      },
      "source": [
        "imgR.shape"
      ],
      "execution_count": null,
      "outputs": [
        {
          "output_type": "execute_result",
          "data": {
            "text/plain": [
              "(794, 600)"
            ]
          },
          "metadata": {
            "tags": []
          },
          "execution_count": 13
        }
      ]
    },
    {
      "cell_type": "markdown",
      "metadata": {
        "id": "WkeqKjjbz9VF",
        "colab_type": "text"
      },
      "source": [
        "# transform to grayscale"
      ]
    },
    {
      "cell_type": "code",
      "metadata": {
        "id": "FfMioTZ6z9VF",
        "colab_type": "code",
        "colab": {}
      },
      "source": [
        "# elementwise multiply\n",
        "img_gray = np.multiply(imgR,0.299) + np.multiply(imgG,0.587) + np.multiply(imgB,0.114)"
      ],
      "execution_count": null,
      "outputs": []
    },
    {
      "cell_type": "code",
      "metadata": {
        "id": "Yfx9P2hmz9VI",
        "colab_type": "code",
        "colab": {
          "base_uri": "https://localhost:8080/",
          "height": 286
        },
        "outputId": "61b66ad0-25a2-44de-adfb-dbb87d8cf8a3"
      },
      "source": [
        "plt.imshow(img_gray, cmap='gray')"
      ],
      "execution_count": null,
      "outputs": [
        {
          "output_type": "execute_result",
          "data": {
            "text/plain": [
              "<matplotlib.image.AxesImage at 0x7f1acdcb4c88>"
            ]
          },
          "metadata": {
            "tags": []
          },
          "execution_count": 15
        },
        {
          "output_type": "display_data",
          "data": {
            "image/png": "[encoded data removed]",
            "text/plain": [
              "<Figure size 432x288 with 1 Axes>"
            ]
          },
          "metadata": {
            "tags": [],
            "needs_background": "light"
          }
        }
      ]
    },
    {
      "cell_type": "markdown",
      "metadata": {
        "id": "uZ-5-vAu5wqF",
        "colab_type": "text"
      },
      "source": [
        "# threshold function"
      ]
    },
    {
      "cell_type": "markdown",
      "metadata": {
        "id": "izgLy-bVq2WB",
        "colab_type": "text"
      },
      "source": [
        "# objective\n",
        "\n",
        "\n",
        "```\n",
        "cv2.threshold(x, low_bound, up_bound, cv2.THRESH_TOZERO)\n",
        "```\n",
        "\n"
      ]
    },
    {
      "cell_type": "code",
      "metadata": {
        "id": "DH7jSpkJfPnf",
        "colab_type": "code",
        "colab": {
          "base_uri": "https://localhost:8080/",
          "height": 286
        },
        "outputId": "c9b61165-b3a4-43ef-d450-5a7d2bc22b20"
      },
      "source": [
        "ret,thresh1 = cv2.threshold(img_gray,127,255,cv2.THRESH_TOZERO)\n",
        "plt.imshow(thresh1, cmap='gray')"
      ],
      "execution_count": null,
      "outputs": [
        {
          "output_type": "execute_result",
          "data": {
            "text/plain": [
              "<matplotlib.image.AxesImage at 0x7f1ac39a97f0>"
            ]
          },
          "metadata": {
            "tags": []
          },
          "execution_count": 98
        },
        {
          "output_type": "display_data",
          "data": {
            "image/png": "[encoded data removed]",
            "text/plain": [
              "<Figure size 432x288 with 1 Axes>"
            ]
          },
          "metadata": {
            "tags": [],
            "needs_background": "light"
          }
        }
      ]
    },
    {
      "cell_type": "markdown",
      "metadata": {
        "id": "ewJ3H0HgrN0P",
        "colab_type": "text"
      },
      "source": [
        "# My Implementation"
      ]
    },
    {
      "cell_type": "code",
      "metadata": {
        "id": "Psf1Tj3E6mE-",
        "colab_type": "code",
        "colab": {}
      },
      "source": [
        "path = F\"/content/gdrive/My Drive/iir_training_python/cvHW/cv.png\""
      ],
      "execution_count": null,
      "outputs": []
    },
    {
      "cell_type": "code",
      "metadata": {
        "id": "Gra1v_sb5zUZ",
        "colab_type": "code",
        "colab": {}
      },
      "source": [
        "def myThresh(in_img, lower_thresh, upper_thresh):\n",
        "  if(0<=upper_thresh<=255 and 0<=lower_thresh<=255):\n",
        "    up_th = np.less_equal(in_img, upper_thresh)\n",
        "    low_th = np.greater(in_img, lower_thresh)\n",
        "    return np.multiply(np.multiply(in_img,low_th), up_th)\n",
        "  else:\n",
        "    print('wrong value')"
      ],
      "execution_count": null,
      "outputs": []
    },
    {
      "cell_type": "code",
      "metadata": {
        "id": "evj5PfLO6Vfi",
        "colab_type": "code",
        "colab": {
          "base_uri": "https://localhost:8080/",
          "height": 286
        },
        "outputId": "b52d2c17-7490-4940-e620-db01166daea8"
      },
      "source": [
        "result = myThresh(img_gray, 127, 255)\n",
        "\n",
        "plt.imshow(result, cmap='gray')"
      ],
      "execution_count": null,
      "outputs": [
        {
          "output_type": "execute_result",
          "data": {
            "text/plain": [
              "<matplotlib.image.AxesImage at 0x7f1ac3ad7c18>"
            ]
          },
          "metadata": {
            "tags": []
          },
          "execution_count": 100
        },
        {
          "output_type": "display_data",
          "data": {
            "image/png": "[encoded data removed]",
            "text/plain": [
              "<Figure size 432x288 with 1 Axes>"
            ]
          },
          "metadata": {
            "tags": [],
            "needs_background": "light"
          }
        }
      ]
    },
    {
      "cell_type": "code",
      "metadata": {
        "id": "Zg-_u1_b8PDa",
        "colab_type": "code",
        "colab": {
          "base_uri": "https://localhost:8080/",
          "height": 34
        },
        "outputId": "62a4cccd-2971-4756-ca8f-091732155b4a"
      },
      "source": [
        "myThresh(img, 127, 278)"
      ],
      "execution_count": null,
      "outputs": [
        {
          "output_type": "stream",
          "text": [
            "wrong value\n"
          ],
          "name": "stdout"
        }
      ]
    },
    {
      "cell_type": "markdown",
      "metadata": {
        "id": "fosHOGSY0xC6",
        "colab_type": "text"
      },
      "source": [
        "# Segmentation Model"
      ]
    },
    {
      "cell_type": "code",
      "metadata": {
        "id": "e-ZRrM5_z9VK",
        "colab_type": "code",
        "colab": {
          "base_uri": "https://localhost:8080/",
          "height": 474
        },
        "outputId": "bddbc765-26d2-4737-b252-eab20708e9cc"
      },
      "source": [
        "!pip install -U segmentation-models"
      ],
      "execution_count": null,
      "outputs": [
        {
          "output_type": "stream",
          "text": [
            "Collecting segmentation-models\n",
            "  Downloading https://files.pythonhosted.org/packages/da/b9/4a183518c21689a56b834eaaa45cad242d9ec09a4360b5b10139f23c63f4/segmentation_models-1.0.1-py3-none-any.whl\n",
            "Collecting efficientnet==1.0.0\n",
            "  Downloading https://files.pythonhosted.org/packages/97/82/f3ae07316f0461417dc54affab6e86ab188a5a22f33176d35271628b96e0/efficientnet-1.0.0-py3-none-any.whl\n",
            "Collecting image-classifiers==1.0.0\n",
            "  Downloading https://files.pythonhosted.org/packages/81/98/6f84720e299a4942ab80df5f76ab97b7828b24d1de5e9b2cbbe6073228b7/image_classifiers-1.0.0-py3-none-any.whl\n",
            "Collecting keras-applications<=1.0.8,>=1.0.7\n",
            "\u001b[?25l  Downloading https://files.pythonhosted.org/packages/71/e3/19762fdfc62877ae9102edf6342d71b28fbfd9dea3d2f96a882ce099b03f/Keras_Applications-1.0.8-py3-none-any.whl (50kB)\n",
            "\u001b[K     |████████████████████████████████| 51kB 4.1MB/s \n",
            "\u001b[?25hRequirement already satisfied, skipping upgrade: scikit-image in /usr/local/lib/python3.6/dist-packages (from efficientnet==1.0.0->segmentation-models) (0.16.2)\n",
            "Requirement already satisfied, skipping upgrade: h5py in /usr/local/lib/python3.6/dist-packages (from keras-applications<=1.0.8,>=1.0.7->segmentation-models) (2.10.0)\n",
            "Requirement already satisfied, skipping upgrade: numpy>=1.9.1 in /usr/local/lib/python3.6/dist-packages (from keras-applications<=1.0.8,>=1.0.7->segmentation-models) (1.18.5)\n",
            "Requirement already satisfied, skipping upgrade: imageio>=2.3.0 in /usr/local/lib/python3.6/dist-packages (from scikit-image->efficientnet==1.0.0->segmentation-models) (2.4.1)\n",
            "Requirement already satisfied, skipping upgrade: scipy>=0.19.0 in /usr/local/lib/python3.6/dist-packages (from scikit-image->efficientnet==1.0.0->segmentation-models) (1.4.1)\n",
            "Requirement already satisfied, skipping upgrade: matplotlib!=3.0.0,>=2.0.0 in /usr/local/lib/python3.6/dist-packages (from scikit-image->efficientnet==1.0.0->segmentation-models) (3.2.2)\n",
            "Requirement already satisfied, skipping upgrade: pillow>=4.3.0 in /usr/local/lib/python3.6/dist-packages (from scikit-image->efficientnet==1.0.0->segmentation-models) (7.0.0)\n",
            "Requirement already satisfied, skipping upgrade: PyWavelets>=0.4.0 in /usr/local/lib/python3.6/dist-packages (from scikit-image->efficientnet==1.0.0->segmentation-models) (1.1.1)\n",
            "Requirement already satisfied, skipping upgrade: networkx>=2.0 in /usr/local/lib/python3.6/dist-packages (from scikit-image->efficientnet==1.0.0->segmentation-models) (2.4)\n",
            "Requirement already satisfied, skipping upgrade: six in /usr/local/lib/python3.6/dist-packages (from h5py->keras-applications<=1.0.8,>=1.0.7->segmentation-models) (1.15.0)\n",
            "Requirement already satisfied, skipping upgrade: cycler>=0.10 in /usr/local/lib/python3.6/dist-packages (from matplotlib!=3.0.0,>=2.0.0->scikit-image->efficientnet==1.0.0->segmentation-models) (0.10.0)\n",
            "Requirement already satisfied, skipping upgrade: pyparsing!=2.0.4,!=2.1.2,!=2.1.6,>=2.0.1 in /usr/local/lib/python3.6/dist-packages (from matplotlib!=3.0.0,>=2.0.0->scikit-image->efficientnet==1.0.0->segmentation-models) (2.4.7)\n",
            "Requirement already satisfied, skipping upgrade: kiwisolver>=1.0.1 in /usr/local/lib/python3.6/dist-packages (from matplotlib!=3.0.0,>=2.0.0->scikit-image->efficientnet==1.0.0->segmentation-models) (1.2.0)\n",
            "Requirement already satisfied, skipping upgrade: python-dateutil>=2.1 in /usr/local/lib/python3.6/dist-packages (from matplotlib!=3.0.0,>=2.0.0->scikit-image->efficientnet==1.0.0->segmentation-models) (2.8.1)\n",
            "Requirement already satisfied, skipping upgrade: decorator>=4.3.0 in /usr/local/lib/python3.6/dist-packages (from networkx>=2.0->scikit-image->efficientnet==1.0.0->segmentation-models) (4.4.2)\n",
            "Installing collected packages: keras-applications, efficientnet, image-classifiers, segmentation-models\n",
            "Successfully installed efficientnet-1.0.0 image-classifiers-1.0.0 keras-applications-1.0.8 segmentation-models-1.0.1\n"
          ],
          "name": "stdout"
        }
      ]
    },
    {
      "cell_type": "code",
      "metadata": {
        "id": "UQwccuGM2Lc-",
        "colab_type": "code",
        "colab": {
          "base_uri": "https://localhost:8080/",
          "height": 877
        },
        "outputId": "679bfeef-b334-4fb2-d043-cfd096d8f745"
      },
      "source": [
        "!pip install tensorflow-gpu==1.15.0"
      ],
      "execution_count": null,
      "outputs": [
        {
          "output_type": "stream",
          "text": [
            "Collecting tensorflow-gpu==1.15.0\n",
            "\u001b[?25l  Downloading https://files.pythonhosted.org/packages/a5/ad/933140e74973fb917a194ab814785e7c23680ca5dee6d663a509fe9579b6/tensorflow_gpu-1.15.0-cp36-cp36m-manylinux2010_x86_64.whl (411.5MB)\n",
            "\u001b[K     |████████████████████████████████| 411.5MB 40kB/s \n",
            "\u001b[?25hRequirement already satisfied: termcolor>=1.1.0 in /usr/local/lib/python3.6/dist-packages (from tensorflow-gpu==1.15.0) (1.1.0)\n",
            "Collecting tensorflow-estimator==1.15.1\n",
            "\u001b[?25l  Downloading https://files.pythonhosted.org/packages/de/62/2ee9cd74c9fa2fa450877847ba560b260f5d0fb70ee0595203082dafcc9d/tensorflow_estimator-1.15.1-py2.py3-none-any.whl (503kB)\n",
            "\u001b[K     |████████████████████████████████| 512kB 42.1MB/s \n",
            "\u001b[?25hRequirement already satisfied: protobuf>=3.6.1 in /usr/local/lib/python3.6/dist-packages (from tensorflow-gpu==1.15.0) (3.12.4)\n",
            "Requirement already satisfied: keras-preprocessing>=1.0.5 in /usr/local/lib/python3.6/dist-packages (from tensorflow-gpu==1.15.0) (1.1.2)\n",
            "Requirement already satisfied: grpcio>=1.8.6 in /usr/local/lib/python3.6/dist-packages (from tensorflow-gpu==1.15.0) (1.31.0)\n",
            "Requirement already satisfied: google-pasta>=0.1.6 in /usr/local/lib/python3.6/dist-packages (from tensorflow-gpu==1.15.0) (0.2.0)\n",
            "Collecting gast==0.2.2\n",
            "  Downloading https://files.pythonhosted.org/packages/4e/35/11749bf99b2d4e3cceb4d55ca22590b0d7c2c62b9de38ac4a4a7f4687421/gast-0.2.2.tar.gz\n",
            "Collecting tensorboard<1.16.0,>=1.15.0\n",
            "\u001b[?25l  Downloading https://files.pythonhosted.org/packages/1e/e9/d3d747a97f7188f48aa5eda486907f3b345cd409f0a0850468ba867db246/tensorboard-1.15.0-py3-none-any.whl (3.8MB)\n",
            "\u001b[K     |████████████████████████████████| 3.8MB 44.6MB/s \n",
            "\u001b[?25hRequirement already satisfied: wheel>=0.26 in /usr/local/lib/python3.6/dist-packages (from tensorflow-gpu==1.15.0) (0.34.2)\n",
            "Requirement already satisfied: numpy<2.0,>=1.16.0 in /usr/local/lib/python3.6/dist-packages (from tensorflow-gpu==1.15.0) (1.18.5)\n",
            "Requirement already satisfied: keras-applications>=1.0.8 in /usr/local/lib/python3.6/dist-packages (from tensorflow-gpu==1.15.0) (1.0.8)\n",
            "Requirement already satisfied: absl-py>=0.7.0 in /usr/local/lib/python3.6/dist-packages (from tensorflow-gpu==1.15.0) (0.9.0)\n",
            "Requirement already satisfied: wrapt>=1.11.1 in /usr/local/lib/python3.6/dist-packages (from tensorflow-gpu==1.15.0) (1.12.1)\n",
            "Requirement already satisfied: six>=1.10.0 in /usr/local/lib/python3.6/dist-packages (from tensorflow-gpu==1.15.0) (1.15.0)\n",
            "Requirement already satisfied: astor>=0.6.0 in /usr/local/lib/python3.6/dist-packages (from tensorflow-gpu==1.15.0) (0.8.1)\n",
            "Requirement already satisfied: opt-einsum>=2.3.2 in /usr/local/lib/python3.6/dist-packages (from tensorflow-gpu==1.15.0) (3.3.0)\n",
            "Requirement already satisfied: setuptools in /usr/local/lib/python3.6/dist-packages (from protobuf>=3.6.1->tensorflow-gpu==1.15.0) (49.2.0)\n",
            "Requirement already satisfied: werkzeug>=0.11.15 in /usr/local/lib/python3.6/dist-packages (from tensorboard<1.16.0,>=1.15.0->tensorflow-gpu==1.15.0) (1.0.1)\n",
            "Requirement already satisfied: markdown>=2.6.8 in /usr/local/lib/python3.6/dist-packages (from tensorboard<1.16.0,>=1.15.0->tensorflow-gpu==1.15.0) (3.2.2)\n",
            "Requirement already satisfied: h5py in /usr/local/lib/python3.6/dist-packages (from keras-applications>=1.0.8->tensorflow-gpu==1.15.0) (2.10.0)\n",
            "Requirement already satisfied: importlib-metadata; python_version < \"3.8\" in /usr/local/lib/python3.6/dist-packages (from markdown>=2.6.8->tensorboard<1.16.0,>=1.15.0->tensorflow-gpu==1.15.0) (1.7.0)\n",
            "Requirement already satisfied: zipp>=0.5 in /usr/local/lib/python3.6/dist-packages (from importlib-metadata; python_version < \"3.8\"->markdown>=2.6.8->tensorboard<1.16.0,>=1.15.0->tensorflow-gpu==1.15.0) (3.1.0)\n",
            "Building wheels for collected packages: gast\n",
            "  Building wheel for gast (setup.py) ... \u001b[?25l\u001b[?25hdone\n",
            "  Created wheel for gast: filename=gast-0.2.2-cp36-none-any.whl size=7540 sha256=91769fa5b96bb276040d7a5f1135383ff41bb2daddf23214adb2fa4ee5f6c5d1\n",
            "  Stored in directory: /root/.cache/pip/wheels/5c/2e/7e/a1d4d4fcebe6c381f378ce7743a3ced3699feb89bcfbdadadd\n",
            "Successfully built gast\n",
            "\u001b[31mERROR: tensorflow 2.3.0 has requirement gast==0.3.3, but you'll have gast 0.2.2 which is incompatible.\u001b[0m\n",
            "\u001b[31mERROR: tensorflow 2.3.0 has requirement tensorboard<3,>=2.3.0, but you'll have tensorboard 1.15.0 which is incompatible.\u001b[0m\n",
            "\u001b[31mERROR: tensorflow 2.3.0 has requirement tensorflow-estimator<2.4.0,>=2.3.0, but you'll have tensorflow-estimator 1.15.1 which is incompatible.\u001b[0m\n",
            "\u001b[31mERROR: tensorflow-probability 0.11.0 has requirement gast>=0.3.2, but you'll have gast 0.2.2 which is incompatible.\u001b[0m\n",
            "Installing collected packages: tensorflow-estimator, gast, tensorboard, tensorflow-gpu\n",
            "  Found existing installation: tensorflow-estimator 2.3.0\n",
            "    Uninstalling tensorflow-estimator-2.3.0:\n",
            "      Successfully uninstalled tensorflow-estimator-2.3.0\n",
            "  Found existing installation: gast 0.3.3\n",
            "    Uninstalling gast-0.3.3:\n",
            "      Successfully uninstalled gast-0.3.3\n",
            "  Found existing installation: tensorboard 2.3.0\n",
            "    Uninstalling tensorboard-2.3.0:\n",
            "      Successfully uninstalled tensorboard-2.3.0\n",
            "Successfully installed gast-0.2.2 tensorboard-1.15.0 tensorflow-estimator-1.15.1 tensorflow-gpu-1.15.0\n"
          ],
          "name": "stdout"
        }
      ]
    },
    {
      "cell_type": "code",
      "metadata": {
        "id": "a59e3K9h2n8C",
        "colab_type": "code",
        "colab": {}
      },
      "source": [
        "import tensorflow as tf"
      ],
      "execution_count": null,
      "outputs": []
    },
    {
      "cell_type": "code",
      "metadata": {
        "id": "0ILmKLCQdxf8",
        "colab_type": "code",
        "colab": {
          "base_uri": "https://localhost:8080/",
          "height": 35
        },
        "outputId": "296e4ef0-6439-492a-e9c4-1e1a5d8f677d"
      },
      "source": [
        "tf.__version__"
      ],
      "execution_count": null,
      "outputs": [
        {
          "output_type": "execute_result",
          "data": {
            "application/vnd.google.colaboratory.intrinsic+json": {
              "type": "string"
            },
            "text/plain": [
              "'1.15.0'"
            ]
          },
          "metadata": {
            "tags": []
          },
          "execution_count": 10
        }
      ]
    },
    {
      "cell_type": "code",
      "metadata": {
        "id": "-2MnCpQx1P3a",
        "colab_type": "code",
        "colab": {
          "base_uri": "https://localhost:8080/",
          "height": 34
        },
        "outputId": "cbbb89cf-b406-41c9-dd90-4e5d049167af"
      },
      "source": [
        "import segmentation_models as sm"
      ],
      "execution_count": null,
      "outputs": [
        {
          "output_type": "stream",
          "text": [
            "Segmentation Models: using `tf.keras` framework.\n"
          ],
          "name": "stdout"
        }
      ]
    },
    {
      "cell_type": "markdown",
      "metadata": {
        "id": "Ms2FN1cJGowF",
        "colab_type": "text"
      },
      "source": [
        "# Set Model backbone"
      ]
    },
    {
      "cell_type": "code",
      "metadata": {
        "id": "3aStHFLY1dhJ",
        "colab_type": "code",
        "colab": {
          "base_uri": "https://localhost:8080/",
          "height": 87
        },
        "outputId": "5c6515df-d280-4007-817c-e15f3d4d41a7"
      },
      "source": [
        "model = sm.Unet(backbone_name='vgg16', encoder_weights='imagenet')"
      ],
      "execution_count": null,
      "outputs": [
        {
          "output_type": "stream",
          "text": [
            "WARNING:tensorflow:From /usr/local/lib/python3.6/dist-packages/tensorflow_core/python/ops/resource_variable_ops.py:1630: calling BaseResourceVariable.__init__ (from tensorflow.python.ops.resource_variable_ops) with constraint is deprecated and will be removed in a future version.\n",
            "Instructions for updating:\n",
            "If using Keras pass *_constraint arguments to layers.\n"
          ],
          "name": "stdout"
        }
      ]
    },
    {
      "cell_type": "code",
      "metadata": {
        "id": "Sh6zqefd-FgT",
        "colab_type": "code",
        "colab": {
          "base_uri": "https://localhost:8080/",
          "height": 1000
        },
        "outputId": "04a6d67f-c431-4dfa-afcb-c97abb9f2903"
      },
      "source": [
        "model.summary()"
      ],
      "execution_count": null,
      "outputs": [
        {
          "output_type": "stream",
          "text": [
            "Model: \"model\"\n",
            "__________________________________________________________________________________________________\n",
            "Layer (type)                    Output Shape         Param #     Connected to                     \n",
            "==================================================================================================\n",
            "input_1 (InputLayer)            [(None, None, None,  0                                            \n",
            "__________________________________________________________________________________________________\n",
            "block1_conv1 (Conv2D)           (None, None, None, 6 1792        input_1[0][0]                    \n",
            "__________________________________________________________________________________________________\n",
            "block1_conv2 (Conv2D)           (None, None, None, 6 36928       block1_conv1[0][0]               \n",
            "__________________________________________________________________________________________________\n",
            "block1_pool (MaxPooling2D)      (None, None, None, 6 0           block1_conv2[0][0]               \n",
            "__________________________________________________________________________________________________\n",
            "block2_conv1 (Conv2D)           (None, None, None, 1 73856       block1_pool[0][0]                \n",
            "__________________________________________________________________________________________________\n",
            "block2_conv2 (Conv2D)           (None, None, None, 1 147584      block2_conv1[0][0]               \n",
            "__________________________________________________________________________________________________\n",
            "block2_pool (MaxPooling2D)      (None, None, None, 1 0           block2_conv2[0][0]               \n",
            "__________________________________________________________________________________________________\n",
            "block3_conv1 (Conv2D)           (None, None, None, 2 295168      block2_pool[0][0]                \n",
            "__________________________________________________________________________________________________\n",
            "block3_conv2 (Conv2D)           (None, None, None, 2 590080      block3_conv1[0][0]               \n",
            "__________________________________________________________________________________________________\n",
            "block3_conv3 (Conv2D)           (None, None, None, 2 590080      block3_conv2[0][0]               \n",
            "__________________________________________________________________________________________________\n",
            "block3_pool (MaxPooling2D)      (None, None, None, 2 0           block3_conv3[0][0]               \n",
            "__________________________________________________________________________________________________\n",
            "block4_conv1 (Conv2D)           (None, None, None, 5 1180160     block3_pool[0][0]                \n",
            "__________________________________________________________________________________________________\n",
            "block4_conv2 (Conv2D)           (None, None, None, 5 2359808     block4_conv1[0][0]               \n",
            "__________________________________________________________________________________________________\n",
            "block4_conv3 (Conv2D)           (None, None, None, 5 2359808     block4_conv2[0][0]               \n",
            "__________________________________________________________________________________________________\n",
            "block4_pool (MaxPooling2D)      (None, None, None, 5 0           block4_conv3[0][0]               \n",
            "__________________________________________________________________________________________________\n",
            "block5_conv1 (Conv2D)           (None, None, None, 5 2359808     block4_pool[0][0]                \n",
            "__________________________________________________________________________________________________\n",
            "block5_conv2 (Conv2D)           (None, None, None, 5 2359808     block5_conv1[0][0]               \n",
            "__________________________________________________________________________________________________\n",
            "block5_conv3 (Conv2D)           (None, None, None, 5 2359808     block5_conv2[0][0]               \n",
            "__________________________________________________________________________________________________\n",
            "block5_pool (MaxPooling2D)      (None, None, None, 5 0           block5_conv3[0][0]               \n",
            "__________________________________________________________________________________________________\n",
            "center_block1_conv (Conv2D)     (None, None, None, 5 2359296     block5_pool[0][0]                \n",
            "__________________________________________________________________________________________________\n",
            "center_block1_bn (BatchNormaliz (None, None, None, 5 2048        center_block1_conv[0][0]         \n",
            "__________________________________________________________________________________________________\n",
            "center_block1_relu (Activation) (None, None, None, 5 0           center_block1_bn[0][0]           \n",
            "__________________________________________________________________________________________________\n",
            "center_block2_conv (Conv2D)     (None, None, None, 5 2359296     center_block1_relu[0][0]         \n",
            "__________________________________________________________________________________________________\n",
            "center_block2_bn (BatchNormaliz (None, None, None, 5 2048        center_block2_conv[0][0]         \n",
            "__________________________________________________________________________________________________\n",
            "center_block2_relu (Activation) (None, None, None, 5 0           center_block2_bn[0][0]           \n",
            "__________________________________________________________________________________________________\n",
            "decoder_stage0_upsampling (UpSa (None, None, None, 5 0           center_block2_relu[0][0]         \n",
            "__________________________________________________________________________________________________\n",
            "decoder_stage0_concat (Concaten (None, None, None, 1 0           decoder_stage0_upsampling[0][0]  \n",
            "                                                                 block5_conv3[0][0]               \n",
            "__________________________________________________________________________________________________\n",
            "decoder_stage0a_conv (Conv2D)   (None, None, None, 2 2359296     decoder_stage0_concat[0][0]      \n",
            "__________________________________________________________________________________________________\n",
            "decoder_stage0a_bn (BatchNormal (None, None, None, 2 1024        decoder_stage0a_conv[0][0]       \n",
            "__________________________________________________________________________________________________\n",
            "decoder_stage0a_relu (Activatio (None, None, None, 2 0           decoder_stage0a_bn[0][0]         \n",
            "__________________________________________________________________________________________________\n",
            "decoder_stage0b_conv (Conv2D)   (None, None, None, 2 589824      decoder_stage0a_relu[0][0]       \n",
            "__________________________________________________________________________________________________\n",
            "decoder_stage0b_bn (BatchNormal (None, None, None, 2 1024        decoder_stage0b_conv[0][0]       \n",
            "__________________________________________________________________________________________________\n",
            "decoder_stage0b_relu (Activatio (None, None, None, 2 0           decoder_stage0b_bn[0][0]         \n",
            "__________________________________________________________________________________________________\n",
            "decoder_stage1_upsampling (UpSa (None, None, None, 2 0           decoder_stage0b_relu[0][0]       \n",
            "__________________________________________________________________________________________________\n",
            "decoder_stage1_concat (Concaten (None, None, None, 7 0           decoder_stage1_upsampling[0][0]  \n",
            "                                                                 block4_conv3[0][0]               \n",
            "__________________________________________________________________________________________________\n",
            "decoder_stage1a_conv (Conv2D)   (None, None, None, 1 884736      decoder_stage1_concat[0][0]      \n",
            "__________________________________________________________________________________________________\n",
            "decoder_stage1a_bn (BatchNormal (None, None, None, 1 512         decoder_stage1a_conv[0][0]       \n",
            "__________________________________________________________________________________________________\n",
            "decoder_stage1a_relu (Activatio (None, None, None, 1 0           decoder_stage1a_bn[0][0]         \n",
            "__________________________________________________________________________________________________\n",
            "decoder_stage1b_conv (Conv2D)   (None, None, None, 1 147456      decoder_stage1a_relu[0][0]       \n",
            "__________________________________________________________________________________________________\n",
            "decoder_stage1b_bn (BatchNormal (None, None, None, 1 512         decoder_stage1b_conv[0][0]       \n",
            "__________________________________________________________________________________________________\n",
            "decoder_stage1b_relu (Activatio (None, None, None, 1 0           decoder_stage1b_bn[0][0]         \n",
            "__________________________________________________________________________________________________\n",
            "decoder_stage2_upsampling (UpSa (None, None, None, 1 0           decoder_stage1b_relu[0][0]       \n",
            "__________________________________________________________________________________________________\n",
            "decoder_stage2_concat (Concaten (None, None, None, 3 0           decoder_stage2_upsampling[0][0]  \n",
            "                                                                 block3_conv3[0][0]               \n",
            "__________________________________________________________________________________________________\n",
            "decoder_stage2a_conv (Conv2D)   (None, None, None, 6 221184      decoder_stage2_concat[0][0]      \n",
            "__________________________________________________________________________________________________\n",
            "decoder_stage2a_bn (BatchNormal (None, None, None, 6 256         decoder_stage2a_conv[0][0]       \n",
            "__________________________________________________________________________________________________\n",
            "decoder_stage2a_relu (Activatio (None, None, None, 6 0           decoder_stage2a_bn[0][0]         \n",
            "__________________________________________________________________________________________________\n",
            "decoder_stage2b_conv (Conv2D)   (None, None, None, 6 36864       decoder_stage2a_relu[0][0]       \n",
            "__________________________________________________________________________________________________\n",
            "decoder_stage2b_bn (BatchNormal (None, None, None, 6 256         decoder_stage2b_conv[0][0]       \n",
            "__________________________________________________________________________________________________\n",
            "decoder_stage2b_relu (Activatio (None, None, None, 6 0           decoder_stage2b_bn[0][0]         \n",
            "__________________________________________________________________________________________________\n",
            "decoder_stage3_upsampling (UpSa (None, None, None, 6 0           decoder_stage2b_relu[0][0]       \n",
            "__________________________________________________________________________________________________\n",
            "decoder_stage3_concat (Concaten (None, None, None, 1 0           decoder_stage3_upsampling[0][0]  \n",
            "                                                                 block2_conv2[0][0]               \n",
            "__________________________________________________________________________________________________\n",
            "decoder_stage3a_conv (Conv2D)   (None, None, None, 3 55296       decoder_stage3_concat[0][0]      \n",
            "__________________________________________________________________________________________________\n",
            "decoder_stage3a_bn (BatchNormal (None, None, None, 3 128         decoder_stage3a_conv[0][0]       \n",
            "__________________________________________________________________________________________________\n",
            "decoder_stage3a_relu (Activatio (None, None, None, 3 0           decoder_stage3a_bn[0][0]         \n",
            "__________________________________________________________________________________________________\n",
            "decoder_stage3b_conv (Conv2D)   (None, None, None, 3 9216        decoder_stage3a_relu[0][0]       \n",
            "__________________________________________________________________________________________________\n",
            "decoder_stage3b_bn (BatchNormal (None, None, None, 3 128         decoder_stage3b_conv[0][0]       \n",
            "__________________________________________________________________________________________________\n",
            "decoder_stage3b_relu (Activatio (None, None, None, 3 0           decoder_stage3b_bn[0][0]         \n",
            "__________________________________________________________________________________________________\n",
            "decoder_stage4_upsampling (UpSa (None, None, None, 3 0           decoder_stage3b_relu[0][0]       \n",
            "__________________________________________________________________________________________________\n",
            "decoder_stage4a_conv (Conv2D)   (None, None, None, 1 4608        decoder_stage4_upsampling[0][0]  \n",
            "__________________________________________________________________________________________________\n",
            "decoder_stage4a_bn (BatchNormal (None, None, None, 1 64          decoder_stage4a_conv[0][0]       \n",
            "__________________________________________________________________________________________________\n",
            "decoder_stage4a_relu (Activatio (None, None, None, 1 0           decoder_stage4a_bn[0][0]         \n",
            "__________________________________________________________________________________________________\n",
            "decoder_stage4b_conv (Conv2D)   (None, None, None, 1 2304        decoder_stage4a_relu[0][0]       \n",
            "__________________________________________________________________________________________________\n",
            "decoder_stage4b_bn (BatchNormal (None, None, None, 1 64          decoder_stage4b_conv[0][0]       \n",
            "__________________________________________________________________________________________________\n",
            "decoder_stage4b_relu (Activatio (None, None, None, 1 0           decoder_stage4b_bn[0][0]         \n",
            "__________________________________________________________________________________________________\n",
            "final_conv (Conv2D)             (None, None, None, 1 145         decoder_stage4b_relu[0][0]       \n",
            "__________________________________________________________________________________________________\n",
            "sigmoid (Activation)            (None, None, None, 1 0           final_conv[0][0]                 \n",
            "==================================================================================================\n",
            "Total params: 23,752,273\n",
            "Trainable params: 23,748,241\n",
            "Non-trainable params: 4,032\n",
            "__________________________________________________________________________________________________\n"
          ],
          "name": "stdout"
        }
      ]
    },
    {
      "cell_type": "markdown",
      "metadata": {
        "id": "1vLhWct9GuSe",
        "colab_type": "text"
      },
      "source": [
        "# Test Fit Model"
      ]
    },
    {
      "cell_type": "code",
      "metadata": {
        "id": "SsJz3NCq5Yth",
        "colab_type": "code",
        "colab": {
          "base_uri": "https://localhost:8080/",
          "height": 286
        },
        "outputId": "7683f521-47da-4869-ad1c-707b7cbc38f7"
      },
      "source": [
        "# image size according to the decoder filter of the model -> (256,128,64,32,16)\n",
        "x = cv2.resize(img, (256,256))\n",
        "plt.imshow(x)"
      ],
      "execution_count": null,
      "outputs": [
        {
          "output_type": "execute_result",
          "data": {
            "text/plain": [
              "<matplotlib.image.AxesImage at 0x7f1a208fa4e0>"
            ]
          },
          "metadata": {
            "tags": []
          },
          "execution_count": 112
        },
        {
          "output_type": "display_data",
          "data": {
            "image/png": "[encoded data removed]",
            "text/plain": [
              "<Figure size 432x288 with 1 Axes>"
            ]
          },
          "metadata": {
            "tags": [],
            "needs_background": "light"
          }
        }
      ]
    },
    {
      "cell_type": "code",
      "metadata": {
        "id": "SM_hRUSa39Xf",
        "colab_type": "code",
        "colab": {
          "base_uri": "https://localhost:8080/",
          "height": 34
        },
        "outputId": "852d3939-0c3f-41c0-8d61-a923a2de5f7d"
      },
      "source": [
        "# increase dimmension for batch_size\n",
        "x = x[np.newaxis, :]\n",
        "x.shape"
      ],
      "execution_count": null,
      "outputs": [
        {
          "output_type": "execute_result",
          "data": {
            "text/plain": [
              "(1, 256, 256, 3)"
            ]
          },
          "metadata": {
            "tags": []
          },
          "execution_count": 113
        }
      ]
    },
    {
      "cell_type": "code",
      "metadata": {
        "id": "d2f8uG7k2_fj",
        "colab_type": "code",
        "colab": {}
      },
      "source": [
        "predict_img = model.predict(x)"
      ],
      "execution_count": null,
      "outputs": []
    },
    {
      "cell_type": "code",
      "metadata": {
        "id": "hYPg3T--462A",
        "colab_type": "code",
        "colab": {}
      },
      "source": [
        "p = predict_img.reshape((256,256))"
      ],
      "execution_count": null,
      "outputs": []
    },
    {
      "cell_type": "code",
      "metadata": {
        "id": "vMY5BxPU5G7-",
        "colab_type": "code",
        "colab": {
          "base_uri": "https://localhost:8080/",
          "height": 286
        },
        "outputId": "98658d1b-16c0-4e6d-ed6e-abde95ea909b"
      },
      "source": [
        "plt.imshow(p)"
      ],
      "execution_count": null,
      "outputs": [
        {
          "output_type": "execute_result",
          "data": {
            "text/plain": [
              "<matplotlib.image.AxesImage at 0x7f1a1d8125c0>"
            ]
          },
          "metadata": {
            "tags": []
          },
          "execution_count": 116
        },
        {
          "output_type": "display_data",
          "data": {
            "image/png": "[encoded data removed]",
            "text/plain": [
              "<Figure size 432x288 with 1 Axes>"
            ]
          },
          "metadata": {
            "tags": [],
            "needs_background": "light"
          }
        }
      ]
    },
    {
      "cell_type": "code",
      "metadata": {
        "id": "K92HUTtO9C7M",
        "colab_type": "code",
        "colab": {
          "base_uri": "https://localhost:8080/",
          "height": 34
        },
        "outputId": "a3a51fb6-68b7-4d7c-f6cd-48bb26844383"
      },
      "source": [
        "predict_img.shape"
      ],
      "execution_count": null,
      "outputs": [
        {
          "output_type": "execute_result",
          "data": {
            "text/plain": [
              "(1, 256, 256, 1)"
            ]
          },
          "metadata": {
            "tags": []
          },
          "execution_count": 117
        }
      ]
    },
    {
      "cell_type": "code",
      "metadata": {
        "id": "97oSyl6f-P06",
        "colab_type": "code",
        "colab": {}
      },
      "source": [
        "#overlap the predict img and the origin img\n",
        "result = predict_img[0] + x[0]"
      ],
      "execution_count": null,
      "outputs": []
    },
    {
      "cell_type": "code",
      "metadata": {
        "id": "DE0q5c7d3gLK",
        "colab_type": "code",
        "colab": {
          "base_uri": "https://localhost:8080/",
          "height": 303
        },
        "outputId": "401f9ec1-a8b3-4b29-81dc-cf94189d8e43"
      },
      "source": [
        "plt.imshow(result)"
      ],
      "execution_count": null,
      "outputs": [
        {
          "output_type": "stream",
          "text": [
            "Clipping input data to the valid range for imshow with RGB data ([0..1] for floats or [0..255] for integers).\n"
          ],
          "name": "stderr"
        },
        {
          "output_type": "execute_result",
          "data": {
            "text/plain": [
              "<matplotlib.image.AxesImage at 0x7f1a1d7ee748>"
            ]
          },
          "metadata": {
            "tags": []
          },
          "execution_count": 119
        },
        {
          "output_type": "display_data",
          "data": {
            "image/png": "[encoded data removed]",
            "text/plain": [
              "<Figure size 432x288 with 1 Axes>"
            ]
          },
          "metadata": {
            "tags": [],
            "needs_background": "light"
          }
        }
      ]
    },
    {
      "cell_type": "code",
      "metadata": {
        "id": "Fw4mzCOzdEPC",
        "colab_type": "code",
        "colab": {}
      },
      "source": [
        ""
      ],
      "execution_count": null,
      "outputs": []
    },
    {
      "cell_type": "code",
      "metadata": {
        "id": "NGGGhLm0ErOs",
        "colab_type": "code",
        "colab": {}
      },
      "source": [
        "import glob"
      ],
      "execution_count": null,
      "outputs": []
    },
    {
      "cell_type": "code",
      "metadata": {
        "id": "6D-9IX4BEPlu",
        "colab_type": "code",
        "colab": {
          "base_uri": "https://localhost:8080/",
          "height": 34
        },
        "outputId": "ffb1f5e2-1ae3-4047-b8d1-0c855420c17f"
      },
      "source": [
        "!ls \"/content/gdrive/My Drive/iir_training_python/cvHW/f01\""
      ],
      "execution_count": null,
      "outputs": [
        {
          "output_type": "stream",
          "text": [
            "image  label  train_image  train_mask\n"
          ],
          "name": "stdout"
        }
      ]
    },
    {
      "cell_type": "markdown",
      "metadata": {
        "id": "gcVEvcFnKmS2",
        "colab_type": "text"
      },
      "source": [
        "# Import Training Data"
      ]
    },
    {
      "cell_type": "code",
      "metadata": {
        "id": "0nrbzRy4K1MP",
        "colab_type": "code",
        "colab": {}
      },
      "source": [
        "filenames = glob.glob(F\"/content/gdrive/My Drive/iir_training_python/cvHW/f01/image/*.png\")"
      ],
      "execution_count": null,
      "outputs": []
    },
    {
      "cell_type": "code",
      "metadata": {
        "id": "LewEB9a2K-CJ",
        "colab_type": "code",
        "colab": {
          "base_uri": "https://localhost:8080/",
          "height": 353
        },
        "outputId": "bfe06570-524e-4b9c-bb38-e9b294c9757c"
      },
      "source": [
        "filenames.sort()\n",
        "filenames"
      ],
      "execution_count": null,
      "outputs": [
        {
          "output_type": "execute_result",
          "data": {
            "text/plain": [
              "['/content/gdrive/My Drive/iir_training_python/cvHW/f01/image/0001.png',\n",
              " '/content/gdrive/My Drive/iir_training_python/cvHW/f01/image/0002.png',\n",
              " '/content/gdrive/My Drive/iir_training_python/cvHW/f01/image/0003.png',\n",
              " '/content/gdrive/My Drive/iir_training_python/cvHW/f01/image/0004.png',\n",
              " '/content/gdrive/My Drive/iir_training_python/cvHW/f01/image/0005.png',\n",
              " '/content/gdrive/My Drive/iir_training_python/cvHW/f01/image/0006.png',\n",
              " '/content/gdrive/My Drive/iir_training_python/cvHW/f01/image/0007.png',\n",
              " '/content/gdrive/My Drive/iir_training_python/cvHW/f01/image/0008.png',\n",
              " '/content/gdrive/My Drive/iir_training_python/cvHW/f01/image/0009.png',\n",
              " '/content/gdrive/My Drive/iir_training_python/cvHW/f01/image/0010.png',\n",
              " '/content/gdrive/My Drive/iir_training_python/cvHW/f01/image/0011.png',\n",
              " '/content/gdrive/My Drive/iir_training_python/cvHW/f01/image/0012.png',\n",
              " '/content/gdrive/My Drive/iir_training_python/cvHW/f01/image/0013.png',\n",
              " '/content/gdrive/My Drive/iir_training_python/cvHW/f01/image/0014.png',\n",
              " '/content/gdrive/My Drive/iir_training_python/cvHW/f01/image/0015.png',\n",
              " '/content/gdrive/My Drive/iir_training_python/cvHW/f01/image/0016.png',\n",
              " '/content/gdrive/My Drive/iir_training_python/cvHW/f01/image/0017.png',\n",
              " '/content/gdrive/My Drive/iir_training_python/cvHW/f01/image/0018.png',\n",
              " '/content/gdrive/My Drive/iir_training_python/cvHW/f01/image/0019.png',\n",
              " '/content/gdrive/My Drive/iir_training_python/cvHW/f01/image/0020.png']"
            ]
          },
          "metadata": {
            "tags": []
          },
          "execution_count": 16
        }
      ]
    },
    {
      "cell_type": "code",
      "metadata": {
        "id": "b_x2a9u8LAIj",
        "colab_type": "code",
        "colab": {}
      },
      "source": [
        "images = [cv2.imread(i) for i in filenames]"
      ],
      "execution_count": null,
      "outputs": []
    },
    {
      "cell_type": "code",
      "metadata": {
        "id": "No8WmeyVPGEk",
        "colab_type": "code",
        "colab": {}
      },
      "source": [
        "# normalize\n",
        "images = [i/255 for i in images] "
      ],
      "execution_count": null,
      "outputs": []
    },
    {
      "cell_type": "code",
      "metadata": {
        "id": "8y13PDmzTF_8",
        "colab_type": "code",
        "colab": {}
      },
      "source": [
        "#resize to fit model\n",
        "images = [cv2.resize(i, (480,1152)) for i in images]"
      ],
      "execution_count": null,
      "outputs": []
    },
    {
      "cell_type": "code",
      "metadata": {
        "id": "_xYojLKiLGsJ",
        "colab_type": "code",
        "colab": {
          "base_uri": "https://localhost:8080/",
          "height": 34
        },
        "outputId": "fd464400-025b-426c-ded0-31946e7559d4"
      },
      "source": [
        "images[0].shape"
      ],
      "execution_count": null,
      "outputs": [
        {
          "output_type": "execute_result",
          "data": {
            "text/plain": [
              "(1152, 480, 3)"
            ]
          },
          "metadata": {
            "tags": []
          },
          "execution_count": 20
        }
      ]
    },
    {
      "cell_type": "code",
      "metadata": {
        "id": "0WNh8y-ELJUz",
        "colab_type": "code",
        "colab": {
          "base_uri": "https://localhost:8080/",
          "height": 286
        },
        "outputId": "ad2461bf-5e56-4d01-91ee-42382dc893ed"
      },
      "source": [
        "plt.imshow(images[0])"
      ],
      "execution_count": null,
      "outputs": [
        {
          "output_type": "execute_result",
          "data": {
            "text/plain": [
              "<matplotlib.image.AxesImage at 0x7f6c9c44a8d0>"
            ]
          },
          "metadata": {
            "tags": []
          },
          "execution_count": 21
        },
        {
          "output_type": "display_data",
          "data": {
            "image/png": "[encoded data removed]",
            "text/plain": [
              "<Figure size 432x288 with 1 Axes>"
            ]
          },
          "metadata": {
            "tags": [],
            "needs_background": "light"
          }
        }
      ]
    },
    {
      "cell_type": "markdown",
      "metadata": {
        "id": "zA0uku6cGy5w",
        "colab_type": "text"
      },
      "source": [
        "# Import training Labels"
      ]
    },
    {
      "cell_type": "code",
      "metadata": {
        "id": "kL43H7KBFhP6",
        "colab_type": "code",
        "colab": {}
      },
      "source": [
        "filenames = glob.glob(F\"/content/gdrive/My Drive/iir_training_python/cvHW/f01/label/*.png\")"
      ],
      "execution_count": null,
      "outputs": []
    },
    {
      "cell_type": "code",
      "metadata": {
        "id": "1kPiWrWqF8yV",
        "colab_type": "code",
        "colab": {
          "base_uri": "https://localhost:8080/",
          "height": 353
        },
        "outputId": "0fa3759c-ee06-4bb9-fc01-ad66d2e487e3"
      },
      "source": [
        "filenames.sort()\n",
        "filenames"
      ],
      "execution_count": null,
      "outputs": [
        {
          "output_type": "execute_result",
          "data": {
            "text/plain": [
              "['/content/gdrive/My Drive/iir_training_python/cvHW/f01/label/0001.png',\n",
              " '/content/gdrive/My Drive/iir_training_python/cvHW/f01/label/0002.png',\n",
              " '/content/gdrive/My Drive/iir_training_python/cvHW/f01/label/0003.png',\n",
              " '/content/gdrive/My Drive/iir_training_python/cvHW/f01/label/0004.png',\n",
              " '/content/gdrive/My Drive/iir_training_python/cvHW/f01/label/0005.png',\n",
              " '/content/gdrive/My Drive/iir_training_python/cvHW/f01/label/0006.png',\n",
              " '/content/gdrive/My Drive/iir_training_python/cvHW/f01/label/0007.png',\n",
              " '/content/gdrive/My Drive/iir_training_python/cvHW/f01/label/0008.png',\n",
              " '/content/gdrive/My Drive/iir_training_python/cvHW/f01/label/0009.png',\n",
              " '/content/gdrive/My Drive/iir_training_python/cvHW/f01/label/0010.png',\n",
              " '/content/gdrive/My Drive/iir_training_python/cvHW/f01/label/0011.png',\n",
              " '/content/gdrive/My Drive/iir_training_python/cvHW/f01/label/0012.png',\n",
              " '/content/gdrive/My Drive/iir_training_python/cvHW/f01/label/0013.png',\n",
              " '/content/gdrive/My Drive/iir_training_python/cvHW/f01/label/0014.png',\n",
              " '/content/gdrive/My Drive/iir_training_python/cvHW/f01/label/0015.png',\n",
              " '/content/gdrive/My Drive/iir_training_python/cvHW/f01/label/0016.png',\n",
              " '/content/gdrive/My Drive/iir_training_python/cvHW/f01/label/0017.png',\n",
              " '/content/gdrive/My Drive/iir_training_python/cvHW/f01/label/0018.png',\n",
              " '/content/gdrive/My Drive/iir_training_python/cvHW/f01/label/0019.png',\n",
              " '/content/gdrive/My Drive/iir_training_python/cvHW/f01/label/0020.png']"
            ]
          },
          "metadata": {
            "tags": []
          },
          "execution_count": 23
        }
      ]
    },
    {
      "cell_type": "code",
      "metadata": {
        "id": "1bJrmMFPF-o9",
        "colab_type": "code",
        "colab": {}
      },
      "source": [
        "labels = [cv2.imread(i) for i in filenames]"
      ],
      "execution_count": null,
      "outputs": []
    },
    {
      "cell_type": "code",
      "metadata": {
        "id": "NpxN1qrHPg_V",
        "colab_type": "code",
        "colab": {}
      },
      "source": [
        "labels = [i/255 for i in labels]"
      ],
      "execution_count": null,
      "outputs": []
    },
    {
      "cell_type": "code",
      "metadata": {
        "id": "WOwRwz2zS61n",
        "colab_type": "code",
        "colab": {}
      },
      "source": [
        "labels = [cv2.resize(i,(480,1152)) for i in labels]"
      ],
      "execution_count": null,
      "outputs": []
    },
    {
      "cell_type": "code",
      "metadata": {
        "id": "WRcM0i4FG524",
        "colab_type": "code",
        "colab": {
          "base_uri": "https://localhost:8080/",
          "height": 34
        },
        "outputId": "b587df3b-e160-4b8d-b798-bf6a551c2cfb"
      },
      "source": [
        "len(labels)"
      ],
      "execution_count": null,
      "outputs": [
        {
          "output_type": "execute_result",
          "data": {
            "text/plain": [
              "20"
            ]
          },
          "metadata": {
            "tags": []
          },
          "execution_count": 27
        }
      ]
    },
    {
      "cell_type": "code",
      "metadata": {
        "id": "VPSUUT_GLVaR",
        "colab_type": "code",
        "colab": {
          "base_uri": "https://localhost:8080/",
          "height": 34
        },
        "outputId": "2dbf99ea-239d-4ad5-e4ec-6a8697f44683"
      },
      "source": [
        "labels[0].shape"
      ],
      "execution_count": null,
      "outputs": [
        {
          "output_type": "execute_result",
          "data": {
            "text/plain": [
              "(1152, 480, 3)"
            ]
          },
          "metadata": {
            "tags": []
          },
          "execution_count": 28
        }
      ]
    },
    {
      "cell_type": "code",
      "metadata": {
        "id": "zUCdwodlLapb",
        "colab_type": "code",
        "colab": {
          "base_uri": "https://localhost:8080/",
          "height": 286
        },
        "outputId": "8d904cff-f537-486a-fc6c-fd996779683b"
      },
      "source": [
        "plt.imshow(labels[0])"
      ],
      "execution_count": null,
      "outputs": [
        {
          "output_type": "execute_result",
          "data": {
            "text/plain": [
              "<matplotlib.image.AxesImage at 0x7f6c9c431cf8>"
            ]
          },
          "metadata": {
            "tags": []
          },
          "execution_count": 29
        },
        {
          "output_type": "display_data",
          "data": {
            "image/png": "[encoded data removed]",
            "text/plain": [
              "<Figure size 432x288 with 1 Axes>"
            ]
          },
          "metadata": {
            "tags": [],
            "needs_background": "light"
          }
        }
      ]
    },
    {
      "cell_type": "markdown",
      "metadata": {
        "id": "NvO1nBOaIw0o",
        "colab_type": "text"
      },
      "source": [
        "# Split Training and Testing"
      ]
    },
    {
      "cell_type": "code",
      "metadata": {
        "id": "s4pt0ZXxGc4s",
        "colab_type": "code",
        "colab": {}
      },
      "source": [
        "from sklearn.model_selection import train_test_split"
      ],
      "execution_count": null,
      "outputs": []
    },
    {
      "cell_type": "code",
      "metadata": {
        "id": "1e12qIy3Hr9W",
        "colab_type": "code",
        "colab": {}
      },
      "source": [
        "index_train, index_test = train_test_split(range(20),test_size=0.2, shuffle=True)"
      ],
      "execution_count": null,
      "outputs": []
    },
    {
      "cell_type": "code",
      "metadata": {
        "id": "dVw6QP0sH9MI",
        "colab_type": "code",
        "colab": {
          "base_uri": "https://localhost:8080/",
          "height": 34
        },
        "outputId": "32d7e386-984a-49b6-bd9d-aa0200200c80"
      },
      "source": [
        "index_train"
      ],
      "execution_count": null,
      "outputs": [
        {
          "output_type": "execute_result",
          "data": {
            "text/plain": [
              "[16, 2, 14, 1, 17, 7, 18, 19, 10, 3, 0, 12, 15, 9, 11, 5]"
            ]
          },
          "metadata": {
            "tags": []
          },
          "execution_count": 32
        }
      ]
    },
    {
      "cell_type": "code",
      "metadata": {
        "id": "FIZGDttuIJeJ",
        "colab_type": "code",
        "colab": {
          "base_uri": "https://localhost:8080/",
          "height": 34
        },
        "outputId": "a42d4918-58d1-43bf-f2a6-c714ef0447ac"
      },
      "source": [
        "index_test"
      ],
      "execution_count": null,
      "outputs": [
        {
          "output_type": "execute_result",
          "data": {
            "text/plain": [
              "[6, 4, 13, 8]"
            ]
          },
          "metadata": {
            "tags": []
          },
          "execution_count": 33
        }
      ]
    },
    {
      "cell_type": "code",
      "metadata": {
        "id": "BnjOVQSZMR3X",
        "colab_type": "code",
        "colab": {}
      },
      "source": [
        "# divide the imgs and labels\n",
        "x_train = [images[i] for i in index_train]\n",
        "x_test = [images[i] for i in index_test]\n",
        "y_train = [labels[i] for i in index_train]\n",
        "y_test = [labels[i] for i in index_test]"
      ],
      "execution_count": null,
      "outputs": []
    },
    {
      "cell_type": "code",
      "metadata": {
        "id": "U7kPIISnZ41t",
        "colab_type": "code",
        "colab": {}
      },
      "source": [
        "# convert fit data into type numpy\n",
        "x_train = np.array(x_train)\n",
        "x_test = np.array(x_test)\n",
        "y_train = np.array(y_train)\n",
        "y_test = np.array(y_test)"
      ],
      "execution_count": null,
      "outputs": []
    },
    {
      "cell_type": "code",
      "metadata": {
        "id": "xx9t41uhM9aJ",
        "colab_type": "code",
        "colab": {
          "base_uri": "https://localhost:8080/",
          "height": 34
        },
        "outputId": "5f621dbe-0ecf-4b41-f213-d86905633b24"
      },
      "source": [
        "y_test.shape"
      ],
      "execution_count": null,
      "outputs": [
        {
          "output_type": "execute_result",
          "data": {
            "text/plain": [
              "(4, 1152, 480, 3)"
            ]
          },
          "metadata": {
            "tags": []
          },
          "execution_count": 36
        }
      ]
    },
    {
      "cell_type": "markdown",
      "metadata": {
        "id": "zZuz6ES1sj1Q",
        "colab_type": "text"
      },
      "source": [
        "# save the reshaped training images and masks"
      ]
    },
    {
      "cell_type": "code",
      "metadata": {
        "id": "HEsceqEZsf5C",
        "colab_type": "code",
        "colab": {}
      },
      "source": [
        "for i in range(len(x_train)):\n",
        "  path = \"/content/gdrive/My Drive/iir_training_python/cvHW/f01/train_image/class0/{:04d}.png\".format(i)\n",
        "  cv2.imwrite(path, x_train[i])\n",
        "  path = \"/content/gdrive/My Drive/iir_training_python/cvHW/f01/train_mask/class0/{:04d}.png\".format(i)\n",
        "  cv2.imwrite(path, y_train[i])"
      ],
      "execution_count": null,
      "outputs": []
    },
    {
      "cell_type": "markdown",
      "metadata": {
        "id": "dNBvkAKCD5dd",
        "colab_type": "text"
      },
      "source": [
        "# data augmentation  (TBD)"
      ]
    },
    {
      "cell_type": "code",
      "metadata": {
        "id": "hf-2BB41IjQ_",
        "colab_type": "code",
        "colab": {
          "base_uri": "https://localhost:8080/",
          "height": 726
        },
        "outputId": "23da5887-56a9-4530-d0c6-4829bc979f6e"
      },
      "source": [
        "!pip install -U git+https://github.com/albumentations-team/albumentations"
      ],
      "execution_count": null,
      "outputs": [
        {
          "output_type": "stream",
          "text": [
            "Collecting git+https://github.com/albumentations-team/albumentations\n",
            "  Cloning https://github.com/albumentations-team/albumentations to /tmp/pip-req-build-rwvd1nuz\n",
            "  Running command git clone -q https://github.com/albumentations-team/albumentations /tmp/pip-req-build-rwvd1nuz\n",
            "Requirement already satisfied, skipping upgrade: numpy>=1.11.1 in /usr/local/lib/python3.6/dist-packages (from albumentations==0.4.6) (1.18.5)\n",
            "Requirement already satisfied, skipping upgrade: scipy in /usr/local/lib/python3.6/dist-packages (from albumentations==0.4.6) (1.4.1)\n",
            "Collecting imgaug>=0.4.0\n",
            "\u001b[?25l  Downloading https://files.pythonhosted.org/packages/66/b1/af3142c4a85cba6da9f4ebb5ff4e21e2616309552caca5e8acefe9840622/imgaug-0.4.0-py2.py3-none-any.whl (948kB)\n",
            "\u001b[K     |████████████████████████████████| 952kB 8.9MB/s \n",
            "\u001b[?25hRequirement already satisfied, skipping upgrade: PyYAML in /usr/local/lib/python3.6/dist-packages (from albumentations==0.4.6) (3.13)\n",
            "Requirement already satisfied, skipping upgrade: opencv-python>=4.1.1 in /usr/local/lib/python3.6/dist-packages (from albumentations==0.4.6) (4.1.2.30)\n",
            "Requirement already satisfied, skipping upgrade: matplotlib in /usr/local/lib/python3.6/dist-packages (from imgaug>=0.4.0->albumentations==0.4.6) (3.2.2)\n",
            "Requirement already satisfied, skipping upgrade: imageio in /usr/local/lib/python3.6/dist-packages (from imgaug>=0.4.0->albumentations==0.4.6) (2.4.1)\n",
            "Requirement already satisfied, skipping upgrade: Pillow in /usr/local/lib/python3.6/dist-packages (from imgaug>=0.4.0->albumentations==0.4.6) (7.0.0)\n",
            "Requirement already satisfied, skipping upgrade: Shapely in /usr/local/lib/python3.6/dist-packages (from imgaug>=0.4.0->albumentations==0.4.6) (1.7.0)\n",
            "Requirement already satisfied, skipping upgrade: scikit-image>=0.14.2 in /usr/local/lib/python3.6/dist-packages (from imgaug>=0.4.0->albumentations==0.4.6) (0.16.2)\n",
            "Requirement already satisfied, skipping upgrade: six in /usr/local/lib/python3.6/dist-packages (from imgaug>=0.4.0->albumentations==0.4.6) (1.15.0)\n",
            "Requirement already satisfied, skipping upgrade: kiwisolver>=1.0.1 in /usr/local/lib/python3.6/dist-packages (from matplotlib->imgaug>=0.4.0->albumentations==0.4.6) (1.2.0)\n",
            "Requirement already satisfied, skipping upgrade: python-dateutil>=2.1 in /usr/local/lib/python3.6/dist-packages (from matplotlib->imgaug>=0.4.0->albumentations==0.4.6) (2.8.1)\n",
            "Requirement already satisfied, skipping upgrade: cycler>=0.10 in /usr/local/lib/python3.6/dist-packages (from matplotlib->imgaug>=0.4.0->albumentations==0.4.6) (0.10.0)\n",
            "Requirement already satisfied, skipping upgrade: pyparsing!=2.0.4,!=2.1.2,!=2.1.6,>=2.0.1 in /usr/local/lib/python3.6/dist-packages (from matplotlib->imgaug>=0.4.0->albumentations==0.4.6) (2.4.7)\n",
            "Requirement already satisfied, skipping upgrade: PyWavelets>=0.4.0 in /usr/local/lib/python3.6/dist-packages (from scikit-image>=0.14.2->imgaug>=0.4.0->albumentations==0.4.6) (1.1.1)\n",
            "Requirement already satisfied, skipping upgrade: networkx>=2.0 in /usr/local/lib/python3.6/dist-packages (from scikit-image>=0.14.2->imgaug>=0.4.0->albumentations==0.4.6) (2.4)\n",
            "Requirement already satisfied, skipping upgrade: decorator>=4.3.0 in /usr/local/lib/python3.6/dist-packages (from networkx>=2.0->scikit-image>=0.14.2->imgaug>=0.4.0->albumentations==0.4.6) (4.4.2)\n",
            "Building wheels for collected packages: albumentations\n",
            "  Building wheel for albumentations (setup.py) ... \u001b[?25l\u001b[?25hdone\n",
            "  Created wheel for albumentations: filename=albumentations-0.4.6-cp36-none-any.whl size=66166 sha256=55a609dcd63f8e832ac0e22cc586b8210e06cd3eb37b3446c4c84fc716b3fb9c\n",
            "  Stored in directory: /tmp/pip-ephem-wheel-cache-myt8vhd6/wheels/6f/77/82/86baf8aeda64a6de0f890cd0f2fb31acaf5545cc9c99ad21ba\n",
            "Successfully built albumentations\n",
            "Installing collected packages: imgaug, albumentations\n",
            "  Found existing installation: imgaug 0.2.6\n",
            "    Uninstalling imgaug-0.2.6:\n",
            "      Successfully uninstalled imgaug-0.2.6\n",
            "  Found existing installation: albumentations 0.1.12\n",
            "    Uninstalling albumentations-0.1.12:\n",
            "      Successfully uninstalled albumentations-0.1.12\n",
            "Successfully installed albumentations-0.4.6 imgaug-0.4.0\n"
          ],
          "name": "stdout"
        },
        {
          "output_type": "display_data",
          "data": {
            "application/vnd.colab-display-data+json": {
              "pip_warning": {
                "packages": [
                  "albumentations",
                  "imgaug"
                ]
              }
            }
          },
          "metadata": {
            "tags": []
          }
        }
      ]
    },
    {
      "cell_type": "code",
      "metadata": {
        "id": "24dov7xsIlKj",
        "colab_type": "code",
        "colab": {}
      },
      "source": [
        "#import libraries required\n",
        "\n",
        "import albumentations as A\n",
        "import random"
      ],
      "execution_count": null,
      "outputs": []
    },
    {
      "cell_type": "code",
      "metadata": {
        "id": "O0HNheqgIzk0",
        "colab_type": "code",
        "colab": {}
      },
      "source": [
        "# augmentation function\n",
        "def augment(aug, image, mask, num_aug):\n",
        "\n",
        "    aug_img = []\n",
        "    aug_mask = []\n",
        "\n",
        "    for i in range(num_aug):\n",
        "      augmented = aug(image=image, mask=mask)\n",
        "      #change the grayscale image back to 3 channels\n",
        "      aug_img.append(np.stack((augmented['image'],)*3,  axis=-1))\n",
        "      aug_mask.append(np.stack((augmented['mask'],)*3,  axis=-1))\n",
        "\n",
        "    return aug_img, aug_mask\n"
      ],
      "execution_count": null,
      "outputs": []
    },
    {
      "cell_type": "code",
      "metadata": {
        "id": "vXT-a02TJBkJ",
        "colab_type": "code",
        "colab": {
          "base_uri": "https://localhost:8080/",
          "height": 554
        },
        "outputId": "ee0c06cb-18cd-41e5-a3ca-af17ad054b80"
      },
      "source": [
        "# Train Data Augmention\n",
        "\n",
        "random.seed(42)\n",
        "\n",
        "x_train_aug = []\n",
        "y_train_aug = []\n",
        "\n",
        "for i in range(len(x_train)):\n",
        "  print('augment image and mask {}'.format(i))\n",
        "  image = x_train[i]\n",
        "  mask = y_train[i]\n",
        "\n",
        "  # change the grayscale image to 1 channel\n",
        "  _image = image[...,0]\n",
        "  _mask = mask[...,0]\n",
        "\n",
        "  # the transform matrix\n",
        "  light = A.Compose([\n",
        "      A.ShiftScaleRotate(),\n",
        "      A.Blur(),\n",
        "      A.GaussNoise(),\n",
        "      A.ElasticTransform(),\n",
        "      A.MaskDropout((10,15), p=1),\n",
        "      A.Cutout(p=1)\n",
        "  ],p=1)\n",
        "\n",
        "  # get the augmentaion result\n",
        "  n = 3\n",
        "  aug_img, aug_mask = augment(light, _image, _mask, num_aug=n)\n",
        "  print('created {} augmented image'.format(n))\n",
        "\n",
        "  # append the original image\n",
        "  aug_img.append(image)\n",
        "  aug_mask.append(mask)\n",
        "\n",
        "  if len(x_train_aug) == 0:\n",
        "    x_train_aug = aug_img\n",
        "    y_train_aug = aug_mask\n",
        "  else:\n",
        "    x_train_aug = x_train_aug + aug_img\n",
        "    y_train_aug = y_train_aug + aug_mask\n",
        " "
      ],
      "execution_count": null,
      "outputs": [
        {
          "output_type": "stream",
          "text": [
            "augment image and mask 0\n",
            "created 3 augmented image\n",
            "augment image and mask 1\n",
            "created 3 augmented image\n",
            "augment image and mask 2\n",
            "created 3 augmented image\n",
            "augment image and mask 3\n",
            "created 3 augmented image\n",
            "augment image and mask 4\n",
            "created 3 augmented image\n",
            "augment image and mask 5\n",
            "created 3 augmented image\n",
            "augment image and mask 6\n",
            "created 3 augmented image\n",
            "augment image and mask 7\n",
            "created 3 augmented image\n",
            "augment image and mask 8\n",
            "created 3 augmented image\n",
            "augment image and mask 9\n",
            "created 3 augmented image\n",
            "augment image and mask 10\n",
            "created 3 augmented image\n",
            "augment image and mask 11\n",
            "created 3 augmented image\n",
            "augment image and mask 12\n",
            "created 3 augmented image\n",
            "augment image and mask 13\n",
            "created 3 augmented image\n",
            "augment image and mask 14\n",
            "created 3 augmented image\n",
            "augment image and mask 15\n",
            "created 3 augmented image\n"
          ],
          "name": "stdout"
        }
      ]
    },
    {
      "cell_type": "code",
      "metadata": {
        "id": "aZZ3U4tkbZ9Y",
        "colab_type": "code",
        "colab": {
          "base_uri": "https://localhost:8080/",
          "height": 34
        },
        "outputId": "1ed95fad-1c15-4d72-e700-8ec80bbeac1f"
      },
      "source": [
        "len(x_train_aug)"
      ],
      "execution_count": null,
      "outputs": [
        {
          "output_type": "execute_result",
          "data": {
            "text/plain": [
              "64"
            ]
          },
          "metadata": {
            "tags": []
          },
          "execution_count": 128
        }
      ]
    },
    {
      "cell_type": "code",
      "metadata": {
        "id": "V_oLgC4AYKet",
        "colab_type": "code",
        "colab": {}
      },
      "source": [
        "x_train_aug = np.array(x_train_aug)\n",
        "y_train_aug = np.array(y_train_aug)"
      ],
      "execution_count": null,
      "outputs": []
    },
    {
      "cell_type": "code",
      "metadata": {
        "id": "opj1gJjNYcd8",
        "colab_type": "code",
        "colab": {
          "base_uri": "https://localhost:8080/",
          "height": 50
        },
        "outputId": "ae65da45-8cb1-4136-db59-9703b01a52b5"
      },
      "source": [
        "print(x_train_aug.shape)\n",
        "print(y_train_aug.shape)"
      ],
      "execution_count": null,
      "outputs": [
        {
          "output_type": "stream",
          "text": [
            "(64, 1152, 480, 3)\n",
            "(64, 1152, 480, 3)\n"
          ],
          "name": "stdout"
        }
      ]
    },
    {
      "cell_type": "code",
      "metadata": {
        "id": "hKQTbzMZP1EQ",
        "colab_type": "code",
        "colab": {
          "base_uri": "https://localhost:8080/",
          "height": 286
        },
        "outputId": "2cdba8e6-2328-4be8-e5e3-c74b25852240"
      },
      "source": [
        "plt.imshow(x_train_aug[0])"
      ],
      "execution_count": null,
      "outputs": [
        {
          "output_type": "execute_result",
          "data": {
            "text/plain": [
              "<matplotlib.image.AxesImage at 0x7f6c84fafef0>"
            ]
          },
          "metadata": {
            "tags": []
          },
          "execution_count": 131
        },
        {
          "output_type": "display_data",
          "data": {
            "image/png": "[encoded data removed]",
            "text/plain": [
              "<Figure size 432x288 with 1 Axes>"
            ]
          },
          "metadata": {
            "tags": [],
            "needs_background": "light"
          }
        }
      ]
    },
    {
      "cell_type": "code",
      "metadata": {
        "id": "MGpMnEGrPh-N",
        "colab_type": "code",
        "colab": {
          "base_uri": "https://localhost:8080/",
          "height": 286
        },
        "outputId": "f8507c5e-04d1-4acd-a353-62f274f5dbb9"
      },
      "source": [
        "plt.imshow(y_train_aug[0])"
      ],
      "execution_count": null,
      "outputs": [
        {
          "output_type": "execute_result",
          "data": {
            "text/plain": [
              "<matplotlib.image.AxesImage at 0x7f6c84f816a0>"
            ]
          },
          "metadata": {
            "tags": []
          },
          "execution_count": 132
        },
        {
          "output_type": "display_data",
          "data": {
            "image/png": "[encoded data removed]",
            "text/plain": [
              "<Figure size 432x288 with 1 Axes>"
            ]
          },
          "metadata": {
            "tags": [],
            "needs_background": "light"
          }
        }
      ]
    },
    {
      "cell_type": "code",
      "metadata": {
        "id": "XU0rBYgxPn3r",
        "colab_type": "code",
        "colab": {}
      },
      "source": [
        ""
      ],
      "execution_count": null,
      "outputs": []
    },
    {
      "cell_type": "markdown",
      "metadata": {
        "id": "fJil1nkZJB8b",
        "colab_type": "text"
      },
      "source": [
        "# Create Generator (DO NOT RUN)"
      ]
    },
    {
      "cell_type": "code",
      "metadata": {
        "id": "2kV--vDHD3Bb",
        "colab_type": "code",
        "colab": {}
      },
      "source": [
        "from tensorflow.keras.preprocessing.image import ImageDataGenerator"
      ],
      "execution_count": null,
      "outputs": []
    },
    {
      "cell_type": "markdown",
      "metadata": {
        "id": "UpxeQFpt2wSy",
        "colab_type": "text"
      },
      "source": [
        "The structure of the filepath generator need to be\n",
        "\n",
        "\n",
        "\n",
        "```\n",
        "main_directory/\n",
        "...class_a/\n",
        "......a_image_1.jpg\n",
        "......a_image_2.jpg\n",
        "...class_b/\n",
        "......b_image_1.jpg\n",
        "......b_image_2.jpg\n",
        "```\n",
        "\n"
      ]
    },
    {
      "cell_type": "code",
      "metadata": {
        "id": "m7ZjqLzlEH7i",
        "colab_type": "code",
        "colab": {}
      },
      "source": [
        "# we need to create 2 augmentation generator, and they must take same augument\n",
        "data_gen_args = dict(\n",
        "    featurewise_center=True,\n",
        "    featurewise_std_normalization=True,\n",
        "    rotation_range=20,\n",
        "    width_shift_range=0.2,\n",
        "    height_shift_range=0.2,\n",
        "    horizontal_flip=True,\n",
        "    validation_split=0.3)\n",
        "\n",
        "image_aug_gen = ImageDataGenerator(**data_gen_args)\n",
        "label_aug_gen = ImageDataGenerator(**data_gen_args)"
      ],
      "execution_count": null,
      "outputs": []
    },
    {
      "cell_type": "code",
      "metadata": {
        "id": "Bo-prUe1Dppc",
        "colab_type": "code",
        "colab": {}
      },
      "source": [
        "# fit the data Augmentation\n",
        "image_aug_gen.fit(x_train)\n",
        "label_aug_gen.fit(y_train)"
      ],
      "execution_count": null,
      "outputs": []
    },
    {
      "cell_type": "code",
      "metadata": {
        "id": "jmzc2CTzEMjr",
        "colab_type": "code",
        "colab": {
          "base_uri": "https://localhost:8080/",
          "height": 85
        },
        "outputId": "b1165202-f561-4c62-d4c8-3dd94846b991"
      },
      "source": [
        "# provide same seed\n",
        "seed = 1\n",
        "\n",
        "image_generator = image_aug_gen.flow_from_directory(\n",
        "    '/content/gdrive/My Drive/iir_training_python/cvHW/f01/train_image',\n",
        "    target_size=(1152,480),\n",
        "    batch_size=4,\n",
        "    class_mode=None,\n",
        "    seed=seed,\n",
        "    subset='training')\n",
        "valid_image_generator = image_aug_gen.flow_from_directory(\n",
        "    '/content/gdrive/My Drive/iir_training_python/cvHW/f01/train_image',\n",
        "    target_size=(1152,480),\n",
        "    batch_size=4,\n",
        "    class_mode=None,\n",
        "    seed=seed,\n",
        "    subset='validation')\n",
        "mask_generator = label_aug_gen.flow_from_directory(\n",
        "    '/content/gdrive/My Drive/iir_training_python/cvHW/f01/train_mask',\n",
        "    target_size=(1152,480),\n",
        "    batch_size=4,\n",
        "    class_mode=None,\n",
        "    seed=seed,\n",
        "    subset='training')\n",
        "valid_mask_generator = label_aug_gen.flow_from_directory(\n",
        "    '/content/gdrive/My Drive/iir_training_python/cvHW/f01/train_mask',\n",
        "    target_size=(1152,480),\n",
        "    batch_size=4,\n",
        "    class_mode=None,\n",
        "    seed=seed,\n",
        "    subset='validation')"
      ],
      "execution_count": null,
      "outputs": [
        {
          "output_type": "stream",
          "text": [
            "Found 12 images belonging to 1 classes.\n",
            "Found 4 images belonging to 1 classes.\n",
            "Found 12 images belonging to 1 classes.\n",
            "Found 4 images belonging to 1 classes.\n"
          ],
          "name": "stdout"
        }
      ]
    },
    {
      "cell_type": "code",
      "metadata": {
        "id": "LRfwo43mIBRo",
        "colab_type": "code",
        "colab": {}
      },
      "source": [
        "im = []\n",
        "la = []\n",
        "for i in range(5):\n",
        "  ibatch = image_generator.next()\n",
        "  vbatch = mask_generator.next()\n",
        "  if(i==4):\n",
        "    im = ibatch[3]\n",
        "    la = vbatch[3]\n",
        "    break"
      ],
      "execution_count": null,
      "outputs": []
    },
    {
      "cell_type": "code",
      "metadata": {
        "id": "O3XxxbzrLDbZ",
        "colab_type": "code",
        "colab": {
          "base_uri": "https://localhost:8080/",
          "height": 303
        },
        "outputId": "bda0ee05-5b75-4902-d2d2-9a6866220aca"
      },
      "source": [
        "plt.imshow(im)"
      ],
      "execution_count": null,
      "outputs": [
        {
          "output_type": "stream",
          "text": [
            "Clipping input data to the valid range for imshow with RGB data ([0..1] for floats or [0..255] for integers).\n"
          ],
          "name": "stderr"
        },
        {
          "output_type": "execute_result",
          "data": {
            "text/plain": [
              "<matplotlib.image.AxesImage at 0x7f4b75d409b0>"
            ]
          },
          "metadata": {
            "tags": []
          },
          "execution_count": 81
        },
        {
          "output_type": "display_data",
          "data": {
            "image/png": "[encoded data removed]",
            "text/plain": [
              "<Figure size 432x288 with 1 Axes>"
            ]
          },
          "metadata": {
            "tags": [],
            "needs_background": "light"
          }
        }
      ]
    },
    {
      "cell_type": "code",
      "metadata": {
        "id": "bPdShA45LFXK",
        "colab_type": "code",
        "colab": {
          "base_uri": "https://localhost:8080/",
          "height": 303
        },
        "outputId": "19ee70bf-a28f-436a-ebd6-3dd9515800b8"
      },
      "source": [
        "plt.imshow(la)"
      ],
      "execution_count": null,
      "outputs": [
        {
          "output_type": "stream",
          "text": [
            "Clipping input data to the valid range for imshow with RGB data ([0..1] for floats or [0..255] for integers).\n"
          ],
          "name": "stderr"
        },
        {
          "output_type": "execute_result",
          "data": {
            "text/plain": [
              "<matplotlib.image.AxesImage at 0x7f4b75d13748>"
            ]
          },
          "metadata": {
            "tags": []
          },
          "execution_count": 82
        },
        {
          "output_type": "display_data",
          "data": {
            "image/png": "[encoded data removed]",
            "text/plain": [
              "<Figure size 432x288 with 1 Axes>"
            ]
          },
          "metadata": {
            "tags": [],
            "needs_background": "light"
          }
        }
      ]
    },
    {
      "cell_type": "code",
      "metadata": {
        "id": "yLUYIQiDINtx",
        "colab_type": "code",
        "colab": {}
      },
      "source": [
        "def combine_generator(gen1, gen2):\n",
        "    while True:\n",
        "        yield(next(gen1), next(gen2))\n",
        "#combine\n",
        "train_aug_gen = combine_generator(image_generator, mask_generator)\n",
        "valid_aug_gen = combine_generator(valid_image_generator, valid_mask_generator)"
      ],
      "execution_count": null,
      "outputs": []
    },
    {
      "cell_type": "markdown",
      "metadata": {
        "id": "aotfD-eCU5Sb",
        "colab_type": "text"
      },
      "source": [
        "# Fit model"
      ]
    },
    {
      "cell_type": "code",
      "metadata": {
        "id": "_2EFPhFpx2Dw",
        "colab_type": "code",
        "colab": {}
      },
      "source": [
        "# model save path\n",
        "my_model_fit_callback = [\n",
        "  tf.keras.callbacks.ModelCheckpoint(filepath='/content/gdrive/My Drive/iir_training_python/cvHW/save_model/model.{epoch:02d}-{val_loss:.2f}.h5', save_best_only=True),\n",
        "]"
      ],
      "execution_count": null,
      "outputs": []
    },
    {
      "cell_type": "code",
      "metadata": {
        "id": "YIOmBRTjlh9H",
        "colab_type": "code",
        "colab": {
          "base_uri": "https://localhost:8080/",
          "height": 50
        },
        "outputId": "7988c68e-8897-4b24-f252-91efc0e20eb5"
      },
      "source": [
        "model = sm.Unet(backbone_name='resnet50', encoder_weights='imagenet')"
      ],
      "execution_count": null,
      "outputs": [
        {
          "output_type": "stream",
          "text": [
            "Downloading data from https://github.com/qubvel/classification_models/releases/download/0.0.1/resnet50_imagenet_1000_no_top.h5\n",
            "94593024/94592056 [==============================] - 9s 0us/step\n"
          ],
          "name": "stdout"
        }
      ]
    },
    {
      "cell_type": "code",
      "metadata": {
        "id": "w5efaIHbOi97",
        "colab_type": "code",
        "colab": {}
      },
      "source": [
        "model.compile(\n",
        "    'Adam',\n",
        "    loss=sm.losses.bce_jaccard_loss,\n",
        "    metrics=[sm.metrics.iou_score],\n",
        ")"
      ],
      "execution_count": null,
      "outputs": []
    },
    {
      "cell_type": "code",
      "metadata": {
        "id": "a6VWVV2X4YP6",
        "colab_type": "code",
        "colab": {
          "base_uri": "https://localhost:8080/",
          "height": 229
        },
        "outputId": "e0b840e3-99a0-4db7-a068-15ed96f6e054"
      },
      "source": [
        "model.fit_generator(\n",
        "    train_aug_gen,\n",
        "    steps_per_epoch=3,\n",
        "    epochs=50,\n",
        "    callbacks=my_model_fit_callback,\n",
        "    validation_data = valid_aug_gen,\n",
        "    validation_steps=1)"
      ],
      "execution_count": null,
      "outputs": [
        {
          "output_type": "error",
          "ename": "NameError",
          "evalue": "ignored",
          "traceback": [
            "\u001b[0;31m---------------------------------------------------------------------------\u001b[0m",
            "\u001b[0;31mNameError\u001b[0m                                 Traceback (most recent call last)",
            "\u001b[0;32m<ipython-input-136-2c4d86ba9c82>\u001b[0m in \u001b[0;36m<module>\u001b[0;34m()\u001b[0m\n\u001b[1;32m      1\u001b[0m model.fit_generator(\n\u001b[0;32m----> 2\u001b[0;31m     \u001b[0mtrain_aug_gen\u001b[0m\u001b[0;34m,\u001b[0m\u001b[0;34m\u001b[0m\u001b[0;34m\u001b[0m\u001b[0m\n\u001b[0m\u001b[1;32m      3\u001b[0m     \u001b[0msteps_per_epoch\u001b[0m\u001b[0;34m=\u001b[0m\u001b[0;36m3\u001b[0m\u001b[0;34m,\u001b[0m\u001b[0;34m\u001b[0m\u001b[0;34m\u001b[0m\u001b[0m\n\u001b[1;32m      4\u001b[0m     \u001b[0mepochs\u001b[0m\u001b[0;34m=\u001b[0m\u001b[0;36m50\u001b[0m\u001b[0;34m,\u001b[0m\u001b[0;34m\u001b[0m\u001b[0;34m\u001b[0m\u001b[0m\n\u001b[1;32m      5\u001b[0m     \u001b[0mcallbacks\u001b[0m\u001b[0;34m=\u001b[0m\u001b[0mmy_model_fit_callback\u001b[0m\u001b[0;34m,\u001b[0m\u001b[0;34m\u001b[0m\u001b[0;34m\u001b[0m\u001b[0m\n",
            "\u001b[0;31mNameError\u001b[0m: name 'train_aug_gen' is not defined"
          ]
        }
      ]
    },
    {
      "cell_type": "code",
      "metadata": {
        "id": "7WAszMAXVM3s",
        "colab_type": "code",
        "colab": {
          "base_uri": "https://localhost:8080/",
          "height": 1000
        },
        "outputId": "cb21d40a-61e4-4f97-c645-a37adcf2cc6c"
      },
      "source": [
        "model.fit(x=x_train_aug, y=y_train_aug, batch_size=4, epochs=120, validation_split=0.25, callbacks=my_model_fit_callback)"
      ],
      "execution_count": null,
      "outputs": [
        {
          "output_type": "stream",
          "text": [
            "Train on 48 samples, validate on 16 samples\n",
            "Epoch 1/120\n",
            "48/48 [==============================] - 66s 1s/sample - loss: 1.3272 - iou_score: 0.1335 - val_loss: 3.0625 - val_iou_score: 0.0029\n",
            "Epoch 2/120\n",
            "48/48 [==============================] - 13s 271ms/sample - loss: 1.0551 - iou_score: 0.2219 - val_loss: 1429.2161 - val_iou_score: 0.0830\n",
            "Epoch 3/120\n",
            "48/48 [==============================] - 13s 275ms/sample - loss: 0.9830 - iou_score: 0.2472 - val_loss: 4536.9777 - val_iou_score: 0.0047\n",
            "Epoch 4/120\n",
            "48/48 [==============================] - 13s 271ms/sample - loss: 0.8654 - iou_score: 0.3501 - val_loss: 1696.7126 - val_iou_score: 0.0454\n",
            "Epoch 5/120\n",
            "48/48 [==============================] - 13s 268ms/sample - loss: 0.7974 - iou_score: 0.3974 - val_loss: 456.3159 - val_iou_score: 0.0095\n",
            "Epoch 6/120\n",
            "48/48 [==============================] - 13s 265ms/sample - loss: 0.7262 - iou_score: 0.4499 - val_loss: 132.3852 - val_iou_score: 3.3582e-04\n",
            "Epoch 7/120\n",
            "48/48 [==============================] - 13s 265ms/sample - loss: 0.7216 - iou_score: 0.4660 - val_loss: 643.8979 - val_iou_score: 2.6460e-05\n",
            "Epoch 8/120\n",
            "48/48 [==============================] - 13s 268ms/sample - loss: 0.6787 - iou_score: 0.4923 - val_loss: 115.7971 - val_iou_score: 0.0250\n",
            "Epoch 9/120\n",
            "48/48 [==============================] - 13s 267ms/sample - loss: 0.6898 - iou_score: 0.4860 - val_loss: 686.8464 - val_iou_score: 0.0837\n",
            "Epoch 10/120\n",
            "48/48 [==============================] - 13s 268ms/sample - loss: 0.7014 - iou_score: 0.4825 - val_loss: 4.7463 - val_iou_score: 2.0885e-04\n",
            "Epoch 11/120\n",
            "48/48 [==============================] - 15s 310ms/sample - loss: 0.7638 - iou_score: 0.4499 - val_loss: 1.3460 - val_iou_score: 0.0156\n",
            "Epoch 12/120\n",
            "48/48 [==============================] - 13s 270ms/sample - loss: 0.6466 - iou_score: 0.5226 - val_loss: 15.9047 - val_iou_score: 0.0137\n",
            "Epoch 13/120\n",
            "48/48 [==============================] - 13s 267ms/sample - loss: 0.6630 - iou_score: 0.5134 - val_loss: 1.4251 - val_iou_score: 0.0066\n",
            "Epoch 14/120\n",
            "48/48 [==============================] - 13s 267ms/sample - loss: 0.6114 - iou_score: 0.5480 - val_loss: 1.5725 - val_iou_score: 0.0022\n",
            "Epoch 15/120\n",
            "48/48 [==============================] - 15s 310ms/sample - loss: 0.5862 - iou_score: 0.5701 - val_loss: 1.3257 - val_iou_score: 0.0163\n",
            "Epoch 16/120\n",
            "48/48 [==============================] - 13s 272ms/sample - loss: 0.5625 - iou_score: 0.5877 - val_loss: 1.7473 - val_iou_score: 5.0757e-04\n",
            "Epoch 17/120\n",
            "48/48 [==============================] - 13s 268ms/sample - loss: 0.5250 - iou_score: 0.6165 - val_loss: 1.4611 - val_iou_score: 0.0038\n",
            "Epoch 18/120\n",
            "48/48 [==============================] - 13s 269ms/sample - loss: 0.5340 - iou_score: 0.6109 - val_loss: 1.3488 - val_iou_score: 0.0141\n",
            "Epoch 19/120\n",
            "48/48 [==============================] - 13s 268ms/sample - loss: 0.5095 - iou_score: 0.6220 - val_loss: 1.4448 - val_iou_score: 0.0045\n",
            "Epoch 20/120\n",
            "48/48 [==============================] - 13s 268ms/sample - loss: 0.5057 - iou_score: 0.6323 - val_loss: 1.4477 - val_iou_score: 0.0043\n",
            "Epoch 21/120\n",
            "48/48 [==============================] - 13s 268ms/sample - loss: 0.5001 - iou_score: 0.6336 - val_loss: 1.4891 - val_iou_score: 0.0026\n",
            "Epoch 22/120\n",
            "48/48 [==============================] - 13s 268ms/sample - loss: 0.5100 - iou_score: 0.6302 - val_loss: 1.4083 - val_iou_score: 0.0067\n",
            "Epoch 23/120\n",
            "48/48 [==============================] - 13s 268ms/sample - loss: 0.4990 - iou_score: 0.6397 - val_loss: 1.4885 - val_iou_score: 0.0027\n",
            "Epoch 24/120\n",
            "48/48 [==============================] - 13s 268ms/sample - loss: 0.5031 - iou_score: 0.6318 - val_loss: 1.5995 - val_iou_score: 7.7050e-04\n",
            "Epoch 25/120\n",
            "48/48 [==============================] - 13s 269ms/sample - loss: 0.4984 - iou_score: 0.6365 - val_loss: 1.5856 - val_iou_score: 9.7282e-04\n",
            "Epoch 26/120\n",
            "48/48 [==============================] - 13s 269ms/sample - loss: 0.5175 - iou_score: 0.6207 - val_loss: 1.5549 - val_iou_score: 0.0012\n",
            "Epoch 27/120\n",
            "48/48 [==============================] - 13s 269ms/sample - loss: 0.4575 - iou_score: 0.6613 - val_loss: 1.5527 - val_iou_score: 0.0013\n",
            "Epoch 28/120\n",
            "48/48 [==============================] - 13s 268ms/sample - loss: 0.4368 - iou_score: 0.6715 - val_loss: 1.5768 - val_iou_score: 9.4381e-04\n",
            "Epoch 29/120\n",
            "48/48 [==============================] - 13s 268ms/sample - loss: 0.4459 - iou_score: 0.6711 - val_loss: 1.6061 - val_iou_score: 9.8664e-04\n",
            "Epoch 30/120\n",
            "48/48 [==============================] - 13s 268ms/sample - loss: 0.4116 - iou_score: 0.6954 - val_loss: 1.6413 - val_iou_score: 4.5930e-04\n",
            "Epoch 31/120\n",
            "48/48 [==============================] - 13s 268ms/sample - loss: 0.3921 - iou_score: 0.7111 - val_loss: 1.6612 - val_iou_score: 3.5793e-04\n",
            "Epoch 32/120\n",
            "48/48 [==============================] - 13s 269ms/sample - loss: 0.4189 - iou_score: 0.6882 - val_loss: 1.7300 - val_iou_score: 1.6172e-04\n",
            "Epoch 33/120\n",
            "48/48 [==============================] - 13s 269ms/sample - loss: 0.4540 - iou_score: 0.6651 - val_loss: 1.6655 - val_iou_score: 3.2879e-04\n",
            "Epoch 34/120\n",
            "48/48 [==============================] - 13s 269ms/sample - loss: 0.4436 - iou_score: 0.6755 - val_loss: 1.6393 - val_iou_score: 4.8950e-04\n",
            "Epoch 35/120\n",
            "48/48 [==============================] - 13s 269ms/sample - loss: 0.3896 - iou_score: 0.7105 - val_loss: 1.6005 - val_iou_score: 7.4997e-04\n",
            "Epoch 36/120\n",
            "48/48 [==============================] - 13s 269ms/sample - loss: 0.3507 - iou_score: 0.7375 - val_loss: 1.6920 - val_iou_score: 2.4607e-04\n",
            "Epoch 37/120\n",
            "48/48 [==============================] - 13s 268ms/sample - loss: 0.3590 - iou_score: 0.7305 - val_loss: 1.7130 - val_iou_score: 2.2640e-04\n",
            "Epoch 38/120\n",
            "48/48 [==============================] - 13s 268ms/sample - loss: 0.4559 - iou_score: 0.6659 - val_loss: 1.7931 - val_iou_score: 1.0597e-04\n",
            "Epoch 39/120\n",
            "48/48 [==============================] - 13s 268ms/sample - loss: 0.3765 - iou_score: 0.7174 - val_loss: 1.6014 - val_iou_score: 7.7693e-04\n",
            "Epoch 40/120\n",
            "48/48 [==============================] - 13s 269ms/sample - loss: 0.3843 - iou_score: 0.7151 - val_loss: 1.7216 - val_iou_score: 0.0633\n",
            "Epoch 41/120\n",
            "48/48 [==============================] - 13s 269ms/sample - loss: 0.3868 - iou_score: 0.7137 - val_loss: 1.7765 - val_iou_score: 0.0252\n",
            "Epoch 42/120\n",
            "48/48 [==============================] - 13s 269ms/sample - loss: 0.3785 - iou_score: 0.7160 - val_loss: 1.7474 - val_iou_score: 0.0469\n",
            "Epoch 43/120\n",
            "48/48 [==============================] - 13s 269ms/sample - loss: 0.3438 - iou_score: 0.7404 - val_loss: 1.6781 - val_iou_score: 3.7488e-04\n",
            "Epoch 44/120\n",
            "48/48 [==============================] - 13s 268ms/sample - loss: 0.3447 - iou_score: 0.7439 - val_loss: 1.6501 - val_iou_score: 0.0042\n",
            "Epoch 45/120\n",
            "48/48 [==============================] - 13s 269ms/sample - loss: 0.3152 - iou_score: 0.7622 - val_loss: 1.6177 - val_iou_score: 0.0275\n",
            "Epoch 46/120\n",
            "48/48 [==============================] - 13s 269ms/sample - loss: 0.3054 - iou_score: 0.7719 - val_loss: 1.6539 - val_iou_score: 0.0361\n",
            "Epoch 47/120\n",
            "48/48 [==============================] - 13s 269ms/sample - loss: 0.3030 - iou_score: 0.7711 - val_loss: 1.6115 - val_iou_score: 0.0233\n",
            "Epoch 48/120\n",
            "48/48 [==============================] - 13s 269ms/sample - loss: 0.2855 - iou_score: 0.7862 - val_loss: 1.5171 - val_iou_score: 0.0264\n",
            "Epoch 49/120\n",
            "48/48 [==============================] - 13s 269ms/sample - loss: 0.2765 - iou_score: 0.7921 - val_loss: 1.4566 - val_iou_score: 0.0543\n",
            "Epoch 50/120\n",
            "48/48 [==============================] - 13s 269ms/sample - loss: 0.2949 - iou_score: 0.7790 - val_loss: 1.5738 - val_iou_score: 0.0034\n",
            "Epoch 51/120\n",
            "48/48 [==============================] - 13s 269ms/sample - loss: 0.2796 - iou_score: 0.7853 - val_loss: 1.6964 - val_iou_score: 2.7564e-04\n",
            "Epoch 52/120\n",
            "48/48 [==============================] - 13s 269ms/sample - loss: 0.2656 - iou_score: 0.7998 - val_loss: 1.6898 - val_iou_score: 2.8450e-04\n",
            "Epoch 53/120\n",
            "48/48 [==============================] - 13s 269ms/sample - loss: 0.2640 - iou_score: 0.7996 - val_loss: 1.6960 - val_iou_score: 2.8771e-04\n",
            "Epoch 54/120\n",
            "48/48 [==============================] - 13s 270ms/sample - loss: 0.2636 - iou_score: 0.7986 - val_loss: 1.6023 - val_iou_score: 0.0150\n",
            "Epoch 55/120\n",
            "48/48 [==============================] - 13s 269ms/sample - loss: 0.2483 - iou_score: 0.8121 - val_loss: 1.4886 - val_iou_score: 0.0382\n",
            "Epoch 56/120\n",
            "48/48 [==============================] - 13s 269ms/sample - loss: 0.2384 - iou_score: 0.8187 - val_loss: 1.5388 - val_iou_score: 0.0282\n",
            "Epoch 57/120\n",
            "48/48 [==============================] - 13s 269ms/sample - loss: 0.2307 - iou_score: 0.8228 - val_loss: 1.5559 - val_iou_score: 0.0274\n",
            "Epoch 58/120\n",
            "48/48 [==============================] - 13s 269ms/sample - loss: 0.2182 - iou_score: 0.8336 - val_loss: 1.5370 - val_iou_score: 0.0316\n",
            "Epoch 59/120\n",
            "48/48 [==============================] - 13s 269ms/sample - loss: 0.2165 - iou_score: 0.8367 - val_loss: 1.5585 - val_iou_score: 0.0361\n",
            "Epoch 60/120\n",
            "48/48 [==============================] - 13s 269ms/sample - loss: 0.2627 - iou_score: 0.8034 - val_loss: 1.5577 - val_iou_score: 0.0016\n",
            "Epoch 61/120\n",
            "48/48 [==============================] - 13s 268ms/sample - loss: 0.2677 - iou_score: 0.8013 - val_loss: 1.6010 - val_iou_score: 0.0538\n",
            "Epoch 62/120\n",
            "48/48 [==============================] - 15s 312ms/sample - loss: 0.2528 - iou_score: 0.8101 - val_loss: 1.1591 - val_iou_score: 0.2516\n",
            "Epoch 63/120\n",
            "48/48 [==============================] - 13s 270ms/sample - loss: 0.2427 - iou_score: 0.8171 - val_loss: 1.2329 - val_iou_score: 0.2294\n",
            "Epoch 64/120\n",
            "48/48 [==============================] - 13s 268ms/sample - loss: 0.2638 - iou_score: 0.7969 - val_loss: 1.3185 - val_iou_score: 0.1842\n",
            "Epoch 65/120\n",
            "48/48 [==============================] - 13s 269ms/sample - loss: 0.2568 - iou_score: 0.8045 - val_loss: 1.4897 - val_iou_score: 0.0965\n",
            "Epoch 66/120\n",
            "48/48 [==============================] - 15s 313ms/sample - loss: 0.2466 - iou_score: 0.8151 - val_loss: 0.9745 - val_iou_score: 0.3819\n",
            "Epoch 67/120\n",
            "48/48 [==============================] - 13s 270ms/sample - loss: 0.2585 - iou_score: 0.8017 - val_loss: 1.6527 - val_iou_score: 0.0022\n",
            "Epoch 68/120\n",
            "48/48 [==============================] - 13s 268ms/sample - loss: 0.2918 - iou_score: 0.7753 - val_loss: 1.7761 - val_iou_score: 1.2099e-04\n",
            "Epoch 69/120\n",
            "48/48 [==============================] - 13s 269ms/sample - loss: 0.3724 - iou_score: 0.7303 - val_loss: 2.0001 - val_iou_score: 0.0354\n",
            "Epoch 70/120\n",
            "48/48 [==============================] - 13s 270ms/sample - loss: 0.3190 - iou_score: 0.7610 - val_loss: 2.0869 - val_iou_score: 0.1156\n",
            "Epoch 71/120\n",
            "48/48 [==============================] - 13s 270ms/sample - loss: 0.3016 - iou_score: 0.7715 - val_loss: 1.4617 - val_iou_score: 0.2385\n",
            "Epoch 72/120\n",
            "48/48 [==============================] - 13s 269ms/sample - loss: 0.3231 - iou_score: 0.7602 - val_loss: 1.3512 - val_iou_score: 0.2164\n",
            "Epoch 73/120\n",
            "48/48 [==============================] - 13s 268ms/sample - loss: 0.2726 - iou_score: 0.7907 - val_loss: 1.2847 - val_iou_score: 0.2292\n",
            "Epoch 74/120\n",
            "48/48 [==============================] - 13s 268ms/sample - loss: 0.2604 - iou_score: 0.8016 - val_loss: 1.5427 - val_iou_score: 0.2379\n",
            "Epoch 75/120\n",
            "48/48 [==============================] - 13s 268ms/sample - loss: 0.2457 - iou_score: 0.8117 - val_loss: 1.2189 - val_iou_score: 0.3034\n",
            "Epoch 76/120\n",
            "48/48 [==============================] - 13s 268ms/sample - loss: 0.2293 - iou_score: 0.8256 - val_loss: 1.4397 - val_iou_score: 0.1604\n",
            "Epoch 77/120\n",
            "48/48 [==============================] - 15s 310ms/sample - loss: 0.2148 - iou_score: 0.8339 - val_loss: 0.9421 - val_iou_score: 0.4320\n",
            "Epoch 78/120\n",
            "48/48 [==============================] - 13s 271ms/sample - loss: 0.1954 - iou_score: 0.8505 - val_loss: 0.9535 - val_iou_score: 0.3945\n",
            "Epoch 79/120\n",
            "48/48 [==============================] - 15s 310ms/sample - loss: 0.2006 - iou_score: 0.8441 - val_loss: 0.9326 - val_iou_score: 0.4170\n",
            "Epoch 80/120\n",
            "48/48 [==============================] - 15s 317ms/sample - loss: 0.1874 - iou_score: 0.8546 - val_loss: 0.8919 - val_iou_score: 0.4337\n",
            "Epoch 81/120\n",
            "48/48 [==============================] - 15s 320ms/sample - loss: 0.1726 - iou_score: 0.8670 - val_loss: 0.8034 - val_iou_score: 0.4881\n",
            "Epoch 82/120\n",
            "48/48 [==============================] - 13s 272ms/sample - loss: 0.1731 - iou_score: 0.8652 - val_loss: 0.8225 - val_iou_score: 0.4527\n",
            "Epoch 83/120\n",
            "48/48 [==============================] - 15s 313ms/sample - loss: 0.1582 - iou_score: 0.8779 - val_loss: 0.7578 - val_iou_score: 0.5084\n",
            "Epoch 84/120\n",
            "48/48 [==============================] - 13s 271ms/sample - loss: 0.1669 - iou_score: 0.8693 - val_loss: 0.8448 - val_iou_score: 0.4238\n",
            "Epoch 85/120\n",
            "48/48 [==============================] - 15s 311ms/sample - loss: 0.1579 - iou_score: 0.8770 - val_loss: 0.7523 - val_iou_score: 0.4980\n",
            "Epoch 86/120\n",
            "48/48 [==============================] - 13s 273ms/sample - loss: 0.1454 - iou_score: 0.8885 - val_loss: 0.7574 - val_iou_score: 0.4900\n",
            "Epoch 87/120\n",
            "48/48 [==============================] - 15s 313ms/sample - loss: 0.1427 - iou_score: 0.8891 - val_loss: 0.7406 - val_iou_score: 0.5049\n",
            "Epoch 88/120\n",
            "48/48 [==============================] - 15s 313ms/sample - loss: 0.1401 - iou_score: 0.8908 - val_loss: 0.7400 - val_iou_score: 0.4925\n",
            "Epoch 89/120\n",
            "48/48 [==============================] - 13s 272ms/sample - loss: 0.1415 - iou_score: 0.8893 - val_loss: 0.7800 - val_iou_score: 0.4528\n",
            "Epoch 90/120\n",
            "48/48 [==============================] - 13s 270ms/sample - loss: 0.1376 - iou_score: 0.8924 - val_loss: 0.7890 - val_iou_score: 0.4432\n",
            "Epoch 91/120\n",
            "48/48 [==============================] - 15s 315ms/sample - loss: 0.1357 - iou_score: 0.8936 - val_loss: 0.6817 - val_iou_score: 0.5497\n",
            "Epoch 92/120\n",
            "48/48 [==============================] - 15s 312ms/sample - loss: 0.1309 - iou_score: 0.8973 - val_loss: 0.6692 - val_iou_score: 0.5582\n",
            "Epoch 93/120\n",
            "48/48 [==============================] - 13s 272ms/sample - loss: 0.1358 - iou_score: 0.8940 - val_loss: 0.6931 - val_iou_score: 0.5246\n",
            "Epoch 94/120\n",
            "48/48 [==============================] - 15s 313ms/sample - loss: 0.1442 - iou_score: 0.8857 - val_loss: 0.6253 - val_iou_score: 0.5919\n",
            "Epoch 95/120\n",
            "48/48 [==============================] - 13s 271ms/sample - loss: 0.1301 - iou_score: 0.8969 - val_loss: 0.7271 - val_iou_score: 0.5119\n",
            "Epoch 96/120\n",
            "48/48 [==============================] - 13s 269ms/sample - loss: 0.1309 - iou_score: 0.8967 - val_loss: 0.6765 - val_iou_score: 0.5506\n",
            "Epoch 97/120\n",
            "48/48 [==============================] - 13s 269ms/sample - loss: 0.1335 - iou_score: 0.8937 - val_loss: 0.7226 - val_iou_score: 0.5208\n",
            "Epoch 98/120\n",
            "48/48 [==============================] - 13s 269ms/sample - loss: 0.1230 - iou_score: 0.9027 - val_loss: 0.6576 - val_iou_score: 0.5740\n",
            "Epoch 99/120\n",
            "48/48 [==============================] - 13s 269ms/sample - loss: 0.1233 - iou_score: 0.9020 - val_loss: 0.6361 - val_iou_score: 0.5922\n",
            "Epoch 100/120\n",
            "48/48 [==============================] - 13s 269ms/sample - loss: 0.1133 - iou_score: 0.9102 - val_loss: 0.6329 - val_iou_score: 0.5802\n",
            "Epoch 101/120\n",
            "48/48 [==============================] - 13s 269ms/sample - loss: 0.1135 - iou_score: 0.9101 - val_loss: 0.6353 - val_iou_score: 0.5890\n",
            "Epoch 102/120\n",
            "48/48 [==============================] - 13s 270ms/sample - loss: 0.1155 - iou_score: 0.9084 - val_loss: 0.6299 - val_iou_score: 0.5935\n",
            "Epoch 103/120\n",
            "48/48 [==============================] - 15s 316ms/sample - loss: 0.1110 - iou_score: 0.9121 - val_loss: 0.5960 - val_iou_score: 0.6204\n",
            "Epoch 104/120\n",
            "48/48 [==============================] - 13s 272ms/sample - loss: 0.1091 - iou_score: 0.9129 - val_loss: 0.6450 - val_iou_score: 0.5767\n",
            "Epoch 105/120\n",
            "48/48 [==============================] - 13s 269ms/sample - loss: 0.1060 - iou_score: 0.9154 - val_loss: 0.6909 - val_iou_score: 0.5429\n",
            "Epoch 106/120\n",
            "48/48 [==============================] - 13s 270ms/sample - loss: 0.1142 - iou_score: 0.9089 - val_loss: 0.6314 - val_iou_score: 0.5985\n",
            "Epoch 107/120\n",
            "48/48 [==============================] - 13s 270ms/sample - loss: 0.1071 - iou_score: 0.9147 - val_loss: 0.6282 - val_iou_score: 0.6093\n",
            "Epoch 108/120\n",
            "48/48 [==============================] - 13s 269ms/sample - loss: 0.1134 - iou_score: 0.9094 - val_loss: 0.6736 - val_iou_score: 0.5675\n",
            "Epoch 109/120\n",
            "48/48 [==============================] - 13s 269ms/sample - loss: 0.1094 - iou_score: 0.9126 - val_loss: 0.6088 - val_iou_score: 0.6287\n",
            "Epoch 110/120\n",
            "48/48 [==============================] - 13s 268ms/sample - loss: 0.1068 - iou_score: 0.9151 - val_loss: 0.6336 - val_iou_score: 0.6097\n",
            "Epoch 111/120\n",
            "48/48 [==============================] - 13s 269ms/sample - loss: 0.1027 - iou_score: 0.9182 - val_loss: 0.6448 - val_iou_score: 0.5927\n",
            "Epoch 112/120\n",
            "48/48 [==============================] - 13s 268ms/sample - loss: 0.1012 - iou_score: 0.9190 - val_loss: 0.6350 - val_iou_score: 0.6040\n",
            "Epoch 113/120\n",
            "48/48 [==============================] - 13s 268ms/sample - loss: 0.1033 - iou_score: 0.9174 - val_loss: 0.5996 - val_iou_score: 0.6403\n",
            "Epoch 114/120\n",
            "48/48 [==============================] - 13s 268ms/sample - loss: 0.1013 - iou_score: 0.9189 - val_loss: 0.6755 - val_iou_score: 0.5742\n",
            "Epoch 115/120\n",
            "48/48 [==============================] - 13s 269ms/sample - loss: 0.1190 - iou_score: 0.9061 - val_loss: 0.6965 - val_iou_score: 0.5625\n",
            "Epoch 116/120\n",
            "48/48 [==============================] - 13s 269ms/sample - loss: 0.1210 - iou_score: 0.9024 - val_loss: 0.6981 - val_iou_score: 0.5799\n",
            "Epoch 117/120\n",
            "48/48 [==============================] - 13s 268ms/sample - loss: 0.1166 - iou_score: 0.9084 - val_loss: 0.6535 - val_iou_score: 0.6164\n",
            "Epoch 118/120\n",
            "48/48 [==============================] - 13s 268ms/sample - loss: 0.1120 - iou_score: 0.9109 - val_loss: 0.6864 - val_iou_score: 0.5966\n",
            "Epoch 119/120\n",
            "48/48 [==============================] - 13s 268ms/sample - loss: 0.1102 - iou_score: 0.9119 - val_loss: 0.7085 - val_iou_score: 0.5811\n",
            "Epoch 120/120\n",
            "48/48 [==============================] - 13s 268ms/sample - loss: 0.1045 - iou_score: 0.9164 - val_loss: 0.7078 - val_iou_score: 0.5731\n"
          ],
          "name": "stdout"
        },
        {
          "output_type": "execute_result",
          "data": {
            "text/plain": [
              "<tensorflow.python.keras.callbacks.History at 0x7f6c2aa37c88>"
            ]
          },
          "metadata": {
            "tags": []
          },
          "execution_count": 144
        }
      ]
    },
    {
      "cell_type": "markdown",
      "metadata": {
        "id": "5Nh6V4teZBQr",
        "colab_type": "text"
      },
      "source": [
        "# Caculate IoU"
      ]
    },
    {
      "cell_type": "code",
      "metadata": {
        "id": "jdtIU7DlYbpO",
        "colab_type": "code",
        "colab": {
          "base_uri": "https://localhost:8080/",
          "height": 50
        },
        "outputId": "f79c4fbc-6c1f-408b-90fd-bc73968d210a"
      },
      "source": [
        "model.evaluate(x=x_test, y=y_test)"
      ],
      "execution_count": null,
      "outputs": [
        {
          "output_type": "stream",
          "text": [
            "\r4/4 [==============================] - 0s 78ms/sample - loss: 0.4012 - iou_score: 0.8019\n"
          ],
          "name": "stdout"
        },
        {
          "output_type": "execute_result",
          "data": {
            "text/plain": [
              "[0.40124428272247314, 0.80187815]"
            ]
          },
          "metadata": {
            "tags": []
          },
          "execution_count": 145
        }
      ]
    },
    {
      "cell_type": "code",
      "metadata": {
        "id": "pS5e0kk7ZEt1",
        "colab_type": "code",
        "colab": {
          "base_uri": "https://localhost:8080/",
          "height": 151
        },
        "outputId": "fa9da5f8-180a-47c8-f4ba-5189d896db92"
      },
      "source": [
        "for i in range(len(x_test)):\n",
        "  print(model.evaluate(x=x_test[i][np.newaxis, :], y=y_test[i][np.newaxis, :]))"
      ],
      "execution_count": null,
      "outputs": [
        {
          "output_type": "stream",
          "text": [
            "1/1 [==============================] - 1s 907ms/sample - loss: 0.7641 - iou_score: 0.6559\n",
            "[0.7641079425811768, 0.6559387]\n",
            "1/1 [==============================] - 0s 68ms/sample - loss: 0.2119 - iou_score: 0.8827\n",
            "[0.21193599700927734, 0.88267976]\n",
            "1/1 [==============================] - 0s 69ms/sample - loss: 0.3022 - iou_score: 0.8473\n",
            "[0.3021880090236664, 0.8472988]\n",
            "1/1 [==============================] - 0s 68ms/sample - loss: 0.3198 - iou_score: 0.8285\n",
            "[0.3198019862174988, 0.8285386]\n"
          ],
          "name": "stdout"
        }
      ]
    },
    {
      "cell_type": "markdown",
      "metadata": {
        "id": "MzMzB_SKmhS8",
        "colab_type": "text"
      },
      "source": [
        "#Test Predict"
      ]
    },
    {
      "cell_type": "code",
      "metadata": {
        "id": "acDxKHVqgVFx",
        "colab_type": "code",
        "colab": {}
      },
      "source": [
        "test_img = x_test[1][np.newaxis, :]"
      ],
      "execution_count": null,
      "outputs": []
    },
    {
      "cell_type": "code",
      "metadata": {
        "id": "QFjTEd1Wgo2N",
        "colab_type": "code",
        "colab": {
          "base_uri": "https://localhost:8080/",
          "height": 286
        },
        "outputId": "4af3f522-3003-4fe7-80d0-f03ddd89132f"
      },
      "source": [
        "plt.imshow(test_img[0])"
      ],
      "execution_count": null,
      "outputs": [
        {
          "output_type": "execute_result",
          "data": {
            "text/plain": [
              "<matplotlib.image.AxesImage at 0x7f6c297e3828>"
            ]
          },
          "metadata": {
            "tags": []
          },
          "execution_count": 155
        },
        {
          "output_type": "display_data",
          "data": {
            "image/png": "[encoded data removed]",
            "text/plain": [
              "<Figure size 432x288 with 1 Axes>"
            ]
          },
          "metadata": {
            "tags": [],
            "needs_background": "light"
          }
        }
      ]
    },
    {
      "cell_type": "code",
      "metadata": {
        "id": "X1pWUrH0VmaQ",
        "colab_type": "code",
        "colab": {}
      },
      "source": [
        "predict_img = model.predict(test_img)"
      ],
      "execution_count": null,
      "outputs": []
    },
    {
      "cell_type": "code",
      "metadata": {
        "id": "yxba8joz2dKA",
        "colab_type": "code",
        "colab": {}
      },
      "source": [
        "p = predict_img.reshape((1152,480))"
      ],
      "execution_count": null,
      "outputs": []
    },
    {
      "cell_type": "code",
      "metadata": {
        "id": "d5YyyKa8PBAZ",
        "colab_type": "code",
        "colab": {
          "base_uri": "https://localhost:8080/",
          "height": 286
        },
        "outputId": "2024e08a-c50b-42eb-a308-876a1acc1216"
      },
      "source": [
        "plt.imshow(p)"
      ],
      "execution_count": null,
      "outputs": [
        {
          "output_type": "execute_result",
          "data": {
            "text/plain": [
              "<matplotlib.image.AxesImage at 0x7f6c287b05c0>"
            ]
          },
          "metadata": {
            "tags": []
          },
          "execution_count": 158
        },
        {
          "output_type": "display_data",
          "data": {
            "image/png": "[encoded data removed]",
            "text/plain": [
              "<Figure size 432x288 with 1 Axes>"
            ]
          },
          "metadata": {
            "tags": [],
            "needs_background": "light"
          }
        }
      ]
    },
    {
      "cell_type": "code",
      "metadata": {
        "id": "HWfjelmF2-2d",
        "colab_type": "code",
        "colab": {
          "base_uri": "https://localhost:8080/",
          "height": 34
        },
        "outputId": "458f3433-195b-4793-e49e-ae0b61e28b5c"
      },
      "source": [
        "p = cv2.cvtColor(p, cv2.COLOR_GRAY2RGB)\n",
        "p.shape"
      ],
      "execution_count": null,
      "outputs": [
        {
          "output_type": "execute_result",
          "data": {
            "text/plain": [
              "(1152, 480, 3)"
            ]
          },
          "metadata": {
            "tags": []
          },
          "execution_count": 159
        }
      ]
    },
    {
      "cell_type": "code",
      "metadata": {
        "id": "nG5xJdw321AM",
        "colab_type": "code",
        "colab": {
          "base_uri": "https://localhost:8080/",
          "height": 286
        },
        "outputId": "383aea8d-3abf-4b94-d93f-4b0a0e098efe"
      },
      "source": [
        "plt.imshow(p)"
      ],
      "execution_count": null,
      "outputs": [
        {
          "output_type": "execute_result",
          "data": {
            "text/plain": [
              "<matplotlib.image.AxesImage at 0x7f6c28704208>"
            ]
          },
          "metadata": {
            "tags": []
          },
          "execution_count": 160
        },
        {
          "output_type": "display_data",
          "data": {
            "image/png": "[encoded data removed]",
            "text/plain": [
              "<Figure size 432x288 with 1 Axes>"
            ]
          },
          "metadata": {
            "tags": [],
            "needs_background": "light"
          }
        }
      ]
    },
    {
      "cell_type": "code",
      "metadata": {
        "id": "JtlYpcyVz5u1",
        "colab_type": "code",
        "colab": {
          "base_uri": "https://localhost:8080/",
          "height": 286
        },
        "outputId": "4c5d8a30-460a-4069-aedf-ea250c827958"
      },
      "source": [
        "plt.imshow(y_test[0])"
      ],
      "execution_count": null,
      "outputs": [
        {
          "output_type": "execute_result",
          "data": {
            "text/plain": [
              "<matplotlib.image.AxesImage at 0x7f6c286caf60>"
            ]
          },
          "metadata": {
            "tags": []
          },
          "execution_count": 161
        },
        {
          "output_type": "display_data",
          "data": {
            "image/png": "[encoded data removed]",
            "text/plain": [
              "<Figure size 432x288 with 1 Axes>"
            ]
          },
          "metadata": {
            "tags": [],
            "needs_background": "light"
          }
        }
      ]
    },
    {
      "cell_type": "code",
      "metadata": {
        "id": "1y_kcpE7gf9k",
        "colab_type": "code",
        "colab": {}
      },
      "source": [
        "show_img = predict_img[0] + test_img[0]"
      ],
      "execution_count": null,
      "outputs": []
    },
    {
      "cell_type": "code",
      "metadata": {
        "id": "4Ot3rfcahajh",
        "colab_type": "code",
        "colab": {
          "base_uri": "https://localhost:8080/",
          "height": 34
        },
        "outputId": "f0c50f5b-2718-4081-8bf1-8b1283d2ca79"
      },
      "source": [
        "show_img.shape"
      ],
      "execution_count": null,
      "outputs": [
        {
          "output_type": "execute_result",
          "data": {
            "text/plain": [
              "(960, 480, 3)"
            ]
          },
          "metadata": {
            "tags": []
          },
          "execution_count": 465
        }
      ]
    },
    {
      "cell_type": "code",
      "metadata": {
        "id": "VBIwUZ8EgRUA",
        "colab_type": "code",
        "colab": {
          "base_uri": "https://localhost:8080/",
          "height": 302
        },
        "outputId": "014ad806-4db8-408a-f4cf-8429c707e218"
      },
      "source": [
        "plt.imshow(show_img)"
      ],
      "execution_count": null,
      "outputs": [
        {
          "output_type": "stream",
          "text": [
            "Clipping input data to the valid range for imshow with RGB data ([0..1] for floats or [0..255] for integers).\n"
          ],
          "name": "stderr"
        },
        {
          "output_type": "execute_result",
          "data": {
            "text/plain": [
              "<matplotlib.image.AxesImage at 0x7f038a7f2438>"
            ]
          },
          "metadata": {
            "tags": []
          },
          "execution_count": 466
        },
        {
          "output_type": "display_data",
          "data": {
            "image/png": "[encoded data removed]",
            "text/plain": [
              "<Figure size 432x288 with 1 Axes>"
            ]
          },
          "metadata": {
            "tags": [],
            "needs_background": "light"
          }
        }
      ]
    },
    {
      "cell_type": "code",
      "metadata": {
        "id": "ndlwrkeWBPqn",
        "colab_type": "code",
        "colab": {
          "base_uri": "https://localhost:8080/",
          "height": 339
        },
        "outputId": "d74f77e9-64d9-4357-f4d1-0f64099df4d8"
      },
      "source": [
        "#load model\n",
        "#if wish to futher train the model\n",
        "model = tf.keras.models.load_model('/content/gdrive/My Drive/iir_training_python/cvHW/save_model/unet_resnet50/model.103-0.60.h5', custom_objects={'binary_crossentropy_plus_jaccard_loss':sm.losses.bce_jaccard_loss, 'iou_score':sm.metrics.iou_score})\n",
        "#if inference only\n",
        "#model = tf.keras.models.load_model(\"/content/gdrive/My Drive/iir_training_python/cvHW/save_model/unet_vgg16/model.120-0.71.h5\", compile=False)"
      ],
      "execution_count": null,
      "outputs": [
        {
          "output_type": "stream",
          "text": [
            "WARNING:tensorflow:From /usr/local/lib/python3.6/dist-packages/tensorflow_core/python/ops/init_ops.py:97: calling Zeros.__init__ (from tensorflow.python.ops.init_ops) with dtype is deprecated and will be removed in a future version.\n",
            "Instructions for updating:\n",
            "Call initializer instance with the dtype argument instead of passing it to the constructor\n",
            "WARNING:tensorflow:From /usr/local/lib/python3.6/dist-packages/tensorflow_core/python/ops/init_ops.py:97: calling Ones.__init__ (from tensorflow.python.ops.init_ops) with dtype is deprecated and will be removed in a future version.\n",
            "Instructions for updating:\n",
            "Call initializer instance with the dtype argument instead of passing it to the constructor\n",
            "WARNING:tensorflow:From /usr/local/lib/python3.6/dist-packages/tensorflow_core/python/ops/init_ops.py:97: calling VarianceScaling.__init__ (from tensorflow.python.ops.init_ops) with dtype is deprecated and will be removed in a future version.\n",
            "Instructions for updating:\n",
            "Call initializer instance with the dtype argument instead of passing it to the constructor\n",
            "WARNING:tensorflow:From /usr/local/lib/python3.6/dist-packages/tensorflow_core/python/ops/init_ops.py:97: calling GlorotUniform.__init__ (from tensorflow.python.ops.init_ops) with dtype is deprecated and will be removed in a future version.\n",
            "Instructions for updating:\n",
            "Call initializer instance with the dtype argument instead of passing it to the constructor\n",
            "WARNING:tensorflow:From /usr/local/lib/python3.6/dist-packages/tensorflow_core/python/ops/resource_variable_ops.py:1630: calling BaseResourceVariable.__init__ (from tensorflow.python.ops.resource_variable_ops) with constraint is deprecated and will be removed in a future version.\n",
            "Instructions for updating:\n",
            "If using Keras pass *_constraint arguments to layers.\n",
            "WARNING:tensorflow:From /usr/local/lib/python3.6/dist-packages/tensorflow_core/python/ops/nn_impl.py:183: where (from tensorflow.python.ops.array_ops) is deprecated and will be removed in a future version.\n",
            "Instructions for updating:\n",
            "Use tf.where in 2.0, which has the same broadcast rule as np.where\n"
          ],
          "name": "stdout"
        }
      ]
    },
    {
      "cell_type": "markdown",
      "metadata": {
        "id": "PddGPigx_jgZ",
        "colab_type": "text"
      },
      "source": [
        "# Testing Datas"
      ]
    },
    {
      "cell_type": "code",
      "metadata": {
        "id": "0k1evadBFQHB",
        "colab_type": "code",
        "colab": {}
      },
      "source": [
        "import glob"
      ],
      "execution_count": null,
      "outputs": []
    },
    {
      "cell_type": "code",
      "metadata": {
        "id": "yZKN-vCi_jKk",
        "colab_type": "code",
        "colab": {}
      },
      "source": [
        "test_images_names = glob.glob(F\"/content/gdrive/My Drive/iir_training_python/cvHW/f03/image/*.png\")\n",
        "test_labels_names = glob.glob(F\"/content/gdrive/My Drive/iir_training_python/cvHW/f03/label/*.png\")"
      ],
      "execution_count": null,
      "outputs": []
    },
    {
      "cell_type": "code",
      "metadata": {
        "id": "LLmhWNHM_1Q7",
        "colab_type": "code",
        "colab": {}
      },
      "source": [
        "test_labels_names.sort()\n",
        "test_images_names.sort()"
      ],
      "execution_count": null,
      "outputs": []
    },
    {
      "cell_type": "code",
      "metadata": {
        "id": "BLloQRpxALfQ",
        "colab_type": "code",
        "colab": {}
      },
      "source": [
        "images = [cv2.imread(i) for i in test_images_names]\n",
        "images = [i/255 for i in images] #normalize\n",
        "images = [cv2.resize(i, (480,1152)) for i in images]"
      ],
      "execution_count": null,
      "outputs": []
    },
    {
      "cell_type": "code",
      "metadata": {
        "id": "kaMn_gkMArbm",
        "colab_type": "code",
        "colab": {}
      },
      "source": [
        "labels = [cv2.imread(i) for i in test_labels_names]\n",
        "labels = [i/255 for i in labels] #normalize\n",
        "labels = [cv2.resize(i, (480,1152)) for i in labels]"
      ],
      "execution_count": null,
      "outputs": []
    },
    {
      "cell_type": "markdown",
      "metadata": {
        "id": "tNqpNfQCmQs8",
        "colab_type": "text"
      },
      "source": [
        "# evaluate testing iou"
      ]
    },
    {
      "cell_type": "code",
      "metadata": {
        "id": "BxYiBDHAZWJM",
        "colab_type": "code",
        "colab": {
          "base_uri": "https://localhost:8080/",
          "height": 50
        },
        "outputId": "f3109e7b-5a81-40a6-9a44-d7bdcd92e588"
      },
      "source": [
        "model.evaluate(np.array(images), np.array(labels))"
      ],
      "execution_count": null,
      "outputs": [
        {
          "output_type": "stream",
          "text": [
            "\r20/20 [==============================] - 1s 62ms/sample - loss: 0.6195 - iou_score: 0.7111\n"
          ],
          "name": "stdout"
        },
        {
          "output_type": "execute_result",
          "data": {
            "text/plain": [
              "[0.6195416450500488, 0.71112674]"
            ]
          },
          "metadata": {
            "tags": []
          },
          "execution_count": 34
        }
      ]
    },
    {
      "cell_type": "code",
      "metadata": {
        "id": "0PF3t9WCmnqd",
        "colab_type": "code",
        "colab": {
          "base_uri": "https://localhost:8080/",
          "height": 689
        },
        "outputId": "c99cc57a-543b-4596-b876-509afbf3edab"
      },
      "source": [
        "for i in range(len(images)):\n",
        "  print('image {}:'.format(i))\n",
        "  model.evaluate(np.array(images[i])[np.newaxis,:], np.array(labels[i])[np.newaxis,:])"
      ],
      "execution_count": null,
      "outputs": [
        {
          "output_type": "stream",
          "text": [
            "image 0:\n",
            "1/1 [==============================] - 0s 63ms/sample - loss: 0.4363 - iou_score: 0.7926\n",
            "image 1:\n",
            "1/1 [==============================] - 0s 64ms/sample - loss: 1.9412 - iou_score: 0.2755\n",
            "image 2:\n",
            "1/1 [==============================] - 0s 64ms/sample - loss: 0.2465 - iou_score: 0.8677\n",
            "image 3:\n",
            "1/1 [==============================] - 0s 65ms/sample - loss: 1.3749 - iou_score: 0.4321\n",
            "image 4:\n",
            "1/1 [==============================] - 0s 65ms/sample - loss: 0.6422 - iou_score: 0.6945\n",
            "image 5:\n",
            "1/1 [==============================] - 0s 65ms/sample - loss: 0.4592 - iou_score: 0.7679\n",
            "image 6:\n",
            "1/1 [==============================] - 0s 64ms/sample - loss: 0.7921 - iou_score: 0.6438\n",
            "image 7:\n",
            "1/1 [==============================] - 0s 64ms/sample - loss: 0.3028 - iou_score: 0.8386\n",
            "image 8:\n",
            "1/1 [==============================] - 0s 64ms/sample - loss: 1.5994 - iou_score: 0.3691\n",
            "image 9:\n",
            "1/1 [==============================] - 0s 64ms/sample - loss: 0.2324 - iou_score: 0.8719\n",
            "image 10:\n",
            "1/1 [==============================] - 0s 64ms/sample - loss: 0.2563 - iou_score: 0.8525\n",
            "image 11:\n",
            "1/1 [==============================] - 0s 64ms/sample - loss: 0.2577 - iou_score: 0.8498\n",
            "image 12:\n",
            "1/1 [==============================] - 0s 68ms/sample - loss: 0.3356 - iou_score: 0.8268\n",
            "image 13:\n",
            "1/1 [==============================] - 0s 65ms/sample - loss: 0.3668 - iou_score: 0.7995\n",
            "image 14:\n",
            "1/1 [==============================] - 0s 66ms/sample - loss: 0.3662 - iou_score: 0.8081\n",
            "image 15:\n",
            "1/1 [==============================] - 0s 65ms/sample - loss: 0.2738 - iou_score: 0.8500\n",
            "image 16:\n",
            "1/1 [==============================] - 0s 64ms/sample - loss: 0.6322 - iou_score: 0.6968\n",
            "image 17:\n",
            "1/1 [==============================] - 0s 64ms/sample - loss: 0.9376 - iou_score: 0.5681\n",
            "image 18:\n",
            "1/1 [==============================] - 0s 67ms/sample - loss: 0.3838 - iou_score: 0.7926\n",
            "image 19:\n",
            "1/1 [==============================] - 0s 66ms/sample - loss: 0.3793 - iou_score: 0.7992\n"
          ],
          "name": "stdout"
        }
      ]
    },
    {
      "cell_type": "code",
      "metadata": {
        "id": "vfdcDRwcBAdc",
        "colab_type": "code",
        "colab": {
          "base_uri": "https://localhost:8080/",
          "height": 286
        },
        "outputId": "319416bf-ed44-444a-92f9-09aabc0c9c77"
      },
      "source": [
        "plt.imshow(images[1])"
      ],
      "execution_count": null,
      "outputs": [
        {
          "output_type": "execute_result",
          "data": {
            "text/plain": [
              "<matplotlib.image.AxesImage at 0x7f832d393898>"
            ]
          },
          "metadata": {
            "tags": []
          },
          "execution_count": 261
        },
        {
          "output_type": "display_data",
          "data": {
            "image/png": "[encoded data removed]",
            "text/plain": [
              "<Figure size 432x288 with 1 Axes>"
            ]
          },
          "metadata": {
            "tags": [],
            "needs_background": "light"
          }
        }
      ]
    },
    {
      "cell_type": "code",
      "metadata": {
        "id": "4ZZY1wnBA28w",
        "colab_type": "code",
        "colab": {
          "base_uri": "https://localhost:8080/",
          "height": 286
        },
        "outputId": "1281942c-58b1-4d52-e9e3-a8fe76664ae8"
      },
      "source": [
        "plt.imshow(labels[1])"
      ],
      "execution_count": null,
      "outputs": [
        {
          "output_type": "execute_result",
          "data": {
            "text/plain": [
              "<matplotlib.image.AxesImage at 0x7f832d36c518>"
            ]
          },
          "metadata": {
            "tags": []
          },
          "execution_count": 262
        },
        {
          "output_type": "display_data",
          "data": {
            "image/png": "[encoded data removed]",
            "text/plain": [
              "<Figure size 432x288 with 1 Axes>"
            ]
          },
          "metadata": {
            "tags": [],
            "needs_background": "light"
          }
        }
      ]
    },
    {
      "cell_type": "code",
      "metadata": {
        "id": "L4btfr8ZBR5I",
        "colab_type": "code",
        "colab": {}
      },
      "source": [
        "test_img = images[1][np.newaxis, :]"
      ],
      "execution_count": null,
      "outputs": []
    },
    {
      "cell_type": "code",
      "metadata": {
        "id": "HbLQW3xZBEFz",
        "colab_type": "code",
        "colab": {}
      },
      "source": [
        "r = model.predict(test_img)"
      ],
      "execution_count": null,
      "outputs": []
    },
    {
      "cell_type": "code",
      "metadata": {
        "id": "4HMyjiirCnra",
        "colab_type": "code",
        "colab": {
          "base_uri": "https://localhost:8080/",
          "height": 34
        },
        "outputId": "9bee4d03-a54d-4582-d52a-b423b74c9c2c"
      },
      "source": [
        "r.shape"
      ],
      "execution_count": null,
      "outputs": [
        {
          "output_type": "execute_result",
          "data": {
            "text/plain": [
              "(1, 1152, 480, 1)"
            ]
          },
          "metadata": {
            "tags": []
          },
          "execution_count": 265
        }
      ]
    },
    {
      "cell_type": "code",
      "metadata": {
        "id": "xWMVBZ1nCdcF",
        "colab_type": "code",
        "colab": {}
      },
      "source": [
        "p = r.reshape((1152,480))"
      ],
      "execution_count": null,
      "outputs": []
    },
    {
      "cell_type": "code",
      "metadata": {
        "id": "56WbbT9xChMA",
        "colab_type": "code",
        "colab": {
          "base_uri": "https://localhost:8080/",
          "height": 286
        },
        "outputId": "3e61e80f-60eb-4535-a119-9100fd08cb6c"
      },
      "source": [
        "plt.imshow(p)"
      ],
      "execution_count": null,
      "outputs": [
        {
          "output_type": "execute_result",
          "data": {
            "text/plain": [
              "<matplotlib.image.AxesImage at 0x7f832d2c5400>"
            ]
          },
          "metadata": {
            "tags": []
          },
          "execution_count": 267
        },
        {
          "output_type": "display_data",
          "data": {
            "image/png": "[encoded data removed]",
            "text/plain": [
              "<Figure size 432x288 with 1 Axes>"
            ]
          },
          "metadata": {
            "tags": [],
            "needs_background": "light"
          }
        }
      ]
    },
    {
      "cell_type": "markdown",
      "metadata": {
        "id": "lYMG_wadPN7l",
        "colab_type": "text"
      },
      "source": [
        "# Convert img from float to uint8"
      ]
    },
    {
      "cell_type": "code",
      "metadata": {
        "id": "xAzi26zxfnLO",
        "colab_type": "code",
        "colab": {
          "base_uri": "https://localhost:8080/",
          "height": 840
        },
        "outputId": "009691f3-edbb-44a6-9610-e6888dfc8a67"
      },
      "source": [
        "img"
      ],
      "execution_count": null,
      "outputs": [
        {
          "output_type": "execute_result",
          "data": {
            "text/plain": [
              "array([[[255,   0,   0],\n",
              "        [255,   0,   0],\n",
              "        [255,   0,   0],\n",
              "        ...,\n",
              "        [255,   0,   0],\n",
              "        [255,   0,   0],\n",
              "        [255,   0,   0]],\n",
              "\n",
              "       [[255,   0,   0],\n",
              "        [  0,   0,   0],\n",
              "        [  0,   0,   0],\n",
              "        ...,\n",
              "        [  0,   0,   0],\n",
              "        [  0,   0,   0],\n",
              "        [255,   0,   0]],\n",
              "\n",
              "       [[255,   0,   0],\n",
              "        [  0,   0,   0],\n",
              "        [  0,   0,   0],\n",
              "        ...,\n",
              "        [  0,   0,   0],\n",
              "        [  0,   0,   0],\n",
              "        [255,   0,   0]],\n",
              "\n",
              "       ...,\n",
              "\n",
              "       [[255,   0,   0],\n",
              "        [  1,   1,   1],\n",
              "        [  0,   0,   0],\n",
              "        ...,\n",
              "        [  0,   0,   0],\n",
              "        [  0,   0,   0],\n",
              "        [255,   0,   0]],\n",
              "\n",
              "       [[255,   0,   0],\n",
              "        [  0,   0,   0],\n",
              "        [  0,   0,   0],\n",
              "        ...,\n",
              "        [  0,   0,   0],\n",
              "        [  0,   0,   0],\n",
              "        [255,   0,   0]],\n",
              "\n",
              "       [[255,   0,   0],\n",
              "        [255,   0,   0],\n",
              "        [255,   0,   0],\n",
              "        ...,\n",
              "        [255,   0,   0],\n",
              "        [255,   0,   0],\n",
              "        [255,   0,   0]]], dtype=uint8)"
            ]
          },
          "metadata": {
            "tags": []
          },
          "execution_count": 242
        }
      ]
    },
    {
      "cell_type": "code",
      "metadata": {
        "id": "r7g4ScU5pbuC",
        "colab_type": "code",
        "colab": {
          "base_uri": "https://localhost:8080/",
          "height": 286
        },
        "outputId": "66fecd00-e8bc-49cf-e8a0-3bdec679c7f7"
      },
      "source": [
        "img = p*255 #convert image from float(0~1) to int(0~255)\n",
        "img = img.astype(np.uint8)\n",
        "img = np.stack((img,) * 3, axis=-1)\n",
        "\n",
        "plt.imshow(img)"
      ],
      "execution_count": null,
      "outputs": [
        {
          "output_type": "execute_result",
          "data": {
            "text/plain": [
              "<matplotlib.image.AxesImage at 0x7f832d798320>"
            ]
          },
          "metadata": {
            "tags": []
          },
          "execution_count": 243
        },
        {
          "output_type": "display_data",
          "data": {
            "image/png": "[encoded data removed]",
            "text/plain": [
              "<Figure size 432x288 with 1 Axes>"
            ]
          },
          "metadata": {
            "tags": [],
            "needs_background": "light"
          }
        }
      ]
    },
    {
      "cell_type": "markdown",
      "metadata": {
        "id": "sfgFT8QIPG18",
        "colab_type": "text"
      },
      "source": [
        "# WaterShed"
      ]
    },
    {
      "cell_type": "code",
      "metadata": {
        "id": "mY-dNPR2ijy8",
        "colab_type": "code",
        "colab": {}
      },
      "source": [
        "meanshif = cv2.pyrMeanShiftFiltering(img, 21, 51)\n",
        "gray = cv2.cvtColor(meanshif, cv2.COLOR_RGB2GRAY)\n",
        "ret, thresh = cv2.threshold(gray, 0, 255, cv2.THRESH_BINARY + cv2.THRESH_OTSU)"
      ],
      "execution_count": null,
      "outputs": []
    },
    {
      "cell_type": "code",
      "metadata": {
        "id": "U4w1yFMLpFbh",
        "colab_type": "code",
        "colab": {
          "base_uri": "https://localhost:8080/",
          "height": 286
        },
        "outputId": "2b153853-451a-4c6e-8981-0a4843d41b10"
      },
      "source": [
        "plt.imshow(meanshif)"
      ],
      "execution_count": null,
      "outputs": [
        {
          "output_type": "execute_result",
          "data": {
            "text/plain": [
              "<matplotlib.image.AxesImage at 0x7f832d76abe0>"
            ]
          },
          "metadata": {
            "tags": []
          },
          "execution_count": 245
        },
        {
          "output_type": "display_data",
          "data": {
            "image/png": "[encoded data removed]",
            "text/plain": [
              "<Figure size 432x288 with 1 Axes>"
            ]
          },
          "metadata": {
            "tags": [],
            "needs_background": "light"
          }
        }
      ]
    },
    {
      "cell_type": "code",
      "metadata": {
        "id": "UiuaW-KGqhKP",
        "colab_type": "code",
        "colab": {
          "base_uri": "https://localhost:8080/",
          "height": 286
        },
        "outputId": "7c7cd15d-3b95-4b91-e614-3c0a06eeb726"
      },
      "source": [
        "plt.imshow(thresh)"
      ],
      "execution_count": null,
      "outputs": [
        {
          "output_type": "execute_result",
          "data": {
            "text/plain": [
              "<matplotlib.image.AxesImage at 0x7f832d6c2908>"
            ]
          },
          "metadata": {
            "tags": []
          },
          "execution_count": 246
        },
        {
          "output_type": "display_data",
          "data": {
            "image/png": "[encoded data removed]",
            "text/plain": [
              "<Figure size 432x288 with 1 Axes>"
            ]
          },
          "metadata": {
            "tags": [],
            "needs_background": "light"
          }
        }
      ]
    },
    {
      "cell_type": "code",
      "metadata": {
        "id": "lABmEOgsm5ph",
        "colab_type": "code",
        "colab": {}
      },
      "source": [
        "kernel = np.ones((3, 3), np.uint8)\n",
        "opening = cv2.morphologyEx(thresh, cv2.MORPH_OPEN, kernel, iterations = 3)\n",
        "\n",
        "sure_bg = cv2.erode(opening, kernel, iterations = 4)\n",
        "#sure_bg = cv2.dilate(opening, kernel, iterations = 2)\n",
        "\n",
        "dist_transform = cv2.distanceTransform(opening, cv2.DIST_L2, 0)\n",
        "ret, sure_fg = cv2.threshold(dist_transform, 0.3 * dist_transform.max(), 255, 0)\n",
        "\n",
        "sure_fg = np.uint8(sure_fg)\n",
        "unknown = cv2.subtract(sure_bg, sure_fg)"
      ],
      "execution_count": null,
      "outputs": []
    },
    {
      "cell_type": "code",
      "metadata": {
        "id": "6zxC0i4-pYLo",
        "colab_type": "code",
        "colab": {
          "base_uri": "https://localhost:8080/",
          "height": 286
        },
        "outputId": "bb0c03d7-68f0-477a-b5e4-1e401670102f"
      },
      "source": [
        "plt.imshow(opening)"
      ],
      "execution_count": null,
      "outputs": [
        {
          "output_type": "execute_result",
          "data": {
            "text/plain": [
              "<matplotlib.image.AxesImage at 0x7f832d69b4e0>"
            ]
          },
          "metadata": {
            "tags": []
          },
          "execution_count": 248
        },
        {
          "output_type": "display_data",
          "data": {
            "image/png": "[encoded data removed]",
            "text/plain": [
              "<Figure size 432x288 with 1 Axes>"
            ]
          },
          "metadata": {
            "tags": [],
            "needs_background": "light"
          }
        }
      ]
    },
    {
      "cell_type": "code",
      "metadata": {
        "id": "u_3l3DDlrBHL",
        "colab_type": "code",
        "colab": {
          "base_uri": "https://localhost:8080/",
          "height": 286
        },
        "outputId": "9f244431-6b66-477d-f207-4e3e977c5161"
      },
      "source": [
        "plt.imshow(sure_bg)"
      ],
      "execution_count": null,
      "outputs": [
        {
          "output_type": "execute_result",
          "data": {
            "text/plain": [
              "<matplotlib.image.AxesImage at 0x7f832d5f40b8>"
            ]
          },
          "metadata": {
            "tags": []
          },
          "execution_count": 249
        },
        {
          "output_type": "display_data",
          "data": {
            "image/png": "[encoded data removed]",
            "text/plain": [
              "<Figure size 432x288 with 1 Axes>"
            ]
          },
          "metadata": {
            "tags": [],
            "needs_background": "light"
          }
        }
      ]
    },
    {
      "cell_type": "code",
      "metadata": {
        "id": "kgpxBhvapzmY",
        "colab_type": "code",
        "colab": {
          "base_uri": "https://localhost:8080/",
          "height": 286
        },
        "outputId": "6d48e5c7-541e-47ba-a871-2f277d539926"
      },
      "source": [
        "plt.imshow(dist_transform)"
      ],
      "execution_count": null,
      "outputs": [
        {
          "output_type": "execute_result",
          "data": {
            "text/plain": [
              "<matplotlib.image.AxesImage at 0x7f832d5c0e10>"
            ]
          },
          "metadata": {
            "tags": []
          },
          "execution_count": 250
        },
        {
          "output_type": "display_data",
          "data": {
            "image/png": "[encoded data removed]",
            "text/plain": [
              "<Figure size 432x288 with 1 Axes>"
            ]
          },
          "metadata": {
            "tags": [],
            "needs_background": "light"
          }
        }
      ]
    },
    {
      "cell_type": "code",
      "metadata": {
        "id": "tc709pkvYQGb",
        "colab_type": "code",
        "colab": {
          "base_uri": "https://localhost:8080/",
          "height": 286
        },
        "outputId": "098e647a-cc8f-4178-cf40-d1381f324829"
      },
      "source": [
        "plt.imshow(sure_fg)"
      ],
      "execution_count": null,
      "outputs": [
        {
          "output_type": "execute_result",
          "data": {
            "text/plain": [
              "<matplotlib.image.AxesImage at 0x7f832d594a58>"
            ]
          },
          "metadata": {
            "tags": []
          },
          "execution_count": 251
        },
        {
          "output_type": "display_data",
          "data": {
            "image/png": "[encoded data removed]",
            "text/plain": [
              "<Figure size 432x288 with 1 Axes>"
            ]
          },
          "metadata": {
            "tags": [],
            "needs_background": "light"
          }
        }
      ]
    },
    {
      "cell_type": "code",
      "metadata": {
        "id": "A5ZQ6RIFYLqf",
        "colab_type": "code",
        "colab": {
          "base_uri": "https://localhost:8080/",
          "height": 286
        },
        "outputId": "5ba6ee63-b7e3-4059-874a-498e5e9550d8"
      },
      "source": [
        "plt.imshow(unknown)"
      ],
      "execution_count": null,
      "outputs": [
        {
          "output_type": "execute_result",
          "data": {
            "text/plain": [
              "<matplotlib.image.AxesImage at 0x7f832d56c710>"
            ]
          },
          "metadata": {
            "tags": []
          },
          "execution_count": 252
        },
        {
          "output_type": "display_data",
          "data": {
            "image/png": "[encoded data removed]",
            "text/plain": [
              "<Figure size 432x288 with 1 Axes>"
            ]
          },
          "metadata": {
            "tags": [],
            "needs_background": "light"
          }
        }
      ]
    },
    {
      "cell_type": "code",
      "metadata": {
        "id": "4bQ_evheVqXr",
        "colab_type": "code",
        "colab": {
          "base_uri": "https://localhost:8080/",
          "height": 50
        },
        "outputId": "ed814d6e-a3fb-46eb-a30e-e3492aefb74a"
      },
      "source": [
        "ret, markers = cv2.connectedComponents(sure_fg)\n",
        "print(np.unique(markers))\n",
        "markers = markers+1\n",
        "print(np.unique(markers))\n",
        "\n",
        "markers[unknown==255] = 0"
      ],
      "execution_count": null,
      "outputs": [
        {
          "output_type": "stream",
          "text": [
            "[ 0  1  2  3  4  5  6  7  8  9 10 11 12 13 14 15]\n",
            "[ 1  2  3  4  5  6  7  8  9 10 11 12 13 14 15 16]\n"
          ],
          "name": "stdout"
        }
      ]
    },
    {
      "cell_type": "code",
      "metadata": {
        "id": "GNp4p9hwXviT",
        "colab_type": "code",
        "colab": {
          "base_uri": "https://localhost:8080/",
          "height": 286
        },
        "outputId": "adbb3af9-fc5e-414a-c35d-b0dffef9d9c0"
      },
      "source": [
        "plt.imshow(markers)"
      ],
      "execution_count": null,
      "outputs": [
        {
          "output_type": "execute_result",
          "data": {
            "text/plain": [
              "<matplotlib.image.AxesImage at 0x7f832d4c5470>"
            ]
          },
          "metadata": {
            "tags": []
          },
          "execution_count": 254
        },
        {
          "output_type": "display_data",
          "data": {
            "image/png": "[encoded data removed]",
            "text/plain": [
              "<Figure size 432x288 with 1 Axes>"
            ]
          },
          "metadata": {
            "tags": [],
            "needs_background": "light"
          }
        }
      ]
    },
    {
      "cell_type": "code",
      "metadata": {
        "id": "37wA-2n4X4dz",
        "colab_type": "code",
        "colab": {}
      },
      "source": [
        "markers = cv2.watershed(img,markers)\n",
        "img[markers == -1] = [255,0,0]"
      ],
      "execution_count": null,
      "outputs": []
    },
    {
      "cell_type": "code",
      "metadata": {
        "id": "8W4Nyu4Tmz2s",
        "colab_type": "code",
        "colab": {
          "base_uri": "https://localhost:8080/",
          "height": 286
        },
        "outputId": "7fc1d756-22cf-469d-970e-c2c9658ab5d4"
      },
      "source": [
        "plt.imshow(markers)"
      ],
      "execution_count": null,
      "outputs": [
        {
          "output_type": "execute_result",
          "data": {
            "text/plain": [
              "<matplotlib.image.AxesImage at 0x7f832d49b080>"
            ]
          },
          "metadata": {
            "tags": []
          },
          "execution_count": 256
        },
        {
          "output_type": "display_data",
          "data": {
            "image/png": "[encoded data removed]",
            "text/plain": [
              "<Figure size 432x288 with 1 Axes>"
            ]
          },
          "metadata": {
            "tags": [],
            "needs_background": "light"
          }
        }
      ]
    },
    {
      "cell_type": "code",
      "metadata": {
        "id": "Ts2GHlhlnNJ_",
        "colab_type": "code",
        "colab": {
          "base_uri": "https://localhost:8080/",
          "height": 286
        },
        "outputId": "40699aa1-b7b9-44da-b7ad-7a34fa41b3d2"
      },
      "source": [
        "plt.imshow(img)"
      ],
      "execution_count": null,
      "outputs": [
        {
          "output_type": "execute_result",
          "data": {
            "text/plain": [
              "<matplotlib.image.AxesImage at 0x7f832d465cf8>"
            ]
          },
          "metadata": {
            "tags": []
          },
          "execution_count": 257
        },
        {
          "output_type": "display_data",
          "data": {
            "image/png": "[encoded data removed]",
            "text/plain": [
              "<Figure size 432x288 with 1 Axes>"
            ]
          },
          "metadata": {
            "tags": [],
            "needs_background": "light"
          }
        }
      ]
    },
    {
      "cell_type": "code",
      "metadata": {
        "id": "IXGxNIuKnjoV",
        "colab_type": "code",
        "colab": {
          "base_uri": "https://localhost:8080/",
          "height": 50
        },
        "outputId": "85704c39-35b7-45ae-fc2d-5363b4854f46"
      },
      "source": [
        "np.unique(markers)"
      ],
      "execution_count": null,
      "outputs": [
        {
          "output_type": "execute_result",
          "data": {
            "text/plain": [
              "array([-1,  1,  2,  3,  4,  5,  6,  7,  8,  9, 10, 11, 12, 13, 14, 15, 16],\n",
              "      dtype=int32)"
            ]
          },
          "metadata": {
            "tags": []
          },
          "execution_count": 258
        }
      ]
    },
    {
      "cell_type": "code",
      "metadata": {
        "id": "zWyLV6NdnsFJ",
        "colab_type": "code",
        "colab": {}
      },
      "source": [
        "import imutils\n",
        "for label in np.unique(markers)[2:]:\n",
        "\t# 如果該標籤爲0，則表示其爲背景，直接忽略\n",
        "\tif label == 0:\n",
        "\t\tcontinue\n",
        "\n",
        "\t# 爲標籤區域分配內存並將在mask上繪製結果\n",
        "\tmask = np.zeros(gray.shape, dtype=\"uint8\")\n",
        "\tmask[markers == label] = 255\n",
        "\n",
        "\t# 在mask上檢測輪廓並獲得最大的一個輪廓\n",
        "\tcnts, heir = cv2.findContours(mask.copy(), cv2.RETR_EXTERNAL, cv2.CHAIN_APPROX_SIMPLE)\n",
        "\tcv2.drawContours(img, cnts, -1, (255, 0, 0), cv2.FILLED)"
      ],
      "execution_count": null,
      "outputs": []
    },
    {
      "cell_type": "code",
      "metadata": {
        "id": "BGMo_ZkAn62_",
        "colab_type": "code",
        "colab": {
          "base_uri": "https://localhost:8080/",
          "height": 286
        },
        "outputId": "6435ee99-317d-425f-c9d0-61296dc86c41"
      },
      "source": [
        "plt.imshow(img)"
      ],
      "execution_count": null,
      "outputs": [
        {
          "output_type": "execute_result",
          "data": {
            "text/plain": [
              "<matplotlib.image.AxesImage at 0x7f832d3bfbe0>"
            ]
          },
          "metadata": {
            "tags": []
          },
          "execution_count": 260
        },
        {
          "output_type": "display_data",
          "data": {
            "image/png": "[encoded data removed]",
            "text/plain": [
              "<Figure size 432x288 with 1 Axes>"
            ]
          },
          "metadata": {
            "tags": [],
            "needs_background": "light"
          }
        }
      ]
    },
    {
      "cell_type": "code",
      "metadata": {
        "id": "Sjzn1gKYrEVi",
        "colab_type": "code",
        "colab": {}
      },
      "source": [
        ""
      ],
      "execution_count": null,
      "outputs": []
    }
  ]
}