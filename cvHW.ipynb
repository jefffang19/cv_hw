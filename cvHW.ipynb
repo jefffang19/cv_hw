{
  "nbformat": 4,
  "nbformat_minor": 0,
  "metadata": {
    "kernelspec": {
      "display_name": "Python 3",
      "language": "python",
      "name": "python3"
    },
    "language_info": {
      "codemirror_mode": {
        "name": "ipython",
        "version": 3
      },
      "file_extension": ".py",
      "mimetype": "text/x-python",
      "name": "python",
      "nbconvert_exporter": "python",
      "pygments_lexer": "ipython3",
      "version": "3.7.7"
    },
    "colab": {
      "name": "cvHW.ipynb",
      "provenance": [],
      "collapsed_sections": [],
      "include_colab_link": true
    },
    "accelerator": "GPU"
  },
  "cells": [
    {
      "cell_type": "markdown",
      "metadata": {
        "id": "view-in-github",
        "colab_type": "text"
      },
      "source": [
        "<a href=\"https://colab.research.google.com/github/jefffang19/cv_hw/blob/master/cvHW.ipynb\" target=\"_parent\"><img src=\"https://colab.research.google.com/assets/colab-badge.svg\" alt=\"Open In Colab\"/></a>"
      ]
    },
    {
      "cell_type": "code",
      "metadata": {
        "id": "lUHa-G7Yz9UW",
        "colab_type": "code",
        "colab": {}
      },
      "source": [
        "import cv2"
      ],
      "execution_count": 1,
      "outputs": []
    },
    {
      "cell_type": "code",
      "metadata": {
        "id": "uQUA4Vc1z9Ug",
        "colab_type": "code",
        "colab": {}
      },
      "source": [
        "import numpy as np"
      ],
      "execution_count": 2,
      "outputs": []
    },
    {
      "cell_type": "code",
      "metadata": {
        "id": "c_prjM4Wz9Um",
        "colab_type": "code",
        "colab": {}
      },
      "source": [
        "import matplotlib.pyplot as plt"
      ],
      "execution_count": 3,
      "outputs": []
    },
    {
      "cell_type": "code",
      "metadata": {
        "id": "cpnQJ5U50WbJ",
        "colab_type": "code",
        "colab": {
          "base_uri": "https://localhost:8080/",
          "height": 34
        },
        "outputId": "c83617f0-667a-441e-cd97-521cdd63bbb7"
      },
      "source": [
        "from google.colab import drive\n",
        "drive.mount('/content/gdrive')"
      ],
      "execution_count": 4,
      "outputs": [
        {
          "output_type": "stream",
          "text": [
            "Drive already mounted at /content/gdrive; to attempt to forcibly remount, call drive.mount(\"/content/gdrive\", force_remount=True).\n"
          ],
          "name": "stdout"
        }
      ]
    },
    {
      "cell_type": "code",
      "metadata": {
        "id": "wKuicny40b9y",
        "colab_type": "code",
        "colab": {}
      },
      "source": [
        "path = F\"/content/gdrive/My Drive/iir_training_python/cvHW/cv.png\""
      ],
      "execution_count": 5,
      "outputs": []
    },
    {
      "cell_type": "code",
      "metadata": {
        "id": "eNPYcw2yz9Ur",
        "colab_type": "code",
        "colab": {}
      },
      "source": [
        "img = cv2.imread(path)"
      ],
      "execution_count": 6,
      "outputs": []
    },
    {
      "cell_type": "code",
      "metadata": {
        "id": "HNEPZZmlz9Ux",
        "colab_type": "code",
        "colab": {
          "base_uri": "https://localhost:8080/",
          "height": 286
        },
        "outputId": "4766aba3-c137-40ef-9103-c6dfbdccd148"
      },
      "source": [
        "plt.imshow(img)"
      ],
      "execution_count": 7,
      "outputs": [
        {
          "output_type": "execute_result",
          "data": {
            "text/plain": [
              "<matplotlib.image.AxesImage at 0x7f6cf1d9e9e8>"
            ]
          },
          "metadata": {
            "tags": []
          },
          "execution_count": 7
        },
        {
          "output_type": "display_data",
          "data": {
            "image/png": "[encoded data removed]",
            "text/plain": [
              "<Figure size 432x288 with 1 Axes>"
            ]
          },
          "metadata": {
            "tags": [],
            "needs_background": "light"
          }
        }
      ]
    },
    {
      "cell_type": "markdown",
      "metadata": {
        "id": "LMV-t6iOrW36",
        "colab_type": "text"
      },
      "source": [
        "# Objective\n",
        "\n",
        "\n",
        "```\n",
        "cv2.cvtColor(img, cv2.COLOR_BGR2GRAY)\n",
        "```\n",
        "\n"
      ]
    },
    {
      "cell_type": "code",
      "metadata": {
        "id": "r5EY0FjJz9U3",
        "colab_type": "code",
        "colab": {}
      },
      "source": [
        "img_gray = cv2.cvtColor(img, cv2.COLOR_BGR2GRAY)"
      ],
      "execution_count": null,
      "outputs": []
    },
    {
      "cell_type": "code",
      "metadata": {
        "id": "B53TT204z9U6",
        "colab_type": "code",
        "colab": {
          "base_uri": "https://localhost:8080/",
          "height": 286
        },
        "outputId": "01b08de3-fcc1-40d6-d8e0-f03cbbd3090e"
      },
      "source": [
        "plt.imshow(img_gray, cmap = 'gray')"
      ],
      "execution_count": null,
      "outputs": [
        {
          "output_type": "execute_result",
          "data": {
            "text/plain": [
              "<matplotlib.image.AxesImage at 0x7f1ace987860>"
            ]
          },
          "metadata": {
            "tags": []
          },
          "execution_count": 10
        },
        {
          "output_type": "display_data",
          "data": {
            "image/png": "[encoded data removed]",
            "text/plain": [
              "<Figure size 432x288 with 1 Axes>"
            ]
          },
          "metadata": {
            "tags": [],
            "needs_background": "light"
          }
        }
      ]
    },
    {
      "cell_type": "markdown",
      "metadata": {
        "id": "9Y1nRa-2z9U9",
        "colab_type": "text"
      },
      "source": [
        "# We implement above function ourself"
      ]
    },
    {
      "cell_type": "code",
      "metadata": {
        "id": "JQnHDus_z9U-",
        "colab_type": "code",
        "colab": {
          "base_uri": "https://localhost:8080/",
          "height": 34
        },
        "outputId": "8bfc734a-b775-439f-f845-6beb29877bd2"
      },
      "source": [
        "img.shape"
      ],
      "execution_count": null,
      "outputs": [
        {
          "output_type": "execute_result",
          "data": {
            "text/plain": [
              "(794, 600, 3)"
            ]
          },
          "metadata": {
            "tags": []
          },
          "execution_count": 11
        }
      ]
    },
    {
      "cell_type": "markdown",
      "metadata": {
        "id": "jRrBUFMqz9VA",
        "colab_type": "text"
      },
      "source": [
        "# Get R, G, B channels"
      ]
    },
    {
      "cell_type": "code",
      "metadata": {
        "id": "v4Zd8tw_z9VB",
        "colab_type": "code",
        "colab": {}
      },
      "source": [
        "imgR = img[..., 0] # R\n",
        "imgG = img[..., 1] # G\n",
        "imgB =img[..., 2] # B"
      ],
      "execution_count": null,
      "outputs": []
    },
    {
      "cell_type": "code",
      "metadata": {
        "id": "abETEwFFz9VD",
        "colab_type": "code",
        "colab": {
          "base_uri": "https://localhost:8080/",
          "height": 34
        },
        "outputId": "eebb46b5-4dda-46ec-9ae4-c6daf0523a17"
      },
      "source": [
        "imgR.shape"
      ],
      "execution_count": null,
      "outputs": [
        {
          "output_type": "execute_result",
          "data": {
            "text/plain": [
              "(794, 600)"
            ]
          },
          "metadata": {
            "tags": []
          },
          "execution_count": 13
        }
      ]
    },
    {
      "cell_type": "markdown",
      "metadata": {
        "id": "WkeqKjjbz9VF",
        "colab_type": "text"
      },
      "source": [
        "# transform to grayscale"
      ]
    },
    {
      "cell_type": "code",
      "metadata": {
        "id": "FfMioTZ6z9VF",
        "colab_type": "code",
        "colab": {}
      },
      "source": [
        "# elementwise multiply\n",
        "img_gray = np.multiply(imgR,0.299) + np.multiply(imgG,0.587) + np.multiply(imgB,0.114)"
      ],
      "execution_count": null,
      "outputs": []
    },
    {
      "cell_type": "code",
      "metadata": {
        "id": "Yfx9P2hmz9VI",
        "colab_type": "code",
        "colab": {
          "base_uri": "https://localhost:8080/",
          "height": 286
        },
        "outputId": "61b66ad0-25a2-44de-adfb-dbb87d8cf8a3"
      },
      "source": [
        "plt.imshow(img_gray, cmap='gray')"
      ],
      "execution_count": null,
      "outputs": [
        {
          "output_type": "execute_result",
          "data": {
            "text/plain": [
              "<matplotlib.image.AxesImage at 0x7f1acdcb4c88>"
            ]
          },
          "metadata": {
            "tags": []
          },
          "execution_count": 15
        },
        {
          "output_type": "display_data",
          "data": {
            "image/png": "[encoded data removed]",
            "text/plain": [
              "<Figure size 432x288 with 1 Axes>"
            ]
          },
          "metadata": {
            "tags": [],
            "needs_background": "light"
          }
        }
      ]
    },
    {
      "cell_type": "markdown",
      "metadata": {
        "id": "uZ-5-vAu5wqF",
        "colab_type": "text"
      },
      "source": [
        "# threshold function"
      ]
    },
    {
      "cell_type": "markdown",
      "metadata": {
        "id": "izgLy-bVq2WB",
        "colab_type": "text"
      },
      "source": [
        "# objective\n",
        "\n",
        "\n",
        "```\n",
        "cv2.threshold(x, low_bound, up_bound, cv2.THRESH_TOZERO)\n",
        "```\n",
        "\n"
      ]
    },
    {
      "cell_type": "code",
      "metadata": {
        "id": "DH7jSpkJfPnf",
        "colab_type": "code",
        "colab": {
          "base_uri": "https://localhost:8080/",
          "height": 286
        },
        "outputId": "c9b61165-b3a4-43ef-d450-5a7d2bc22b20"
      },
      "source": [
        "ret,thresh1 = cv2.threshold(img_gray,127,255,cv2.THRESH_TOZERO)\n",
        "plt.imshow(thresh1, cmap='gray')"
      ],
      "execution_count": null,
      "outputs": [
        {
          "output_type": "execute_result",
          "data": {
            "text/plain": [
              "<matplotlib.image.AxesImage at 0x7f1ac39a97f0>"
            ]
          },
          "metadata": {
            "tags": []
          },
          "execution_count": 98
        },
        {
          "output_type": "display_data",
          "data": {
            "image/png": "[encoded data removed]",
            "text/plain": [
              "<Figure size 432x288 with 1 Axes>"
            ]
          },
          "metadata": {
            "tags": [],
            "needs_background": "light"
          }
        }
      ]
    },
    {
      "cell_type": "markdown",
      "metadata": {
        "id": "ewJ3H0HgrN0P",
        "colab_type": "text"
      },
      "source": [
        "# My Implementation"
      ]
    },
    {
      "cell_type": "code",
      "metadata": {
        "id": "Psf1Tj3E6mE-",
        "colab_type": "code",
        "colab": {}
      },
      "source": [
        "path = F\"/content/gdrive/My Drive/iir_training_python/cvHW/cv.png\""
      ],
      "execution_count": null,
      "outputs": []
    },
    {
      "cell_type": "code",
      "metadata": {
        "id": "Gra1v_sb5zUZ",
        "colab_type": "code",
        "colab": {}
      },
      "source": [
        "def myThresh(in_img, lower_thresh, upper_thresh):\n",
        "  if(0<=upper_thresh<=255 and 0<=lower_thresh<=255):\n",
        "    up_th = np.less_equal(in_img, upper_thresh)\n",
        "    low_th = np.greater(in_img, lower_thresh)\n",
        "    return np.multiply(np.multiply(in_img,low_th), up_th)\n",
        "  else:\n",
        "    print('wrong value')"
      ],
      "execution_count": null,
      "outputs": []
    },
    {
      "cell_type": "code",
      "metadata": {
        "id": "evj5PfLO6Vfi",
        "colab_type": "code",
        "colab": {
          "base_uri": "https://localhost:8080/",
          "height": 286
        },
        "outputId": "b52d2c17-7490-4940-e620-db01166daea8"
      },
      "source": [
        "result = myThresh(img_gray, 127, 255)\n",
        "\n",
        "plt.imshow(result, cmap='gray')"
      ],
      "execution_count": null,
      "outputs": [
        {
          "output_type": "execute_result",
          "data": {
            "text/plain": [
              "<matplotlib.image.AxesImage at 0x7f1ac3ad7c18>"
            ]
          },
          "metadata": {
            "tags": []
          },
          "execution_count": 100
        },
        {
          "output_type": "display_data",
          "data": {
            "image/png": "[encoded data removed]",
            "text/plain": [
              "<Figure size 432x288 with 1 Axes>"
            ]
          },
          "metadata": {
            "tags": [],
            "needs_background": "light"
          }
        }
      ]
    },
    {
      "cell_type": "code",
      "metadata": {
        "id": "Zg-_u1_b8PDa",
        "colab_type": "code",
        "colab": {
          "base_uri": "https://localhost:8080/",
          "height": 34
        },
        "outputId": "62a4cccd-2971-4756-ca8f-091732155b4a"
      },
      "source": [
        "myThresh(img, 127, 278)"
      ],
      "execution_count": null,
      "outputs": [
        {
          "output_type": "stream",
          "text": [
            "wrong value\n"
          ],
          "name": "stdout"
        }
      ]
    },
    {
      "cell_type": "markdown",
      "metadata": {
        "id": "fosHOGSY0xC6",
        "colab_type": "text"
      },
      "source": [
        "# Segmentation Model"
      ]
    },
    {
      "cell_type": "code",
      "metadata": {
        "id": "e-ZRrM5_z9VK",
        "colab_type": "code",
        "colab": {
          "base_uri": "https://localhost:8080/",
          "height": 356
        },
        "outputId": "f882c29c-21a7-497d-9082-b796b3d2fb85"
      },
      "source": [
        "!pip install -U segmentation-models"
      ],
      "execution_count": 8,
      "outputs": [
        {
          "output_type": "stream",
          "text": [
            "Requirement already up-to-date: segmentation-models in /usr/local/lib/python3.6/dist-packages (1.0.1)\n",
            "Requirement already satisfied, skipping upgrade: efficientnet==1.0.0 in /usr/local/lib/python3.6/dist-packages (from segmentation-models) (1.0.0)\n",
            "Requirement already satisfied, skipping upgrade: keras-applications<=1.0.8,>=1.0.7 in /usr/local/lib/python3.6/dist-packages (from segmentation-models) (1.0.8)\n",
            "Requirement already satisfied, skipping upgrade: image-classifiers==1.0.0 in /usr/local/lib/python3.6/dist-packages (from segmentation-models) (1.0.0)\n",
            "Requirement already satisfied, skipping upgrade: scikit-image in /usr/local/lib/python3.6/dist-packages (from efficientnet==1.0.0->segmentation-models) (0.16.2)\n",
            "Requirement already satisfied, skipping upgrade: h5py in /usr/local/lib/python3.6/dist-packages (from keras-applications<=1.0.8,>=1.0.7->segmentation-models) (2.10.0)\n",
            "Requirement already satisfied, skipping upgrade: numpy>=1.9.1 in /usr/local/lib/python3.6/dist-packages (from keras-applications<=1.0.8,>=1.0.7->segmentation-models) (1.18.5)\n",
            "Requirement already satisfied, skipping upgrade: imageio>=2.3.0 in /usr/local/lib/python3.6/dist-packages (from scikit-image->efficientnet==1.0.0->segmentation-models) (2.4.1)\n",
            "Requirement already satisfied, skipping upgrade: matplotlib!=3.0.0,>=2.0.0 in /usr/local/lib/python3.6/dist-packages (from scikit-image->efficientnet==1.0.0->segmentation-models) (3.2.2)\n",
            "Requirement already satisfied, skipping upgrade: scipy>=0.19.0 in /usr/local/lib/python3.6/dist-packages (from scikit-image->efficientnet==1.0.0->segmentation-models) (1.4.1)\n",
            "Requirement already satisfied, skipping upgrade: PyWavelets>=0.4.0 in /usr/local/lib/python3.6/dist-packages (from scikit-image->efficientnet==1.0.0->segmentation-models) (1.1.1)\n",
            "Requirement already satisfied, skipping upgrade: pillow>=4.3.0 in /usr/local/lib/python3.6/dist-packages (from scikit-image->efficientnet==1.0.0->segmentation-models) (7.0.0)\n",
            "Requirement already satisfied, skipping upgrade: networkx>=2.0 in /usr/local/lib/python3.6/dist-packages (from scikit-image->efficientnet==1.0.0->segmentation-models) (2.4)\n",
            "Requirement already satisfied, skipping upgrade: six in /usr/local/lib/python3.6/dist-packages (from h5py->keras-applications<=1.0.8,>=1.0.7->segmentation-models) (1.15.0)\n",
            "Requirement already satisfied, skipping upgrade: pyparsing!=2.0.4,!=2.1.2,!=2.1.6,>=2.0.1 in /usr/local/lib/python3.6/dist-packages (from matplotlib!=3.0.0,>=2.0.0->scikit-image->efficientnet==1.0.0->segmentation-models) (2.4.7)\n",
            "Requirement already satisfied, skipping upgrade: kiwisolver>=1.0.1 in /usr/local/lib/python3.6/dist-packages (from matplotlib!=3.0.0,>=2.0.0->scikit-image->efficientnet==1.0.0->segmentation-models) (1.2.0)\n",
            "Requirement already satisfied, skipping upgrade: python-dateutil>=2.1 in /usr/local/lib/python3.6/dist-packages (from matplotlib!=3.0.0,>=2.0.0->scikit-image->efficientnet==1.0.0->segmentation-models) (2.8.1)\n",
            "Requirement already satisfied, skipping upgrade: cycler>=0.10 in /usr/local/lib/python3.6/dist-packages (from matplotlib!=3.0.0,>=2.0.0->scikit-image->efficientnet==1.0.0->segmentation-models) (0.10.0)\n",
            "Requirement already satisfied, skipping upgrade: decorator>=4.3.0 in /usr/local/lib/python3.6/dist-packages (from networkx>=2.0->scikit-image->efficientnet==1.0.0->segmentation-models) (4.4.2)\n"
          ],
          "name": "stdout"
        }
      ]
    },
    {
      "cell_type": "code",
      "metadata": {
        "id": "UQwccuGM2Lc-",
        "colab_type": "code",
        "colab": {
          "base_uri": "https://localhost:8080/",
          "height": 423
        },
        "outputId": "3d36f5f0-9ecc-41c0-c5e2-11e1c5165de6"
      },
      "source": [
        "!pip install tensorflow-gpu==1.15.0"
      ],
      "execution_count": 9,
      "outputs": [
        {
          "output_type": "stream",
          "text": [
            "Requirement already satisfied: tensorflow-gpu==1.15.0 in /usr/local/lib/python3.6/dist-packages (1.15.0)\n",
            "Requirement already satisfied: keras-preprocessing>=1.0.5 in /usr/local/lib/python3.6/dist-packages (from tensorflow-gpu==1.15.0) (1.1.2)\n",
            "Requirement already satisfied: google-pasta>=0.1.6 in /usr/local/lib/python3.6/dist-packages (from tensorflow-gpu==1.15.0) (0.2.0)\n",
            "Requirement already satisfied: astor>=0.6.0 in /usr/local/lib/python3.6/dist-packages (from tensorflow-gpu==1.15.0) (0.8.1)\n",
            "Requirement already satisfied: tensorflow-estimator==1.15.1 in /usr/local/lib/python3.6/dist-packages (from tensorflow-gpu==1.15.0) (1.15.1)\n",
            "Requirement already satisfied: grpcio>=1.8.6 in /usr/local/lib/python3.6/dist-packages (from tensorflow-gpu==1.15.0) (1.31.0)\n",
            "Requirement already satisfied: wheel>=0.26 in /usr/local/lib/python3.6/dist-packages (from tensorflow-gpu==1.15.0) (0.34.2)\n",
            "Requirement already satisfied: wrapt>=1.11.1 in /usr/local/lib/python3.6/dist-packages (from tensorflow-gpu==1.15.0) (1.12.1)\n",
            "Requirement already satisfied: tensorboard<1.16.0,>=1.15.0 in /usr/local/lib/python3.6/dist-packages (from tensorflow-gpu==1.15.0) (1.15.0)\n",
            "Requirement already satisfied: numpy<2.0,>=1.16.0 in /usr/local/lib/python3.6/dist-packages (from tensorflow-gpu==1.15.0) (1.18.5)\n",
            "Requirement already satisfied: protobuf>=3.6.1 in /usr/local/lib/python3.6/dist-packages (from tensorflow-gpu==1.15.0) (3.12.4)\n",
            "Requirement already satisfied: termcolor>=1.1.0 in /usr/local/lib/python3.6/dist-packages (from tensorflow-gpu==1.15.0) (1.1.0)\n",
            "Requirement already satisfied: opt-einsum>=2.3.2 in /usr/local/lib/python3.6/dist-packages (from tensorflow-gpu==1.15.0) (3.3.0)\n",
            "Requirement already satisfied: gast==0.2.2 in /usr/local/lib/python3.6/dist-packages (from tensorflow-gpu==1.15.0) (0.2.2)\n",
            "Requirement already satisfied: six>=1.10.0 in /usr/local/lib/python3.6/dist-packages (from tensorflow-gpu==1.15.0) (1.15.0)\n",
            "Requirement already satisfied: absl-py>=0.7.0 in /usr/local/lib/python3.6/dist-packages (from tensorflow-gpu==1.15.0) (0.9.0)\n",
            "Requirement already satisfied: keras-applications>=1.0.8 in /usr/local/lib/python3.6/dist-packages (from tensorflow-gpu==1.15.0) (1.0.8)\n",
            "Requirement already satisfied: werkzeug>=0.11.15 in /usr/local/lib/python3.6/dist-packages (from tensorboard<1.16.0,>=1.15.0->tensorflow-gpu==1.15.0) (1.0.1)\n",
            "Requirement already satisfied: markdown>=2.6.8 in /usr/local/lib/python3.6/dist-packages (from tensorboard<1.16.0,>=1.15.0->tensorflow-gpu==1.15.0) (3.2.2)\n",
            "Requirement already satisfied: setuptools>=41.0.0 in /usr/local/lib/python3.6/dist-packages (from tensorboard<1.16.0,>=1.15.0->tensorflow-gpu==1.15.0) (49.2.0)\n",
            "Requirement already satisfied: h5py in /usr/local/lib/python3.6/dist-packages (from keras-applications>=1.0.8->tensorflow-gpu==1.15.0) (2.10.0)\n",
            "Requirement already satisfied: importlib-metadata; python_version < \"3.8\" in /usr/local/lib/python3.6/dist-packages (from markdown>=2.6.8->tensorboard<1.16.0,>=1.15.0->tensorflow-gpu==1.15.0) (1.7.0)\n",
            "Requirement already satisfied: zipp>=0.5 in /usr/local/lib/python3.6/dist-packages (from importlib-metadata; python_version < \"3.8\"->markdown>=2.6.8->tensorboard<1.16.0,>=1.15.0->tensorflow-gpu==1.15.0) (3.1.0)\n"
          ],
          "name": "stdout"
        }
      ]
    },
    {
      "cell_type": "code",
      "metadata": {
        "id": "a59e3K9h2n8C",
        "colab_type": "code",
        "colab": {}
      },
      "source": [
        "import tensorflow as tf"
      ],
      "execution_count": 10,
      "outputs": []
    },
    {
      "cell_type": "code",
      "metadata": {
        "id": "0ILmKLCQdxf8",
        "colab_type": "code",
        "colab": {
          "base_uri": "https://localhost:8080/",
          "height": 35
        },
        "outputId": "704aedff-1e9f-4f31-c8b1-9dbc7ac25455"
      },
      "source": [
        "tf.__version__"
      ],
      "execution_count": 11,
      "outputs": [
        {
          "output_type": "execute_result",
          "data": {
            "application/vnd.google.colaboratory.intrinsic+json": {
              "type": "string"
            },
            "text/plain": [
              "'1.15.0'"
            ]
          },
          "metadata": {
            "tags": []
          },
          "execution_count": 11
        }
      ]
    },
    {
      "cell_type": "code",
      "metadata": {
        "id": "-2MnCpQx1P3a",
        "colab_type": "code",
        "colab": {
          "base_uri": "https://localhost:8080/",
          "height": 34
        },
        "outputId": "7c205135-8252-4a34-9ab0-53f6f361f320"
      },
      "source": [
        "import segmentation_models as sm"
      ],
      "execution_count": 12,
      "outputs": [
        {
          "output_type": "stream",
          "text": [
            "Segmentation Models: using `tf.keras` framework.\n"
          ],
          "name": "stdout"
        }
      ]
    },
    {
      "cell_type": "markdown",
      "metadata": {
        "id": "Ms2FN1cJGowF",
        "colab_type": "text"
      },
      "source": [
        "# Set Model backbone"
      ]
    },
    {
      "cell_type": "code",
      "metadata": {
        "id": "3aStHFLY1dhJ",
        "colab_type": "code",
        "colab": {
          "base_uri": "https://localhost:8080/",
          "height": 87
        },
        "outputId": "5c6515df-d280-4007-817c-e15f3d4d41a7"
      },
      "source": [
        "model = sm.Unet(backbone_name='vgg16', encoder_weights='imagenet')"
      ],
      "execution_count": null,
      "outputs": [
        {
          "output_type": "stream",
          "text": [
            "WARNING:tensorflow:From /usr/local/lib/python3.6/dist-packages/tensorflow_core/python/ops/resource_variable_ops.py:1630: calling BaseResourceVariable.__init__ (from tensorflow.python.ops.resource_variable_ops) with constraint is deprecated and will be removed in a future version.\n",
            "Instructions for updating:\n",
            "If using Keras pass *_constraint arguments to layers.\n"
          ],
          "name": "stdout"
        }
      ]
    },
    {
      "cell_type": "code",
      "metadata": {
        "id": "Sh6zqefd-FgT",
        "colab_type": "code",
        "colab": {
          "base_uri": "https://localhost:8080/",
          "height": 1000
        },
        "outputId": "04a6d67f-c431-4dfa-afcb-c97abb9f2903"
      },
      "source": [
        "model.summary()"
      ],
      "execution_count": null,
      "outputs": [
        {
          "output_type": "stream",
          "text": [
            "Model: \"model\"\n",
            "__________________________________________________________________________________________________\n",
            "Layer (type)                    Output Shape         Param #     Connected to                     \n",
            "==================================================================================================\n",
            "input_1 (InputLayer)            [(None, None, None,  0                                            \n",
            "__________________________________________________________________________________________________\n",
            "block1_conv1 (Conv2D)           (None, None, None, 6 1792        input_1[0][0]                    \n",
            "__________________________________________________________________________________________________\n",
            "block1_conv2 (Conv2D)           (None, None, None, 6 36928       block1_conv1[0][0]               \n",
            "__________________________________________________________________________________________________\n",
            "block1_pool (MaxPooling2D)      (None, None, None, 6 0           block1_conv2[0][0]               \n",
            "__________________________________________________________________________________________________\n",
            "block2_conv1 (Conv2D)           (None, None, None, 1 73856       block1_pool[0][0]                \n",
            "__________________________________________________________________________________________________\n",
            "block2_conv2 (Conv2D)           (None, None, None, 1 147584      block2_conv1[0][0]               \n",
            "__________________________________________________________________________________________________\n",
            "block2_pool (MaxPooling2D)      (None, None, None, 1 0           block2_conv2[0][0]               \n",
            "__________________________________________________________________________________________________\n",
            "block3_conv1 (Conv2D)           (None, None, None, 2 295168      block2_pool[0][0]                \n",
            "__________________________________________________________________________________________________\n",
            "block3_conv2 (Conv2D)           (None, None, None, 2 590080      block3_conv1[0][0]               \n",
            "__________________________________________________________________________________________________\n",
            "block3_conv3 (Conv2D)           (None, None, None, 2 590080      block3_conv2[0][0]               \n",
            "__________________________________________________________________________________________________\n",
            "block3_pool (MaxPooling2D)      (None, None, None, 2 0           block3_conv3[0][0]               \n",
            "__________________________________________________________________________________________________\n",
            "block4_conv1 (Conv2D)           (None, None, None, 5 1180160     block3_pool[0][0]                \n",
            "__________________________________________________________________________________________________\n",
            "block4_conv2 (Conv2D)           (None, None, None, 5 2359808     block4_conv1[0][0]               \n",
            "__________________________________________________________________________________________________\n",
            "block4_conv3 (Conv2D)           (None, None, None, 5 2359808     block4_conv2[0][0]               \n",
            "__________________________________________________________________________________________________\n",
            "block4_pool (MaxPooling2D)      (None, None, None, 5 0           block4_conv3[0][0]               \n",
            "__________________________________________________________________________________________________\n",
            "block5_conv1 (Conv2D)           (None, None, None, 5 2359808     block4_pool[0][0]                \n",
            "__________________________________________________________________________________________________\n",
            "block5_conv2 (Conv2D)           (None, None, None, 5 2359808     block5_conv1[0][0]               \n",
            "__________________________________________________________________________________________________\n",
            "block5_conv3 (Conv2D)           (None, None, None, 5 2359808     block5_conv2[0][0]               \n",
            "__________________________________________________________________________________________________\n",
            "block5_pool (MaxPooling2D)      (None, None, None, 5 0           block5_conv3[0][0]               \n",
            "__________________________________________________________________________________________________\n",
            "center_block1_conv (Conv2D)     (None, None, None, 5 2359296     block5_pool[0][0]                \n",
            "__________________________________________________________________________________________________\n",
            "center_block1_bn (BatchNormaliz (None, None, None, 5 2048        center_block1_conv[0][0]         \n",
            "__________________________________________________________________________________________________\n",
            "center_block1_relu (Activation) (None, None, None, 5 0           center_block1_bn[0][0]           \n",
            "__________________________________________________________________________________________________\n",
            "center_block2_conv (Conv2D)     (None, None, None, 5 2359296     center_block1_relu[0][0]         \n",
            "__________________________________________________________________________________________________\n",
            "center_block2_bn (BatchNormaliz (None, None, None, 5 2048        center_block2_conv[0][0]         \n",
            "__________________________________________________________________________________________________\n",
            "center_block2_relu (Activation) (None, None, None, 5 0           center_block2_bn[0][0]           \n",
            "__________________________________________________________________________________________________\n",
            "decoder_stage0_upsampling (UpSa (None, None, None, 5 0           center_block2_relu[0][0]         \n",
            "__________________________________________________________________________________________________\n",
            "decoder_stage0_concat (Concaten (None, None, None, 1 0           decoder_stage0_upsampling[0][0]  \n",
            "                                                                 block5_conv3[0][0]               \n",
            "__________________________________________________________________________________________________\n",
            "decoder_stage0a_conv (Conv2D)   (None, None, None, 2 2359296     decoder_stage0_concat[0][0]      \n",
            "__________________________________________________________________________________________________\n",
            "decoder_stage0a_bn (BatchNormal (None, None, None, 2 1024        decoder_stage0a_conv[0][0]       \n",
            "__________________________________________________________________________________________________\n",
            "decoder_stage0a_relu (Activatio (None, None, None, 2 0           decoder_stage0a_bn[0][0]         \n",
            "__________________________________________________________________________________________________\n",
            "decoder_stage0b_conv (Conv2D)   (None, None, None, 2 589824      decoder_stage0a_relu[0][0]       \n",
            "__________________________________________________________________________________________________\n",
            "decoder_stage0b_bn (BatchNormal (None, None, None, 2 1024        decoder_stage0b_conv[0][0]       \n",
            "__________________________________________________________________________________________________\n",
            "decoder_stage0b_relu (Activatio (None, None, None, 2 0           decoder_stage0b_bn[0][0]         \n",
            "__________________________________________________________________________________________________\n",
            "decoder_stage1_upsampling (UpSa (None, None, None, 2 0           decoder_stage0b_relu[0][0]       \n",
            "__________________________________________________________________________________________________\n",
            "decoder_stage1_concat (Concaten (None, None, None, 7 0           decoder_stage1_upsampling[0][0]  \n",
            "                                                                 block4_conv3[0][0]               \n",
            "__________________________________________________________________________________________________\n",
            "decoder_stage1a_conv (Conv2D)   (None, None, None, 1 884736      decoder_stage1_concat[0][0]      \n",
            "__________________________________________________________________________________________________\n",
            "decoder_stage1a_bn (BatchNormal (None, None, None, 1 512         decoder_stage1a_conv[0][0]       \n",
            "__________________________________________________________________________________________________\n",
            "decoder_stage1a_relu (Activatio (None, None, None, 1 0           decoder_stage1a_bn[0][0]         \n",
            "__________________________________________________________________________________________________\n",
            "decoder_stage1b_conv (Conv2D)   (None, None, None, 1 147456      decoder_stage1a_relu[0][0]       \n",
            "__________________________________________________________________________________________________\n",
            "decoder_stage1b_bn (BatchNormal (None, None, None, 1 512         decoder_stage1b_conv[0][0]       \n",
            "__________________________________________________________________________________________________\n",
            "decoder_stage1b_relu (Activatio (None, None, None, 1 0           decoder_stage1b_bn[0][0]         \n",
            "__________________________________________________________________________________________________\n",
            "decoder_stage2_upsampling (UpSa (None, None, None, 1 0           decoder_stage1b_relu[0][0]       \n",
            "__________________________________________________________________________________________________\n",
            "decoder_stage2_concat (Concaten (None, None, None, 3 0           decoder_stage2_upsampling[0][0]  \n",
            "                                                                 block3_conv3[0][0]               \n",
            "__________________________________________________________________________________________________\n",
            "decoder_stage2a_conv (Conv2D)   (None, None, None, 6 221184      decoder_stage2_concat[0][0]      \n",
            "__________________________________________________________________________________________________\n",
            "decoder_stage2a_bn (BatchNormal (None, None, None, 6 256         decoder_stage2a_conv[0][0]       \n",
            "__________________________________________________________________________________________________\n",
            "decoder_stage2a_relu (Activatio (None, None, None, 6 0           decoder_stage2a_bn[0][0]         \n",
            "__________________________________________________________________________________________________\n",
            "decoder_stage2b_conv (Conv2D)   (None, None, None, 6 36864       decoder_stage2a_relu[0][0]       \n",
            "__________________________________________________________________________________________________\n",
            "decoder_stage2b_bn (BatchNormal (None, None, None, 6 256         decoder_stage2b_conv[0][0]       \n",
            "__________________________________________________________________________________________________\n",
            "decoder_stage2b_relu (Activatio (None, None, None, 6 0           decoder_stage2b_bn[0][0]         \n",
            "__________________________________________________________________________________________________\n",
            "decoder_stage3_upsampling (UpSa (None, None, None, 6 0           decoder_stage2b_relu[0][0]       \n",
            "__________________________________________________________________________________________________\n",
            "decoder_stage3_concat (Concaten (None, None, None, 1 0           decoder_stage3_upsampling[0][0]  \n",
            "                                                                 block2_conv2[0][0]               \n",
            "__________________________________________________________________________________________________\n",
            "decoder_stage3a_conv (Conv2D)   (None, None, None, 3 55296       decoder_stage3_concat[0][0]      \n",
            "__________________________________________________________________________________________________\n",
            "decoder_stage3a_bn (BatchNormal (None, None, None, 3 128         decoder_stage3a_conv[0][0]       \n",
            "__________________________________________________________________________________________________\n",
            "decoder_stage3a_relu (Activatio (None, None, None, 3 0           decoder_stage3a_bn[0][0]         \n",
            "__________________________________________________________________________________________________\n",
            "decoder_stage3b_conv (Conv2D)   (None, None, None, 3 9216        decoder_stage3a_relu[0][0]       \n",
            "__________________________________________________________________________________________________\n",
            "decoder_stage3b_bn (BatchNormal (None, None, None, 3 128         decoder_stage3b_conv[0][0]       \n",
            "__________________________________________________________________________________________________\n",
            "decoder_stage3b_relu (Activatio (None, None, None, 3 0           decoder_stage3b_bn[0][0]         \n",
            "__________________________________________________________________________________________________\n",
            "decoder_stage4_upsampling (UpSa (None, None, None, 3 0           decoder_stage3b_relu[0][0]       \n",
            "__________________________________________________________________________________________________\n",
            "decoder_stage4a_conv (Conv2D)   (None, None, None, 1 4608        decoder_stage4_upsampling[0][0]  \n",
            "__________________________________________________________________________________________________\n",
            "decoder_stage4a_bn (BatchNormal (None, None, None, 1 64          decoder_stage4a_conv[0][0]       \n",
            "__________________________________________________________________________________________________\n",
            "decoder_stage4a_relu (Activatio (None, None, None, 1 0           decoder_stage4a_bn[0][0]         \n",
            "__________________________________________________________________________________________________\n",
            "decoder_stage4b_conv (Conv2D)   (None, None, None, 1 2304        decoder_stage4a_relu[0][0]       \n",
            "__________________________________________________________________________________________________\n",
            "decoder_stage4b_bn (BatchNormal (None, None, None, 1 64          decoder_stage4b_conv[0][0]       \n",
            "__________________________________________________________________________________________________\n",
            "decoder_stage4b_relu (Activatio (None, None, None, 1 0           decoder_stage4b_bn[0][0]         \n",
            "__________________________________________________________________________________________________\n",
            "final_conv (Conv2D)             (None, None, None, 1 145         decoder_stage4b_relu[0][0]       \n",
            "__________________________________________________________________________________________________\n",
            "sigmoid (Activation)            (None, None, None, 1 0           final_conv[0][0]                 \n",
            "==================================================================================================\n",
            "Total params: 23,752,273\n",
            "Trainable params: 23,748,241\n",
            "Non-trainable params: 4,032\n",
            "__________________________________________________________________________________________________\n"
          ],
          "name": "stdout"
        }
      ]
    },
    {
      "cell_type": "markdown",
      "metadata": {
        "id": "1vLhWct9GuSe",
        "colab_type": "text"
      },
      "source": [
        "# Test Fit Model"
      ]
    },
    {
      "cell_type": "code",
      "metadata": {
        "id": "SsJz3NCq5Yth",
        "colab_type": "code",
        "colab": {
          "base_uri": "https://localhost:8080/",
          "height": 286
        },
        "outputId": "7683f521-47da-4869-ad1c-707b7cbc38f7"
      },
      "source": [
        "# image size according to the decoder filter of the model -> (256,128,64,32,16)\n",
        "x = cv2.resize(img, (256,256))\n",
        "plt.imshow(x)"
      ],
      "execution_count": null,
      "outputs": [
        {
          "output_type": "execute_result",
          "data": {
            "text/plain": [
              "<matplotlib.image.AxesImage at 0x7f1a208fa4e0>"
            ]
          },
          "metadata": {
            "tags": []
          },
          "execution_count": 112
        },
        {
          "output_type": "display_data",
          "data": {
            "image/png": "[encoded data removed]",
            "text/plain": [
              "<Figure size 432x288 with 1 Axes>"
            ]
          },
          "metadata": {
            "tags": [],
            "needs_background": "light"
          }
        }
      ]
    },
    {
      "cell_type": "code",
      "metadata": {
        "id": "SM_hRUSa39Xf",
        "colab_type": "code",
        "colab": {
          "base_uri": "https://localhost:8080/",
          "height": 34
        },
        "outputId": "852d3939-0c3f-41c0-8d61-a923a2de5f7d"
      },
      "source": [
        "# increase dimmension for batch_size\n",
        "x = x[np.newaxis, :]\n",
        "x.shape"
      ],
      "execution_count": null,
      "outputs": [
        {
          "output_type": "execute_result",
          "data": {
            "text/plain": [
              "(1, 256, 256, 3)"
            ]
          },
          "metadata": {
            "tags": []
          },
          "execution_count": 113
        }
      ]
    },
    {
      "cell_type": "code",
      "metadata": {
        "id": "d2f8uG7k2_fj",
        "colab_type": "code",
        "colab": {}
      },
      "source": [
        "predict_img = model.predict(x)"
      ],
      "execution_count": null,
      "outputs": []
    },
    {
      "cell_type": "code",
      "metadata": {
        "id": "hYPg3T--462A",
        "colab_type": "code",
        "colab": {}
      },
      "source": [
        "p = predict_img.reshape((256,256))"
      ],
      "execution_count": null,
      "outputs": []
    },
    {
      "cell_type": "code",
      "metadata": {
        "id": "vMY5BxPU5G7-",
        "colab_type": "code",
        "colab": {
          "base_uri": "https://localhost:8080/",
          "height": 286
        },
        "outputId": "98658d1b-16c0-4e6d-ed6e-abde95ea909b"
      },
      "source": [
        "plt.imshow(p)"
      ],
      "execution_count": null,
      "outputs": [
        {
          "output_type": "execute_result",
          "data": {
            "text/plain": [
              "<matplotlib.image.AxesImage at 0x7f1a1d8125c0>"
            ]
          },
          "metadata": {
            "tags": []
          },
          "execution_count": 116
        },
        {
          "output_type": "display_data",
          "data": {
            "image/png": "[encoded data removed]",
            "text/plain": [
              "<Figure size 432x288 with 1 Axes>"
            ]
          },
          "metadata": {
            "tags": [],
            "needs_background": "light"
          }
        }
      ]
    },
    {
      "cell_type": "code",
      "metadata": {
        "id": "K92HUTtO9C7M",
        "colab_type": "code",
        "colab": {
          "base_uri": "https://localhost:8080/",
          "height": 34
        },
        "outputId": "a3a51fb6-68b7-4d7c-f6cd-48bb26844383"
      },
      "source": [
        "predict_img.shape"
      ],
      "execution_count": null,
      "outputs": [
        {
          "output_type": "execute_result",
          "data": {
            "text/plain": [
              "(1, 256, 256, 1)"
            ]
          },
          "metadata": {
            "tags": []
          },
          "execution_count": 117
        }
      ]
    },
    {
      "cell_type": "code",
      "metadata": {
        "id": "97oSyl6f-P06",
        "colab_type": "code",
        "colab": {}
      },
      "source": [
        "#overlap the predict img and the origin img\n",
        "result = predict_img[0] + x[0]"
      ],
      "execution_count": null,
      "outputs": []
    },
    {
      "cell_type": "code",
      "metadata": {
        "id": "DE0q5c7d3gLK",
        "colab_type": "code",
        "colab": {
          "base_uri": "https://localhost:8080/",
          "height": 303
        },
        "outputId": "401f9ec1-a8b3-4b29-81dc-cf94189d8e43"
      },
      "source": [
        "plt.imshow(result)"
      ],
      "execution_count": null,
      "outputs": [
        {
          "output_type": "stream",
          "text": [
            "Clipping input data to the valid range for imshow with RGB data ([0..1] for floats or [0..255] for integers).\n"
          ],
          "name": "stderr"
        },
        {
          "output_type": "execute_result",
          "data": {
            "text/plain": [
              "<matplotlib.image.AxesImage at 0x7f1a1d7ee748>"
            ]
          },
          "metadata": {
            "tags": []
          },
          "execution_count": 119
        },
        {
          "output_type": "display_data",
          "data": {
            "image/png": "[encoded data removed]",
            "text/plain": [
              "<Figure size 432x288 with 1 Axes>"
            ]
          },
          "metadata": {
            "tags": [],
            "needs_background": "light"
          }
        }
      ]
    },
    {
      "cell_type": "code",
      "metadata": {
        "id": "Fw4mzCOzdEPC",
        "colab_type": "code",
        "colab": {}
      },
      "source": [
        ""
      ],
      "execution_count": null,
      "outputs": []
    },
    {
      "cell_type": "code",
      "metadata": {
        "id": "NGGGhLm0ErOs",
        "colab_type": "code",
        "colab": {}
      },
      "source": [
        "import glob"
      ],
      "execution_count": 13,
      "outputs": []
    },
    {
      "cell_type": "code",
      "metadata": {
        "id": "6D-9IX4BEPlu",
        "colab_type": "code",
        "colab": {
          "base_uri": "https://localhost:8080/",
          "height": 34
        },
        "outputId": "ffb1f5e2-1ae3-4047-b8d1-0c855420c17f"
      },
      "source": [
        "!ls \"/content/gdrive/My Drive/iir_training_python/cvHW/f01\""
      ],
      "execution_count": 14,
      "outputs": [
        {
          "output_type": "stream",
          "text": [
            "image  label  train_image  train_mask\n"
          ],
          "name": "stdout"
        }
      ]
    },
    {
      "cell_type": "markdown",
      "metadata": {
        "id": "gcVEvcFnKmS2",
        "colab_type": "text"
      },
      "source": [
        "# Import Training Data"
      ]
    },
    {
      "cell_type": "code",
      "metadata": {
        "id": "0nrbzRy4K1MP",
        "colab_type": "code",
        "colab": {}
      },
      "source": [
        "filenames = glob.glob(F\"/content/gdrive/My Drive/iir_training_python/cvHW/f01/image/*.png\")"
      ],
      "execution_count": 15,
      "outputs": []
    },
    {
      "cell_type": "code",
      "metadata": {
        "id": "LewEB9a2K-CJ",
        "colab_type": "code",
        "colab": {
          "base_uri": "https://localhost:8080/",
          "height": 353
        },
        "outputId": "bfe06570-524e-4b9c-bb38-e9b294c9757c"
      },
      "source": [
        "filenames.sort()\n",
        "filenames"
      ],
      "execution_count": 16,
      "outputs": [
        {
          "output_type": "execute_result",
          "data": {
            "text/plain": [
              "['/content/gdrive/My Drive/iir_training_python/cvHW/f01/image/0001.png',\n",
              " '/content/gdrive/My Drive/iir_training_python/cvHW/f01/image/0002.png',\n",
              " '/content/gdrive/My Drive/iir_training_python/cvHW/f01/image/0003.png',\n",
              " '/content/gdrive/My Drive/iir_training_python/cvHW/f01/image/0004.png',\n",
              " '/content/gdrive/My Drive/iir_training_python/cvHW/f01/image/0005.png',\n",
              " '/content/gdrive/My Drive/iir_training_python/cvHW/f01/image/0006.png',\n",
              " '/content/gdrive/My Drive/iir_training_python/cvHW/f01/image/0007.png',\n",
              " '/content/gdrive/My Drive/iir_training_python/cvHW/f01/image/0008.png',\n",
              " '/content/gdrive/My Drive/iir_training_python/cvHW/f01/image/0009.png',\n",
              " '/content/gdrive/My Drive/iir_training_python/cvHW/f01/image/0010.png',\n",
              " '/content/gdrive/My Drive/iir_training_python/cvHW/f01/image/0011.png',\n",
              " '/content/gdrive/My Drive/iir_training_python/cvHW/f01/image/0012.png',\n",
              " '/content/gdrive/My Drive/iir_training_python/cvHW/f01/image/0013.png',\n",
              " '/content/gdrive/My Drive/iir_training_python/cvHW/f01/image/0014.png',\n",
              " '/content/gdrive/My Drive/iir_training_python/cvHW/f01/image/0015.png',\n",
              " '/content/gdrive/My Drive/iir_training_python/cvHW/f01/image/0016.png',\n",
              " '/content/gdrive/My Drive/iir_training_python/cvHW/f01/image/0017.png',\n",
              " '/content/gdrive/My Drive/iir_training_python/cvHW/f01/image/0018.png',\n",
              " '/content/gdrive/My Drive/iir_training_python/cvHW/f01/image/0019.png',\n",
              " '/content/gdrive/My Drive/iir_training_python/cvHW/f01/image/0020.png']"
            ]
          },
          "metadata": {
            "tags": []
          },
          "execution_count": 16
        }
      ]
    },
    {
      "cell_type": "code",
      "metadata": {
        "id": "b_x2a9u8LAIj",
        "colab_type": "code",
        "colab": {}
      },
      "source": [
        "images = [cv2.imread(i) for i in filenames]"
      ],
      "execution_count": 17,
      "outputs": []
    },
    {
      "cell_type": "code",
      "metadata": {
        "id": "No8WmeyVPGEk",
        "colab_type": "code",
        "colab": {}
      },
      "source": [
        "# normalize\n",
        "images = [i/255 for i in images] "
      ],
      "execution_count": 18,
      "outputs": []
    },
    {
      "cell_type": "code",
      "metadata": {
        "id": "8y13PDmzTF_8",
        "colab_type": "code",
        "colab": {}
      },
      "source": [
        "#resize to fit model\n",
        "images = [cv2.resize(i, (480,1152)) for i in images]"
      ],
      "execution_count": 19,
      "outputs": []
    },
    {
      "cell_type": "code",
      "metadata": {
        "id": "_xYojLKiLGsJ",
        "colab_type": "code",
        "colab": {
          "base_uri": "https://localhost:8080/",
          "height": 34
        },
        "outputId": "fd464400-025b-426c-ded0-31946e7559d4"
      },
      "source": [
        "images[0].shape"
      ],
      "execution_count": 20,
      "outputs": [
        {
          "output_type": "execute_result",
          "data": {
            "text/plain": [
              "(1152, 480, 3)"
            ]
          },
          "metadata": {
            "tags": []
          },
          "execution_count": 20
        }
      ]
    },
    {
      "cell_type": "code",
      "metadata": {
        "id": "0WNh8y-ELJUz",
        "colab_type": "code",
        "colab": {
          "base_uri": "https://localhost:8080/",
          "height": 286
        },
        "outputId": "ad2461bf-5e56-4d01-91ee-42382dc893ed"
      },
      "source": [
        "plt.imshow(images[0])"
      ],
      "execution_count": 21,
      "outputs": [
        {
          "output_type": "execute_result",
          "data": {
            "text/plain": [
              "<matplotlib.image.AxesImage at 0x7f6c9c44a8d0>"
            ]
          },
          "metadata": {
            "tags": []
          },
          "execution_count": 21
        },
        {
          "output_type": "display_data",
          "data": {
            "image/png": "[encoded data removed]",
            "text/plain": [
              "<Figure size 432x288 with 1 Axes>"
            ]
          },
          "metadata": {
            "tags": [],
            "needs_background": "light"
          }
        }
      ]
    },
    {
      "cell_type": "markdown",
      "metadata": {
        "id": "zA0uku6cGy5w",
        "colab_type": "text"
      },
      "source": [
        "# Import training Labels"
      ]
    },
    {
      "cell_type": "code",
      "metadata": {
        "id": "kL43H7KBFhP6",
        "colab_type": "code",
        "colab": {}
      },
      "source": [
        "filenames = glob.glob(F\"/content/gdrive/My Drive/iir_training_python/cvHW/f01/label/*.png\")"
      ],
      "execution_count": 22,
      "outputs": []
    },
    {
      "cell_type": "code",
      "metadata": {
        "id": "1kPiWrWqF8yV",
        "colab_type": "code",
        "colab": {
          "base_uri": "https://localhost:8080/",
          "height": 353
        },
        "outputId": "0fa3759c-ee06-4bb9-fc01-ad66d2e487e3"
      },
      "source": [
        "filenames.sort()\n",
        "filenames"
      ],
      "execution_count": 23,
      "outputs": [
        {
          "output_type": "execute_result",
          "data": {
            "text/plain": [
              "['/content/gdrive/My Drive/iir_training_python/cvHW/f01/label/0001.png',\n",
              " '/content/gdrive/My Drive/iir_training_python/cvHW/f01/label/0002.png',\n",
              " '/content/gdrive/My Drive/iir_training_python/cvHW/f01/label/0003.png',\n",
              " '/content/gdrive/My Drive/iir_training_python/cvHW/f01/label/0004.png',\n",
              " '/content/gdrive/My Drive/iir_training_python/cvHW/f01/label/0005.png',\n",
              " '/content/gdrive/My Drive/iir_training_python/cvHW/f01/label/0006.png',\n",
              " '/content/gdrive/My Drive/iir_training_python/cvHW/f01/label/0007.png',\n",
              " '/content/gdrive/My Drive/iir_training_python/cvHW/f01/label/0008.png',\n",
              " '/content/gdrive/My Drive/iir_training_python/cvHW/f01/label/0009.png',\n",
              " '/content/gdrive/My Drive/iir_training_python/cvHW/f01/label/0010.png',\n",
              " '/content/gdrive/My Drive/iir_training_python/cvHW/f01/label/0011.png',\n",
              " '/content/gdrive/My Drive/iir_training_python/cvHW/f01/label/0012.png',\n",
              " '/content/gdrive/My Drive/iir_training_python/cvHW/f01/label/0013.png',\n",
              " '/content/gdrive/My Drive/iir_training_python/cvHW/f01/label/0014.png',\n",
              " '/content/gdrive/My Drive/iir_training_python/cvHW/f01/label/0015.png',\n",
              " '/content/gdrive/My Drive/iir_training_python/cvHW/f01/label/0016.png',\n",
              " '/content/gdrive/My Drive/iir_training_python/cvHW/f01/label/0017.png',\n",
              " '/content/gdrive/My Drive/iir_training_python/cvHW/f01/label/0018.png',\n",
              " '/content/gdrive/My Drive/iir_training_python/cvHW/f01/label/0019.png',\n",
              " '/content/gdrive/My Drive/iir_training_python/cvHW/f01/label/0020.png']"
            ]
          },
          "metadata": {
            "tags": []
          },
          "execution_count": 23
        }
      ]
    },
    {
      "cell_type": "code",
      "metadata": {
        "id": "1bJrmMFPF-o9",
        "colab_type": "code",
        "colab": {}
      },
      "source": [
        "labels = [cv2.imread(i) for i in filenames]"
      ],
      "execution_count": 24,
      "outputs": []
    },
    {
      "cell_type": "code",
      "metadata": {
        "id": "NpxN1qrHPg_V",
        "colab_type": "code",
        "colab": {}
      },
      "source": [
        "labels = [i/255 for i in labels]"
      ],
      "execution_count": 25,
      "outputs": []
    },
    {
      "cell_type": "code",
      "metadata": {
        "id": "WOwRwz2zS61n",
        "colab_type": "code",
        "colab": {}
      },
      "source": [
        "labels = [cv2.resize(i,(480,1152)) for i in labels]"
      ],
      "execution_count": 26,
      "outputs": []
    },
    {
      "cell_type": "code",
      "metadata": {
        "id": "WRcM0i4FG524",
        "colab_type": "code",
        "colab": {
          "base_uri": "https://localhost:8080/",
          "height": 34
        },
        "outputId": "b587df3b-e160-4b8d-b798-bf6a551c2cfb"
      },
      "source": [
        "len(labels)"
      ],
      "execution_count": 27,
      "outputs": [
        {
          "output_type": "execute_result",
          "data": {
            "text/plain": [
              "20"
            ]
          },
          "metadata": {
            "tags": []
          },
          "execution_count": 27
        }
      ]
    },
    {
      "cell_type": "code",
      "metadata": {
        "id": "VPSUUT_GLVaR",
        "colab_type": "code",
        "colab": {
          "base_uri": "https://localhost:8080/",
          "height": 34
        },
        "outputId": "2dbf99ea-239d-4ad5-e4ec-6a8697f44683"
      },
      "source": [
        "labels[0].shape"
      ],
      "execution_count": 28,
      "outputs": [
        {
          "output_type": "execute_result",
          "data": {
            "text/plain": [
              "(1152, 480, 3)"
            ]
          },
          "metadata": {
            "tags": []
          },
          "execution_count": 28
        }
      ]
    },
    {
      "cell_type": "code",
      "metadata": {
        "id": "zUCdwodlLapb",
        "colab_type": "code",
        "colab": {
          "base_uri": "https://localhost:8080/",
          "height": 286
        },
        "outputId": "8d904cff-f537-486a-fc6c-fd996779683b"
      },
      "source": [
        "plt.imshow(labels[0])"
      ],
      "execution_count": 29,
      "outputs": [
        {
          "output_type": "execute_result",
          "data": {
            "text/plain": [
              "<matplotlib.image.AxesImage at 0x7f6c9c431cf8>"
            ]
          },
          "metadata": {
            "tags": []
          },
          "execution_count": 29
        },
        {
          "output_type": "display_data",
          "data": {
            "image/png": "[encoded data removed]",
            "text/plain": [
              "<Figure size 432x288 with 1 Axes>"
            ]
          },
          "metadata": {
            "tags": [],
            "needs_background": "light"
          }
        }
      ]
    },
    {
      "cell_type": "markdown",
      "metadata": {
        "id": "NvO1nBOaIw0o",
        "colab_type": "text"
      },
      "source": [
        "# Split Training and Testing"
      ]
    },
    {
      "cell_type": "code",
      "metadata": {
        "id": "s4pt0ZXxGc4s",
        "colab_type": "code",
        "colab": {}
      },
      "source": [
        "from sklearn.model_selection import train_test_split"
      ],
      "execution_count": 30,
      "outputs": []
    },
    {
      "cell_type": "code",
      "metadata": {
        "id": "1e12qIy3Hr9W",
        "colab_type": "code",
        "colab": {}
      },
      "source": [
        "index_train, index_test = train_test_split(range(20),test_size=0.2, shuffle=True)"
      ],
      "execution_count": 31,
      "outputs": []
    },
    {
      "cell_type": "code",
      "metadata": {
        "id": "dVw6QP0sH9MI",
        "colab_type": "code",
        "colab": {
          "base_uri": "https://localhost:8080/",
          "height": 34
        },
        "outputId": "32d7e386-984a-49b6-bd9d-aa0200200c80"
      },
      "source": [
        "index_train"
      ],
      "execution_count": 32,
      "outputs": [
        {
          "output_type": "execute_result",
          "data": {
            "text/plain": [
              "[16, 2, 14, 1, 17, 7, 18, 19, 10, 3, 0, 12, 15, 9, 11, 5]"
            ]
          },
          "metadata": {
            "tags": []
          },
          "execution_count": 32
        }
      ]
    },
    {
      "cell_type": "code",
      "metadata": {
        "id": "FIZGDttuIJeJ",
        "colab_type": "code",
        "colab": {
          "base_uri": "https://localhost:8080/",
          "height": 34
        },
        "outputId": "a42d4918-58d1-43bf-f2a6-c714ef0447ac"
      },
      "source": [
        "index_test"
      ],
      "execution_count": 33,
      "outputs": [
        {
          "output_type": "execute_result",
          "data": {
            "text/plain": [
              "[6, 4, 13, 8]"
            ]
          },
          "metadata": {
            "tags": []
          },
          "execution_count": 33
        }
      ]
    },
    {
      "cell_type": "code",
      "metadata": {
        "id": "BnjOVQSZMR3X",
        "colab_type": "code",
        "colab": {}
      },
      "source": [
        "# divide the imgs and labels\n",
        "x_train = [images[i] for i in index_train]\n",
        "x_test = [images[i] for i in index_test]\n",
        "y_train = [labels[i] for i in index_train]\n",
        "y_test = [labels[i] for i in index_test]"
      ],
      "execution_count": 34,
      "outputs": []
    },
    {
      "cell_type": "code",
      "metadata": {
        "id": "U7kPIISnZ41t",
        "colab_type": "code",
        "colab": {}
      },
      "source": [
        "# convert fit data into type numpy\n",
        "x_train = np.array(x_train)\n",
        "x_test = np.array(x_test)\n",
        "y_train = np.array(y_train)\n",
        "y_test = np.array(y_test)"
      ],
      "execution_count": 35,
      "outputs": []
    },
    {
      "cell_type": "code",
      "metadata": {
        "id": "xx9t41uhM9aJ",
        "colab_type": "code",
        "colab": {
          "base_uri": "https://localhost:8080/",
          "height": 34
        },
        "outputId": "5f621dbe-0ecf-4b41-f213-d86905633b24"
      },
      "source": [
        "y_test.shape"
      ],
      "execution_count": 36,
      "outputs": [
        {
          "output_type": "execute_result",
          "data": {
            "text/plain": [
              "(4, 1152, 480, 3)"
            ]
          },
          "metadata": {
            "tags": []
          },
          "execution_count": 36
        }
      ]
    },
    {
      "cell_type": "markdown",
      "metadata": {
        "id": "zZuz6ES1sj1Q",
        "colab_type": "text"
      },
      "source": [
        "# save the reshaped training images and masks"
      ]
    },
    {
      "cell_type": "code",
      "metadata": {
        "id": "HEsceqEZsf5C",
        "colab_type": "code",
        "colab": {}
      },
      "source": [
        "for i in range(len(x_train)):\n",
        "  path = \"/content/gdrive/My Drive/iir_training_python/cvHW/f01/train_image/class0/{:04d}.png\".format(i)\n",
        "  cv2.imwrite(path, x_train[i])\n",
        "  path = \"/content/gdrive/My Drive/iir_training_python/cvHW/f01/train_mask/class0/{:04d}.png\".format(i)\n",
        "  cv2.imwrite(path, y_train[i])"
      ],
      "execution_count": 37,
      "outputs": []
    },
    {
      "cell_type": "markdown",
      "metadata": {
        "id": "dNBvkAKCD5dd",
        "colab_type": "text"
      },
      "source": [
        "# data augmentation  (TBD)"
      ]
    },
    {
      "cell_type": "code",
      "metadata": {
        "id": "hf-2BB41IjQ_",
        "colab_type": "code",
        "colab": {
          "base_uri": "https://localhost:8080/",
          "height": 726
        },
        "outputId": "23da5887-56a9-4530-d0c6-4829bc979f6e"
      },
      "source": [
        "!pip install -U git+https://github.com/albumentations-team/albumentations"
      ],
      "execution_count": 82,
      "outputs": [
        {
          "output_type": "stream",
          "text": [
            "Collecting git+https://github.com/albumentations-team/albumentations\n",
            "  Cloning https://github.com/albumentations-team/albumentations to /tmp/pip-req-build-rwvd1nuz\n",
            "  Running command git clone -q https://github.com/albumentations-team/albumentations /tmp/pip-req-build-rwvd1nuz\n",
            "Requirement already satisfied, skipping upgrade: numpy>=1.11.1 in /usr/local/lib/python3.6/dist-packages (from albumentations==0.4.6) (1.18.5)\n",
            "Requirement already satisfied, skipping upgrade: scipy in /usr/local/lib/python3.6/dist-packages (from albumentations==0.4.6) (1.4.1)\n",
            "Collecting imgaug>=0.4.0\n",
            "\u001b[?25l  Downloading https://files.pythonhosted.org/packages/66/b1/af3142c4a85cba6da9f4ebb5ff4e21e2616309552caca5e8acefe9840622/imgaug-0.4.0-py2.py3-none-any.whl (948kB)\n",
            "\u001b[K     |████████████████████████████████| 952kB 8.9MB/s \n",
            "\u001b[?25hRequirement already satisfied, skipping upgrade: PyYAML in /usr/local/lib/python3.6/dist-packages (from albumentations==0.4.6) (3.13)\n",
            "Requirement already satisfied, skipping upgrade: opencv-python>=4.1.1 in /usr/local/lib/python3.6/dist-packages (from albumentations==0.4.6) (4.1.2.30)\n",
            "Requirement already satisfied, skipping upgrade: matplotlib in /usr/local/lib/python3.6/dist-packages (from imgaug>=0.4.0->albumentations==0.4.6) (3.2.2)\n",
            "Requirement already satisfied, skipping upgrade: imageio in /usr/local/lib/python3.6/dist-packages (from imgaug>=0.4.0->albumentations==0.4.6) (2.4.1)\n",
            "Requirement already satisfied, skipping upgrade: Pillow in /usr/local/lib/python3.6/dist-packages (from imgaug>=0.4.0->albumentations==0.4.6) (7.0.0)\n",
            "Requirement already satisfied, skipping upgrade: Shapely in /usr/local/lib/python3.6/dist-packages (from imgaug>=0.4.0->albumentations==0.4.6) (1.7.0)\n",
            "Requirement already satisfied, skipping upgrade: scikit-image>=0.14.2 in /usr/local/lib/python3.6/dist-packages (from imgaug>=0.4.0->albumentations==0.4.6) (0.16.2)\n",
            "Requirement already satisfied, skipping upgrade: six in /usr/local/lib/python3.6/dist-packages (from imgaug>=0.4.0->albumentations==0.4.6) (1.15.0)\n",
            "Requirement already satisfied, skipping upgrade: kiwisolver>=1.0.1 in /usr/local/lib/python3.6/dist-packages (from matplotlib->imgaug>=0.4.0->albumentations==0.4.6) (1.2.0)\n",
            "Requirement already satisfied, skipping upgrade: python-dateutil>=2.1 in /usr/local/lib/python3.6/dist-packages (from matplotlib->imgaug>=0.4.0->albumentations==0.4.6) (2.8.1)\n",
            "Requirement already satisfied, skipping upgrade: cycler>=0.10 in /usr/local/lib/python3.6/dist-packages (from matplotlib->imgaug>=0.4.0->albumentations==0.4.6) (0.10.0)\n",
            "Requirement already satisfied, skipping upgrade: pyparsing!=2.0.4,!=2.1.2,!=2.1.6,>=2.0.1 in /usr/local/lib/python3.6/dist-packages (from matplotlib->imgaug>=0.4.0->albumentations==0.4.6) (2.4.7)\n",
            "Requirement already satisfied, skipping upgrade: PyWavelets>=0.4.0 in /usr/local/lib/python3.6/dist-packages (from scikit-image>=0.14.2->imgaug>=0.4.0->albumentations==0.4.6) (1.1.1)\n",
            "Requirement already satisfied, skipping upgrade: networkx>=2.0 in /usr/local/lib/python3.6/dist-packages (from scikit-image>=0.14.2->imgaug>=0.4.0->albumentations==0.4.6) (2.4)\n",
            "Requirement already satisfied, skipping upgrade: decorator>=4.3.0 in /usr/local/lib/python3.6/dist-packages (from networkx>=2.0->scikit-image>=0.14.2->imgaug>=0.4.0->albumentations==0.4.6) (4.4.2)\n",
            "Building wheels for collected packages: albumentations\n",
            "  Building wheel for albumentations (setup.py) ... \u001b[?25l\u001b[?25hdone\n",
            "  Created wheel for albumentations: filename=albumentations-0.4.6-cp36-none-any.whl size=66166 sha256=55a609dcd63f8e832ac0e22cc586b8210e06cd3eb37b3446c4c84fc716b3fb9c\n",
            "  Stored in directory: /tmp/pip-ephem-wheel-cache-myt8vhd6/wheels/6f/77/82/86baf8aeda64a6de0f890cd0f2fb31acaf5545cc9c99ad21ba\n",
            "Successfully built albumentations\n",
            "Installing collected packages: imgaug, albumentations\n",
            "  Found existing installation: imgaug 0.2.6\n",
            "    Uninstalling imgaug-0.2.6:\n",
            "      Successfully uninstalled imgaug-0.2.6\n",
            "  Found existing installation: albumentations 0.1.12\n",
            "    Uninstalling albumentations-0.1.12:\n",
            "      Successfully uninstalled albumentations-0.1.12\n",
            "Successfully installed albumentations-0.4.6 imgaug-0.4.0\n"
          ],
          "name": "stdout"
        },
        {
          "output_type": "display_data",
          "data": {
            "application/vnd.colab-display-data+json": {
              "pip_warning": {
                "packages": [
                  "albumentations",
                  "imgaug"
                ]
              }
            }
          },
          "metadata": {
            "tags": []
          }
        }
      ]
    },
    {
      "cell_type": "code",
      "metadata": {
        "id": "24dov7xsIlKj",
        "colab_type": "code",
        "colab": {}
      },
      "source": [
        "#import libraries required\n",
        "\n",
        "import albumentations as A\n",
        "import random"
      ],
      "execution_count": 38,
      "outputs": []
    },
    {
      "cell_type": "code",
      "metadata": {
        "id": "O0HNheqgIzk0",
        "colab_type": "code",
        "colab": {}
      },
      "source": [
        "# augmentation function\n",
        "def augment(aug, image, mask, num_aug):\n",
        "\n",
        "    aug_img = []\n",
        "    aug_mask = []\n",
        "\n",
        "    for i in range(num_aug):\n",
        "      augmented = aug(image=image, mask=mask)\n",
        "      #change the grayscale image back to 3 channels\n",
        "      aug_img.append(np.stack((augmented['image'],)*3,  axis=-1))\n",
        "      aug_mask.append(np.stack((augmented['mask'],)*3,  axis=-1))\n",
        "\n",
        "    return aug_img, aug_mask\n"
      ],
      "execution_count": 115,
      "outputs": []
    },
    {
      "cell_type": "code",
      "metadata": {
        "id": "vXT-a02TJBkJ",
        "colab_type": "code",
        "colab": {
          "base_uri": "https://localhost:8080/",
          "height": 554
        },
        "outputId": "ee0c06cb-18cd-41e5-a3ca-af17ad054b80"
      },
      "source": [
        "# Train Data Augmention\n",
        "\n",
        "random.seed(42)\n",
        "\n",
        "x_train_aug = []\n",
        "y_train_aug = []\n",
        "\n",
        "for i in range(len(x_train)):\n",
        "  print('augment image and mask {}'.format(i))\n",
        "  image = x_train[i]\n",
        "  mask = y_train[i]\n",
        "\n",
        "  # change the grayscale image to 1 channel\n",
        "  _image = image[...,0]\n",
        "  _mask = mask[...,0]\n",
        "\n",
        "  # the transform matrix\n",
        "  light = A.Compose([\n",
        "      A.ShiftScaleRotate(),\n",
        "      A.Blur(),\n",
        "      A.GaussNoise(),\n",
        "      A.ElasticTransform(),\n",
        "      A.MaskDropout((10,15), p=1),\n",
        "      A.Cutout(p=1)\n",
        "  ],p=1)\n",
        "\n",
        "  # get the augmentaion result\n",
        "  n = 3\n",
        "  aug_img, aug_mask = augment(light, _image, _mask, num_aug=n)\n",
        "  print('created {} augmented image'.format(n))\n",
        "\n",
        "  # append the original image\n",
        "  aug_img.append(image)\n",
        "  aug_mask.append(mask)\n",
        "\n",
        "  if len(x_train_aug) == 0:\n",
        "    x_train_aug = aug_img\n",
        "    y_train_aug = aug_mask\n",
        "  else:\n",
        "    x_train_aug = x_train_aug + aug_img\n",
        "    y_train_aug = y_train_aug + aug_mask\n",
        " "
      ],
      "execution_count": 127,
      "outputs": [
        {
          "output_type": "stream",
          "text": [
            "augment image and mask 0\n",
            "created 3 augmented image\n",
            "augment image and mask 1\n",
            "created 3 augmented image\n",
            "augment image and mask 2\n",
            "created 3 augmented image\n",
            "augment image and mask 3\n",
            "created 3 augmented image\n",
            "augment image and mask 4\n",
            "created 3 augmented image\n",
            "augment image and mask 5\n",
            "created 3 augmented image\n",
            "augment image and mask 6\n",
            "created 3 augmented image\n",
            "augment image and mask 7\n",
            "created 3 augmented image\n",
            "augment image and mask 8\n",
            "created 3 augmented image\n",
            "augment image and mask 9\n",
            "created 3 augmented image\n",
            "augment image and mask 10\n",
            "created 3 augmented image\n",
            "augment image and mask 11\n",
            "created 3 augmented image\n",
            "augment image and mask 12\n",
            "created 3 augmented image\n",
            "augment image and mask 13\n",
            "created 3 augmented image\n",
            "augment image and mask 14\n",
            "created 3 augmented image\n",
            "augment image and mask 15\n",
            "created 3 augmented image\n"
          ],
          "name": "stdout"
        }
      ]
    },
    {
      "cell_type": "code",
      "metadata": {
        "id": "aZZ3U4tkbZ9Y",
        "colab_type": "code",
        "colab": {
          "base_uri": "https://localhost:8080/",
          "height": 34
        },
        "outputId": "1ed95fad-1c15-4d72-e700-8ec80bbeac1f"
      },
      "source": [
        "len(x_train_aug)"
      ],
      "execution_count": 128,
      "outputs": [
        {
          "output_type": "execute_result",
          "data": {
            "text/plain": [
              "64"
            ]
          },
          "metadata": {
            "tags": []
          },
          "execution_count": 128
        }
      ]
    },
    {
      "cell_type": "code",
      "metadata": {
        "id": "V_oLgC4AYKet",
        "colab_type": "code",
        "colab": {}
      },
      "source": [
        "x_train_aug = np.array(x_train_aug)\n",
        "y_train_aug = np.array(y_train_aug)"
      ],
      "execution_count": 129,
      "outputs": []
    },
    {
      "cell_type": "code",
      "metadata": {
        "id": "opj1gJjNYcd8",
        "colab_type": "code",
        "colab": {
          "base_uri": "https://localhost:8080/",
          "height": 50
        },
        "outputId": "ae65da45-8cb1-4136-db59-9703b01a52b5"
      },
      "source": [
        "print(x_train_aug.shape)\n",
        "print(y_train_aug.shape)"
      ],
      "execution_count": 130,
      "outputs": [
        {
          "output_type": "stream",
          "text": [
            "(64, 1152, 480, 3)\n",
            "(64, 1152, 480, 3)\n"
          ],
          "name": "stdout"
        }
      ]
    },
    {
      "cell_type": "code",
      "metadata": {
        "id": "hKQTbzMZP1EQ",
        "colab_type": "code",
        "colab": {
          "base_uri": "https://localhost:8080/",
          "height": 286
        },
        "outputId": "2cdba8e6-2328-4be8-e5e3-c74b25852240"
      },
      "source": [
        "plt.imshow(x_train_aug[0])"
      ],
      "execution_count": 131,
      "outputs": [
        {
          "output_type": "execute_result",
          "data": {
            "text/plain": [
              "<matplotlib.image.AxesImage at 0x7f6c84fafef0>"
            ]
          },
          "metadata": {
            "tags": []
          },
          "execution_count": 131
        },
        {
          "output_type": "display_data",
          "data": {
            "image/png": "[encoded data removed]",
            "text/plain": [
              "<Figure size 432x288 with 1 Axes>"
            ]
          },
          "metadata": {
            "tags": [],
            "needs_background": "light"
          }
        }
      ]
    },
    {
      "cell_type": "code",
      "metadata": {
        "id": "MGpMnEGrPh-N",
        "colab_type": "code",
        "colab": {
          "base_uri": "https://localhost:8080/",
          "height": 286
        },
        "outputId": "f8507c5e-04d1-4acd-a353-62f274f5dbb9"
      },
      "source": [
        "plt.imshow(y_train_aug[0])"
      ],
      "execution_count": 132,
      "outputs": [
        {
          "output_type": "execute_result",
          "data": {
            "text/plain": [
              "<matplotlib.image.AxesImage at 0x7f6c84f816a0>"
            ]
          },
          "metadata": {
            "tags": []
          },
          "execution_count": 132
        },
        {
          "output_type": "display_data",
          "data": {
            "image/png": "[encoded data removed]",
            "text/plain": [
              "<Figure size 432x288 with 1 Axes>"
            ]
          },
          "metadata": {
            "tags": [],
            "needs_background": "light"
          }
        }
      ]
    },
    {
      "cell_type": "code",
      "metadata": {
        "id": "XU0rBYgxPn3r",
        "colab_type": "code",
        "colab": {}
      },
      "source": [
        ""
      ],
      "execution_count": null,
      "outputs": []
    },
    {
      "cell_type": "markdown",
      "metadata": {
        "id": "fJil1nkZJB8b",
        "colab_type": "text"
      },
      "source": [
        "# Create Generator (DO NOT RUN)"
      ]
    },
    {
      "cell_type": "code",
      "metadata": {
        "id": "2kV--vDHD3Bb",
        "colab_type": "code",
        "colab": {}
      },
      "source": [
        "from tensorflow.keras.preprocessing.image import ImageDataGenerator"
      ],
      "execution_count": null,
      "outputs": []
    },
    {
      "cell_type": "markdown",
      "metadata": {
        "id": "UpxeQFpt2wSy",
        "colab_type": "text"
      },
      "source": [
        "The structure of the filepath generator need to be\n",
        "\n",
        "\n",
        "\n",
        "```\n",
        "main_directory/\n",
        "...class_a/\n",
        "......a_image_1.jpg\n",
        "......a_image_2.jpg\n",
        "...class_b/\n",
        "......b_image_1.jpg\n",
        "......b_image_2.jpg\n",
        "```\n",
        "\n"
      ]
    },
    {
      "cell_type": "code",
      "metadata": {
        "id": "m7ZjqLzlEH7i",
        "colab_type": "code",
        "colab": {}
      },
      "source": [
        "# we need to create 2 augmentation generator, and they must take same augument\n",
        "data_gen_args = dict(\n",
        "    featurewise_center=True,\n",
        "    featurewise_std_normalization=True,\n",
        "    rotation_range=20,\n",
        "    width_shift_range=0.2,\n",
        "    height_shift_range=0.2,\n",
        "    horizontal_flip=True,\n",
        "    validation_split=0.3)\n",
        "\n",
        "image_aug_gen = ImageDataGenerator(**data_gen_args)\n",
        "label_aug_gen = ImageDataGenerator(**data_gen_args)"
      ],
      "execution_count": null,
      "outputs": []
    },
    {
      "cell_type": "code",
      "metadata": {
        "id": "Bo-prUe1Dppc",
        "colab_type": "code",
        "colab": {}
      },
      "source": [
        "# fit the data Augmentation\n",
        "image_aug_gen.fit(x_train)\n",
        "label_aug_gen.fit(y_train)"
      ],
      "execution_count": null,
      "outputs": []
    },
    {
      "cell_type": "code",
      "metadata": {
        "id": "jmzc2CTzEMjr",
        "colab_type": "code",
        "colab": {
          "base_uri": "https://localhost:8080/",
          "height": 85
        },
        "outputId": "b1165202-f561-4c62-d4c8-3dd94846b991"
      },
      "source": [
        "# provide same seed\n",
        "seed = 1\n",
        "\n",
        "image_generator = image_aug_gen.flow_from_directory(\n",
        "    '/content/gdrive/My Drive/iir_training_python/cvHW/f01/train_image',\n",
        "    target_size=(1152,480),\n",
        "    batch_size=4,\n",
        "    class_mode=None,\n",
        "    seed=seed,\n",
        "    subset='training')\n",
        "valid_image_generator = image_aug_gen.flow_from_directory(\n",
        "    '/content/gdrive/My Drive/iir_training_python/cvHW/f01/train_image',\n",
        "    target_size=(1152,480),\n",
        "    batch_size=4,\n",
        "    class_mode=None,\n",
        "    seed=seed,\n",
        "    subset='validation')\n",
        "mask_generator = label_aug_gen.flow_from_directory(\n",
        "    '/content/gdrive/My Drive/iir_training_python/cvHW/f01/train_mask',\n",
        "    target_size=(1152,480),\n",
        "    batch_size=4,\n",
        "    class_mode=None,\n",
        "    seed=seed,\n",
        "    subset='training')\n",
        "valid_mask_generator = label_aug_gen.flow_from_directory(\n",
        "    '/content/gdrive/My Drive/iir_training_python/cvHW/f01/train_mask',\n",
        "    target_size=(1152,480),\n",
        "    batch_size=4,\n",
        "    class_mode=None,\n",
        "    seed=seed,\n",
        "    subset='validation')"
      ],
      "execution_count": null,
      "outputs": [
        {
          "output_type": "stream",
          "text": [
            "Found 12 images belonging to 1 classes.\n",
            "Found 4 images belonging to 1 classes.\n",
            "Found 12 images belonging to 1 classes.\n",
            "Found 4 images belonging to 1 classes.\n"
          ],
          "name": "stdout"
        }
      ]
    },
    {
      "cell_type": "code",
      "metadata": {
        "id": "LRfwo43mIBRo",
        "colab_type": "code",
        "colab": {}
      },
      "source": [
        "im = []\n",
        "la = []\n",
        "for i in range(5):\n",
        "  ibatch = image_generator.next()\n",
        "  vbatch = mask_generator.next()\n",
        "  if(i==4):\n",
        "    im = ibatch[3]\n",
        "    la = vbatch[3]\n",
        "    break"
      ],
      "execution_count": null,
      "outputs": []
    },
    {
      "cell_type": "code",
      "metadata": {
        "id": "O3XxxbzrLDbZ",
        "colab_type": "code",
        "colab": {
          "base_uri": "https://localhost:8080/",
          "height": 303
        },
        "outputId": "bda0ee05-5b75-4902-d2d2-9a6866220aca"
      },
      "source": [
        "plt.imshow(im)"
      ],
      "execution_count": null,
      "outputs": [
        {
          "output_type": "stream",
          "text": [
            "Clipping input data to the valid range for imshow with RGB data ([0..1] for floats or [0..255] for integers).\n"
          ],
          "name": "stderr"
        },
        {
          "output_type": "execute_result",
          "data": {
            "text/plain": [
              "<matplotlib.image.AxesImage at 0x7f4b75d409b0>"
            ]
          },
          "metadata": {
            "tags": []
          },
          "execution_count": 81
        },
        {
          "output_type": "display_data",
          "data": {
            "image/png": "[encoded data removed]",
            "text/plain": [
              "<Figure size 432x288 with 1 Axes>"
            ]
          },
          "metadata": {
            "tags": [],
            "needs_background": "light"
          }
        }
      ]
    },
    {
      "cell_type": "code",
      "metadata": {
        "id": "bPdShA45LFXK",
        "colab_type": "code",
        "colab": {
          "base_uri": "https://localhost:8080/",
          "height": 303
        },
        "outputId": "19ee70bf-a28f-436a-ebd6-3dd9515800b8"
      },
      "source": [
        "plt.imshow(la)"
      ],
      "execution_count": null,
      "outputs": [
        {
          "output_type": "stream",
          "text": [
            "Clipping input data to the valid range for imshow with RGB data ([0..1] for floats or [0..255] for integers).\n"
          ],
          "name": "stderr"
        },
        {
          "output_type": "execute_result",
          "data": {
            "text/plain": [
              "<matplotlib.image.AxesImage at 0x7f4b75d13748>"
            ]
          },
          "metadata": {
            "tags": []
          },
          "execution_count": 82
        },
        {
          "output_type": "display_data",
          "data": {
            "image/png": "[encoded data removed]",
            "text/plain": [
              "<Figure size 432x288 with 1 Axes>"
            ]
          },
          "metadata": {
            "tags": [],
            "needs_background": "light"
          }
        }
      ]
    },
    {
      "cell_type": "code",
      "metadata": {
        "id": "yLUYIQiDINtx",
        "colab_type": "code",
        "colab": {}
      },
      "source": [
        "def combine_generator(gen1, gen2):\n",
        "    while True:\n",
        "        yield(next(gen1), next(gen2))\n",
        "#combine\n",
        "train_aug_gen = combine_generator(image_generator, mask_generator)\n",
        "valid_aug_gen = combine_generator(valid_image_generator, valid_mask_generator)"
      ],
      "execution_count": null,
      "outputs": []
    },
    {
      "cell_type": "markdown",
      "metadata": {
        "id": "aotfD-eCU5Sb",
        "colab_type": "text"
      },
      "source": [
        "# Fit model"
      ]
    },
    {
      "cell_type": "code",
      "metadata": {
        "id": "_2EFPhFpx2Dw",
        "colab_type": "code",
        "colab": {}
      },
      "source": [
        "# model save path\n",
        "my_model_fit_callback = [\n",
        "  tf.keras.callbacks.ModelCheckpoint(filepath='/content/gdrive/My Drive/iir_training_python/cvHW/save_model/model.{epoch:02d}-{val_loss:.2f}.h5', save_best_only=True),\n",
        "]"
      ],
      "execution_count": 133,
      "outputs": []
    },
    {
      "cell_type": "code",
      "metadata": {
        "id": "YIOmBRTjlh9H",
        "colab_type": "code",
        "colab": {
          "base_uri": "https://localhost:8080/",
          "height": 87
        },
        "outputId": "4f31b0b4-9b56-45d0-c4d3-a381fa031e73"
      },
      "source": [
        "model = sm.Unet(backbone_name='resnet34', encoder_weights='imagenet')"
      ],
      "execution_count": 134,
      "outputs": [
        {
          "output_type": "stream",
          "text": [
            "WARNING:tensorflow:From /usr/local/lib/python3.6/dist-packages/tensorflow_core/python/ops/resource_variable_ops.py:1630: calling BaseResourceVariable.__init__ (from tensorflow.python.ops.resource_variable_ops) with constraint is deprecated and will be removed in a future version.\n",
            "Instructions for updating:\n",
            "If using Keras pass *_constraint arguments to layers.\n"
          ],
          "name": "stdout"
        }
      ]
    },
    {
      "cell_type": "code",
      "metadata": {
        "id": "w5efaIHbOi97",
        "colab_type": "code",
        "colab": {}
      },
      "source": [
        "model.compile(\n",
        "    'Adam',\n",
        "    loss=sm.losses.bce_jaccard_loss,\n",
        "    metrics=[sm.metrics.iou_score],\n",
        ")"
      ],
      "execution_count": 73,
      "outputs": []
    },
    {
      "cell_type": "code",
      "metadata": {
        "id": "a6VWVV2X4YP6",
        "colab_type": "code",
        "colab": {}
      },
      "source": [
        "model.fit_generator(\n",
        "    train_aug_gen,\n",
        "    steps_per_epoch=3,\n",
        "    epochs=50,\n",
        "    callbacks=my_model_fit_callback,\n",
        "    validation_data = valid_aug_gen,\n",
        "    validation_steps=1)"
      ],
      "execution_count": null,
      "outputs": []
    },
    {
      "cell_type": "code",
      "metadata": {
        "id": "7WAszMAXVM3s",
        "colab_type": "code",
        "colab": {
          "base_uri": "https://localhost:8080/",
          "height": 1000
        },
        "outputId": "f0245a2c-af0a-4e8c-bf38-70bbc54539b4"
      },
      "source": [
        "model.fit(x=x_train, y=y_train, batch_size=4, epochs=120, validation_split=0.2, callbacks=my_model_fit_callback)"
      ],
      "execution_count": 74,
      "outputs": [
        {
          "output_type": "stream",
          "text": [
            "Train on 12 samples, validate on 4 samples\n",
            "Epoch 1/120\n",
            "12/12 [==============================] - 42s 3s/sample - loss: 1.4461 - iou_score: 0.2071 - val_loss: 14.2299 - val_iou_score: 0.1612\n",
            "Epoch 2/120\n",
            "12/12 [==============================] - 2s 177ms/sample - loss: 1.1709 - iou_score: 0.2861 - val_loss: 69.5116 - val_iou_score: 0.1607\n",
            "Epoch 3/120\n",
            "12/12 [==============================] - 2s 172ms/sample - loss: 1.0017 - iou_score: 0.3586 - val_loss: 234.0303 - val_iou_score: 0.1606\n",
            "Epoch 4/120\n",
            "12/12 [==============================] - 2s 172ms/sample - loss: 0.9136 - iou_score: 0.3986 - val_loss: 75.9511 - val_iou_score: 0.1607\n",
            "Epoch 5/120\n",
            "12/12 [==============================] - 2s 175ms/sample - loss: 0.8405 - iou_score: 0.4322 - val_loss: 295.0356 - val_iou_score: 0.1608\n",
            "Epoch 6/120\n",
            "12/12 [==============================] - 2s 176ms/sample - loss: 0.7856 - iou_score: 0.4630 - val_loss: 426.9518 - val_iou_score: 0.1608\n",
            "Epoch 7/120\n",
            "12/12 [==============================] - 2s 173ms/sample - loss: 0.7279 - iou_score: 0.4910 - val_loss: 244.8980 - val_iou_score: 0.1608\n",
            "Epoch 8/120\n",
            "12/12 [==============================] - 2s 173ms/sample - loss: 0.6822 - iou_score: 0.5157 - val_loss: 89.7789 - val_iou_score: 0.1608\n",
            "Epoch 9/120\n",
            "12/12 [==============================] - 2s 173ms/sample - loss: 0.6262 - iou_score: 0.5438 - val_loss: 31.4781 - val_iou_score: 0.1610\n",
            "Epoch 10/120\n",
            "12/12 [==============================] - 2s 173ms/sample - loss: 0.5770 - iou_score: 0.5726 - val_loss: 115.4971 - val_iou_score: 0.1607\n",
            "Epoch 11/120\n",
            "12/12 [==============================] - 2s 173ms/sample - loss: 0.5322 - iou_score: 0.6036 - val_loss: 254.4167 - val_iou_score: 0.1605\n",
            "Epoch 12/120\n",
            "12/12 [==============================] - 2s 174ms/sample - loss: 0.4896 - iou_score: 0.6320 - val_loss: 224.1841 - val_iou_score: 0.1605\n",
            "Epoch 13/120\n",
            "12/12 [==============================] - 2s 174ms/sample - loss: 0.4555 - iou_score: 0.6577 - val_loss: 207.8947 - val_iou_score: 0.1606\n",
            "Epoch 14/120\n",
            "12/12 [==============================] - 2s 174ms/sample - loss: 0.4151 - iou_score: 0.6845 - val_loss: 136.1525 - val_iou_score: 0.1606\n",
            "Epoch 15/120\n",
            "12/12 [==============================] - 2s 175ms/sample - loss: 0.3853 - iou_score: 0.7081 - val_loss: 67.6612 - val_iou_score: 0.1608\n",
            "Epoch 16/120\n",
            "12/12 [==============================] - 2s 174ms/sample - loss: 0.3510 - iou_score: 0.7296 - val_loss: 21.9935 - val_iou_score: 0.1633\n",
            "Epoch 17/120\n",
            "12/12 [==============================] - 2s 175ms/sample - loss: 0.3287 - iou_score: 0.7487 - val_loss: 32.5034 - val_iou_score: 0.1628\n",
            "Epoch 18/120\n",
            "12/12 [==============================] - 4s 299ms/sample - loss: 0.3058 - iou_score: 0.7659 - val_loss: 6.0318 - val_iou_score: 0.1772\n",
            "Epoch 19/120\n",
            "12/12 [==============================] - 4s 336ms/sample - loss: 0.2915 - iou_score: 0.7778 - val_loss: 2.7073 - val_iou_score: 0.0807\n",
            "Epoch 20/120\n",
            "12/12 [==============================] - 2s 181ms/sample - loss: 0.2849 - iou_score: 0.7848 - val_loss: 5.5119 - val_iou_score: 0.1671\n",
            "Epoch 21/120\n",
            "12/12 [==============================] - 2s 177ms/sample - loss: 0.2775 - iou_score: 0.7928 - val_loss: 3.0210 - val_iou_score: 0.1412\n",
            "Epoch 22/120\n",
            "12/12 [==============================] - 4s 327ms/sample - loss: 0.2630 - iou_score: 0.8036 - val_loss: 2.1674 - val_iou_score: 0.0749\n",
            "Epoch 23/120\n",
            "12/12 [==============================] - 4s 345ms/sample - loss: 0.2390 - iou_score: 0.8181 - val_loss: 1.4447 - val_iou_score: 0.1404\n",
            "Epoch 24/120\n",
            "12/12 [==============================] - 2s 186ms/sample - loss: 0.2268 - iou_score: 0.8290 - val_loss: 2.3611 - val_iou_score: 0.2560\n",
            "Epoch 25/120\n",
            "12/12 [==============================] - 2s 179ms/sample - loss: 0.2090 - iou_score: 0.8395 - val_loss: 2.0205 - val_iou_score: 0.2826\n",
            "Epoch 26/120\n",
            "12/12 [==============================] - 2s 181ms/sample - loss: 0.2004 - iou_score: 0.8484 - val_loss: 5.0101 - val_iou_score: 0.1935\n",
            "Epoch 27/120\n",
            "12/12 [==============================] - 2s 184ms/sample - loss: 0.1786 - iou_score: 0.8619 - val_loss: 2.5781 - val_iou_score: 0.2149\n",
            "Epoch 28/120\n",
            "12/12 [==============================] - 2s 183ms/sample - loss: 0.1732 - iou_score: 0.8673 - val_loss: 4.1833 - val_iou_score: 0.2000\n",
            "Epoch 29/120\n",
            "12/12 [==============================] - 2s 181ms/sample - loss: 0.1579 - iou_score: 0.8785 - val_loss: 3.7583 - val_iou_score: 0.2186\n",
            "Epoch 30/120\n",
            "12/12 [==============================] - 2s 181ms/sample - loss: 0.1585 - iou_score: 0.8798 - val_loss: 3.8285 - val_iou_score: 0.2147\n",
            "Epoch 31/120\n",
            "12/12 [==============================] - 2s 181ms/sample - loss: 0.1471 - iou_score: 0.8877 - val_loss: 2.1688 - val_iou_score: 0.2736\n",
            "Epoch 32/120\n",
            "12/12 [==============================] - 2s 182ms/sample - loss: 0.1395 - iou_score: 0.8930 - val_loss: 2.7590 - val_iou_score: 0.2462\n",
            "Epoch 33/120\n",
            "12/12 [==============================] - 2s 182ms/sample - loss: 0.1324 - iou_score: 0.8982 - val_loss: 1.6388 - val_iou_score: 0.0548\n",
            "Epoch 34/120\n",
            "12/12 [==============================] - 2s 182ms/sample - loss: 0.1308 - iou_score: 0.9006 - val_loss: 2.4408 - val_iou_score: 0.2566\n",
            "Epoch 35/120\n",
            "12/12 [==============================] - 2s 181ms/sample - loss: 0.1256 - iou_score: 0.9041 - val_loss: 1.6713 - val_iou_score: 0.0688\n",
            "Epoch 36/120\n",
            "12/12 [==============================] - 2s 182ms/sample - loss: 0.1246 - iou_score: 0.9057 - val_loss: 2.2030 - val_iou_score: 0.2724\n",
            "Epoch 37/120\n",
            "12/12 [==============================] - 2s 181ms/sample - loss: 0.1176 - iou_score: 0.9111 - val_loss: 1.4819 - val_iou_score: 0.1124\n",
            "Epoch 38/120\n",
            "12/12 [==============================] - 4s 318ms/sample - loss: 0.1086 - iou_score: 0.9166 - val_loss: 1.2852 - val_iou_score: 0.2197\n",
            "Epoch 39/120\n",
            "12/12 [==============================] - 2s 182ms/sample - loss: 0.1120 - iou_score: 0.9156 - val_loss: 1.6423 - val_iou_score: 0.0638\n",
            "Epoch 40/120\n",
            "12/12 [==============================] - 2s 179ms/sample - loss: 0.1030 - iou_score: 0.9213 - val_loss: 1.7604 - val_iou_score: 0.0262\n",
            "Epoch 41/120\n",
            "12/12 [==============================] - 2s 180ms/sample - loss: 0.1024 - iou_score: 0.9224 - val_loss: 1.7850 - val_iou_score: 0.0082\n",
            "Epoch 42/120\n",
            "12/12 [==============================] - 2s 179ms/sample - loss: 0.1005 - iou_score: 0.9239 - val_loss: 1.7716 - val_iou_score: 0.0093\n",
            "Epoch 43/120\n",
            "12/12 [==============================] - 2s 180ms/sample - loss: 0.0941 - iou_score: 0.9284 - val_loss: 1.7754 - val_iou_score: 0.0086\n",
            "Epoch 44/120\n",
            "12/12 [==============================] - 2s 180ms/sample - loss: 0.0918 - iou_score: 0.9305 - val_loss: 1.7805 - val_iou_score: 0.0079\n",
            "Epoch 45/120\n",
            "12/12 [==============================] - 2s 179ms/sample - loss: 0.0825 - iou_score: 0.9363 - val_loss: 1.7800 - val_iou_score: 0.0079\n",
            "Epoch 46/120\n",
            "12/12 [==============================] - 2s 178ms/sample - loss: 0.0902 - iou_score: 0.9320 - val_loss: 1.7742 - val_iou_score: 0.0080\n",
            "Epoch 47/120\n",
            "12/12 [==============================] - 2s 178ms/sample - loss: 0.0894 - iou_score: 0.9331 - val_loss: 1.7535 - val_iou_score: 0.0089\n",
            "Epoch 48/120\n",
            "12/12 [==============================] - 2s 178ms/sample - loss: 0.0962 - iou_score: 0.9292 - val_loss: 1.7754 - val_iou_score: 0.0078\n",
            "Epoch 49/120\n",
            "12/12 [==============================] - 2s 178ms/sample - loss: 0.0907 - iou_score: 0.9334 - val_loss: 1.7433 - val_iou_score: 0.0094\n",
            "Epoch 50/120\n",
            "12/12 [==============================] - 2s 178ms/sample - loss: 0.0881 - iou_score: 0.9340 - val_loss: 1.7440 - val_iou_score: 0.0093\n",
            "Epoch 51/120\n",
            "12/12 [==============================] - 2s 178ms/sample - loss: 0.0908 - iou_score: 0.9333 - val_loss: 1.7492 - val_iou_score: 0.0090\n",
            "Epoch 52/120\n",
            "12/12 [==============================] - 2s 178ms/sample - loss: 0.0850 - iou_score: 0.9362 - val_loss: 1.7487 - val_iou_score: 0.0090\n",
            "Epoch 53/120\n",
            "12/12 [==============================] - 2s 178ms/sample - loss: 0.0798 - iou_score: 0.9397 - val_loss: 1.7643 - val_iou_score: 0.0081\n",
            "Epoch 54/120\n",
            "12/12 [==============================] - 2s 178ms/sample - loss: 0.0813 - iou_score: 0.9396 - val_loss: 1.7664 - val_iou_score: 0.0080\n",
            "Epoch 55/120\n",
            "12/12 [==============================] - 2s 178ms/sample - loss: 0.0741 - iou_score: 0.9437 - val_loss: 1.7759 - val_iou_score: 0.0076\n",
            "Epoch 56/120\n",
            "12/12 [==============================] - 2s 178ms/sample - loss: 0.0688 - iou_score: 0.9475 - val_loss: 1.7851 - val_iou_score: 0.0072\n",
            "Epoch 57/120\n",
            "12/12 [==============================] - 2s 179ms/sample - loss: 0.0671 - iou_score: 0.9486 - val_loss: 1.7891 - val_iou_score: 0.0071\n",
            "Epoch 58/120\n",
            "12/12 [==============================] - 2s 178ms/sample - loss: 0.0652 - iou_score: 0.9501 - val_loss: 1.7980 - val_iou_score: 0.0067\n",
            "Epoch 59/120\n",
            "12/12 [==============================] - 2s 179ms/sample - loss: 0.0674 - iou_score: 0.9491 - val_loss: 1.8064 - val_iou_score: 0.0063\n",
            "Epoch 60/120\n",
            "12/12 [==============================] - 2s 178ms/sample - loss: 0.0644 - iou_score: 0.9512 - val_loss: 1.8151 - val_iou_score: 0.0060\n",
            "Epoch 61/120\n",
            "12/12 [==============================] - 2s 178ms/sample - loss: 0.0618 - iou_score: 0.9531 - val_loss: 1.8203 - val_iou_score: 0.0058\n",
            "Epoch 62/120\n",
            "12/12 [==============================] - 2s 178ms/sample - loss: 0.0583 - iou_score: 0.9553 - val_loss: 1.8288 - val_iou_score: 0.0055\n",
            "Epoch 63/120\n",
            "12/12 [==============================] - 2s 179ms/sample - loss: 0.0621 - iou_score: 0.9534 - val_loss: 1.8354 - val_iou_score: 0.0053\n",
            "Epoch 64/120\n",
            "12/12 [==============================] - 2s 180ms/sample - loss: 0.0570 - iou_score: 0.9564 - val_loss: 1.8409 - val_iou_score: 0.0051\n",
            "Epoch 65/120\n",
            "12/12 [==============================] - 2s 180ms/sample - loss: 0.0552 - iou_score: 0.9579 - val_loss: 1.8477 - val_iou_score: 0.0049\n",
            "Epoch 66/120\n",
            "12/12 [==============================] - 2s 179ms/sample - loss: 0.0543 - iou_score: 0.9584 - val_loss: 1.8522 - val_iou_score: 0.0048\n",
            "Epoch 67/120\n",
            "12/12 [==============================] - 2s 179ms/sample - loss: 0.0555 - iou_score: 0.9580 - val_loss: 1.8593 - val_iou_score: 0.0046\n",
            "Epoch 68/120\n",
            "12/12 [==============================] - 2s 179ms/sample - loss: 0.0536 - iou_score: 0.9593 - val_loss: 1.8634 - val_iou_score: 0.0045\n",
            "Epoch 69/120\n",
            "12/12 [==============================] - 2s 180ms/sample - loss: 0.0520 - iou_score: 0.9605 - val_loss: 1.8697 - val_iou_score: 0.0043\n",
            "Epoch 70/120\n",
            "12/12 [==============================] - 2s 179ms/sample - loss: 0.0534 - iou_score: 0.9598 - val_loss: 1.8748 - val_iou_score: 0.0042\n",
            "Epoch 71/120\n",
            "12/12 [==============================] - 2s 179ms/sample - loss: 0.0529 - iou_score: 0.9602 - val_loss: 1.8781 - val_iou_score: 0.0041\n",
            "Epoch 72/120\n",
            "12/12 [==============================] - 2s 183ms/sample - loss: 0.0517 - iou_score: 0.9612 - val_loss: 1.8855 - val_iou_score: 0.0039\n",
            "Epoch 73/120\n",
            "12/12 [==============================] - 2s 179ms/sample - loss: 0.0506 - iou_score: 0.9617 - val_loss: 1.8870 - val_iou_score: 0.0039\n",
            "Epoch 74/120\n",
            "12/12 [==============================] - 2s 179ms/sample - loss: 0.0514 - iou_score: 0.9616 - val_loss: 1.8939 - val_iou_score: 0.0037\n",
            "Epoch 75/120\n",
            "12/12 [==============================] - 2s 180ms/sample - loss: 0.0506 - iou_score: 0.9620 - val_loss: 1.8983 - val_iou_score: 0.0036\n",
            "Epoch 76/120\n",
            "12/12 [==============================] - 2s 178ms/sample - loss: 0.0515 - iou_score: 0.9617 - val_loss: 1.9063 - val_iou_score: 0.0035\n",
            "Epoch 77/120\n",
            "12/12 [==============================] - 2s 180ms/sample - loss: 0.0553 - iou_score: 0.9594 - val_loss: 1.9100 - val_iou_score: 0.0034\n",
            "Epoch 78/120\n",
            "12/12 [==============================] - 2s 178ms/sample - loss: 0.0547 - iou_score: 0.9600 - val_loss: 1.9160 - val_iou_score: 0.0033\n",
            "Epoch 79/120\n",
            "12/12 [==============================] - 2s 179ms/sample - loss: 0.0563 - iou_score: 0.9588 - val_loss: 1.9240 - val_iou_score: 0.0031\n",
            "Epoch 80/120\n",
            "12/12 [==============================] - 2s 179ms/sample - loss: 0.0531 - iou_score: 0.9609 - val_loss: 1.9280 - val_iou_score: 0.0030\n",
            "Epoch 81/120\n",
            "12/12 [==============================] - 2s 179ms/sample - loss: 0.0516 - iou_score: 0.9615 - val_loss: 1.9345 - val_iou_score: 0.0029\n",
            "Epoch 82/120\n",
            "12/12 [==============================] - 2s 178ms/sample - loss: 0.0505 - iou_score: 0.9624 - val_loss: 1.9382 - val_iou_score: 0.0028\n",
            "Epoch 83/120\n",
            "12/12 [==============================] - 2s 179ms/sample - loss: 0.0496 - iou_score: 0.9630 - val_loss: 1.9474 - val_iou_score: 0.0027\n",
            "Epoch 84/120\n",
            "12/12 [==============================] - 2s 178ms/sample - loss: 0.0483 - iou_score: 0.9640 - val_loss: 1.9516 - val_iou_score: 0.0026\n",
            "Epoch 85/120\n",
            "12/12 [==============================] - 2s 178ms/sample - loss: 0.0470 - iou_score: 0.9647 - val_loss: 1.9592 - val_iou_score: 0.0025\n",
            "Epoch 86/120\n",
            "12/12 [==============================] - 2s 179ms/sample - loss: 0.0482 - iou_score: 0.9642 - val_loss: 1.9627 - val_iou_score: 0.0024\n",
            "Epoch 87/120\n",
            "12/12 [==============================] - 2s 179ms/sample - loss: 0.0475 - iou_score: 0.9647 - val_loss: 1.9680 - val_iou_score: 0.0024\n",
            "Epoch 88/120\n",
            "12/12 [==============================] - 2s 178ms/sample - loss: 0.0451 - iou_score: 0.9663 - val_loss: 1.9663 - val_iou_score: 0.0024\n",
            "Epoch 89/120\n",
            "12/12 [==============================] - 2s 178ms/sample - loss: 0.0475 - iou_score: 0.9650 - val_loss: 1.9688 - val_iou_score: 0.0024\n",
            "Epoch 90/120\n",
            "12/12 [==============================] - 2s 178ms/sample - loss: 0.0466 - iou_score: 0.9656 - val_loss: 1.9706 - val_iou_score: 0.0023\n",
            "Epoch 91/120\n",
            "12/12 [==============================] - 2s 178ms/sample - loss: 0.0474 - iou_score: 0.9651 - val_loss: 1.9778 - val_iou_score: 0.0022\n",
            "Epoch 92/120\n",
            "12/12 [==============================] - 2s 178ms/sample - loss: 0.0474 - iou_score: 0.9653 - val_loss: 1.9846 - val_iou_score: 0.0022\n",
            "Epoch 93/120\n",
            "12/12 [==============================] - 2s 178ms/sample - loss: 0.0449 - iou_score: 0.9667 - val_loss: 1.9923 - val_iou_score: 0.0020\n",
            "Epoch 94/120\n",
            "12/12 [==============================] - 2s 178ms/sample - loss: 0.0439 - iou_score: 0.9675 - val_loss: 1.9957 - val_iou_score: 0.0020\n",
            "Epoch 95/120\n",
            "12/12 [==============================] - 2s 178ms/sample - loss: 0.0460 - iou_score: 0.9661 - val_loss: 2.0002 - val_iou_score: 0.0020\n",
            "Epoch 96/120\n",
            "12/12 [==============================] - 2s 178ms/sample - loss: 0.0451 - iou_score: 0.9668 - val_loss: 2.0074 - val_iou_score: 0.0019\n",
            "Epoch 97/120\n",
            "12/12 [==============================] - 2s 178ms/sample - loss: 0.0431 - iou_score: 0.9679 - val_loss: 2.0134 - val_iou_score: 0.0018\n",
            "Epoch 98/120\n",
            "12/12 [==============================] - 2s 178ms/sample - loss: 0.0429 - iou_score: 0.9682 - val_loss: 2.0202 - val_iou_score: 0.0017\n",
            "Epoch 99/120\n",
            "12/12 [==============================] - 2s 178ms/sample - loss: 0.0429 - iou_score: 0.9682 - val_loss: 2.0278 - val_iou_score: 0.0016\n",
            "Epoch 100/120\n",
            "12/12 [==============================] - 2s 178ms/sample - loss: 0.0412 - iou_score: 0.9693 - val_loss: 2.0342 - val_iou_score: 0.0016\n",
            "Epoch 101/120\n",
            "12/12 [==============================] - 2s 179ms/sample - loss: 0.0404 - iou_score: 0.9699 - val_loss: 2.0379 - val_iou_score: 0.0015\n",
            "Epoch 102/120\n",
            "12/12 [==============================] - 2s 178ms/sample - loss: 0.0417 - iou_score: 0.9692 - val_loss: 2.0429 - val_iou_score: 0.0015\n",
            "Epoch 103/120\n",
            "12/12 [==============================] - 2s 178ms/sample - loss: 0.0428 - iou_score: 0.9686 - val_loss: 2.0498 - val_iou_score: 0.0014\n",
            "Epoch 104/120\n",
            "12/12 [==============================] - 2s 177ms/sample - loss: 0.0419 - iou_score: 0.9692 - val_loss: 2.0543 - val_iou_score: 0.0014\n",
            "Epoch 105/120\n",
            "12/12 [==============================] - 2s 179ms/sample - loss: 0.0422 - iou_score: 0.9690 - val_loss: 2.0604 - val_iou_score: 0.0013\n",
            "Epoch 106/120\n",
            "12/12 [==============================] - 2s 178ms/sample - loss: 0.0436 - iou_score: 0.9683 - val_loss: 2.0700 - val_iou_score: 0.0013\n",
            "Epoch 107/120\n",
            "12/12 [==============================] - 2s 179ms/sample - loss: 0.0456 - iou_score: 0.9672 - val_loss: 2.0783 - val_iou_score: 0.0012\n",
            "Epoch 108/120\n",
            "12/12 [==============================] - 2s 178ms/sample - loss: 0.0509 - iou_score: 0.9642 - val_loss: 2.0805 - val_iou_score: 0.0012\n",
            "Epoch 109/120\n",
            "12/12 [==============================] - 2s 178ms/sample - loss: 0.0470 - iou_score: 0.9661 - val_loss: 2.0871 - val_iou_score: 0.0011\n",
            "Epoch 110/120\n",
            "12/12 [==============================] - 2s 178ms/sample - loss: 0.0483 - iou_score: 0.9654 - val_loss: 2.0960 - val_iou_score: 0.0011\n",
            "Epoch 111/120\n",
            "12/12 [==============================] - 2s 179ms/sample - loss: 0.0544 - iou_score: 0.9618 - val_loss: 2.1063 - val_iou_score: 0.0010\n",
            "Epoch 112/120\n",
            "12/12 [==============================] - 2s 178ms/sample - loss: 0.0477 - iou_score: 0.9656 - val_loss: 2.1184 - val_iou_score: 9.3811e-04\n",
            "Epoch 113/120\n",
            "12/12 [==============================] - 2s 179ms/sample - loss: 0.0474 - iou_score: 0.9656 - val_loss: 2.1280 - val_iou_score: 8.8108e-04\n",
            "Epoch 114/120\n",
            "12/12 [==============================] - 2s 178ms/sample - loss: 0.0490 - iou_score: 0.9649 - val_loss: 2.1335 - val_iou_score: 8.5173e-04\n",
            "Epoch 115/120\n",
            "12/12 [==============================] - 2s 179ms/sample - loss: 0.0444 - iou_score: 0.9674 - val_loss: 2.1360 - val_iou_score: 8.3858e-04\n",
            "Epoch 116/120\n",
            "12/12 [==============================] - 2s 179ms/sample - loss: 0.0462 - iou_score: 0.9664 - val_loss: 2.1387 - val_iou_score: 8.2446e-04\n",
            "Epoch 117/120\n",
            "12/12 [==============================] - 2s 179ms/sample - loss: 0.0428 - iou_score: 0.9684 - val_loss: 2.1401 - val_iou_score: 8.1856e-04\n",
            "Epoch 118/120\n",
            "12/12 [==============================] - 2s 178ms/sample - loss: 0.0411 - iou_score: 0.9695 - val_loss: 2.1405 - val_iou_score: 8.1711e-04\n",
            "Epoch 119/120\n",
            "12/12 [==============================] - 2s 178ms/sample - loss: 0.0408 - iou_score: 0.9699 - val_loss: 2.1395 - val_iou_score: 8.2068e-04\n",
            "Epoch 120/120\n",
            "12/12 [==============================] - 2s 179ms/sample - loss: 0.0412 - iou_score: 0.9698 - val_loss: 2.1447 - val_iou_score: 7.9461e-04\n"
          ],
          "name": "stdout"
        },
        {
          "output_type": "execute_result",
          "data": {
            "text/plain": [
              "<tensorflow.python.keras.callbacks.History at 0x7fe5bfb94748>"
            ]
          },
          "metadata": {
            "tags": []
          },
          "execution_count": 74
        }
      ]
    },
    {
      "cell_type": "markdown",
      "metadata": {
        "id": "5Nh6V4teZBQr",
        "colab_type": "text"
      },
      "source": [
        "# Caculate IoU"
      ]
    },
    {
      "cell_type": "code",
      "metadata": {
        "id": "jdtIU7DlYbpO",
        "colab_type": "code",
        "colab": {
          "base_uri": "https://localhost:8080/",
          "height": 50
        },
        "outputId": "1ca1d57e-80e2-41cb-b076-6dc7be209f9f"
      },
      "source": [
        "model.evaluate(x=x_test, y=y_test)"
      ],
      "execution_count": 75,
      "outputs": [
        {
          "output_type": "stream",
          "text": [
            "\r4/4 [==============================] - 0s 59ms/sample - loss: 2.1292 - iou_score: 7.9179e-04\n"
          ],
          "name": "stdout"
        },
        {
          "output_type": "execute_result",
          "data": {
            "text/plain": [
              "[2.129164218902588, 0.0007917883]"
            ]
          },
          "metadata": {
            "tags": []
          },
          "execution_count": 75
        }
      ]
    },
    {
      "cell_type": "code",
      "metadata": {
        "id": "pS5e0kk7ZEt1",
        "colab_type": "code",
        "colab": {
          "base_uri": "https://localhost:8080/",
          "height": 151
        },
        "outputId": "3ac18a15-849b-4180-c051-db359e80280c"
      },
      "source": [
        "for i in range(len(x_test)):\n",
        "  print(model.evaluate(x=x_test[i][np.newaxis, :], y=y_test[i][np.newaxis, :]))"
      ],
      "execution_count": 76,
      "outputs": [
        {
          "output_type": "stream",
          "text": [
            "1/1 [==============================] - 1s 829ms/sample - loss: 2.0780 - iou_score: 7.9498e-04\n",
            "[2.0780060291290283, 0.0007949784]\n",
            "1/1 [==============================] - 0s 47ms/sample - loss: 2.2354 - iou_score: 7.8178e-04\n",
            "[2.2354259490966797, 0.0007817756]\n",
            "1/1 [==============================] - 0s 48ms/sample - loss: 2.0926 - iou_score: 7.9603e-04\n",
            "[2.092609405517578, 0.0007960343]\n",
            "1/1 [==============================] - 0s 47ms/sample - loss: 2.1106 - iou_score: 7.9562e-04\n",
            "[2.1106138229370117, 0.0007956159]\n"
          ],
          "name": "stdout"
        }
      ]
    },
    {
      "cell_type": "markdown",
      "metadata": {
        "id": "MzMzB_SKmhS8",
        "colab_type": "text"
      },
      "source": [
        "#Test Predict"
      ]
    },
    {
      "cell_type": "code",
      "metadata": {
        "id": "acDxKHVqgVFx",
        "colab_type": "code",
        "colab": {}
      },
      "source": [
        "test_img = x_test[0][np.newaxis, :]"
      ],
      "execution_count": null,
      "outputs": []
    },
    {
      "cell_type": "code",
      "metadata": {
        "id": "QFjTEd1Wgo2N",
        "colab_type": "code",
        "colab": {
          "base_uri": "https://localhost:8080/",
          "height": 286
        },
        "outputId": "cd8b6476-ac6d-4539-f13e-9c8f32e575b0"
      },
      "source": [
        "plt.imshow(test_img[0])"
      ],
      "execution_count": null,
      "outputs": [
        {
          "output_type": "execute_result",
          "data": {
            "text/plain": [
              "<matplotlib.image.AxesImage at 0x7fb36e180860>"
            ]
          },
          "metadata": {
            "tags": []
          },
          "execution_count": 70
        },
        {
          "output_type": "display_data",
          "data": {
            "image/png": "[encoded data removed]",
            "text/plain": [
              "<Figure size 432x288 with 1 Axes>"
            ]
          },
          "metadata": {
            "tags": [],
            "needs_background": "light"
          }
        }
      ]
    },
    {
      "cell_type": "code",
      "metadata": {
        "id": "X1pWUrH0VmaQ",
        "colab_type": "code",
        "colab": {}
      },
      "source": [
        "predict_img = model.predict(test_img)"
      ],
      "execution_count": null,
      "outputs": []
    },
    {
      "cell_type": "code",
      "metadata": {
        "id": "yxba8joz2dKA",
        "colab_type": "code",
        "colab": {}
      },
      "source": [
        "p = predict_img.reshape((1152,480))"
      ],
      "execution_count": null,
      "outputs": []
    },
    {
      "cell_type": "code",
      "metadata": {
        "id": "d5YyyKa8PBAZ",
        "colab_type": "code",
        "colab": {
          "base_uri": "https://localhost:8080/",
          "height": 286
        },
        "outputId": "9c0e360f-e180-4fbe-cf7d-931baf401255"
      },
      "source": [
        "plt.imshow(p)"
      ],
      "execution_count": null,
      "outputs": [
        {
          "output_type": "execute_result",
          "data": {
            "text/plain": [
              "<matplotlib.image.AxesImage at 0x7fb36e262048>"
            ]
          },
          "metadata": {
            "tags": []
          },
          "execution_count": 73
        },
        {
          "output_type": "display_data",
          "data": {
            "image/png": "[encoded data removed]",
            "text/plain": [
              "<Figure size 432x288 with 1 Axes>"
            ]
          },
          "metadata": {
            "tags": [],
            "needs_background": "light"
          }
        }
      ]
    },
    {
      "cell_type": "code",
      "metadata": {
        "id": "HWfjelmF2-2d",
        "colab_type": "code",
        "colab": {
          "base_uri": "https://localhost:8080/",
          "height": 34
        },
        "outputId": "a77b181d-5012-4de8-c52e-12d8a9137aac"
      },
      "source": [
        "p = cv2.cvtColor(p, cv2.COLOR_GRAY2RGB)\n",
        "p.shape"
      ],
      "execution_count": null,
      "outputs": [
        {
          "output_type": "execute_result",
          "data": {
            "text/plain": [
              "(1152, 480, 3)"
            ]
          },
          "metadata": {
            "tags": []
          },
          "execution_count": 48
        }
      ]
    },
    {
      "cell_type": "code",
      "metadata": {
        "id": "nG5xJdw321AM",
        "colab_type": "code",
        "colab": {
          "base_uri": "https://localhost:8080/",
          "height": 286
        },
        "outputId": "b0d12a76-fd1f-4900-b01e-0b038728a339"
      },
      "source": [
        "plt.imshow(p)"
      ],
      "execution_count": null,
      "outputs": [
        {
          "output_type": "execute_result",
          "data": {
            "text/plain": [
              "<matplotlib.image.AxesImage at 0x7fb36e2520f0>"
            ]
          },
          "metadata": {
            "tags": []
          },
          "execution_count": 74
        },
        {
          "output_type": "display_data",
          "data": {
            "image/png": "[encoded data removed]",
            "text/plain": [
              "<Figure size 432x288 with 1 Axes>"
            ]
          },
          "metadata": {
            "tags": [],
            "needs_background": "light"
          }
        }
      ]
    },
    {
      "cell_type": "code",
      "metadata": {
        "id": "JtlYpcyVz5u1",
        "colab_type": "code",
        "colab": {
          "base_uri": "https://localhost:8080/",
          "height": 286
        },
        "outputId": "c593154b-207f-4c3e-b024-b5795cfca8e6"
      },
      "source": [
        "plt.imshow(y_test[0])"
      ],
      "execution_count": null,
      "outputs": [
        {
          "output_type": "execute_result",
          "data": {
            "text/plain": [
              "<matplotlib.image.AxesImage at 0x7fb36e0c2630>"
            ]
          },
          "metadata": {
            "tags": []
          },
          "execution_count": 75
        },
        {
          "output_type": "display_data",
          "data": {
            "image/png": "[encoded data removed]",
            "text/plain": [
              "<Figure size 432x288 with 1 Axes>"
            ]
          },
          "metadata": {
            "tags": [],
            "needs_background": "light"
          }
        }
      ]
    },
    {
      "cell_type": "code",
      "metadata": {
        "id": "1y_kcpE7gf9k",
        "colab_type": "code",
        "colab": {}
      },
      "source": [
        "show_img = predict_img[0] + test_img[0]"
      ],
      "execution_count": null,
      "outputs": []
    },
    {
      "cell_type": "code",
      "metadata": {
        "id": "4Ot3rfcahajh",
        "colab_type": "code",
        "colab": {
          "base_uri": "https://localhost:8080/",
          "height": 34
        },
        "outputId": "f0c50f5b-2718-4081-8bf1-8b1283d2ca79"
      },
      "source": [
        "show_img.shape"
      ],
      "execution_count": null,
      "outputs": [
        {
          "output_type": "execute_result",
          "data": {
            "text/plain": [
              "(960, 480, 3)"
            ]
          },
          "metadata": {
            "tags": []
          },
          "execution_count": 465
        }
      ]
    },
    {
      "cell_type": "code",
      "metadata": {
        "id": "VBIwUZ8EgRUA",
        "colab_type": "code",
        "colab": {
          "base_uri": "https://localhost:8080/",
          "height": 302
        },
        "outputId": "014ad806-4db8-408a-f4cf-8429c707e218"
      },
      "source": [
        "plt.imshow(show_img)"
      ],
      "execution_count": null,
      "outputs": [
        {
          "output_type": "stream",
          "text": [
            "Clipping input data to the valid range for imshow with RGB data ([0..1] for floats or [0..255] for integers).\n"
          ],
          "name": "stderr"
        },
        {
          "output_type": "execute_result",
          "data": {
            "text/plain": [
              "<matplotlib.image.AxesImage at 0x7f038a7f2438>"
            ]
          },
          "metadata": {
            "tags": []
          },
          "execution_count": 466
        },
        {
          "output_type": "display_data",
          "data": {
            "image/png": "[encoded data removed]",
            "text/plain": [
              "<Figure size 432x288 with 1 Axes>"
            ]
          },
          "metadata": {
            "tags": [],
            "needs_background": "light"
          }
        }
      ]
    },
    {
      "cell_type": "code",
      "metadata": {
        "id": "ndlwrkeWBPqn",
        "colab_type": "code",
        "colab": {
          "base_uri": "https://localhost:8080/",
          "height": 87
        },
        "outputId": "6baaa37b-22ad-41d8-e62f-e36096bc6884"
      },
      "source": [
        "#load model\n",
        "#if wish to futher train the model\n",
        "model = tf.keras.models.load_model('/content/gdrive/My Drive/iir_training_python/cvHW/save_model/unet_vgg16/model.120-0.71.h5', custom_objects={'binary_crossentropy_plus_jaccard_loss':sm.losses.bce_jaccard_loss, 'iou_score':sm.metrics.iou_score})\n",
        "#if inference only\n",
        "#model = tf.keras.models.load_model(\"/content/gdrive/My Drive/iir_training_python/cvHW/save_model/unet_vgg16/model.120-0.71.h5\", compile=False)"
      ],
      "execution_count": 20,
      "outputs": [
        {
          "output_type": "stream",
          "text": [
            "WARNING:tensorflow:From /usr/local/lib/python3.6/dist-packages/tensorflow_core/python/ops/nn_impl.py:183: where (from tensorflow.python.ops.array_ops) is deprecated and will be removed in a future version.\n",
            "Instructions for updating:\n",
            "Use tf.where in 2.0, which has the same broadcast rule as np.where\n"
          ],
          "name": "stdout"
        }
      ]
    },
    {
      "cell_type": "markdown",
      "metadata": {
        "id": "PddGPigx_jgZ",
        "colab_type": "text"
      },
      "source": [
        "# Testing Datas"
      ]
    },
    {
      "cell_type": "code",
      "metadata": {
        "id": "0k1evadBFQHB",
        "colab_type": "code",
        "colab": {}
      },
      "source": [
        "import glob"
      ],
      "execution_count": 24,
      "outputs": []
    },
    {
      "cell_type": "code",
      "metadata": {
        "id": "yZKN-vCi_jKk",
        "colab_type": "code",
        "colab": {}
      },
      "source": [
        "test_images_names = glob.glob(F\"/content/gdrive/My Drive/iir_training_python/cvHW/f03/image/*.png\")\n",
        "test_labels_names = glob.glob(F\"/content/gdrive/My Drive/iir_training_python/cvHW/f03/label/*.png\")"
      ],
      "execution_count": 25,
      "outputs": []
    },
    {
      "cell_type": "code",
      "metadata": {
        "id": "LLmhWNHM_1Q7",
        "colab_type": "code",
        "colab": {}
      },
      "source": [
        "test_labels_names.sort()\n",
        "test_images_names.sort()"
      ],
      "execution_count": 26,
      "outputs": []
    },
    {
      "cell_type": "code",
      "metadata": {
        "id": "BLloQRpxALfQ",
        "colab_type": "code",
        "colab": {}
      },
      "source": [
        "images = [cv2.imread(i) for i in test_images_names]\n",
        "images = [i/255 for i in images] #normalize\n",
        "images = [cv2.resize(i, (480,1152)) for i in images]"
      ],
      "execution_count": 27,
      "outputs": []
    },
    {
      "cell_type": "code",
      "metadata": {
        "id": "kaMn_gkMArbm",
        "colab_type": "code",
        "colab": {}
      },
      "source": [
        "labels = [cv2.imread(i) for i in test_labels_names]\n",
        "labels = [i/255 for i in labels] #normalize\n",
        "labels = [cv2.resize(i, (480,1152)) for i in labels]"
      ],
      "execution_count": 28,
      "outputs": []
    },
    {
      "cell_type": "markdown",
      "metadata": {
        "id": "tNqpNfQCmQs8",
        "colab_type": "text"
      },
      "source": [
        "# evaluate testing iou"
      ]
    },
    {
      "cell_type": "code",
      "metadata": {
        "id": "0PF3t9WCmnqd",
        "colab_type": "code",
        "colab": {
          "base_uri": "https://localhost:8080/",
          "height": 689
        },
        "outputId": "fcc1053f-67df-460d-d911-7e3807a54621"
      },
      "source": [
        "for i in range(len(images)):\n",
        "  print('image {}:'.format(i))\n",
        "  model.evaluate(np.array(images[i])[np.newaxis,:], np.array(labels[i])[np.newaxis,:])"
      ],
      "execution_count": 29,
      "outputs": [
        {
          "output_type": "stream",
          "text": [
            "image 0:\n",
            "1/1 [==============================] - 9s 9s/sample - loss: 0.8858 - iou_score: 0.4767\n",
            "image 1:\n",
            "1/1 [==============================] - 0s 94ms/sample - loss: 1.9595 - iou_score: 0.0514\n",
            "image 2:\n",
            "1/1 [==============================] - 0s 94ms/sample - loss: 0.8768 - iou_score: 0.4564\n",
            "image 3:\n",
            "1/1 [==============================] - 0s 93ms/sample - loss: 1.2894 - iou_score: 0.2289\n",
            "image 4:\n",
            "1/1 [==============================] - 0s 94ms/sample - loss: 0.8990 - iou_score: 0.4137\n",
            "image 5:\n",
            "1/1 [==============================] - 0s 95ms/sample - loss: 1.1699 - iou_score: 0.3171\n",
            "image 6:\n",
            "1/1 [==============================] - 0s 94ms/sample - loss: 1.2962 - iou_score: 0.2597\n",
            "image 7:\n",
            "1/1 [==============================] - 0s 94ms/sample - loss: 1.2756 - iou_score: 0.2560\n",
            "image 8:\n",
            "1/1 [==============================] - 0s 94ms/sample - loss: 1.5521 - iou_score: 0.1720\n",
            "image 9:\n",
            "1/1 [==============================] - 0s 95ms/sample - loss: 0.5522 - iou_score: 0.6360\n",
            "image 10:\n",
            "1/1 [==============================] - 0s 95ms/sample - loss: 0.8252 - iou_score: 0.4720\n",
            "image 11:\n",
            "1/1 [==============================] - 0s 94ms/sample - loss: 1.0355 - iou_score: 0.3413\n",
            "image 12:\n",
            "1/1 [==============================] - 0s 94ms/sample - loss: 1.2821 - iou_score: 0.2731\n",
            "image 13:\n",
            "1/1 [==============================] - 0s 94ms/sample - loss: 1.1256 - iou_score: 0.3078\n",
            "image 14:\n",
            "1/1 [==============================] - 0s 94ms/sample - loss: 1.0713 - iou_score: 0.3435\n",
            "image 15:\n",
            "1/1 [==============================] - 0s 94ms/sample - loss: 1.1506 - iou_score: 0.2913\n",
            "image 16:\n",
            "1/1 [==============================] - 0s 94ms/sample - loss: 1.0147 - iou_score: 0.3797\n",
            "image 17:\n",
            "1/1 [==============================] - 0s 93ms/sample - loss: 1.3984 - iou_score: 0.2026\n",
            "image 18:\n",
            "1/1 [==============================] - 0s 94ms/sample - loss: 1.1096 - iou_score: 0.3372\n",
            "image 19:\n",
            "1/1 [==============================] - 0s 94ms/sample - loss: 1.1748 - iou_score: 0.2702\n"
          ],
          "name": "stdout"
        }
      ]
    },
    {
      "cell_type": "code",
      "metadata": {
        "id": "vfdcDRwcBAdc",
        "colab_type": "code",
        "colab": {
          "base_uri": "https://localhost:8080/",
          "height": 286
        },
        "outputId": "e4a42abd-d128-426e-eacf-a55ba609e381"
      },
      "source": [
        "plt.imshow(images[9])"
      ],
      "execution_count": 30,
      "outputs": [
        {
          "output_type": "execute_result",
          "data": {
            "text/plain": [
              "<matplotlib.image.AxesImage at 0x7fe80c250e10>"
            ]
          },
          "metadata": {
            "tags": []
          },
          "execution_count": 30
        },
        {
          "output_type": "display_data",
          "data": {
            "image/png": "[encoded data removed]",
            "text/plain": [
              "<Figure size 432x288 with 1 Axes>"
            ]
          },
          "metadata": {
            "tags": [],
            "needs_background": "light"
          }
        }
      ]
    },
    {
      "cell_type": "code",
      "metadata": {
        "id": "4ZZY1wnBA28w",
        "colab_type": "code",
        "colab": {
          "base_uri": "https://localhost:8080/",
          "height": 286
        },
        "outputId": "13e5bd60-58c0-4070-ab1c-72334083695a"
      },
      "source": [
        "plt.imshow(labels[9])"
      ],
      "execution_count": 31,
      "outputs": [
        {
          "output_type": "execute_result",
          "data": {
            "text/plain": [
              "<matplotlib.image.AxesImage at 0x7fe802a5c198>"
            ]
          },
          "metadata": {
            "tags": []
          },
          "execution_count": 31
        },
        {
          "output_type": "display_data",
          "data": {
            "image/png": "[encoded data removed]",
            "text/plain": [
              "<Figure size 432x288 with 1 Axes>"
            ]
          },
          "metadata": {
            "tags": [],
            "needs_background": "light"
          }
        }
      ]
    },
    {
      "cell_type": "code",
      "metadata": {
        "id": "L4btfr8ZBR5I",
        "colab_type": "code",
        "colab": {}
      },
      "source": [
        "test_img = images[9][np.newaxis, :]"
      ],
      "execution_count": 32,
      "outputs": []
    },
    {
      "cell_type": "code",
      "metadata": {
        "id": "HbLQW3xZBEFz",
        "colab_type": "code",
        "colab": {}
      },
      "source": [
        "r = model.predict(test_img)"
      ],
      "execution_count": 33,
      "outputs": []
    },
    {
      "cell_type": "code",
      "metadata": {
        "id": "4HMyjiirCnra",
        "colab_type": "code",
        "colab": {
          "base_uri": "https://localhost:8080/",
          "height": 34
        },
        "outputId": "3a6b8e19-2110-4ccd-ffe6-7fbd425612cf"
      },
      "source": [
        "r.shape"
      ],
      "execution_count": 34,
      "outputs": [
        {
          "output_type": "execute_result",
          "data": {
            "text/plain": [
              "(1, 1152, 480, 1)"
            ]
          },
          "metadata": {
            "tags": []
          },
          "execution_count": 34
        }
      ]
    },
    {
      "cell_type": "code",
      "metadata": {
        "id": "xWMVBZ1nCdcF",
        "colab_type": "code",
        "colab": {}
      },
      "source": [
        "p = r.reshape((1152,480))"
      ],
      "execution_count": 35,
      "outputs": []
    },
    {
      "cell_type": "code",
      "metadata": {
        "id": "56WbbT9xChMA",
        "colab_type": "code",
        "colab": {
          "base_uri": "https://localhost:8080/",
          "height": 286
        },
        "outputId": "f9bd39f0-6ded-423e-aa89-21870fe247fd"
      },
      "source": [
        "plt.imshow(p)"
      ],
      "execution_count": 36,
      "outputs": [
        {
          "output_type": "execute_result",
          "data": {
            "text/plain": [
              "<matplotlib.image.AxesImage at 0x7fe805feceb8>"
            ]
          },
          "metadata": {
            "tags": []
          },
          "execution_count": 36
        },
        {
          "output_type": "display_data",
          "data": {
            "image/png": "[encoded data removed]",
            "text/plain": [
              "<Figure size 432x288 with 1 Axes>"
            ]
          },
          "metadata": {
            "tags": [],
            "needs_background": "light"
          }
        }
      ]
    },
    {
      "cell_type": "markdown",
      "metadata": {
        "id": "lYMG_wadPN7l",
        "colab_type": "text"
      },
      "source": [
        "# Convert img from float to uint8"
      ]
    },
    {
      "cell_type": "code",
      "metadata": {
        "id": "r7g4ScU5pbuC",
        "colab_type": "code",
        "colab": {
          "base_uri": "https://localhost:8080/",
          "height": 286
        },
        "outputId": "1a9bd79f-b9c8-484a-9056-f5f0041c7256"
      },
      "source": [
        "img = p*255 #convert image from float(0~1) to int(0~255)\n",
        "img = img.astype(np.uint8)\n",
        "img = cv2.cvtColor(img,cv2.COLOR_GRAY2RGB)\n",
        "\n",
        "plt.imshow(img)"
      ],
      "execution_count": 37,
      "outputs": [
        {
          "output_type": "execute_result",
          "data": {
            "text/plain": [
              "<matplotlib.image.AxesImage at 0x7fe80474a128>"
            ]
          },
          "metadata": {
            "tags": []
          },
          "execution_count": 37
        },
        {
          "output_type": "display_data",
          "data": {
            "image/png": "[encoded data removed]",
            "text/plain": [
              "<Figure size 432x288 with 1 Axes>"
            ]
          },
          "metadata": {
            "tags": [],
            "needs_background": "light"
          }
        }
      ]
    },
    {
      "cell_type": "markdown",
      "metadata": {
        "id": "sfgFT8QIPG18",
        "colab_type": "text"
      },
      "source": [
        "# WaterShed"
      ]
    },
    {
      "cell_type": "code",
      "metadata": {
        "id": "mY-dNPR2ijy8",
        "colab_type": "code",
        "colab": {}
      },
      "source": [
        "meanshif = cv2.pyrMeanShiftFiltering(img, 21, 51)\n",
        "gray = cv2.cvtColor(meanshif, cv2.COLOR_RGB2GRAY)\n",
        "ret, thresh = cv2.threshold(gray, 0, 255, cv2.THRESH_BINARY_INV + cv2.THRESH_OTSU)"
      ],
      "execution_count": 39,
      "outputs": []
    },
    {
      "cell_type": "code",
      "metadata": {
        "id": "U4w1yFMLpFbh",
        "colab_type": "code",
        "colab": {
          "base_uri": "https://localhost:8080/",
          "height": 286
        },
        "outputId": "382d27fc-fd7c-47e9-e9c2-9ce97e05aa76"
      },
      "source": [
        "plt.imshow(meanshif)"
      ],
      "execution_count": 40,
      "outputs": [
        {
          "output_type": "execute_result",
          "data": {
            "text/plain": [
              "<matplotlib.image.AxesImage at 0x7fe804730da0>"
            ]
          },
          "metadata": {
            "tags": []
          },
          "execution_count": 40
        },
        {
          "output_type": "display_data",
          "data": {
            "image/png": "[encoded data removed]",
            "text/plain": [
              "<Figure size 432x288 with 1 Axes>"
            ]
          },
          "metadata": {
            "tags": [],
            "needs_background": "light"
          }
        }
      ]
    },
    {
      "cell_type": "code",
      "metadata": {
        "id": "UiuaW-KGqhKP",
        "colab_type": "code",
        "colab": {
          "base_uri": "https://localhost:8080/",
          "height": 286
        },
        "outputId": "4c56d2be-cb63-44dc-b013-476a16c4daa4"
      },
      "source": [
        "plt.imshow(thresh)"
      ],
      "execution_count": 41,
      "outputs": [
        {
          "output_type": "execute_result",
          "data": {
            "text/plain": [
              "<matplotlib.image.AxesImage at 0x7fe804683cf8>"
            ]
          },
          "metadata": {
            "tags": []
          },
          "execution_count": 41
        },
        {
          "output_type": "display_data",
          "data": {
            "image/png": "[encoded data removed]",
            "text/plain": [
              "<Figure size 432x288 with 1 Axes>"
            ]
          },
          "metadata": {
            "tags": [],
            "needs_background": "light"
          }
        }
      ]
    },
    {
      "cell_type": "code",
      "metadata": {
        "id": "lABmEOgsm5ph",
        "colab_type": "code",
        "colab": {}
      },
      "source": [
        "kernel = np.ones((2, 2), np.uint8)\n",
        "opening = cv2.morphologyEx(thresh, cv2.MORPH_CLOSE, kernel, iterations = 10)\n",
        "\n",
        "sure_bg = cv2.erode(opening, kernel, iterations = 4)\n",
        "#sure_bg = cv2.dilate(opening, kernel, iterations = 2)\n",
        "\n",
        "dist_transform = cv2.distanceTransform(sure_bg, cv2.DIST_L2, 5)\n",
        "ret, sure_fg = cv2.threshold(dist_transform, 0.02 * dist_transform.max(), 255, 0)\n",
        "\n",
        "sure_fg = np.uint8(sure_fg)\n",
        "unknown = cv2.subtract(sure_bg, sure_fg)"
      ],
      "execution_count": 47,
      "outputs": []
    },
    {
      "cell_type": "code",
      "metadata": {
        "id": "6zxC0i4-pYLo",
        "colab_type": "code",
        "colab": {
          "base_uri": "https://localhost:8080/",
          "height": 286
        },
        "outputId": "e5cd9dfa-dd43-4418-e7d6-833d769ab21e"
      },
      "source": [
        "plt.imshow(opening)"
      ],
      "execution_count": 48,
      "outputs": [
        {
          "output_type": "execute_result",
          "data": {
            "text/plain": [
              "<matplotlib.image.AxesImage at 0x7fe804586748>"
            ]
          },
          "metadata": {
            "tags": []
          },
          "execution_count": 48
        },
        {
          "output_type": "display_data",
          "data": {
            "image/png": "[encoded data removed]",
            "text/plain": [
              "<Figure size 432x288 with 1 Axes>"
            ]
          },
          "metadata": {
            "tags": [],
            "needs_background": "light"
          }
        }
      ]
    },
    {
      "cell_type": "code",
      "metadata": {
        "id": "u_3l3DDlrBHL",
        "colab_type": "code",
        "colab": {
          "base_uri": "https://localhost:8080/",
          "height": 286
        },
        "outputId": "fde53ad9-95cc-49f0-b25a-0597702b1d93"
      },
      "source": [
        "plt.imshow(sure_bg)"
      ],
      "execution_count": null,
      "outputs": [
        {
          "output_type": "execute_result",
          "data": {
            "text/plain": [
              "<matplotlib.image.AxesImage at 0x7fb3694e60f0>"
            ]
          },
          "metadata": {
            "tags": []
          },
          "execution_count": 414
        },
        {
          "output_type": "display_data",
          "data": {
            "image/png": "[encoded data removed]",
            "text/plain": [
              "<Figure size 432x288 with 1 Axes>"
            ]
          },
          "metadata": {
            "tags": [],
            "needs_background": "light"
          }
        }
      ]
    },
    {
      "cell_type": "code",
      "metadata": {
        "id": "kgpxBhvapzmY",
        "colab_type": "code",
        "colab": {
          "base_uri": "https://localhost:8080/",
          "height": 286
        },
        "outputId": "44847704-e77f-455b-c05d-e914a968cbcb"
      },
      "source": [
        "plt.imshow(dist_transform)"
      ],
      "execution_count": null,
      "outputs": [
        {
          "output_type": "execute_result",
          "data": {
            "text/plain": [
              "<matplotlib.image.AxesImage at 0x7fb369431c88>"
            ]
          },
          "metadata": {
            "tags": []
          },
          "execution_count": 415
        },
        {
          "output_type": "display_data",
          "data": {
            "image/png": "[encoded data removed]",
            "text/plain": [
              "<Figure size 432x288 with 1 Axes>"
            ]
          },
          "metadata": {
            "tags": [],
            "needs_background": "light"
          }
        }
      ]
    },
    {
      "cell_type": "code",
      "metadata": {
        "id": "tc709pkvYQGb",
        "colab_type": "code",
        "colab": {
          "base_uri": "https://localhost:8080/",
          "height": 286
        },
        "outputId": "95f1aca1-fec7-4f44-dc05-d4328f046d97"
      },
      "source": [
        "plt.imshow(sure_fg)"
      ],
      "execution_count": null,
      "outputs": [
        {
          "output_type": "execute_result",
          "data": {
            "text/plain": [
              "<matplotlib.image.AxesImage at 0x7fb369406978>"
            ]
          },
          "metadata": {
            "tags": []
          },
          "execution_count": 416
        },
        {
          "output_type": "display_data",
          "data": {
            "image/png": "[encoded data removed]",
            "text/plain": [
              "<Figure size 432x288 with 1 Axes>"
            ]
          },
          "metadata": {
            "tags": [],
            "needs_background": "light"
          }
        }
      ]
    },
    {
      "cell_type": "code",
      "metadata": {
        "id": "A5ZQ6RIFYLqf",
        "colab_type": "code",
        "colab": {
          "base_uri": "https://localhost:8080/",
          "height": 286
        },
        "outputId": "da9fc072-ee82-4f88-894e-8f0a7d45c28d"
      },
      "source": [
        "plt.imshow(unknown)"
      ],
      "execution_count": null,
      "outputs": [
        {
          "output_type": "execute_result",
          "data": {
            "text/plain": [
              "<matplotlib.image.AxesImage at 0x7fb3693de748>"
            ]
          },
          "metadata": {
            "tags": []
          },
          "execution_count": 417
        },
        {
          "output_type": "display_data",
          "data": {
            "image/png": "[encoded data removed]",
            "text/plain": [
              "<Figure size 432x288 with 1 Axes>"
            ]
          },
          "metadata": {
            "tags": [],
            "needs_background": "light"
          }
        }
      ]
    },
    {
      "cell_type": "code",
      "metadata": {
        "id": "4bQ_evheVqXr",
        "colab_type": "code",
        "colab": {
          "base_uri": "https://localhost:8080/",
          "height": 50
        },
        "outputId": "412d4364-c458-4a49-c880-fdab0f74eb9d"
      },
      "source": [
        "ret, markers = cv2.connectedComponents(sure_fg)\n",
        "print(np.unique(markers))\n",
        "markers = markers+1\n",
        "print(np.unique(markers))\n",
        "\n",
        "markers[unknown==255] = 0"
      ],
      "execution_count": null,
      "outputs": [
        {
          "output_type": "stream",
          "text": [
            "[ 0  1  2  3  4  5  6  7  8  9 10 11 12 13 14 15]\n",
            "[ 1  2  3  4  5  6  7  8  9 10 11 12 13 14 15 16]\n"
          ],
          "name": "stdout"
        }
      ]
    },
    {
      "cell_type": "code",
      "metadata": {
        "id": "GNp4p9hwXviT",
        "colab_type": "code",
        "colab": {
          "base_uri": "https://localhost:8080/",
          "height": 286
        },
        "outputId": "7f8e52cd-e16a-4dc3-9024-70aaff5ba9b3"
      },
      "source": [
        "plt.imshow(markers)"
      ],
      "execution_count": null,
      "outputs": [
        {
          "output_type": "execute_result",
          "data": {
            "text/plain": [
              "<matplotlib.image.AxesImage at 0x7fb3693382e8>"
            ]
          },
          "metadata": {
            "tags": []
          },
          "execution_count": 419
        },
        {
          "output_type": "display_data",
          "data": {
            "image/png": "[encoded data removed]",
            "text/plain": [
              "<Figure size 432x288 with 1 Axes>"
            ]
          },
          "metadata": {
            "tags": [],
            "needs_background": "light"
          }
        }
      ]
    },
    {
      "cell_type": "code",
      "metadata": {
        "id": "37wA-2n4X4dz",
        "colab_type": "code",
        "colab": {}
      },
      "source": [
        "markers = cv2.watershed(i,markers)\n",
        "i[markers == -1] = [256,0,0]"
      ],
      "execution_count": null,
      "outputs": []
    },
    {
      "cell_type": "code",
      "metadata": {
        "id": "8W4Nyu4Tmz2s",
        "colab_type": "code",
        "colab": {
          "base_uri": "https://localhost:8080/",
          "height": 286
        },
        "outputId": "9e0aaa4b-690a-4574-9c24-8724085f5b50"
      },
      "source": [
        "plt.imshow(markers)"
      ],
      "execution_count": null,
      "outputs": [
        {
          "output_type": "execute_result",
          "data": {
            "text/plain": [
              "<matplotlib.image.AxesImage at 0x7fb369304f60>"
            ]
          },
          "metadata": {
            "tags": []
          },
          "execution_count": 421
        },
        {
          "output_type": "display_data",
          "data": {
            "image/png": "[encoded data removed]",
            "text/plain": [
              "<Figure size 432x288 with 1 Axes>"
            ]
          },
          "metadata": {
            "tags": [],
            "needs_background": "light"
          }
        }
      ]
    },
    {
      "cell_type": "code",
      "metadata": {
        "id": "Ts2GHlhlnNJ_",
        "colab_type": "code",
        "colab": {
          "base_uri": "https://localhost:8080/",
          "height": 286
        },
        "outputId": "94db725a-fd7b-41a5-a4bc-3c5782901f30"
      },
      "source": [
        "plt.imshow(img)"
      ],
      "execution_count": null,
      "outputs": [
        {
          "output_type": "execute_result",
          "data": {
            "text/plain": [
              "<matplotlib.image.AxesImage at 0x7fb3692dac18>"
            ]
          },
          "metadata": {
            "tags": []
          },
          "execution_count": 422
        },
        {
          "output_type": "display_data",
          "data": {
            "image/png": "[encoded data removed]",
            "text/plain": [
              "<Figure size 432x288 with 1 Axes>"
            ]
          },
          "metadata": {
            "tags": [],
            "needs_background": "light"
          }
        }
      ]
    },
    {
      "cell_type": "code",
      "metadata": {
        "id": "IXGxNIuKnjoV",
        "colab_type": "code",
        "colab": {
          "base_uri": "https://localhost:8080/",
          "height": 50
        },
        "outputId": "8b399880-c8ec-426e-85e7-bf3ade2a7dce"
      },
      "source": [
        "np.unique(markers)"
      ],
      "execution_count": null,
      "outputs": [
        {
          "output_type": "execute_result",
          "data": {
            "text/plain": [
              "array([-1,  1,  2,  3,  4,  5,  6,  7,  8,  9, 10, 11, 12, 13, 14, 15, 16],\n",
              "      dtype=int32)"
            ]
          },
          "metadata": {
            "tags": []
          },
          "execution_count": 423
        }
      ]
    },
    {
      "cell_type": "code",
      "metadata": {
        "id": "zWyLV6NdnsFJ",
        "colab_type": "code",
        "colab": {
          "base_uri": "https://localhost:8080/",
          "height": 286
        },
        "outputId": "9ebf8db5-71db-428f-bca1-0b125fe401ad"
      },
      "source": [
        "import imutils\n",
        "for label in np.unique(markers):\n",
        "\t# 如果該標籤爲0，則表示其爲背景，直接忽略\n",
        "\tif label == 0:\n",
        "\t\tcontinue\n",
        "\n",
        "\t# 爲標籤區域分配內存並將在mask上繪製結果\n",
        "\tmask = np.zeros(gray.shape, dtype=\"uint8\")\n",
        "\tmask[markers == label] = 255\n",
        "\n",
        "\t# 在mask上檢測輪廓並獲得最大的一個輪廓\n",
        "\tcnts = cv2.findContours(mask.copy(), cv2.RETR_EXTERNAL, cv2.CHAIN_APPROX_SIMPLE)\n",
        "\tcnts = imutils.grab_contours(cnts)\n",
        "\tc = max(cnts, key=cv2.contourArea)\n",
        "\n",
        "\t# 畫一個圈把物體圍起來\n",
        "\t((x, y), r) = cv2.minEnclosingCircle(c)\n",
        "\tcv2.circle(i, (int(x), int(y)), int(r), (0, 255, 0), 2)\n",
        "\tcv2.putText(i, \"#{}\".format(label), (int(x) - 10, int(y)), cv2.FONT_HERSHEY_SIMPLEX, 0.6, (0, 0, 255), 2)\n",
        "plt.imshow(i)"
      ],
      "execution_count": null,
      "outputs": [
        {
          "output_type": "execute_result",
          "data": {
            "text/plain": [
              "<matplotlib.image.AxesImage at 0x7fb36923f278>"
            ]
          },
          "metadata": {
            "tags": []
          },
          "execution_count": 424
        },
        {
          "output_type": "display_data",
          "data": {
            "image/png": "[encoded data removed]",
            "text/plain": [
              "<Figure size 432x288 with 1 Axes>"
            ]
          },
          "metadata": {
            "tags": [],
            "needs_background": "light"
          }
        }
      ]
    },
    {
      "cell_type": "code",
      "metadata": {
        "id": "BGMo_ZkAn62_",
        "colab_type": "code",
        "colab": {}
      },
      "source": [
        ""
      ],
      "execution_count": null,
      "outputs": []
    }
  ]
}